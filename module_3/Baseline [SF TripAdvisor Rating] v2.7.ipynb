{
 "cells": [
  {
   "cell_type": "markdown",
   "metadata": {},
   "source": [
    "# Import"
   ]
  },
  {
   "cell_type": "code",
   "execution_count": 1,
   "metadata": {},
   "outputs": [],
   "source": [
    "import numpy as np\n",
    "import pandas as pd\n",
    "\n",
    "import matplotlib.pyplot as plt\n",
    "import seaborn as sns \n",
    "%matplotlib inline\n",
    "\n",
    "import datetime\n",
    "import re\n",
    "\n",
    "from sklearn.model_selection import train_test_split  "
   ]
  },
  {
   "cell_type": "markdown",
   "metadata": {},
   "source": [
    "# Functions"
   ]
  },
  {
   "cell_type": "code",
   "execution_count": 2,
   "metadata": {},
   "outputs": [],
   "source": [
    "# Меняет значение 0 и 1\n",
    "def change_value(cell):\n",
    "    if cell == 1:\n",
    "        return 0\n",
    "    else:\n",
    "        return 1\n",
    "\n",
    "# При добавлении нового столбца (dummy перменной) \n",
    "# ставим 1 - при наличии, 0 - при отсутствии\n",
    "def find_item(cell):\n",
    "    if item in cell:\n",
    "        return 1\n",
    "    return 0\n",
    "\n",
    "# Для определения количества объектов внутри ячейки\n",
    "# (в нашем случае - количество кухонь)\n",
    "def find_cuisine(cell):\n",
    "    cell = cell.split(',')\n",
    "    return len(cell)\n",
    "\n",
    "# Поиск наличия даты в столбце отзыва\n",
    "# 1 - есть, 0 - отутствует дата\n",
    "def add_date(x):\n",
    "    if x == []:\n",
    "        return 0\n",
    "    else:\n",
    "        return 1\n",
    "\n",
    "# Поиск количества отзывов через даты    \n",
    "def find_review_date(cell):\n",
    "    if len(cell) > 10:\n",
    "        return 2\n",
    "    elif len(cell) > 0:\n",
    "        return 1\n",
    "    else:\n",
    "        return 0\n",
    "    \n",
    "# Качество отзыва через позитивное настроение в отзыве \n",
    "def mood(column):\n",
    "    i = 0\n",
    "    for cell in column:\n",
    "        for mood in words:\n",
    "            if mood == cell:\n",
    "                i += 1\n",
    "    return i\n",
    "\n",
    "# Проверка отсутствия значений в столбце\n",
    "def precent_check(column):\n",
    "    math = 100 - ((df[column].count() * 100) / 40000)\n",
    "    print(\"В столбце\",column,\"отсутствует\", '\\033[4m' + str(round(math, 2)),\"процентов\" + '\\033[0m',\"информации.\")\n",
    "    \n",
    "# Вывод основных статистических данных категориальных признаков\n",
    "def categorical_check(column):\n",
    "    display(pd.DataFrame(df[column].value_counts()))\n",
    "    print(df[column].describe())\n",
    "\n",
    "# Построение гистограммы и вывод основных статистических данных цифровых признаков\n",
    "def numerical_check(column):\n",
    "    display(df[column].hist(bins=100))\n",
    "    print(df[column].describe())"
   ]
  },
  {
   "cell_type": "markdown",
   "metadata": {},
   "source": [
    "# ---------------------------- Data ----------------------------"
   ]
  },
  {
   "cell_type": "markdown",
   "metadata": {},
   "source": [
    "# Информация"
   ]
  },
  {
   "cell_type": "markdown",
   "metadata": {},
   "source": [
    "* Restaurant_id: ID ресторана\n",
    "* City: Город \n",
    "* Cuisine Style: Кухня\n",
    "* Ranking: Ранг ресторана относительно других ресторанов в этом городе\n",
    "* Price Range: Цены в ресторане в 3 категориях\n",
    "* Number of Reviews: Количество отзывов\n",
    "* Reviews: 2 последних отзыва и даты этих отзывов\n",
    "* URL_TA: страница ресторана на 'www.tripadvisor.com' \n",
    "* ID_TA: ID ресторана в TripAdvisor\n",
    "* Rating: Рейтинг ресторана"
   ]
  },
  {
   "cell_type": "code",
   "execution_count": 3,
   "metadata": {},
   "outputs": [],
   "source": [
    "df = pd.read_csv('main_task_new.csv') "
   ]
  },
  {
   "cell_type": "code",
   "execution_count": 4,
   "metadata": {},
   "outputs": [
    {
     "data": {
      "text/html": [
       "<div>\n",
       "<style scoped>\n",
       "    .dataframe tbody tr th:only-of-type {\n",
       "        vertical-align: middle;\n",
       "    }\n",
       "\n",
       "    .dataframe tbody tr th {\n",
       "        vertical-align: top;\n",
       "    }\n",
       "\n",
       "    .dataframe thead th {\n",
       "        text-align: right;\n",
       "    }\n",
       "</style>\n",
       "<table border=\"1\" class=\"dataframe\">\n",
       "  <thead>\n",
       "    <tr style=\"text-align: right;\">\n",
       "      <th></th>\n",
       "      <th>Restaurant_id</th>\n",
       "      <th>City</th>\n",
       "      <th>Cuisine Style</th>\n",
       "      <th>Ranking</th>\n",
       "      <th>Rating</th>\n",
       "      <th>Price Range</th>\n",
       "      <th>Number of Reviews</th>\n",
       "      <th>Reviews</th>\n",
       "      <th>URL_TA</th>\n",
       "      <th>ID_TA</th>\n",
       "    </tr>\n",
       "  </thead>\n",
       "  <tbody>\n",
       "    <tr>\n",
       "      <th>0</th>\n",
       "      <td>id_5569</td>\n",
       "      <td>Paris</td>\n",
       "      <td>['European', 'French', 'International']</td>\n",
       "      <td>5570.0</td>\n",
       "      <td>3.5</td>\n",
       "      <td>$$ - $$$</td>\n",
       "      <td>194.0</td>\n",
       "      <td>[['Good food at your doorstep', 'A good hotel ...</td>\n",
       "      <td>/Restaurant_Review-g187147-d1912643-Reviews-R_...</td>\n",
       "      <td>d1912643</td>\n",
       "    </tr>\n",
       "    <tr>\n",
       "      <th>1</th>\n",
       "      <td>id_1535</td>\n",
       "      <td>Stockholm</td>\n",
       "      <td>NaN</td>\n",
       "      <td>1537.0</td>\n",
       "      <td>4.0</td>\n",
       "      <td>NaN</td>\n",
       "      <td>10.0</td>\n",
       "      <td>[['Unique cuisine', 'Delicious Nepalese food']...</td>\n",
       "      <td>/Restaurant_Review-g189852-d7992032-Reviews-Bu...</td>\n",
       "      <td>d7992032</td>\n",
       "    </tr>\n",
       "    <tr>\n",
       "      <th>2</th>\n",
       "      <td>id_352</td>\n",
       "      <td>London</td>\n",
       "      <td>['Japanese', 'Sushi', 'Asian', 'Grill', 'Veget...</td>\n",
       "      <td>353.0</td>\n",
       "      <td>4.5</td>\n",
       "      <td>$$$$</td>\n",
       "      <td>688.0</td>\n",
       "      <td>[['Catch up with friends', 'Not exceptional'],...</td>\n",
       "      <td>/Restaurant_Review-g186338-d8632781-Reviews-RO...</td>\n",
       "      <td>d8632781</td>\n",
       "    </tr>\n",
       "    <tr>\n",
       "      <th>3</th>\n",
       "      <td>id_3456</td>\n",
       "      <td>Berlin</td>\n",
       "      <td>NaN</td>\n",
       "      <td>3458.0</td>\n",
       "      <td>5.0</td>\n",
       "      <td>NaN</td>\n",
       "      <td>3.0</td>\n",
       "      <td>[[], []]</td>\n",
       "      <td>/Restaurant_Review-g187323-d1358776-Reviews-Es...</td>\n",
       "      <td>d1358776</td>\n",
       "    </tr>\n",
       "    <tr>\n",
       "      <th>4</th>\n",
       "      <td>id_615</td>\n",
       "      <td>Munich</td>\n",
       "      <td>['German', 'Central European', 'Vegetarian Fri...</td>\n",
       "      <td>621.0</td>\n",
       "      <td>4.0</td>\n",
       "      <td>$$ - $$$</td>\n",
       "      <td>84.0</td>\n",
       "      <td>[['Best place to try a Bavarian food', 'Nice b...</td>\n",
       "      <td>/Restaurant_Review-g187309-d6864963-Reviews-Au...</td>\n",
       "      <td>d6864963</td>\n",
       "    </tr>\n",
       "  </tbody>\n",
       "</table>\n",
       "</div>"
      ],
      "text/plain": [
       "  Restaurant_id       City                                      Cuisine Style  \\\n",
       "0       id_5569      Paris            ['European', 'French', 'International']   \n",
       "1       id_1535  Stockholm                                                NaN   \n",
       "2        id_352     London  ['Japanese', 'Sushi', 'Asian', 'Grill', 'Veget...   \n",
       "3       id_3456     Berlin                                                NaN   \n",
       "4        id_615     Munich  ['German', 'Central European', 'Vegetarian Fri...   \n",
       "\n",
       "   Ranking  Rating Price Range  Number of Reviews  \\\n",
       "0   5570.0     3.5    $$ - $$$              194.0   \n",
       "1   1537.0     4.0         NaN               10.0   \n",
       "2    353.0     4.5        $$$$              688.0   \n",
       "3   3458.0     5.0         NaN                3.0   \n",
       "4    621.0     4.0    $$ - $$$               84.0   \n",
       "\n",
       "                                             Reviews  \\\n",
       "0  [['Good food at your doorstep', 'A good hotel ...   \n",
       "1  [['Unique cuisine', 'Delicious Nepalese food']...   \n",
       "2  [['Catch up with friends', 'Not exceptional'],...   \n",
       "3                                           [[], []]   \n",
       "4  [['Best place to try a Bavarian food', 'Nice b...   \n",
       "\n",
       "                                              URL_TA     ID_TA  \n",
       "0  /Restaurant_Review-g187147-d1912643-Reviews-R_...  d1912643  \n",
       "1  /Restaurant_Review-g189852-d7992032-Reviews-Bu...  d7992032  \n",
       "2  /Restaurant_Review-g186338-d8632781-Reviews-RO...  d8632781  \n",
       "3  /Restaurant_Review-g187323-d1358776-Reviews-Es...  d1358776  \n",
       "4  /Restaurant_Review-g187309-d6864963-Reviews-Au...  d6864963  "
      ]
     },
     "execution_count": 4,
     "metadata": {},
     "output_type": "execute_result"
    }
   ],
   "source": [
    "df.head()"
   ]
  },
  {
   "cell_type": "code",
   "execution_count": 5,
   "metadata": {},
   "outputs": [
    {
     "name": "stdout",
     "output_type": "stream",
     "text": [
      "<class 'pandas.core.frame.DataFrame'>\n",
      "RangeIndex: 40000 entries, 0 to 39999\n",
      "Data columns (total 10 columns):\n",
      " #   Column             Non-Null Count  Dtype  \n",
      "---  ------             --------------  -----  \n",
      " 0   Restaurant_id      40000 non-null  object \n",
      " 1   City               40000 non-null  object \n",
      " 2   Cuisine Style      30717 non-null  object \n",
      " 3   Ranking            40000 non-null  float64\n",
      " 4   Rating             40000 non-null  float64\n",
      " 5   Price Range        26114 non-null  object \n",
      " 6   Number of Reviews  37457 non-null  float64\n",
      " 7   Reviews            40000 non-null  object \n",
      " 8   URL_TA             40000 non-null  object \n",
      " 9   ID_TA              40000 non-null  object \n",
      "dtypes: float64(3), object(7)\n",
      "memory usage: 3.1+ MB\n"
     ]
    }
   ],
   "source": [
    "df.info()"
   ]
  },
  {
   "cell_type": "markdown",
   "metadata": {},
   "source": [
    "Как мы видим, существуют заметные пропуски в:\n",
    "* Cuisine Style\n",
    "* Price Range\n",
    "* Number of Reviews"
   ]
  },
  {
   "cell_type": "markdown",
   "metadata": {},
   "source": [
    "# Предобработка"
   ]
  },
  {
   "cell_type": "code",
   "execution_count": 6,
   "metadata": {},
   "outputs": [],
   "source": [
    "# Для удобства просмотра убираем \n",
    "# ограничения просмотра ячейки\n",
    "pd.set_option('display.max_colwidth', None)"
   ]
  },
  {
   "cell_type": "code",
   "execution_count": 7,
   "metadata": {},
   "outputs": [],
   "source": [
    "# Переименуем индексы столбцов\n",
    "df.columns = ['restaurant_id','city','cuisine_style','ranking','rating',\n",
    "              'price_range','reviews_number','reviews','url_ta','id_ta']"
   ]
  },
  {
   "cell_type": "code",
   "execution_count": 8,
   "metadata": {},
   "outputs": [
    {
     "name": "stdout",
     "output_type": "stream",
     "text": [
      "В столбце price_range отсутствует \u001b[4m34.72 процентов\u001b[0m информации.\n",
      "В столбце cuisine_style отсутствует \u001b[4m23.21 процентов\u001b[0m информации.\n",
      "В столбце reviews_number отсутствует \u001b[4m6.36 процентов\u001b[0m информации.\n"
     ]
    }
   ],
   "source": [
    "# Проверим количество отсутствующих значений в столбцах  \n",
    "precent_check('price_range')\n",
    "precent_check('cuisine_style')\n",
    "precent_check('reviews_number')"
   ]
  },
  {
   "cell_type": "code",
   "execution_count": 9,
   "metadata": {},
   "outputs": [],
   "source": [
    "df.ranking.fillna(value = 0, inplace = True)\n",
    "df.rating.fillna(value = 0, inplace = True)\n",
    "df['reviews_number'].fillna(value = 0, inplace = True)"
   ]
  },
  {
   "cell_type": "markdown",
   "metadata": {},
   "source": [
    "# Обработка"
   ]
  },
  {
   "cell_type": "markdown",
   "metadata": {},
   "source": [
    "### restaurant_id"
   ]
  },
  {
   "cell_type": "code",
   "execution_count": 10,
   "metadata": {},
   "outputs": [
    {
     "data": {
      "text/html": [
       "<div>\n",
       "<style scoped>\n",
       "    .dataframe tbody tr th:only-of-type {\n",
       "        vertical-align: middle;\n",
       "    }\n",
       "\n",
       "    .dataframe tbody tr th {\n",
       "        vertical-align: top;\n",
       "    }\n",
       "\n",
       "    .dataframe thead th {\n",
       "        text-align: right;\n",
       "    }\n",
       "</style>\n",
       "<table border=\"1\" class=\"dataframe\">\n",
       "  <thead>\n",
       "    <tr style=\"text-align: right;\">\n",
       "      <th></th>\n",
       "      <th>restaurant_id</th>\n",
       "    </tr>\n",
       "  </thead>\n",
       "  <tbody>\n",
       "    <tr>\n",
       "      <th>id_227</th>\n",
       "      <td>18</td>\n",
       "    </tr>\n",
       "    <tr>\n",
       "      <th>id_633</th>\n",
       "      <td>18</td>\n",
       "    </tr>\n",
       "    <tr>\n",
       "      <th>id_871</th>\n",
       "      <td>18</td>\n",
       "    </tr>\n",
       "    <tr>\n",
       "      <th>id_436</th>\n",
       "      <td>18</td>\n",
       "    </tr>\n",
       "    <tr>\n",
       "      <th>id_430</th>\n",
       "      <td>17</td>\n",
       "    </tr>\n",
       "    <tr>\n",
       "      <th>...</th>\n",
       "      <td>...</td>\n",
       "    </tr>\n",
       "    <tr>\n",
       "      <th>id_12427</th>\n",
       "      <td>1</td>\n",
       "    </tr>\n",
       "    <tr>\n",
       "      <th>id_3717</th>\n",
       "      <td>1</td>\n",
       "    </tr>\n",
       "    <tr>\n",
       "      <th>id_11625</th>\n",
       "      <td>1</td>\n",
       "    </tr>\n",
       "    <tr>\n",
       "      <th>id_9493</th>\n",
       "      <td>1</td>\n",
       "    </tr>\n",
       "    <tr>\n",
       "      <th>id_4950</th>\n",
       "      <td>1</td>\n",
       "    </tr>\n",
       "  </tbody>\n",
       "</table>\n",
       "<p>11909 rows × 1 columns</p>\n",
       "</div>"
      ],
      "text/plain": [
       "          restaurant_id\n",
       "id_227               18\n",
       "id_633               18\n",
       "id_871               18\n",
       "id_436               18\n",
       "id_430               17\n",
       "...                 ...\n",
       "id_12427              1\n",
       "id_3717               1\n",
       "id_11625              1\n",
       "id_9493               1\n",
       "id_4950               1\n",
       "\n",
       "[11909 rows x 1 columns]"
      ]
     },
     "metadata": {},
     "output_type": "display_data"
    },
    {
     "name": "stdout",
     "output_type": "stream",
     "text": [
      "count      40000\n",
      "unique     11909\n",
      "top       id_227\n",
      "freq          18\n",
      "Name: restaurant_id, dtype: object\n"
     ]
    }
   ],
   "source": [
    "# Проверим категориальный признак - restaurant_id\n",
    "# Как мы видим, некоторые ресторана встречаются чаще,\n",
    "# что говорит о сети ресторанов\n",
    "\n",
    "categorical_check('restaurant_id')"
   ]
  },
  {
   "cell_type": "markdown",
   "metadata": {},
   "source": [
    "### city"
   ]
  },
  {
   "cell_type": "code",
   "execution_count": 11,
   "metadata": {},
   "outputs": [
    {
     "data": {
      "text/html": [
       "<div>\n",
       "<style scoped>\n",
       "    .dataframe tbody tr th:only-of-type {\n",
       "        vertical-align: middle;\n",
       "    }\n",
       "\n",
       "    .dataframe tbody tr th {\n",
       "        vertical-align: top;\n",
       "    }\n",
       "\n",
       "    .dataframe thead th {\n",
       "        text-align: right;\n",
       "    }\n",
       "</style>\n",
       "<table border=\"1\" class=\"dataframe\">\n",
       "  <thead>\n",
       "    <tr style=\"text-align: right;\">\n",
       "      <th></th>\n",
       "      <th>city</th>\n",
       "    </tr>\n",
       "  </thead>\n",
       "  <tbody>\n",
       "    <tr>\n",
       "      <th>London</th>\n",
       "      <td>5757</td>\n",
       "    </tr>\n",
       "    <tr>\n",
       "      <th>Paris</th>\n",
       "      <td>4897</td>\n",
       "    </tr>\n",
       "    <tr>\n",
       "      <th>Madrid</th>\n",
       "      <td>3108</td>\n",
       "    </tr>\n",
       "    <tr>\n",
       "      <th>Barcelona</th>\n",
       "      <td>2734</td>\n",
       "    </tr>\n",
       "    <tr>\n",
       "      <th>Berlin</th>\n",
       "      <td>2155</td>\n",
       "    </tr>\n",
       "    <tr>\n",
       "      <th>Milan</th>\n",
       "      <td>2133</td>\n",
       "    </tr>\n",
       "    <tr>\n",
       "      <th>Rome</th>\n",
       "      <td>2078</td>\n",
       "    </tr>\n",
       "    <tr>\n",
       "      <th>Prague</th>\n",
       "      <td>1443</td>\n",
       "    </tr>\n",
       "    <tr>\n",
       "      <th>Lisbon</th>\n",
       "      <td>1300</td>\n",
       "    </tr>\n",
       "    <tr>\n",
       "      <th>Vienna</th>\n",
       "      <td>1166</td>\n",
       "    </tr>\n",
       "    <tr>\n",
       "      <th>Amsterdam</th>\n",
       "      <td>1086</td>\n",
       "    </tr>\n",
       "    <tr>\n",
       "      <th>Brussels</th>\n",
       "      <td>1060</td>\n",
       "    </tr>\n",
       "    <tr>\n",
       "      <th>Hamburg</th>\n",
       "      <td>949</td>\n",
       "    </tr>\n",
       "    <tr>\n",
       "      <th>Munich</th>\n",
       "      <td>893</td>\n",
       "    </tr>\n",
       "    <tr>\n",
       "      <th>Lyon</th>\n",
       "      <td>892</td>\n",
       "    </tr>\n",
       "    <tr>\n",
       "      <th>Stockholm</th>\n",
       "      <td>820</td>\n",
       "    </tr>\n",
       "    <tr>\n",
       "      <th>Budapest</th>\n",
       "      <td>816</td>\n",
       "    </tr>\n",
       "    <tr>\n",
       "      <th>Warsaw</th>\n",
       "      <td>727</td>\n",
       "    </tr>\n",
       "    <tr>\n",
       "      <th>Dublin</th>\n",
       "      <td>673</td>\n",
       "    </tr>\n",
       "    <tr>\n",
       "      <th>Copenhagen</th>\n",
       "      <td>659</td>\n",
       "    </tr>\n",
       "    <tr>\n",
       "      <th>Athens</th>\n",
       "      <td>628</td>\n",
       "    </tr>\n",
       "    <tr>\n",
       "      <th>Edinburgh</th>\n",
       "      <td>596</td>\n",
       "    </tr>\n",
       "    <tr>\n",
       "      <th>Zurich</th>\n",
       "      <td>538</td>\n",
       "    </tr>\n",
       "    <tr>\n",
       "      <th>Oporto</th>\n",
       "      <td>513</td>\n",
       "    </tr>\n",
       "    <tr>\n",
       "      <th>Geneva</th>\n",
       "      <td>481</td>\n",
       "    </tr>\n",
       "    <tr>\n",
       "      <th>Krakow</th>\n",
       "      <td>443</td>\n",
       "    </tr>\n",
       "    <tr>\n",
       "      <th>Oslo</th>\n",
       "      <td>385</td>\n",
       "    </tr>\n",
       "    <tr>\n",
       "      <th>Helsinki</th>\n",
       "      <td>376</td>\n",
       "    </tr>\n",
       "    <tr>\n",
       "      <th>Bratislava</th>\n",
       "      <td>301</td>\n",
       "    </tr>\n",
       "    <tr>\n",
       "      <th>Luxembourg</th>\n",
       "      <td>210</td>\n",
       "    </tr>\n",
       "    <tr>\n",
       "      <th>Ljubljana</th>\n",
       "      <td>183</td>\n",
       "    </tr>\n",
       "  </tbody>\n",
       "</table>\n",
       "</div>"
      ],
      "text/plain": [
       "            city\n",
       "London      5757\n",
       "Paris       4897\n",
       "Madrid      3108\n",
       "Barcelona   2734\n",
       "Berlin      2155\n",
       "Milan       2133\n",
       "Rome        2078\n",
       "Prague      1443\n",
       "Lisbon      1300\n",
       "Vienna      1166\n",
       "Amsterdam   1086\n",
       "Brussels    1060\n",
       "Hamburg      949\n",
       "Munich       893\n",
       "Lyon         892\n",
       "Stockholm    820\n",
       "Budapest     816\n",
       "Warsaw       727\n",
       "Dublin       673\n",
       "Copenhagen   659\n",
       "Athens       628\n",
       "Edinburgh    596\n",
       "Zurich       538\n",
       "Oporto       513\n",
       "Geneva       481\n",
       "Krakow       443\n",
       "Oslo         385\n",
       "Helsinki     376\n",
       "Bratislava   301\n",
       "Luxembourg   210\n",
       "Ljubljana    183"
      ]
     },
     "metadata": {},
     "output_type": "display_data"
    },
    {
     "name": "stdout",
     "output_type": "stream",
     "text": [
      "count      40000\n",
      "unique        31\n",
      "top       London\n",
      "freq        5757\n",
      "Name: city, dtype: object\n"
     ]
    }
   ],
   "source": [
    "# Проверим категориальный признак - city\n",
    "# Большое количество ресторанов сосредоточено\n",
    "# в столице Великобритании - Лондон\n",
    "\n",
    "categorical_check('city')"
   ]
  },
  {
   "cell_type": "code",
   "execution_count": 12,
   "metadata": {},
   "outputs": [
    {
     "data": {
      "text/plain": [
       "<AxesSubplot:>"
      ]
     },
     "execution_count": 12,
     "metadata": {},
     "output_type": "execute_result"
    },
    {
     "data": {
      "image/png": "[encoded data removed]",
      "text/plain": [
       "<Figure size 432x288 with 1 Axes>"
      ]
     },
     "metadata": {
      "needs_background": "light"
     },
     "output_type": "display_data"
    }
   ],
   "source": [
    "df.city.value_counts(ascending=True).plot(kind='barh')"
   ]
  },
  {
   "cell_type": "code",
   "execution_count": 13,
   "metadata": {},
   "outputs": [
    {
     "data": {
      "image/png": "[encoded data removed]",
      "text/plain": [
       "<Figure size 1296x504 with 1 Axes>"
      ]
     },
     "metadata": {
      "needs_background": "light"
     },
     "output_type": "display_data"
    }
   ],
   "source": [
    "# Посмотрим на распределение рейтингов по городам\n",
    "\n",
    "plt.figure(figsize=(18, 7))\n",
    "sns.boxplot(x='city', y='rating', data=df)\n",
    "plt.xticks(rotation=90);"
   ]
  },
  {
   "cell_type": "markdown",
   "metadata": {},
   "source": [
    "Обработаем города по рейтингу и добавим новые признаки --> rank_city_min , rank_city_max , rank_normal"
   ]
  },
  {
   "cell_type": "code",
   "execution_count": 14,
   "metadata": {},
   "outputs": [],
   "source": [
    "rank_city_min = df.groupby(['city'])['ranking'].min().to_dict()\n",
    "rank_city_max = df.groupby(['city'])['ranking'].max().to_dict()\n",
    "\n",
    "df['rank_city_min'] = df.city.map(rank_city_min)\n",
    "df['rank_city_max'] = df.city.map(rank_city_max)\n",
    "df['rank_normal'] = df.apply(lambda x: (x['ranking'] - x['rank_city_min'])/(x['rank_city_max'] - x['rank_city_min']), axis=1)"
   ]
  },
  {
   "cell_type": "markdown",
   "metadata": {},
   "source": [
    "Распределим наличие ресторанов по городам \n",
    "и добавим новый признак --> rest_in_city"
   ]
  },
  {
   "cell_type": "code",
   "execution_count": 15,
   "metadata": {},
   "outputs": [],
   "source": [
    "df['rest_in_city'] = df['city'].map(df.groupby(['city'])['restaurant_id'].count().to_dict())"
   ]
  },
  {
   "cell_type": "markdown",
   "metadata": {},
   "source": [
    "### cuisine_style"
   ]
  },
  {
   "cell_type": "code",
   "execution_count": 16,
   "metadata": {},
   "outputs": [
    {
     "data": {
      "text/html": [
       "<div>\n",
       "<style scoped>\n",
       "    .dataframe tbody tr th:only-of-type {\n",
       "        vertical-align: middle;\n",
       "    }\n",
       "\n",
       "    .dataframe tbody tr th {\n",
       "        vertical-align: top;\n",
       "    }\n",
       "\n",
       "    .dataframe thead th {\n",
       "        text-align: right;\n",
       "    }\n",
       "</style>\n",
       "<table border=\"1\" class=\"dataframe\">\n",
       "  <thead>\n",
       "    <tr style=\"text-align: right;\">\n",
       "      <th></th>\n",
       "      <th>cuisine_style</th>\n",
       "    </tr>\n",
       "  </thead>\n",
       "  <tbody>\n",
       "    <tr>\n",
       "      <th>['Italian']</th>\n",
       "      <td>1032</td>\n",
       "    </tr>\n",
       "    <tr>\n",
       "      <th>['French']</th>\n",
       "      <td>805</td>\n",
       "    </tr>\n",
       "    <tr>\n",
       "      <th>['Spanish']</th>\n",
       "      <td>695</td>\n",
       "    </tr>\n",
       "    <tr>\n",
       "      <th>['French', 'European']</th>\n",
       "      <td>405</td>\n",
       "    </tr>\n",
       "    <tr>\n",
       "      <th>['Cafe']</th>\n",
       "      <td>403</td>\n",
       "    </tr>\n",
       "    <tr>\n",
       "      <th>...</th>\n",
       "      <td>...</td>\n",
       "    </tr>\n",
       "    <tr>\n",
       "      <th>['Italian', 'Pizza', 'Fast Food', 'Mediterranean', 'European', 'Vegetarian Friendly']</th>\n",
       "      <td>1</td>\n",
       "    </tr>\n",
       "    <tr>\n",
       "      <th>['Bar', 'Cafe', 'Spanish', 'Fusion', 'Vegetarian Friendly', 'Vegan Options']</th>\n",
       "      <td>1</td>\n",
       "    </tr>\n",
       "    <tr>\n",
       "      <th>['Italian', 'Street Food', 'Fast Food', 'Mediterranean', 'European', 'Vegetarian Friendly', 'Vegan Options', 'Gluten Free Options']</th>\n",
       "      <td>1</td>\n",
       "    </tr>\n",
       "    <tr>\n",
       "      <th>['Italian', 'Mexican', 'Mediterranean']</th>\n",
       "      <td>1</td>\n",
       "    </tr>\n",
       "    <tr>\n",
       "      <th>['Mediterranean', 'French', 'European', 'Vegetarian Friendly', 'Gluten Free Options']</th>\n",
       "      <td>1</td>\n",
       "    </tr>\n",
       "  </tbody>\n",
       "</table>\n",
       "<p>9007 rows × 1 columns</p>\n",
       "</div>"
      ],
      "text/plain": [
       "                                                                                                                                     cuisine_style\n",
       "['Italian']                                                                                                                                   1032\n",
       "['French']                                                                                                                                     805\n",
       "['Spanish']                                                                                                                                    695\n",
       "['French', 'European']                                                                                                                         405\n",
       "['Cafe']                                                                                                                                       403\n",
       "...                                                                                                                                            ...\n",
       "['Italian', 'Pizza', 'Fast Food', 'Mediterranean', 'European', 'Vegetarian Friendly']                                                            1\n",
       "['Bar', 'Cafe', 'Spanish', 'Fusion', 'Vegetarian Friendly', 'Vegan Options']                                                                     1\n",
       "['Italian', 'Street Food', 'Fast Food', 'Mediterranean', 'European', 'Vegetarian Friendly', 'Vegan Options', 'Gluten Free Options']              1\n",
       "['Italian', 'Mexican', 'Mediterranean']                                                                                                          1\n",
       "['Mediterranean', 'French', 'European', 'Vegetarian Friendly', 'Gluten Free Options']                                                            1\n",
       "\n",
       "[9007 rows x 1 columns]"
      ]
     },
     "metadata": {},
     "output_type": "display_data"
    },
    {
     "name": "stdout",
     "output_type": "stream",
     "text": [
      "count           30717\n",
      "unique           9007\n",
      "top       ['Italian']\n",
      "freq             1032\n",
      "Name: cuisine_style, dtype: object\n"
     ]
    }
   ],
   "source": [
    "# Проверим категориальный признак - cuisine_style\n",
    "# Очень много грязных значений,  \n",
    "# которые необходимо почистить\n",
    "\n",
    "categorical_check('cuisine_style')"
   ]
  },
  {
   "cell_type": "code",
   "execution_count": 17,
   "metadata": {},
   "outputs": [],
   "source": [
    "# Добавим столбец, который покажет наличие кухни в каждом ресторана\n",
    "df['no_cuisine_style'] = pd.isna(df['cuisine_style']).astype('float64')"
   ]
  },
  {
   "cell_type": "code",
   "execution_count": 18,
   "metadata": {},
   "outputs": [],
   "source": [
    "# Очимстим столбец cuisine_style от ненужных символов\n",
    "# Применим функцию для подсчета количества кухонь в каждом ресторане\n",
    "\n",
    "df.cuisine_style = df.cuisine_style.apply(lambda x: str(x).replace(\"\\'\",'').strip('[]'))\n",
    "df.cuisine_style = df.cuisine_style.apply(lambda x: 'Unknown' if x == 'nan' else x)\n",
    "\n",
    "df['cuisine_number'] = df.cuisine_style.apply(find_cuisine)"
   ]
  },
  {
   "cell_type": "markdown",
   "metadata": {},
   "source": [
    "### price_range"
   ]
  },
  {
   "cell_type": "code",
   "execution_count": 19,
   "metadata": {},
   "outputs": [
    {
     "name": "stdout",
     "output_type": "stream",
     "text": [
      "['$$ - $$$' nan '$$$$' '$']\n"
     ]
    },
    {
     "data": {
      "text/plain": [
       "$$ - $$$    18412\n",
       "$            6279\n",
       "$$$$         1423\n",
       "Name: price_range, dtype: int64"
      ]
     },
     "execution_count": 19,
     "metadata": {},
     "output_type": "execute_result"
    }
   ],
   "source": [
    "# Как мы видим у price_range есть три значения и одно значение - nan\n",
    "\n",
    "print(df.price_range.unique())\n",
    "df.price_range.value_counts()"
   ]
  },
  {
   "cell_type": "code",
   "execution_count": 20,
   "metadata": {},
   "outputs": [],
   "source": [
    "# Заменим nan значения на самый часто встречаемый показатель\n",
    "# Добавим новый столбец с показателем присутствия цены изначально\n",
    "# Модифицируем столбец ценовой категории: \n",
    "# 3 - самая высокая цена, 2 - средняя цена, 1 - сама низкая цена\n",
    "\n",
    "df['no_price'] = pd.isna(df['price_range']).astype('uint8')"
   ]
  },
  {
   "cell_type": "code",
   "execution_count": 21,
   "metadata": {},
   "outputs": [],
   "source": [
    "df.no_price = df.no_price.apply(change_value)"
   ]
  },
  {
   "cell_type": "code",
   "execution_count": 22,
   "metadata": {},
   "outputs": [],
   "source": [
    "replace_price = {'price_range': {\"$\": 1, \"$$ - $$$\": 2, \"$$$$\": 3, np.NaN: 2}}\n",
    "df.replace(replace_price, inplace=True)"
   ]
  },
  {
   "cell_type": "markdown",
   "metadata": {},
   "source": [
    "### reviews"
   ]
  },
  {
   "cell_type": "code",
   "execution_count": 23,
   "metadata": {},
   "outputs": [
    {
     "data": {
      "text/html": [
       "<div>\n",
       "<style scoped>\n",
       "    .dataframe tbody tr th:only-of-type {\n",
       "        vertical-align: middle;\n",
       "    }\n",
       "\n",
       "    .dataframe tbody tr th {\n",
       "        vertical-align: top;\n",
       "    }\n",
       "\n",
       "    .dataframe thead th {\n",
       "        text-align: right;\n",
       "    }\n",
       "</style>\n",
       "<table border=\"1\" class=\"dataframe\">\n",
       "  <thead>\n",
       "    <tr style=\"text-align: right;\">\n",
       "      <th></th>\n",
       "      <th>reviews</th>\n",
       "    </tr>\n",
       "  </thead>\n",
       "  <tbody>\n",
       "    <tr>\n",
       "      <th>[[], []]</th>\n",
       "      <td>6471</td>\n",
       "    </tr>\n",
       "    <tr>\n",
       "      <th>[['The real codido madrileño'], ['03/31/2017']]</th>\n",
       "      <td>2</td>\n",
       "    </tr>\n",
       "    <tr>\n",
       "      <th>[['Good Lebanese food', 'Decent place'], ['07/19/2017', '03/17/2017']]</th>\n",
       "      <td>2</td>\n",
       "    </tr>\n",
       "    <tr>\n",
       "      <th>[['Healthy vegan doughnuts are posible', 'Best Vegan Donut in the world !!!'], ['11/17/2017', '11/16/2017']]</th>\n",
       "      <td>2</td>\n",
       "    </tr>\n",
       "    <tr>\n",
       "      <th>[['Great Food! Wide Variety.', 'Dinner'], ['11/26/2017', '05/23/2017']]</th>\n",
       "      <td>2</td>\n",
       "    </tr>\n",
       "    <tr>\n",
       "      <th>...</th>\n",
       "      <td>...</td>\n",
       "    </tr>\n",
       "    <tr>\n",
       "      <th>[['Nice restaurant', 'Choose the menu !'], ['05/24/2017', '01/27/2017']]</th>\n",
       "      <td>1</td>\n",
       "    </tr>\n",
       "    <tr>\n",
       "      <th>[['Great service, good value and big portions', 'Okay for lunch - but not exceptional'], ['04/23/2017', '06/16/2015']]</th>\n",
       "      <td>1</td>\n",
       "    </tr>\n",
       "    <tr>\n",
       "      <th>[['A lovely place', 'Creative quality and excellent value'], ['08/11/2017', '08/06/2017']]</th>\n",
       "      <td>1</td>\n",
       "    </tr>\n",
       "    <tr>\n",
       "      <th>[['Good and fresh food for reasonable money', 'Bom, mas...'], ['10/22/2016', '12/23/2015']]</th>\n",
       "      <td>1</td>\n",
       "    </tr>\n",
       "    <tr>\n",
       "      <th>[['Surprising', 'An interesting mix of style, good, food an...'], ['12/19/2017', '12/11/2017']]</th>\n",
       "      <td>1</td>\n",
       "    </tr>\n",
       "  </tbody>\n",
       "</table>\n",
       "<p>33516 rows × 1 columns</p>\n",
       "</div>"
      ],
      "text/plain": [
       "                                                                                                                        reviews\n",
       "[[], []]                                                                                                                   6471\n",
       "[['The real codido madrileño'], ['03/31/2017']]                                                                               2\n",
       "[['Good Lebanese food', 'Decent place'], ['07/19/2017', '03/17/2017']]                                                        2\n",
       "[['Healthy vegan doughnuts are posible', 'Best Vegan Donut in the world !!!'], ['11/17/2017', '11/16/2017']]                  2\n",
       "[['Great Food! Wide Variety.', 'Dinner'], ['11/26/2017', '05/23/2017']]                                                       2\n",
       "...                                                                                                                         ...\n",
       "[['Nice restaurant', 'Choose the menu !'], ['05/24/2017', '01/27/2017']]                                                      1\n",
       "[['Great service, good value and big portions', 'Okay for lunch - but not exceptional'], ['04/23/2017', '06/16/2015']]        1\n",
       "[['A lovely place', 'Creative quality and excellent value'], ['08/11/2017', '08/06/2017']]                                    1\n",
       "[['Good and fresh food for reasonable money', 'Bom, mas...'], ['10/22/2016', '12/23/2015']]                                   1\n",
       "[['Surprising', 'An interesting mix of style, good, food an...'], ['12/19/2017', '12/11/2017']]                               1\n",
       "\n",
       "[33516 rows x 1 columns]"
      ]
     },
     "metadata": {},
     "output_type": "display_data"
    },
    {
     "name": "stdout",
     "output_type": "stream",
     "text": [
      "count        40000\n",
      "unique       33516\n",
      "top       [[], []]\n",
      "freq          6471\n",
      "Name: reviews, dtype: object\n"
     ]
    }
   ],
   "source": [
    "# Много пропусков и много полезной, но не обработанной информации\n",
    "categorical_check('reviews')"
   ]
  },
  {
   "cell_type": "code",
   "execution_count": 24,
   "metadata": {},
   "outputs": [],
   "source": [
    "# Переводим все буквы в строчные \n",
    "df.reviews = df.reviews.apply(lambda x: x.lower())"
   ]
  },
  {
   "cell_type": "code",
   "execution_count": 25,
   "metadata": {},
   "outputs": [],
   "source": [
    "# Определяем слова для поиска в отзывах\n",
    "words = ['good', 'great', 'nice', 'best', 'excellent', \n",
    "         'delicious', 'friendly', 'lovely' , 'unique', \n",
    "         'amazing', 'tasty', 'fantastic', 'perfect', 'wonderful',\n",
    "        'super', 'awesome', 'love', 'beautiful', 'superb', \n",
    "         'interesting','yummy', 'fine', 'favourite', \n",
    "         'surprise', 'loved', 'brilliant','favorite']\n",
    "\n",
    "df['words'] = df.reviews.str.findall(r\"(\\w+)\")"
   ]
  },
  {
   "cell_type": "markdown",
   "metadata": {},
   "source": [
    "Создадим новый признак --> review_mood"
   ]
  },
  {
   "cell_type": "code",
   "execution_count": 26,
   "metadata": {},
   "outputs": [],
   "source": [
    "df['review_mood'] = df.words.dropna().apply(mood)\n",
    "df.review_mood.fillna(0, inplace=True)"
   ]
  },
  {
   "cell_type": "markdown",
   "metadata": {},
   "source": [
    "Достаем даты из отзывов, создавая 1 категориальный признак и 2 цифровых признака"
   ]
  },
  {
   "cell_type": "markdown",
   "metadata": {},
   "source": [
    "--> reviews_date (даты)"
   ]
  },
  {
   "cell_type": "code",
   "execution_count": 27,
   "metadata": {},
   "outputs": [],
   "source": [
    "# Поиск по паттерну и добавление признака в новый столбец\n",
    "pattern = re.compile('\\d+\\/\\d+\\/\\d+')\n",
    "df['reviews_date'] = df['reviews'].apply(lambda x: pattern.findall(x))"
   ]
  },
  {
   "cell_type": "markdown",
   "metadata": {},
   "source": [
    "--> review_check (наличие отзыва)"
   ]
  },
  {
   "cell_type": "code",
   "execution_count": 28,
   "metadata": {},
   "outputs": [],
   "source": [
    "# Приминяем функцию\n",
    "df['review_check'] = df.reviews_date.apply(add_date)"
   ]
  },
  {
   "cell_type": "code",
   "execution_count": 29,
   "metadata": {},
   "outputs": [],
   "source": [
    "# Убираем лишние символы\n",
    "df.reviews_date = df.reviews_date.apply(lambda x: str(x).replace(\"\\'\",'').strip('[]'))"
   ]
  },
  {
   "cell_type": "markdown",
   "metadata": {},
   "source": [
    "--> reviews_on_website (количество отзывов)"
   ]
  },
  {
   "cell_type": "code",
   "execution_count": 30,
   "metadata": {},
   "outputs": [],
   "source": [
    "# Считаем количество отзывов через даты\n",
    "df['reviews_on_website'] = df.reviews_date.apply(find_review_date)"
   ]
  },
  {
   "cell_type": "markdown",
   "metadata": {},
   "source": [
    "### ranking"
   ]
  },
  {
   "cell_type": "code",
   "execution_count": 31,
   "metadata": {},
   "outputs": [
    {
     "data": {
      "text/plain": [
       "<AxesSubplot:>"
      ]
     },
     "execution_count": 31,
     "metadata": {},
     "output_type": "execute_result"
    },
    {
     "data": {
      "image/png": "[encoded data removed]",
      "text/plain": [
       "<Figure size 432x288 with 1 Axes>"
      ]
     },
     "metadata": {
      "needs_background": "light"
     },
     "output_type": "display_data"
    }
   ],
   "source": [
    "# Проверим рейтинг в самом популярном городе - Лондон\n",
    "df.ranking[df['city'] =='London'].hist(bins=100)"
   ]
  },
  {
   "cell_type": "code",
   "execution_count": 32,
   "metadata": {},
   "outputs": [
    {
     "data": {
      "image/png": "[encoded data removed]",
      "text/plain": [
       "<Figure size 432x288 with 1 Axes>"
      ]
     },
     "metadata": {
      "needs_background": "light"
     },
     "output_type": "display_data"
    }
   ],
   "source": [
    "# Проверим рейтинг в 12 лучших городов\n",
    "for x in (df['city'].value_counts())[0:12].index:\n",
    "    df['ranking'][df['city'] == x].hist(bins=100)\n",
    "\n",
    "plt.show()"
   ]
  },
  {
   "cell_type": "markdown",
   "metadata": {},
   "source": [
    "Создадим новый признак --> ranking_normal"
   ]
  },
  {
   "cell_type": "code",
   "execution_count": 33,
   "metadata": {},
   "outputs": [],
   "source": [
    "df['ranking_normal'] = df.ranking / df.rest_in_city"
   ]
  },
  {
   "cell_type": "markdown",
   "metadata": {},
   "source": [
    "# Корреляция признаков"
   ]
  },
  {
   "cell_type": "code",
   "execution_count": 34,
   "metadata": {},
   "outputs": [
    {
     "data": {
      "text/plain": [
       "<AxesSubplot:>"
      ]
     },
     "execution_count": 34,
     "metadata": {},
     "output_type": "execute_result"
    },
    {
     "data": {
      "image/png": "[encoded data removed]",
      "text/plain": [
       "<Figure size 1080x720 with 2 Axes>"
      ]
     },
     "metadata": {
      "needs_background": "light"
     },
     "output_type": "display_data"
    }
   ],
   "source": [
    "plt.rcParams['figure.figsize'] = (15,10)\n",
    "sns.heatmap(df.drop(['restaurant_id'], axis=1).corr(),)"
   ]
  },
  {
   "cell_type": "markdown",
   "metadata": {},
   "source": [
    "# dummy variable"
   ]
  },
  {
   "cell_type": "markdown",
   "metadata": {},
   "source": [
    "Для dummy variable были использованы города --> city"
   ]
  },
  {
   "cell_type": "code",
   "execution_count": 35,
   "metadata": {},
   "outputs": [],
   "source": [
    "city = {}\n",
    "\n",
    "for item in df.city:\n",
    "    city[item] =0\n",
    "\n",
    "def find_item(cell):\n",
    "    if item in cell:\n",
    "        return 1\n",
    "    return 0\n",
    "\n",
    "for item in city:\n",
    "    df[item] = df['city'].apply(find_item)"
   ]
  },
  {
   "cell_type": "markdown",
   "metadata": {},
   "source": [
    "## Проверяем все данные"
   ]
  },
  {
   "cell_type": "code",
   "execution_count": 36,
   "metadata": {},
   "outputs": [
    {
     "data": {
      "text/plain": [
       "Index(['restaurant_id', 'city', 'cuisine_style', 'ranking', 'rating',\n",
       "       'price_range', 'reviews_number', 'reviews', 'url_ta', 'id_ta',\n",
       "       'rank_city_min', 'rank_city_max', 'rank_normal', 'rest_in_city',\n",
       "       'no_cuisine_style', 'cuisine_number', 'no_price', 'words',\n",
       "       'review_mood', 'reviews_date', 'review_check', 'reviews_on_website',\n",
       "       'ranking_normal', 'Paris', 'Stockholm', 'London', 'Berlin', 'Munich',\n",
       "       'Oporto', 'Milan', 'Bratislava', 'Vienna', 'Rome', 'Barcelona',\n",
       "       'Madrid', 'Dublin', 'Brussels', 'Zurich', 'Warsaw', 'Budapest',\n",
       "       'Copenhagen', 'Amsterdam', 'Lyon', 'Hamburg', 'Lisbon', 'Prague',\n",
       "       'Oslo', 'Helsinki', 'Edinburgh', 'Geneva', 'Ljubljana', 'Athens',\n",
       "       'Luxembourg', 'Krakow'],\n",
       "      dtype='object')"
      ]
     },
     "execution_count": 36,
     "metadata": {},
     "output_type": "execute_result"
    }
   ],
   "source": [
    "df.columns"
   ]
  },
  {
   "cell_type": "code",
   "execution_count": 37,
   "metadata": {},
   "outputs": [
    {
     "name": "stdout",
     "output_type": "stream",
     "text": [
      "<class 'pandas.core.frame.DataFrame'>\n",
      "RangeIndex: 40000 entries, 0 to 39999\n",
      "Data columns (total 54 columns):\n",
      " #   Column              Non-Null Count  Dtype  \n",
      "---  ------              --------------  -----  \n",
      " 0   restaurant_id       40000 non-null  object \n",
      " 1   city                40000 non-null  object \n",
      " 2   cuisine_style       40000 non-null  object \n",
      " 3   ranking             40000 non-null  float64\n",
      " 4   rating              40000 non-null  float64\n",
      " 5   price_range         40000 non-null  int64  \n",
      " 6   reviews_number      40000 non-null  float64\n",
      " 7   reviews             40000 non-null  object \n",
      " 8   url_ta              40000 non-null  object \n",
      " 9   id_ta               40000 non-null  object \n",
      " 10  rank_city_min       40000 non-null  float64\n",
      " 11  rank_city_max       40000 non-null  float64\n",
      " 12  rank_normal         40000 non-null  float64\n",
      " 13  rest_in_city        40000 non-null  int64  \n",
      " 14  no_cuisine_style    40000 non-null  float64\n",
      " 15  cuisine_number      40000 non-null  int64  \n",
      " 16  no_price            40000 non-null  int64  \n",
      " 17  words               40000 non-null  object \n",
      " 18  review_mood         40000 non-null  int64  \n",
      " 19  reviews_date        40000 non-null  object \n",
      " 20  review_check        40000 non-null  int64  \n",
      " 21  reviews_on_website  40000 non-null  int64  \n",
      " 22  ranking_normal      40000 non-null  float64\n",
      " 23  Paris               40000 non-null  int64  \n",
      " 24  Stockholm           40000 non-null  int64  \n",
      " 25  London              40000 non-null  int64  \n",
      " 26  Berlin              40000 non-null  int64  \n",
      " 27  Munich              40000 non-null  int64  \n",
      " 28  Oporto              40000 non-null  int64  \n",
      " 29  Milan               40000 non-null  int64  \n",
      " 30  Bratislava          40000 non-null  int64  \n",
      " 31  Vienna              40000 non-null  int64  \n",
      " 32  Rome                40000 non-null  int64  \n",
      " 33  Barcelona           40000 non-null  int64  \n",
      " 34  Madrid              40000 non-null  int64  \n",
      " 35  Dublin              40000 non-null  int64  \n",
      " 36  Brussels            40000 non-null  int64  \n",
      " 37  Zurich              40000 non-null  int64  \n",
      " 38  Warsaw              40000 non-null  int64  \n",
      " 39  Budapest            40000 non-null  int64  \n",
      " 40  Copenhagen          40000 non-null  int64  \n",
      " 41  Amsterdam           40000 non-null  int64  \n",
      " 42  Lyon                40000 non-null  int64  \n",
      " 43  Hamburg             40000 non-null  int64  \n",
      " 44  Lisbon              40000 non-null  int64  \n",
      " 45  Prague              40000 non-null  int64  \n",
      " 46  Oslo                40000 non-null  int64  \n",
      " 47  Helsinki            40000 non-null  int64  \n",
      " 48  Edinburgh           40000 non-null  int64  \n",
      " 49  Geneva              40000 non-null  int64  \n",
      " 50  Ljubljana           40000 non-null  int64  \n",
      " 51  Athens              40000 non-null  int64  \n",
      " 52  Luxembourg          40000 non-null  int64  \n",
      " 53  Krakow              40000 non-null  int64  \n",
      "dtypes: float64(8), int64(38), object(8)\n",
      "memory usage: 16.5+ MB\n"
     ]
    }
   ],
   "source": [
    "df.info()"
   ]
  },
  {
   "cell_type": "markdown",
   "metadata": {},
   "source": [
    "# Разбиваем датафрейм на части, необходимые для обучения и тестирования модели"
   ]
  },
  {
   "cell_type": "code",
   "execution_count": 38,
   "metadata": {},
   "outputs": [],
   "source": [
    "# Х - данные с информацией о ресторанах, у - целевая переменная (рейтинги ресторанов)\n",
    "X = df.drop(['rating','restaurant_id','city','cuisine_style',\n",
    "             'reviews','url_ta', 'id_ta', 'reviews_date', 'words'], axis = 1)\n",
    "y = df['rating']"
   ]
  },
  {
   "cell_type": "code",
   "execution_count": 50,
   "metadata": {},
   "outputs": [
    {
     "data": {
      "text/plain": [
       "Index(['ranking', 'price_range', 'reviews_number', 'rank_city_min',\n",
       "       'rank_city_max', 'rank_normal', 'rest_in_city', 'no_cuisine_style',\n",
       "       'cuisine_number', 'no_price', 'review_mood', 'review_check',\n",
       "       'reviews_on_website', 'ranking_normal', 'Paris', 'Stockholm', 'London',\n",
       "       'Berlin', 'Munich', 'Oporto', 'Milan', 'Bratislava', 'Vienna', 'Rome',\n",
       "       'Barcelona', 'Madrid', 'Dublin', 'Brussels', 'Zurich', 'Warsaw',\n",
       "       'Budapest', 'Copenhagen', 'Amsterdam', 'Lyon', 'Hamburg', 'Lisbon',\n",
       "       'Prague', 'Oslo', 'Helsinki', 'Edinburgh', 'Geneva', 'Ljubljana',\n",
       "       'Athens', 'Luxembourg', 'Krakow'],\n",
       "      dtype='object')"
      ]
     },
     "execution_count": 50,
     "metadata": {},
     "output_type": "execute_result"
    }
   ],
   "source": [
    "X.columns"
   ]
  },
  {
   "cell_type": "code",
   "execution_count": 40,
   "metadata": {},
   "outputs": [],
   "source": [
    "# Загружаем специальный инструмент для разбивки:\n",
    "from sklearn.model_selection import train_test_split"
   ]
  },
  {
   "cell_type": "code",
   "execution_count": 41,
   "metadata": {},
   "outputs": [],
   "source": [
    "# Наборы данных с меткой \"train\" будут использоваться для обучения модели, \"test\" - для тестирования.\n",
    "# Для тестирования мы будем использовать 25% от исходного датасета.\n",
    "X_train, X_test, y_train, y_test = train_test_split(X, y, test_size=0.25)"
   ]
  },
  {
   "cell_type": "markdown",
   "metadata": {},
   "source": [
    "# Создаём, обучаем и тестируем модель"
   ]
  },
  {
   "cell_type": "code",
   "execution_count": 42,
   "metadata": {},
   "outputs": [],
   "source": [
    "# Импортируем необходимые библиотеки:\n",
    "from sklearn.ensemble import RandomForestRegressor # инструмент для создания и обучения модели\n",
    "from sklearn import metrics # инструменты для оценки точности модели"
   ]
  },
  {
   "cell_type": "code",
   "execution_count": 47,
   "metadata": {},
   "outputs": [],
   "source": [
    "# Создаём модель\n",
    "regr = RandomForestRegressor(n_estimators=100)\n",
    "\n",
    "# Обучаем модель на тестовом наборе данных\n",
    "regr.fit(X_train, y_train)\n",
    "\n",
    "# Используем обученную модель для предсказания рейтинга ресторанов в тестовой выборке.\n",
    "# Предсказанные значения записываем в переменную y_pred\n",
    "y_pred = regr.predict(X_test)"
   ]
  },
  {
   "cell_type": "code",
   "execution_count": 48,
   "metadata": {},
   "outputs": [
    {
     "name": "stdout",
     "output_type": "stream",
     "text": [
      "MAE: 0.21233649999999998\n"
     ]
    }
   ],
   "source": [
    "# Сравниваем предсказанные значения (y_pred) с реальными (y_test), и смотрим насколько они в среднем отличаются\n",
    "# Метрика называется Mean Absolute Error (MAE) и показывает среднее отклонение предсказанных значений от фактических.\n",
    "print('MAE:', metrics.mean_absolute_error(y_test, y_pred))"
   ]
  },
  {
   "cell_type": "code",
   "execution_count": null,
   "metadata": {},
   "outputs": [],
   "source": []
  }
 ],
 "metadata": {
  "kernelspec": {
   "display_name": "Python 3",
   "language": "python",
   "name": "python3"
  },
  "language_info": {
   "codemirror_mode": {
    "name": "ipython",
    "version": 3
   },
   "file_extension": ".py",
   "mimetype": "text/x-python",
   "name": "python",
   "nbconvert_exporter": "python",
   "pygments_lexer": "ipython3",
   "version": "3.8.8"
  }
 },
 "nbformat": 4,
 "nbformat_minor": 2
}
