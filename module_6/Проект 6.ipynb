{
 "cells": [
  {
   "cell_type": "markdown",
   "id": "646ea90f",
   "metadata": {},
   "source": [
    "# Выгрузка библиотек"
   ]
  },
  {
   "cell_type": "code",
   "execution_count": 1,
   "id": "6b17b571",
   "metadata": {},
   "outputs": [],
   "source": [
    "import pandas as pd\n",
    "import numpy as np\n",
    "import requests\n",
    "import re\n",
    "import matplotlib.pyplot as plt\n",
    "import seaborn as sns\n",
    "from IPython.display import Image\n",
    "\n",
    "from bs4 import BeautifulSoup\n",
    "\n",
    "from sklearn.metrics import mean_absolute_percentage_error\n",
    "from sklearn import preprocessing\n",
    "from sklearn.preprocessing import LabelEncoder\n",
    "from sklearn.preprocessing import OneHotEncoder\n",
    "from sklearn.preprocessing import StandardScaler\n",
    "\n",
    "from sklearn.feature_selection import f_classif\n",
    "from sklearn.model_selection import train_test_split\n",
    "\n",
    "from catboost import CatBoostRegressor # Модель 2\n",
    "\n",
    "from sklearn.ensemble import RandomForestRegressor # Модель 3\n",
    "\n",
    "from sklearn.ensemble import ExtraTreesRegressor # Модель 4\n",
    "\n",
    "from xgboost import XGBRegressor # Модель 5\n",
    "from sklearn.ensemble import StackingRegressor # Модель 5\n",
    "from sklearn.linear_model import LinearRegression # Модель 5"
   ]
  },
  {
   "cell_type": "code",
   "execution_count": 2,
   "id": "2acb86ef",
   "metadata": {},
   "outputs": [],
   "source": [
    "RANDOM_SEED = 42"
   ]
  },
  {
   "cell_type": "markdown",
   "id": "e9a7e2a7",
   "metadata": {},
   "source": [
    "# Датасеты"
   ]
  },
  {
   "cell_type": "code",
   "execution_count": 3,
   "id": "06b9f1e7",
   "metadata": {},
   "outputs": [],
   "source": [
    "train = pd.read_csv('all_auto_ru_09_09_2020.csv', low_memory = False)\n",
    "train_parsed = pd.read_csv('train_df_full_part1.csv', low_memory = False)\n",
    "test = pd.read_csv('test.csv')\n",
    "sample = pd.read_csv('sample_submission.csv')"
   ]
  },
  {
   "cell_type": "code",
   "execution_count": 4,
   "id": "87b0c28e",
   "metadata": {},
   "outputs": [
    {
     "data": {
      "text/html": [
       "<div>\n",
       "<style scoped>\n",
       "    .dataframe tbody tr th:only-of-type {\n",
       "        vertical-align: middle;\n",
       "    }\n",
       "\n",
       "    .dataframe tbody tr th {\n",
       "        vertical-align: top;\n",
       "    }\n",
       "\n",
       "    .dataframe thead th {\n",
       "        text-align: right;\n",
       "    }\n",
       "</style>\n",
       "<table border=\"1\" class=\"dataframe\">\n",
       "  <thead>\n",
       "    <tr style=\"text-align: right;\">\n",
       "      <th></th>\n",
       "      <th>bodyType</th>\n",
       "      <th>brand</th>\n",
       "      <th>car_url</th>\n",
       "      <th>color</th>\n",
       "      <th>complectation_dict</th>\n",
       "      <th>description</th>\n",
       "      <th>engineDisplacement</th>\n",
       "      <th>enginePower</th>\n",
       "      <th>equipment_dict</th>\n",
       "      <th>fuelType</th>\n",
       "      <th>...</th>\n",
       "      <th>vehicleConfiguration</th>\n",
       "      <th>vehicleTransmission</th>\n",
       "      <th>vendor</th>\n",
       "      <th>Владельцы</th>\n",
       "      <th>Владение</th>\n",
       "      <th>ПТС</th>\n",
       "      <th>Привод</th>\n",
       "      <th>Руль</th>\n",
       "      <th>Состояние</th>\n",
       "      <th>Таможня</th>\n",
       "    </tr>\n",
       "  </thead>\n",
       "  <tbody>\n",
       "    <tr>\n",
       "      <th>0</th>\n",
       "      <td>лифтбек</td>\n",
       "      <td>SKODA</td>\n",
       "      <td>https://auto.ru/cars/used/sale/skoda/octavia/1...</td>\n",
       "      <td>синий</td>\n",
       "      <td>NaN</td>\n",
       "      <td>Все автомобили, представленные в продаже, прох...</td>\n",
       "      <td>1.2 LTR</td>\n",
       "      <td>105 N12</td>\n",
       "      <td>{\"engine-proof\":true,\"tinted-glass\":true,\"airb...</td>\n",
       "      <td>бензин</td>\n",
       "      <td>...</td>\n",
       "      <td>LIFTBACK ROBOT 1.2</td>\n",
       "      <td>роботизированная</td>\n",
       "      <td>EUROPEAN</td>\n",
       "      <td>3 или более</td>\n",
       "      <td>NaN</td>\n",
       "      <td>Оригинал</td>\n",
       "      <td>передний</td>\n",
       "      <td>Левый</td>\n",
       "      <td>Не требует ремонта</td>\n",
       "      <td>Растаможен</td>\n",
       "    </tr>\n",
       "    <tr>\n",
       "      <th>1</th>\n",
       "      <td>лифтбек</td>\n",
       "      <td>SKODA</td>\n",
       "      <td>https://auto.ru/cars/used/sale/skoda/octavia/1...</td>\n",
       "      <td>чёрный</td>\n",
       "      <td>NaN</td>\n",
       "      <td>ЛОТ: 01217195\\nАвтопрага Север\\nДанный автомоб...</td>\n",
       "      <td>1.6 LTR</td>\n",
       "      <td>110 N12</td>\n",
       "      <td>{\"cruise-control\":true,\"asr\":true,\"esp\":true,\"...</td>\n",
       "      <td>бензин</td>\n",
       "      <td>...</td>\n",
       "      <td>LIFTBACK MECHANICAL 1.6</td>\n",
       "      <td>механическая</td>\n",
       "      <td>EUROPEAN</td>\n",
       "      <td>1 владелец</td>\n",
       "      <td>NaN</td>\n",
       "      <td>Оригинал</td>\n",
       "      <td>передний</td>\n",
       "      <td>Левый</td>\n",
       "      <td>Не требует ремонта</td>\n",
       "      <td>Растаможен</td>\n",
       "    </tr>\n",
       "    <tr>\n",
       "      <th>2</th>\n",
       "      <td>лифтбек</td>\n",
       "      <td>SKODA</td>\n",
       "      <td>https://auto.ru/cars/used/sale/skoda/superb/11...</td>\n",
       "      <td>серый</td>\n",
       "      <td>{\"id\":\"20026336\",\"name\":\"Ambition\",\"available_...</td>\n",
       "      <td>Все автомобили, представленные в продаже, прох...</td>\n",
       "      <td>1.8 LTR</td>\n",
       "      <td>152 N12</td>\n",
       "      <td>{\"cruise-control\":true,\"tinted-glass\":true,\"es...</td>\n",
       "      <td>бензин</td>\n",
       "      <td>...</td>\n",
       "      <td>LIFTBACK ROBOT 1.8</td>\n",
       "      <td>роботизированная</td>\n",
       "      <td>EUROPEAN</td>\n",
       "      <td>1 владелец</td>\n",
       "      <td>NaN</td>\n",
       "      <td>Оригинал</td>\n",
       "      <td>передний</td>\n",
       "      <td>Левый</td>\n",
       "      <td>Не требует ремонта</td>\n",
       "      <td>Растаможен</td>\n",
       "    </tr>\n",
       "    <tr>\n",
       "      <th>3</th>\n",
       "      <td>лифтбек</td>\n",
       "      <td>SKODA</td>\n",
       "      <td>https://auto.ru/cars/used/sale/skoda/octavia/1...</td>\n",
       "      <td>коричневый</td>\n",
       "      <td>{\"id\":\"20803582\",\"name\":\"Ambition\",\"available_...</td>\n",
       "      <td>КОМПЛЕКТ ЗИМНЕЙ (ЛЕТНЕЙ) РЕЗИНЫ ПО СЕЗОНУ В ПО...</td>\n",
       "      <td>1.6 LTR</td>\n",
       "      <td>110 N12</td>\n",
       "      <td>{\"cruise-control\":true,\"roller-blind-for-rear-...</td>\n",
       "      <td>бензин</td>\n",
       "      <td>...</td>\n",
       "      <td>LIFTBACK AUTOMATIC 1.6</td>\n",
       "      <td>автоматическая</td>\n",
       "      <td>EUROPEAN</td>\n",
       "      <td>1 владелец</td>\n",
       "      <td>NaN</td>\n",
       "      <td>Оригинал</td>\n",
       "      <td>передний</td>\n",
       "      <td>Левый</td>\n",
       "      <td>Не требует ремонта</td>\n",
       "      <td>Растаможен</td>\n",
       "    </tr>\n",
       "    <tr>\n",
       "      <th>4</th>\n",
       "      <td>лифтбек</td>\n",
       "      <td>SKODA</td>\n",
       "      <td>https://auto.ru/cars/used/sale/skoda/octavia/1...</td>\n",
       "      <td>белый</td>\n",
       "      <td>NaN</td>\n",
       "      <td>ЛОТ: 01220889\\nАвтопрага Север\\n\\nВы можете по...</td>\n",
       "      <td>1.8 LTR</td>\n",
       "      <td>152 N12</td>\n",
       "      <td>{\"cruise-control\":true,\"asr\":true,\"esp\":true,\"...</td>\n",
       "      <td>бензин</td>\n",
       "      <td>...</td>\n",
       "      <td>LIFTBACK AUTOMATIC 1.8</td>\n",
       "      <td>автоматическая</td>\n",
       "      <td>EUROPEAN</td>\n",
       "      <td>1 владелец</td>\n",
       "      <td>NaN</td>\n",
       "      <td>Оригинал</td>\n",
       "      <td>передний</td>\n",
       "      <td>Левый</td>\n",
       "      <td>Не требует ремонта</td>\n",
       "      <td>Растаможен</td>\n",
       "    </tr>\n",
       "    <tr>\n",
       "      <th>...</th>\n",
       "      <td>...</td>\n",
       "      <td>...</td>\n",
       "      <td>...</td>\n",
       "      <td>...</td>\n",
       "      <td>...</td>\n",
       "      <td>...</td>\n",
       "      <td>...</td>\n",
       "      <td>...</td>\n",
       "      <td>...</td>\n",
       "      <td>...</td>\n",
       "      <td>...</td>\n",
       "      <td>...</td>\n",
       "      <td>...</td>\n",
       "      <td>...</td>\n",
       "      <td>...</td>\n",
       "      <td>...</td>\n",
       "      <td>...</td>\n",
       "      <td>...</td>\n",
       "      <td>...</td>\n",
       "      <td>...</td>\n",
       "      <td>...</td>\n",
       "    </tr>\n",
       "    <tr>\n",
       "      <th>34681</th>\n",
       "      <td>седан</td>\n",
       "      <td>BMW</td>\n",
       "      <td>https://auto.ru/cars/used/sale/bmw/3er/1101369...</td>\n",
       "      <td>коричневый</td>\n",
       "      <td>NaN</td>\n",
       "      <td>Продается BMW 316i в отличном состоянии. Прода...</td>\n",
       "      <td>1.6 LTR</td>\n",
       "      <td>136 N12</td>\n",
       "      <td>{\"cruise-control\":true,\"asr\":true,\"tinted-glas...</td>\n",
       "      <td>бензин</td>\n",
       "      <td>...</td>\n",
       "      <td>SEDAN AUTOMATIC 1.6</td>\n",
       "      <td>автоматическая</td>\n",
       "      <td>EUROPEAN</td>\n",
       "      <td>3 или более</td>\n",
       "      <td>2 года и 1 месяц</td>\n",
       "      <td>Оригинал</td>\n",
       "      <td>задний</td>\n",
       "      <td>Левый</td>\n",
       "      <td>Не требует ремонта</td>\n",
       "      <td>Растаможен</td>\n",
       "    </tr>\n",
       "    <tr>\n",
       "      <th>34682</th>\n",
       "      <td>седан</td>\n",
       "      <td>BMW</td>\n",
       "      <td>https://auto.ru/cars/used/sale/bmw/5er/1101369...</td>\n",
       "      <td>чёрный</td>\n",
       "      <td>NaN</td>\n",
       "      <td>Продаётся отличный автомобиль.</td>\n",
       "      <td>2.0 LTR</td>\n",
       "      <td>190 N12</td>\n",
       "      <td>NaN</td>\n",
       "      <td>дизель</td>\n",
       "      <td>...</td>\n",
       "      <td>SEDAN AUTOMATIC 2.0</td>\n",
       "      <td>автоматическая</td>\n",
       "      <td>EUROPEAN</td>\n",
       "      <td>1 владелец</td>\n",
       "      <td>NaN</td>\n",
       "      <td>Оригинал</td>\n",
       "      <td>полный</td>\n",
       "      <td>Левый</td>\n",
       "      <td>Не требует ремонта</td>\n",
       "      <td>Растаможен</td>\n",
       "    </tr>\n",
       "    <tr>\n",
       "      <th>34683</th>\n",
       "      <td>седан</td>\n",
       "      <td>BMW</td>\n",
       "      <td>https://auto.ru/cars/used/sale/bmw/5er/1101364...</td>\n",
       "      <td>серый</td>\n",
       "      <td>NaN</td>\n",
       "      <td>Хорошее состояние</td>\n",
       "      <td>2.5 LTR</td>\n",
       "      <td>170 N12</td>\n",
       "      <td>NaN</td>\n",
       "      <td>бензин</td>\n",
       "      <td>...</td>\n",
       "      <td>SEDAN AUTOMATIC 2.5</td>\n",
       "      <td>автоматическая</td>\n",
       "      <td>EUROPEAN</td>\n",
       "      <td>3 или более</td>\n",
       "      <td>NaN</td>\n",
       "      <td>Дубликат</td>\n",
       "      <td>задний</td>\n",
       "      <td>Левый</td>\n",
       "      <td>Не требует ремонта</td>\n",
       "      <td>Растаможен</td>\n",
       "    </tr>\n",
       "    <tr>\n",
       "      <th>34684</th>\n",
       "      <td>внедорожник 5 дв.</td>\n",
       "      <td>BMW</td>\n",
       "      <td>https://auto.ru/cars/used/sale/bmw/x1/11013625...</td>\n",
       "      <td>коричневый</td>\n",
       "      <td>{\"id\":\"6336008\",\"name\":\"xDrive20d Локальная сб...</td>\n",
       "      <td>Автомобиль в идеальном состоянии . Куплен новы...</td>\n",
       "      <td>2.0 LTR</td>\n",
       "      <td>184 N12</td>\n",
       "      <td>{\"engine-proof\":true,\"esp\":true,\"start-stop-fu...</td>\n",
       "      <td>дизель</td>\n",
       "      <td>...</td>\n",
       "      <td>ALLROAD_5_DOORS AUTOMATIC 2.0</td>\n",
       "      <td>автоматическая</td>\n",
       "      <td>EUROPEAN</td>\n",
       "      <td>2 владельца</td>\n",
       "      <td>NaN</td>\n",
       "      <td>Оригинал</td>\n",
       "      <td>полный</td>\n",
       "      <td>Левый</td>\n",
       "      <td>Не требует ремонта</td>\n",
       "      <td>Растаможен</td>\n",
       "    </tr>\n",
       "    <tr>\n",
       "      <th>34685</th>\n",
       "      <td>внедорожник 5 дв.</td>\n",
       "      <td>BMW</td>\n",
       "      <td>https://auto.ru/cars/used/sale/bmw/x5/11012560...</td>\n",
       "      <td>чёрный</td>\n",
       "      <td>NaN</td>\n",
       "      <td>Пробег реальный, состояние отличное! Авторска...</td>\n",
       "      <td>3.0 LTR</td>\n",
       "      <td>235 N12</td>\n",
       "      <td>{\"alloy-wheel-disks\":true,\"navigation\":true,\"p...</td>\n",
       "      <td>дизель</td>\n",
       "      <td>...</td>\n",
       "      <td>ALLROAD_5_DOORS AUTOMATIC 3.0</td>\n",
       "      <td>автоматическая</td>\n",
       "      <td>EUROPEAN</td>\n",
       "      <td>3 или более</td>\n",
       "      <td>6 лет и 1 месяц</td>\n",
       "      <td>Оригинал</td>\n",
       "      <td>полный</td>\n",
       "      <td>Левый</td>\n",
       "      <td>Не требует ремонта</td>\n",
       "      <td>Растаможен</td>\n",
       "    </tr>\n",
       "  </tbody>\n",
       "</table>\n",
       "<p>34686 rows × 32 columns</p>\n",
       "</div>"
      ],
      "text/plain": [
       "                bodyType  brand  \\\n",
       "0                лифтбек  SKODA   \n",
       "1                лифтбек  SKODA   \n",
       "2                лифтбек  SKODA   \n",
       "3                лифтбек  SKODA   \n",
       "4                лифтбек  SKODA   \n",
       "...                  ...    ...   \n",
       "34681              седан    BMW   \n",
       "34682              седан    BMW   \n",
       "34683              седан    BMW   \n",
       "34684  внедорожник 5 дв.    BMW   \n",
       "34685  внедорожник 5 дв.    BMW   \n",
       "\n",
       "                                                 car_url       color  \\\n",
       "0      https://auto.ru/cars/used/sale/skoda/octavia/1...       синий   \n",
       "1      https://auto.ru/cars/used/sale/skoda/octavia/1...      чёрный   \n",
       "2      https://auto.ru/cars/used/sale/skoda/superb/11...       серый   \n",
       "3      https://auto.ru/cars/used/sale/skoda/octavia/1...  коричневый   \n",
       "4      https://auto.ru/cars/used/sale/skoda/octavia/1...       белый   \n",
       "...                                                  ...         ...   \n",
       "34681  https://auto.ru/cars/used/sale/bmw/3er/1101369...  коричневый   \n",
       "34682  https://auto.ru/cars/used/sale/bmw/5er/1101369...      чёрный   \n",
       "34683  https://auto.ru/cars/used/sale/bmw/5er/1101364...       серый   \n",
       "34684  https://auto.ru/cars/used/sale/bmw/x1/11013625...  коричневый   \n",
       "34685  https://auto.ru/cars/used/sale/bmw/x5/11012560...      чёрный   \n",
       "\n",
       "                                      complectation_dict  \\\n",
       "0                                                    NaN   \n",
       "1                                                    NaN   \n",
       "2      {\"id\":\"20026336\",\"name\":\"Ambition\",\"available_...   \n",
       "3      {\"id\":\"20803582\",\"name\":\"Ambition\",\"available_...   \n",
       "4                                                    NaN   \n",
       "...                                                  ...   \n",
       "34681                                                NaN   \n",
       "34682                                                NaN   \n",
       "34683                                                NaN   \n",
       "34684  {\"id\":\"6336008\",\"name\":\"xDrive20d Локальная сб...   \n",
       "34685                                                NaN   \n",
       "\n",
       "                                             description engineDisplacement  \\\n",
       "0      Все автомобили, представленные в продаже, прох...            1.2 LTR   \n",
       "1      ЛОТ: 01217195\\nАвтопрага Север\\nДанный автомоб...            1.6 LTR   \n",
       "2      Все автомобили, представленные в продаже, прох...            1.8 LTR   \n",
       "3      КОМПЛЕКТ ЗИМНЕЙ (ЛЕТНЕЙ) РЕЗИНЫ ПО СЕЗОНУ В ПО...            1.6 LTR   \n",
       "4      ЛОТ: 01220889\\nАвтопрага Север\\n\\nВы можете по...            1.8 LTR   \n",
       "...                                                  ...                ...   \n",
       "34681  Продается BMW 316i в отличном состоянии. Прода...            1.6 LTR   \n",
       "34682                     Продаётся отличный автомобиль.            2.0 LTR   \n",
       "34683                                  Хорошее состояние            2.5 LTR   \n",
       "34684  Автомобиль в идеальном состоянии . Куплен новы...            2.0 LTR   \n",
       "34685   Пробег реальный, состояние отличное! Авторска...            3.0 LTR   \n",
       "\n",
       "      enginePower                                     equipment_dict fuelType  \\\n",
       "0         105 N12  {\"engine-proof\":true,\"tinted-glass\":true,\"airb...   бензин   \n",
       "1         110 N12  {\"cruise-control\":true,\"asr\":true,\"esp\":true,\"...   бензин   \n",
       "2         152 N12  {\"cruise-control\":true,\"tinted-glass\":true,\"es...   бензин   \n",
       "3         110 N12  {\"cruise-control\":true,\"roller-blind-for-rear-...   бензин   \n",
       "4         152 N12  {\"cruise-control\":true,\"asr\":true,\"esp\":true,\"...   бензин   \n",
       "...           ...                                                ...      ...   \n",
       "34681     136 N12  {\"cruise-control\":true,\"asr\":true,\"tinted-glas...   бензин   \n",
       "34682     190 N12                                                NaN   дизель   \n",
       "34683     170 N12                                                NaN   бензин   \n",
       "34684     184 N12  {\"engine-proof\":true,\"esp\":true,\"start-stop-fu...   дизель   \n",
       "34685     235 N12  {\"alloy-wheel-disks\":true,\"navigation\":true,\"p...   дизель   \n",
       "\n",
       "       ...           vehicleConfiguration  vehicleTransmission    vendor  \\\n",
       "0      ...             LIFTBACK ROBOT 1.2     роботизированная  EUROPEAN   \n",
       "1      ...        LIFTBACK MECHANICAL 1.6         механическая  EUROPEAN   \n",
       "2      ...             LIFTBACK ROBOT 1.8     роботизированная  EUROPEAN   \n",
       "3      ...         LIFTBACK AUTOMATIC 1.6       автоматическая  EUROPEAN   \n",
       "4      ...         LIFTBACK AUTOMATIC 1.8       автоматическая  EUROPEAN   \n",
       "...    ...                            ...                  ...       ...   \n",
       "34681  ...            SEDAN AUTOMATIC 1.6       автоматическая  EUROPEAN   \n",
       "34682  ...            SEDAN AUTOMATIC 2.0       автоматическая  EUROPEAN   \n",
       "34683  ...            SEDAN AUTOMATIC 2.5       автоматическая  EUROPEAN   \n",
       "34684  ...  ALLROAD_5_DOORS AUTOMATIC 2.0       автоматическая  EUROPEAN   \n",
       "34685  ...  ALLROAD_5_DOORS AUTOMATIC 3.0       автоматическая  EUROPEAN   \n",
       "\n",
       "         Владельцы          Владение       ПТС    Привод   Руль  \\\n",
       "0      3 или более               NaN  Оригинал  передний  Левый   \n",
       "1       1 владелец               NaN  Оригинал  передний  Левый   \n",
       "2       1 владелец               NaN  Оригинал  передний  Левый   \n",
       "3       1 владелец               NaN  Оригинал  передний  Левый   \n",
       "4       1 владелец               NaN  Оригинал  передний  Левый   \n",
       "...            ...               ...       ...       ...    ...   \n",
       "34681  3 или более  2 года и 1 месяц  Оригинал    задний  Левый   \n",
       "34682   1 владелец               NaN  Оригинал    полный  Левый   \n",
       "34683  3 или более               NaN  Дубликат    задний  Левый   \n",
       "34684  2 владельца               NaN  Оригинал    полный  Левый   \n",
       "34685  3 или более   6 лет и 1 месяц  Оригинал    полный  Левый   \n",
       "\n",
       "                Состояние     Таможня  \n",
       "0      Не требует ремонта  Растаможен  \n",
       "1      Не требует ремонта  Растаможен  \n",
       "2      Не требует ремонта  Растаможен  \n",
       "3      Не требует ремонта  Растаможен  \n",
       "4      Не требует ремонта  Растаможен  \n",
       "...                   ...         ...  \n",
       "34681  Не требует ремонта  Растаможен  \n",
       "34682  Не требует ремонта  Растаможен  \n",
       "34683  Не требует ремонта  Растаможен  \n",
       "34684  Не требует ремонта  Растаможен  \n",
       "34685  Не требует ремонта  Растаможен  \n",
       "\n",
       "[34686 rows x 32 columns]"
      ]
     },
     "execution_count": 4,
     "metadata": {},
     "output_type": "execute_result"
    }
   ],
   "source": [
    "test"
   ]
  },
  {
   "cell_type": "markdown",
   "id": "a56c0125",
   "metadata": {},
   "source": [
    "#### Проверяем наличие строк и столбцов"
   ]
  },
  {
   "cell_type": "code",
   "execution_count": 5,
   "id": "55cd59c0",
   "metadata": {},
   "outputs": [
    {
     "name": "stdout",
     "output_type": "stream",
     "text": [
      "Количество столбцов в train: 26, количество строк: 89378\n",
      "Количество столбцов в test: 32, количество строк: 34686\n",
      "Количество столбцов в sample: 2, количество строк: 34686\n",
      "Количество столбцов в train_parsed: 36, количество строк: 130201\n"
     ]
    }
   ],
   "source": [
    "# Проверка количества столбцов и строк\n",
    "print(f\"Количество столбцов в train: {len(train.columns)}, количество строк: {len(train)}\")\n",
    "print(f\"Количество столбцов в test: {len(test.columns)}, количество строк: {len(test)}\")\n",
    "print(f\"Количество столбцов в sample: {len(sample.columns)}, количество строк: {len(sample)}\")\n",
    "print(f\"Количество столбцов в train_parsed: {len(train_parsed.columns)}, количество строк: {len(train_parsed)}\")\n",
    "\n",
    "# Есть существенная в количестве столбцов между train,test,train_parsed\n",
    "# С учетом наличия прайса в датасете sample (т.е. test - 33 столбца), у нас остаются немалые расхождения\n",
    "# Проблема решается двумя способами:\n",
    "# 1. Удалить лишние столбцы из train_parsed, которых нет в test\n",
    "# 2. Удалить лишние столбцы из test, которых нет в train"
   ]
  },
  {
   "cell_type": "markdown",
   "id": "a310a3d1",
   "metadata": {},
   "source": [
    "## Функции"
   ]
  },
  {
   "cell_type": "code",
   "execution_count": 6,
   "id": "6c29fe07",
   "metadata": {},
   "outputs": [],
   "source": [
    "# Для удобства будем использовать заготовленную функцию и по мере продвижения менять название столбцов\n",
    "def rename_column(df, column, new_column):\n",
    "    df.rename(columns = {column : new_column}, inplace = True)\n",
    "    \n",
    "    \n",
    "# Проверим отличия в столбцах между train_parsed и test\n",
    "# Тем самым сделаем заготовку, для будущего удаления столбцов из train_parsed\n",
    "def check_df(df1, df2):\n",
    "    print('Columns in df1, but not in df2: ', list(set(df1.columns).difference(df2.columns)))\n",
    "    print(f'df1 : df2')\n",
    "    print()\n",
    "    for col1 in df1.columns:\n",
    "        for col2 in df2.columns: \n",
    "            if col1 == col2 and df1[col1].dtype != df2[col2].dtype:\n",
    "                print(col1, df1[col1].dtype,' | ',col2, df2[col2].dtype)\n",
    "\n",
    "                \n",
    "# Првоерка столбца на количество пустых строк и уникальные значения\n",
    "def check_column(df, col):\n",
    "    print(f'Пустых значений: {df[col].isna().sum()}')\n",
    "    print(f'Кол-во строк в столбце: {len(df[col])}')\n",
    "    print(f'Тип данных столбца: {df[col].dtype}')\n",
    "    print()\n",
    "    print(f'Уникальных значений: {df[col].unique()}')    \n",
    "    \n",
    "\n",
    "# Конвертируем найденные данные объема двигателя в тип данных float\n",
    "def engineDisplacement_to_float(cell):\n",
    "    re_find = re.findall('\\d\\.\\d', str(cell))\n",
    "    if re_find:\n",
    "        return float(re_find[0])\n",
    "    return None\n",
    "\n",
    "\n",
    "# Заполнение столбца \"Привод\"/\"driving_gear\"\n",
    "def fill_driving_gear(brand: str, model_name: str, df: pd.DataFrame):\n",
    "    sliced_df = df[(df.brand == brand) & (df.model_name == model_name)]\n",
    "    try:\n",
    "        return sliced_df.driving_gear.values[0]\n",
    "    except:\n",
    "        return 'полный'\n",
    "    \n",
    "    \n",
    "# Заполнение столбца \"Руль\"/\"steering_wheel\"\n",
    "def fill_steering_wheel(brand: str, model: str, right_wheel_dict: dict):\n",
    "    try:\n",
    "        if model in right_wheel_dict[brand]:\n",
    "            return 'right'\n",
    "        else:\n",
    "            return 'left'\n",
    "    except:\n",
    "        return 'left'\n",
    "\n",
    "\n",
    "# Заполнение название модели\n",
    "def fill_model_name(all_model_names: list, name: str):\n",
    "    name = name.lower()\n",
    "    if isinstance(name, str):\n",
    "        if \"RS Q8\".lower() in name:\n",
    "            return 'Q8'\n",
    "        elif \"QX55\".lower() in name:\n",
    "            return \"QX55\"\n",
    "        try:\n",
    "            value = name.split()\n",
    "        except:\n",
    "            return None\n",
    "        if value[1] in all_model_names:\n",
    "            return value[1]\n",
    "        try:\n",
    "            joined_value = \"_\".join([value[1], value[2]])\n",
    "        except IndexError:\n",
    "            return None\n",
    "        if joined_value in all_model_names:\n",
    "            return f\"{value[1]}_{value[2]}\"\n",
    "        elif joined_value.replace('_', ' ') in all_model_names:\n",
    "            return f\"{value[1]} {value[2]}\"\n",
    "    return None\n",
    "\n",
    "\n",
    "# Визуализация данных с помощью Boxplot\n",
    "def show_boxplot(data: pd.DataFrame, column: str, target_column: str):\n",
    "    fig, ax = plt.subplots(figsize = (14, 4))\n",
    "    sns.boxplot(x=column, y=target_column, \n",
    "                data=data.loc[data.loc[:, column].isin(data.loc[:, column].value_counts().index)],\n",
    "                ax=ax)\n",
    "    plt.xticks(rotation=45)\n",
    "    ax.set_title('Boxplot for ' + column)\n",
    "    plt.show()\n",
    "    \n",
    "    \n",
    "# Метрика MAPE с использованием mean_absolute_percentage_error\n",
    "# Версия с использованием MAPE из sklearn\n",
    "def mape(y_true, y_pred):\n",
    "    print(f'Mape: {(mean_absolute_percentage_error(y_true, y_pred)*100):0.2f}%')\n",
    "    \n",
    "def mape(y_true, y_pred):\n",
    "    return np.mean(np.abs((y_pred-y_true)/y_true))"
   ]
  },
  {
   "cell_type": "markdown",
   "id": "cf7cbe73",
   "metadata": {},
   "source": [
    "### Сравнение датасетов"
   ]
  },
  {
   "cell_type": "code",
   "execution_count": 7,
   "id": "39f30edb",
   "metadata": {},
   "outputs": [
    {
     "name": "stdout",
     "output_type": "stream",
     "text": [
      "Columns in df1, but not in df2:  ['start_date', 'hidden', 'model', 'price', 'Комплектация']\n",
      "df1 : df2\n",
      "\n",
      "modelDate float64  |  modelDate int64\n",
      "numberOfDoors float64  |  numberOfDoors int64\n",
      "enginePower float64  |  enginePower object\n",
      "Состояние float64  |  Состояние object\n",
      "Владельцы float64  |  Владельцы object\n",
      "Таможня bool  |  Таможня object\n",
      "None\n",
      "Columns in df1, but not in df2:  ['price', 'region', 'views', 'date_added']\n",
      "df1 : df2\n",
      "\n",
      "mileage float64  |  mileage int64\n",
      "modelDate float64  |  modelDate int64\n",
      "model_info float64  |  model_info object\n",
      "numberOfDoors float64  |  numberOfDoors int64\n",
      "parsing_unixtime float64  |  parsing_unixtime int64\n",
      "productionDate float64  |  productionDate int64\n",
      "sell_id float64  |  sell_id int64\n",
      "vendor float64  |  vendor object\n",
      "None\n",
      "Columns in df1, but not in df2:  ['start_date', 'hidden', 'model', 'Комплектация']\n",
      "df1 : df2\n",
      "\n",
      "productionDate int64  |  productionDate float64\n",
      "enginePower float64  |  enginePower object\n",
      "mileage int64  |  mileage float64\n",
      "Состояние float64  |  Состояние object\n",
      "Владельцы float64  |  Владельцы object\n",
      "Таможня bool  |  Таможня object\n",
      "None\n"
     ]
    }
   ],
   "source": [
    "print(check_df(train, test))\n",
    "print(check_df(train_parsed, test))\n",
    "print(check_df(train, train_parsed))"
   ]
  },
  {
   "cell_type": "markdown",
   "id": "4aa9b925",
   "metadata": {},
   "source": [
    "### Сравнение столбцов"
   ]
  },
  {
   "cell_type": "code",
   "execution_count": 8,
   "id": "11bfddb1",
   "metadata": {},
   "outputs": [
    {
     "name": "stdout",
     "output_type": "stream",
     "text": [
      "Index(['bodyType', 'brand', 'color', 'description', 'engineDisplacement',\n",
      "       'enginePower', 'fuelType', 'hidden', 'mileage', 'model', 'modelDate',\n",
      "       'name', 'numberOfDoors', 'price', 'productionDate', 'start_date',\n",
      "       'vehicleConfiguration', 'vehicleTransmission', 'Владельцы', 'Владение',\n",
      "       'Комплектация', 'ПТС', 'Привод', 'Руль', 'Состояние', 'Таможня'],\n",
      "      dtype='object')\n",
      "Index(['bodyType', 'brand', 'car_url', 'color', 'complectation_dict',\n",
      "       'date_added', 'description', 'engineDisplacement', 'enginePower',\n",
      "       'equipment_dict', 'fuelType', 'image', 'mileage', 'modelDate',\n",
      "       'model_info', 'model_name', 'name', 'numberOfDoors', 'parsing_unixtime',\n",
      "       'price', 'priceCurrency', 'productionDate', 'region', 'sell_id',\n",
      "       'super_gen', 'vehicleConfiguration', 'vehicleTransmission', 'vendor',\n",
      "       'views', 'Владельцы', 'Владение', 'ПТС', 'Привод', 'Руль', 'Состояние',\n",
      "       'Таможня'],\n",
      "      dtype='object')\n",
      "Index(['bodyType', 'brand', 'car_url', 'color', 'complectation_dict',\n",
      "       'description', 'engineDisplacement', 'enginePower', 'equipment_dict',\n",
      "       'fuelType', 'image', 'mileage', 'modelDate', 'model_info', 'model_name',\n",
      "       'name', 'numberOfDoors', 'parsing_unixtime', 'priceCurrency',\n",
      "       'productionDate', 'sell_id', 'super_gen', 'vehicleConfiguration',\n",
      "       'vehicleTransmission', 'vendor', 'Владельцы', 'Владение', 'ПТС',\n",
      "       'Привод', 'Руль', 'Состояние', 'Таможня'],\n",
      "      dtype='object')\n"
     ]
    }
   ],
   "source": [
    "for df_columns in [train, train_parsed, test]:\n",
    "    print(df_columns.columns.sort_values())"
   ]
  },
  {
   "cell_type": "markdown",
   "id": "25054422",
   "metadata": {},
   "source": [
    "### bodyType"
   ]
  },
  {
   "cell_type": "code",
   "execution_count": 9,
   "id": "70c5fa84",
   "metadata": {},
   "outputs": [],
   "source": [
    "train['bodyType'] = train.bodyType.apply(lambda x: x.lower().split()[0].strip() if isinstance(x, str) else x)\n",
    "train_parsed['bodyType'] = train_parsed.bodyType.apply(lambda x: x.lower().split()[0].strip() if isinstance(x, str) else x)\n",
    "test['bodyType'] = test.bodyType.apply(lambda x: x.lower().split()[0].strip() if isinstance(x, str) else x)"
   ]
  },
  {
   "cell_type": "code",
   "execution_count": 10,
   "id": "592e4da2",
   "metadata": {
    "scrolled": true
   },
   "outputs": [
    {
     "name": "stdout",
     "output_type": "stream",
     "text": [
      "Пустых значений: 1\n",
      "Кол-во строк в столбце: 89378\n",
      "Тип данных столбца: object\n",
      "\n",
      "Уникальных значений: ['седан' 'универсал' 'хэтчбек' 'кабриолет' 'купе' 'лифтбек' 'внедорожник'\n",
      " 'компактвэн' 'купе-хардтоп' 'родстер' 'минивэн' 'пикап' 'тарга'\n",
      " 'микровэн' 'фастбек' nan 'седан-хардтоп' 'фургон' 'лимузин']\n"
     ]
    }
   ],
   "source": [
    "check_column(train, 'bodyType')"
   ]
  },
  {
   "cell_type": "code",
   "execution_count": 11,
   "id": "526a493a",
   "metadata": {},
   "outputs": [
    {
     "name": "stdout",
     "output_type": "stream",
     "text": [
      "Пустых значений: 215\n",
      "Кол-во строк в столбце: 130201\n",
      "Тип данных столбца: object\n",
      "\n",
      "Уникальных значений: ['лифтбек' 'внедорожник' 'компактвэн' 'хэтчбек' 'универсал' 'седан' nan\n",
      " 'купе' 'кабриолет' 'родстер' 'минивэн' 'микровэн' 'пикап' 'купе-хардтоп'\n",
      " 'фургон' 'лимузин' 'седан-хардтоп']\n"
     ]
    }
   ],
   "source": [
    "check_column(train_parsed, 'bodyType')"
   ]
  },
  {
   "cell_type": "code",
   "execution_count": 12,
   "id": "334f516c",
   "metadata": {
    "scrolled": true
   },
   "outputs": [
    {
     "name": "stdout",
     "output_type": "stream",
     "text": [
      "Пустых значений: 0\n",
      "Кол-во строк в столбце: 34686\n",
      "Тип данных столбца: object\n",
      "\n",
      "Уникальных значений: ['лифтбек' 'внедорожник' 'хэтчбек' 'седан' 'компактвэн' 'универсал'\n",
      " 'пикап' 'купе' 'кабриолет' 'минивэн' 'родстер' 'микровэн' 'купе-хардтоп'\n",
      " 'фастбек' 'тарга' 'лимузин' 'седан-хардтоп' 'фургон']\n"
     ]
    }
   ],
   "source": [
    "check_column(test, 'bodyType')"
   ]
  },
  {
   "cell_type": "code",
   "execution_count": 13,
   "id": "431b4545",
   "metadata": {},
   "outputs": [],
   "source": [
    "train_parsed.dropna(subset = ['bodyType'], axis = 0, inplace = True)"
   ]
  },
  {
   "cell_type": "markdown",
   "id": "8fa60e5f",
   "metadata": {},
   "source": [
    "### brand"
   ]
  },
  {
   "cell_type": "code",
   "execution_count": 14,
   "id": "b079cab6",
   "metadata": {},
   "outputs": [
    {
     "name": "stdout",
     "output_type": "stream",
     "text": [
      "В train 49309 строк из 89378 сходятся по бренду.\n",
      "Это 55.17% изначального датасета.\n",
      "\n",
      "В train_parsed 129986 строк из 129986 сходятся по бренду.\n",
      "Это 100.0% изначального датасета.\n"
     ]
    }
   ],
   "source": [
    "# Проверим на наличие строк по бренду из двух датасетов. Ведь датасет test наша основная цель.\n",
    "print(f'В train {len(train[train.brand.isin(test.brand.unique())])} строк из {len(train)} сходятся по бренду.')\n",
    "print(f'Это {round((len(train[train.brand.isin(test.brand.unique())]) / len(train)) * 100, 2)}% изначального датасета.')\n",
    "print()\n",
    "print(f'В train_parsed {len(train_parsed[train_parsed.brand.isin(test.brand.unique())])} строк из {len(train_parsed)} сходятся по бренду.')\n",
    "print(f'Это {round((len(train_parsed[train_parsed.brand.isin(test.brand.unique())]) / len(train_parsed)) * 100, 2)}% изначального датасета.')"
   ]
  },
  {
   "cell_type": "code",
   "execution_count": 15,
   "id": "14addaab",
   "metadata": {},
   "outputs": [],
   "source": [
    "# Используем только нужные нам строки.\n",
    "train = train[train.brand.isin(test.brand.unique())]\n",
    "train_parsed = train_parsed[train_parsed.brand.isin(test.brand.unique())]"
   ]
  },
  {
   "cell_type": "code",
   "execution_count": 16,
   "id": "1424ddd0",
   "metadata": {},
   "outputs": [
    {
     "name": "stdout",
     "output_type": "stream",
     "text": [
      "Пустых значений: 0\n",
      "Кол-во строк в столбце: 49309\n",
      "Тип данных столбца: object\n",
      "\n",
      "Уникальных значений: ['AUDI' 'BMW' 'HONDA' 'INFINITI' 'LEXUS' 'MITSUBISHI' 'NISSAN' 'SKODA'\n",
      " 'TOYOTA' 'VOLKSWAGEN' 'VOLVO' 'MERCEDES']\n"
     ]
    }
   ],
   "source": [
    "check_column(train, 'brand')"
   ]
  },
  {
   "cell_type": "code",
   "execution_count": 17,
   "id": "63a150fb",
   "metadata": {},
   "outputs": [
    {
     "name": "stdout",
     "output_type": "stream",
     "text": [
      "Пустых значений: 0\n",
      "Кол-во строк в столбце: 129986\n",
      "Тип данных столбца: object\n",
      "\n",
      "Уникальных значений: ['SKODA' 'AUDI' 'HONDA' 'VOLVO' 'BMW' 'NISSAN' 'INFINITI' 'MERCEDES'\n",
      " 'TOYOTA' 'LEXUS' 'VOLKSWAGEN' 'MITSUBISHI']\n"
     ]
    }
   ],
   "source": [
    "check_column(train_parsed, 'brand')"
   ]
  },
  {
   "cell_type": "code",
   "execution_count": 18,
   "id": "0de92826",
   "metadata": {},
   "outputs": [
    {
     "name": "stdout",
     "output_type": "stream",
     "text": [
      "Пустых значений: 0\n",
      "Кол-во строк в столбце: 34686\n",
      "Тип данных столбца: object\n",
      "\n",
      "Уникальных значений: ['SKODA' 'AUDI' 'HONDA' 'VOLVO' 'BMW' 'NISSAN' 'INFINITI' 'MERCEDES'\n",
      " 'TOYOTA' 'LEXUS' 'VOLKSWAGEN' 'MITSUBISHI']\n"
     ]
    }
   ],
   "source": [
    "check_column(test, 'brand')"
   ]
  },
  {
   "cell_type": "markdown",
   "id": "c6ef3c5b",
   "metadata": {},
   "source": [
    "### color"
   ]
  },
  {
   "cell_type": "code",
   "execution_count": 19,
   "id": "a24c716b",
   "metadata": {},
   "outputs": [
    {
     "name": "stdout",
     "output_type": "stream",
     "text": [
      "Пустых значений: 0\n",
      "Кол-во строк в столбце: 49309\n",
      "Тип данных столбца: object\n",
      "\n",
      "Уникальных значений: ['040001' 'EE1D19' '0000CC' 'CACECB' '007F00' 'FAFBFB' '97948F' '22A0F8'\n",
      " '660099' '200204' 'C49648' 'DEA522' '4A2197' 'FFD600' 'FF8649' 'FFC0CB']\n"
     ]
    }
   ],
   "source": [
    "check_column(train, 'color')"
   ]
  },
  {
   "cell_type": "code",
   "execution_count": 20,
   "id": "5522650f",
   "metadata": {},
   "outputs": [
    {
     "name": "stdout",
     "output_type": "stream",
     "text": [
      "Пустых значений: 0\n",
      "Кол-во строк в столбце: 129986\n",
      "Тип данных столбца: object\n",
      "\n",
      "Уникальных значений: ['белый' 'синий' 'серый' 'чёрный' 'серебристый' 'бежевый' 'красный'\n",
      " 'коричневый' 'оранжевый' 'пурпурный' 'жёлтый' 'зелёный' 'голубой'\n",
      " 'фиолетовый' 'золотистый' 'розовый']\n"
     ]
    }
   ],
   "source": [
    "check_column(train_parsed, 'color')"
   ]
  },
  {
   "cell_type": "code",
   "execution_count": 21,
   "id": "45edbafe",
   "metadata": {},
   "outputs": [
    {
     "name": "stdout",
     "output_type": "stream",
     "text": [
      "Пустых значений: 0\n",
      "Кол-во строк в столбце: 34686\n",
      "Тип данных столбца: object\n",
      "\n",
      "Уникальных значений: ['синий' 'чёрный' 'серый' 'коричневый' 'белый' 'пурпурный' 'бежевый'\n",
      " 'серебристый' 'красный' 'зелёный' 'жёлтый' 'голубой' 'оранжевый'\n",
      " 'фиолетовый' 'золотистый' 'розовый']\n"
     ]
    }
   ],
   "source": [
    "check_column(test, 'color')"
   ]
  },
  {
   "cell_type": "code",
   "execution_count": 22,
   "id": "32bd2ff9",
   "metadata": {},
   "outputs": [],
   "source": [
    "train['color'].replace(to_replace={'040001' : 'чёрный', 'EE1D19': 'красный', '0000CC' : 'синий', 'CACECB': 'серебристый',\n",
    "                                   '007F00' : 'зелёный', 'FAFBFB' : 'белый', '97948F' : 'серый', '22A0F8' : 'голубой', \n",
    "                                   '660099' : 'пурпурный', '200204' : 'коричневый', 'C49648' : 'бежевый', \n",
    "                                   'DEA522' : 'золотистый', '4A2197' : 'фиолетовый', 'FFD600' : 'жёлтый',\n",
    "                                   'FF8649' : 'оранжевый', 'FFC0CB' : 'розовый'}, inplace = True)"
   ]
  },
  {
   "cell_type": "markdown",
   "id": "1dfcfcfc",
   "metadata": {},
   "source": [
    "### description"
   ]
  },
  {
   "cell_type": "code",
   "execution_count": 23,
   "id": "1e157a9d",
   "metadata": {
    "scrolled": true
   },
   "outputs": [
    {
     "name": "stdout",
     "output_type": "stream",
     "text": [
      "Пустых значений: 1588\n",
      "Кол-во строк в столбце: 49309\n",
      "Тип данных столбца: object\n",
      "\n",
      "Уникальных значений: [' Машина  в приличном состоянии ,не гнилая не ржавая .По менины этим  летом коренные  и шатунные вкладыши .Масло не ест .  Цвет черный .Год выпуска 1991.Двигатель 2.8.Привод полный кватро.Все стеклоподъемники .Кожаный салон  .   '\n",
      " 'Машина в оригинале не гнилая все вопросы по телефону. Птс оригинал, двигатель 1.8 90 л/с, карбюратор родной двигатель масло не ест. '\n",
      " 'ПТС Оригинал!\\nПолный комплект ключей!\\nПо результатам комплексной диагностики автомобиля серьезных замечаний не выявлено.\\n\\nКомплектация:\\n•\\tАнтиблокировочная система\\n•\\tАнтипробуксовочная система\\n•\\tСистема курсовой устойчивости\\n•\\tБлокировка замков задних дверей\\n•\\tСигнализация\\n•\\tИммобилайзер\\n•\\tЦентральный замок\\n•\\tУсилитель руля\\n•\\tАктивный усилитель руля\\n•\\tЭлектропривод зеркал\\n•\\tАудиосистема\\n•\\tАудиоподготовка\\n•\\tРозетка 12V\\nБолее 200 автомобилей с пробегом в наличии!\\n- выгода до 70 000 рублей за Трейд Ин\\n- выкуп Вашего автомобиля на спец. условиях\\n- выгода до 40 000 рублей при покупке в кредит\\n- более 10 банков – партнеров на выбор\\n- Комиссионная продажа вашего автомобиля на ваших условиях!\\n\\n\\nГК АВТОМИР, Автомобили с пробегом - это Ваш надежный партнер, на рынке автомобилей с пробегом.\\nНаша компания более 20 лет занимается направлением автомобилей с пробегом, все специалисты имеют огромный и продуктивный опыт в автомобильном бизнесе.\\n\\nКомплектация:\\n• Антиблокировочная система\\n• Подушки безопасности водителя\\n• Гидро усилитель руля\\n• Электростеклоподъемники передние\\n• CD\\n• Тканевая обивка салона\\n• Домкрат\\n• Полноразмерное запасное колесо'\n",
      " ...\n",
      " 'Пробег 900км (обкатка), комплектация X-line Power (камеры 360, заднее открываемой окно, натуральная кожа, система удержания полосы). Установлен пластиковый вкладыш + 3-х секционный тент, каско. 3 комплекта резины, лето-3има R19, грязевая R18.'\n",
      " 'Состояние новой машины , дополнительно установлено - полная шумоизоляция автомобиля , мощный вебасто  с дистанционным запуском , противоугонное  устройство , австралийская профессиональная усиленная подвеска , оригинальные диски мак Италия , английская резина , американский вкладыш в кузов '\n",
      " 'Просьба не беспокоить без интереса приобретения!!!']\n"
     ]
    }
   ],
   "source": [
    "check_column(train, 'description')"
   ]
  },
  {
   "cell_type": "code",
   "execution_count": 24,
   "id": "4f10ddcc",
   "metadata": {
    "scrolled": true
   },
   "outputs": [
    {
     "name": "stdout",
     "output_type": "stream",
     "text": [
      "Пустых значений: 0\n",
      "Кол-во строк в столбце: 129986\n",
      "Тип данных столбца: object\n",
      "\n",
      "Уникальных значений: ['Автомобиль приобретался у официального дилера Оригинальный ПТС Дополнительные опции Обогрев всех сидений Биксеноновая головная оптика Датчики дождя и света Двухзонный климат контроль Круиз контроль Передние и задние датчики парковки Дополнительное оборудование Сигнализация с автозапуском 007944 Кредит от 8 Первоначальный взнос от 0 Более 20 банков партнеров Ваш автомобиль может быть первоначальным взносом Оформление за 30 минут По двум документам Без справок и поручителей Без скрытых платежей и комиссий Возможна дистанционная подача заявки на кредит iobgogf 45095 '\n",
      " 'Группа компаний Элан Моторс официальный дилер представляет на автомобильном рынке Санкт Петербурга и Северо Западного федерального округа бренды CHERY HAVAL LIFAN ZOTYE DFM JAC MOTORS УАЗ КРЕДИТ 7 9 годовых НИЖЕ ПОТРЕБИТЕЛЬСКОГО КРЕДИТА На данный автомобиль действует скидка при покупке в кредит В нашем автоцентре Вы можете воспользоваться одной из нескольких выгодных программ автокредитования от банков партнеров Кредит предоставляется банком партнером взнос от 0 сроком до 7 лет валюта кредита рубли сумма кредита до 3 х млн руб Документы необходимые для рассмотрения паспорт и водительское удостоверение или любой другой документ При обмене Вашего автомобиля по программе Trade IN в нашем автоцентре предоставляется дополнительная скидка Уникальная расширенная гарантия до 2 лет на двигатель и КПП Более подробную информацию Вы можете получить в отделе продаж или по телефону Ждём Вас по адресу г Санкт Петербург Выборгское ш 27'\n",
      " 'Специальные предложения на автомобили в наличии до конца месяца Звоните прямо сейчас Наши сотрудники всегда готовы предоставить наилучший опыт покупки и владения автомобилями ŠKODA Крона Авто официальный дилер ŠKODA в городе Брянске Мы работаем на рынке продажи и обслуживания автомобилей ŠKODA с 2018 года В нашем автосалоне представлен весь модельный ряд автомобилей ŠKODA Уровень обслуживания соответствует самым высоким стандартам На все приобретённые автомобили предоставляется гарантия завода производителя Мы работаем для вас каждый день с 8 00 20 00 ___________________________________________________________________________________________________________________ Продажу полного модельного ряда автомобилей ŠKODA с выгодой в денежном выражении Мы можем предоставить вам возможность испытать наши автомобили во время тестовых поездок Приобрести и установить дополнительное оборудование Выгодные кредитные программы страховка Все виды сервисных работ Различные схемы покупки автомобилей ŠKODA предварительный заказ Бесплатная и быстрая оценка вашего автомобиля по рыночной цене в зачёт покупки новой ŠKODA Выгодные условия кредитование от 1 Услуги страхования от ведущих страховых компаний России Специальные программы для корпоративных клиентов Оформление в лизинг на ваших условиях Регулярные акции и спец предложения позволяющие выгодно приобретать и обслуживать автомобили ŠKODA Квалифицированные консультации специалистов марки ŠKODA _____________________________________________________________________________________________________________________________ hiihehg 61744 '\n",
      " ...\n",
      " 'На автомобиле выполнена полная техническая диагностика по 116 пунктам проверка ЛКП кузова проведена специалистами сертифицированными автопроизводителем Автомобиль прошел предпродажную подготовку Дополнительная скидка и выгодные условия на кредит при обмене на ваш автомобиль Звоните для расчета выгоды Подбор комфортного и выгодного кредита Зачет стоимости вашего автомобиля в качестве первоначального взноса Комплектация автомобиля розетка 12V штатная аудиосистема с CD количество мест 5 обогрев сидений темный салон тканевый салон усилитель руля передний центральный подлокотник подогрев передних сидений регулировка руля по высоте и вылету регулировка сидений водителя по высоте электростеклоподъемники все климат контроль сиденье водителя ручная регулировка сиденье пассажира ручная регулировка ABS ESP парктроник подушка безопасности водителя подушка безопасности пассажира подушки безопасности боковые обогрев зеркал галогеновые фары легкосплавные диски центральный замок штатная сигнализация штатный иммобилайзер cme81 184900032385 Продажа а м осуществляется ОФИЦИАЛЬНЫМ ДИЛЕРОМ АВТОРУСЬ В наличии более 200 проверенных и готовых к продаже автомобилей Автомобиль доступен к просмотру в крытом и хорошо освещенном помещении Автомобиль прошел ТЕХНИЧЕСКУЮ И ЮРИДИЧЕСКУЮ ПРОВЕРКУ Возможна ПОКУПКА В КРЕДИТ по специальной ставке ВЫГОДА при покупке а м в кредит до 25 000 р ВЫГОДА при обмене на Ваш а м до 50 000 р СРОЧНЫЙ ВЫКУП авто выплата в день обращения Ждём вас ежедневно с 9 00 до 21 00'\n",
      " 'Куплен у Ориeнт Moтoрс г Тольятти 24 11 17г кoмплектaция максимaльная instyle двигaтель туpбодизeль 181 л c пpoбeг 49000 км один собствeнник aвтомобиль в идeальнoм cocтоянии роднoй кунг oт мицубиcи cтоимocтью 164805 pуб по нaряд заказу кузовноe отдeлeниe обрабoтaно антикopом утеплeно фольгоизoлoм и oтделано кoвролином свoeвpеменно обслуживался прошёл все ТО дополнительный комплект зимней шипованной резины Nоkiоn на литых дисках '\n",
      " ' ТРЕЙД ИН Выгода при обмене на Ваш авто от 30 000 рублей В наличие более 200 автомобилей Каждый автомобиль прошел диагностику Подберем лучшие условия для Вас среди 15 банков партнеров На этот автомобиль мы готовы предложить дополнительную техническую гарантию Звоните сейчас и получите персональное предложение от официального дилера компании Юг Авто iodcfea 24258 ']\n"
     ]
    }
   ],
   "source": [
    "check_column(train_parsed, 'description')"
   ]
  },
  {
   "cell_type": "code",
   "execution_count": 25,
   "id": "f3203ff5",
   "metadata": {
    "scrolled": true
   },
   "outputs": [
    {
     "name": "stdout",
     "output_type": "stream",
     "text": [
      "Пустых значений: 0\n",
      "Кол-во строк в столбце: 34686\n",
      "Тип данных столбца: object\n",
      "\n",
      "Уникальных значений: ['Все автомобили, представленные в продаже, проходят тщательную проверку по более 40 параметрам. Предоставляем гарантию юридической чистоты, а так же год технической гарантии на двигатель и КПП. Бесплатный тест-драйв. Возможно оформление автомобиля в кредит!\\n\\nПреимущества автокредитования:\\n— Первоначальный взнос от 0%;\\n— Более 30 кредитных программ;\\n— Процентная ставка от 6% годовых;\\n— Срок кредита от 6 месяцев до 7 лет;\\n— Оформление кредита по двум документам;\\n— Досрочное погашение без штрафов и комиссий;\\n— Сумма кредита до 2 млн рублей;\\n— Оформление КАСКО – по желанию;\\n— Без справок и поручителей.\\n\\nСотрудничаем с 12 аккредитованными и сертифицированными банками РФ, среднее время ожидания решения банка 20–30 минут.\\n\\nПри покупке автомобиля по программе «Trade-in – выгодный обмен» или в кредит, получите дополнительную скидку до 80 000 рублей на данный автомобиль!\\n\\nЗаписаться на тест-драйв, а так же получить подробную информацию можно у специалистов автоцентра по указанному номеру телефона.'\n",
      " 'ЛОТ: 01217195\\nАвтопрага Север\\nДанный автомобиль прошел диагностику по 147 пунктам и имеет сертификат технической гарантии.\\n\\n\\nВы можете получить скидку на данный автомобиль до 50000 рублей. Подробности уточняйте у менеджеров отдела продаж.\\n\\nГК FAVORIT MOTORS строит свою работу на принципах открытости и честности! Нам доверяют более 25 лет.\\n\\n- Автомобиль продается официальным дилером FAVORIT MOTORS.\\n- Покупка и обслуживание у официального дилера.\\n- Проведена предпродажная подготовка,\\n- Гарантия юридической чистоты.\\n- Круглосуточная техническая поддержка с бесплатным эвакуатором.\\n\\n- Автомобиль можно приобрести за наличный расчет, безналичным платежом, а также мы примем вашу машину по рыночной стоимости в рамках программы трейд-ин и при необходимости — выплатим за нее кредит.\\n\\n- Возможна покупка в кредит: специальные предложения по кредитованию и страхованию.\\n- Оформление кредита по двум документам.\\n- КАСКО не обязательно.\\n\\nПриглашаем на бесплатный тест-драйв!\\n\\nГруппа компаний FAVORIT MOTORS — один из крупнейших российских холдингов, официальный дилер известных мировых брендов , которые обслуживаются в технических центрах ГК FAVORIT MOTORS в рамках официального сервиса.\\n\\nМы предлагаем полный комплекс услуг по предпродажной подготовке и последующему сервису.\\n\\nГруппа компаний FAVORIT MOTORS занимает лидирующее положение в рейтинге продаж автомобилей с пробегом по Москве и области. Это подтверждают специализированные исследования рынка за последние пять лет, указывающие на самый крупный объем реализации.\\n\\n\\n\\nВ комплектации автомобиля\\n • Тип обивки салона: Ткань\\n • Цвет салона: Темный\\n • Светодиодные дневные ходовые огни\\n • Тип фар: Галогеновые\\n • Легкосплавные диски: 16\\n • Штатная сигнализация\\n • Иммобилайзер\\n • Бортовой компьютер\\n • Система контроля давления в шинах\\n • Датчик дождя\\n • Круиз-контроль: Пассивный\\n • Обогрев лобового стекла\\n • Обогрев зеркал\\n • Усилитель руля\\n • Центральный замок\\n • Противотуманные фары\\n • Датчик света\\n • Обогрев руля\\n • Обогрев передних сидений\\n • Климат: Климат-контроль 2- зонный\\n • Электропривод зеркал\\n • Стеклоподъемники: Электро все\\n • Сиденье водителя: Ручная регулировка по высоте\\n • Сиденье пассажира: Ручная регулировка\\n • Регулировка руля: В двух плоскостях\\n • Антиблокировочная система (ABS)\\n • Антипробуксовочная система\\n • Система курсовой устойчивости\\n • Подушки безопасности: Передние и боковые\\n • Задний парковочный радар\\n • Система крепления isofix\\n • Фронтальный видеомонитор\\n • BlueTooth\\n • USB\\n • Тип открытия задней двери: Подъемная\\n • Тип передних тормозов: Дисковые\\n • Тип задних тормозов: Дисковые\\n • Тип гарантии: На гарантии'\n",
      " 'КОМПЛЕКТ ЗИМНЕЙ (ЛЕТНЕЙ) РЕЗИНЫ ПО СЕЗОНУ В ПОДАРОК!\\n\\nРАССРОЧКА НА АВТОМОБИЛИ С ПРОБЕГОМ\\nСРОК: 12-18 МЕСЯЦЕВ\\nПЕРВОНАЧАЛЬНЫЙ ВЗНОС: ОТ 0%\\nСУММА РАССРОЧКИ: ОТ 90 т.р. до 4,9 млн.р.\\n\\nОт метро Рязанский проспект бесплатный проезд до автосалона GENZES\\n\\nГарантия на автомобили различных марок сроком на 1 ГОД при общем пробеге до 150 000 км\\n-Двигатель (бензиновый или дизельный)\\n-Механическая коробка передач\\n-Автоматическая коробка передач\\n-Роботизированная коробка передач\\n-Вариатор\\n-Раздаточная коробка\\n-Редуктор заднего моста\\n-Редуктор переднего моста\\n-Радиатор системы охлаждения\\n-Радиатор кондиционера\\n\\nДополнительные комиссии отсутствуют.\\n\\nКомфортные условия выбора: бесплатный Wi-Fi, уютное кафе с клиентской зоной, большая и удобная парковка\\nВыберите подходящий автомобиль и совершите выгодную покупку в течение 1 дня!\\n\\nВсе автомобили, представленные в продаже, проходят диагностику по более 48 параметрам, с результатами диагностики Вы можете ознакомиться при осмотре автомобиля.\\n\\nПри покупке автомобиля по программе Trade-In (обмен на ваш автомобиль)  дополнительная скидка до 80 000 рублей и до 100 000 рублей при покупке автомобиля в кредит!\\n\\nПреимущества автокредитования:\\n— Ставка по кредиту от 6% годовых;\\n— Первоначальный взнос от 0%;\\n— Более 23 кредитных программ;\\n— Минимальный пакет документов – паспорт и водительское удостоверение;\\n— Срок кредита от 6 месяцев до 7 лет;\\n— Сумма кредита от 50 000 руб. до 3 000 000 рублей;\\n— Досрочное погашение без штрафов и комиссий;\\n— КАСКО – необязательно.\\n\\nАРГУМЕНТИРОВАННЫЙ ТОРГ УМЕСТЕН ТОЛЬКО ПРИ ОСМОТРЕ! ПРИГЛАШАЕМ ВАС НА БЕСПЛАТНЫЙ ТЕСТ-ДРАЙВ!\\n\\nЖдем Вас ежедневно без выходных с 9:00 до 20:00\\n2-й Вязовский проезд 12с1'\n",
      " ... 'Продаётся отличный автомобиль.'\n",
      " 'Автомобиль в идеальном состоянии . Куплен новым у официального дилера !!!\\nНе авто а леденец .\\nТО пройдены по регламенту !!!\\nОчень богатая комплектация:акустика премиум класса, климат-контроль, обогрев сидений и зеркал,биксеноновые фары,парктроники передние и задние,электрические\\nзеркала, датчик света датчик дождя\\nвсе стекло подъемники,защита двигателя, литые диски и многое другое..\\nОчень шустрый,надежный и экономичный двигатель.\\nСалон чистый, ухоженный, не прокуренный !!! Дополнительных вложений не требует.\\nБЕРЕЖНАЯ ЭКСПЛУАТАЦИЯ.\\n\\nТОРГ ПРИСУТСТВУЕТ У КАПОТА.\\n\\nНА ВОПРОСЫ ОТВЕЧУ ПО ТЕЛЕФОНУ.'\n",
      " ' Пробег реальный, состояние отличное! Авторская, очень дорогая и качественная аэрография  и больше ничего не красилось! Жидкое стекло. Любые проверки. Состояние отличное для реального пробега.  Двигатель и коробка супер. За машиной ухаживали, меняли масло каждые 9000. Салон в идеале, все работает, сел и поехал. Лето и зима R20 оригинальные.\\nрасход 10л по городу, налог 17000 по мск.\\n Торг минимальный  и  только после осмотра. Отвечать не буду на неадекватные предложения. Продам сам не спеша, помощники мимо.']\n"
     ]
    }
   ],
   "source": [
    "check_column(test, 'description')"
   ]
  },
  {
   "cell_type": "code",
   "execution_count": 26,
   "id": "4bd888f8",
   "metadata": {},
   "outputs": [],
   "source": [
    "# Удаляем блок, т.к. информации много и капаться в ней будет, возможно, не так выгодно.\n",
    "\n",
    "train.drop('description', axis = 1, inplace = True)\n",
    "train_parsed.drop('description', axis = 1, inplace = True)\n",
    "test.drop('description', axis = 1, inplace = True)"
   ]
  },
  {
   "cell_type": "markdown",
   "id": "62c36700",
   "metadata": {},
   "source": [
    "### engineDisplacement"
   ]
  },
  {
   "cell_type": "code",
   "execution_count": 27,
   "id": "c4881906",
   "metadata": {},
   "outputs": [],
   "source": [
    "train['engineDisplacement'] = train.name.apply(\n",
    "                                engineDisplacement_to_float)\n",
    "train_parsed['engineDisplacement'] = train_parsed.engineDisplacement.apply(\n",
    "                                lambda x: x.replace(\" LTR\", \"0.0 LTR\") if x == \" LTR\" else x).apply(\n",
    "                                lambda x: float(x.replace(\"LTR\", \"\")) if isinstance(x, str) else x)\n",
    "test['engineDisplacement'] = test.engineDisplacement.apply(\n",
    "                                lambda x: x.replace(\" LTR\", \"0.0 LTR\") if x == \" LTR\" else x).apply(\n",
    "                                lambda x: float(x.replace(\"LTR\", \"\")) if isinstance(x, str) else x)"
   ]
  },
  {
   "cell_type": "code",
   "execution_count": 28,
   "id": "88ad5bd0",
   "metadata": {},
   "outputs": [],
   "source": [
    "# Отсутствующие значения в train.engineDisplacement - электроавтомобили. Заменяем значения на ноль, как в test. \n",
    "train.loc[(train['engineDisplacement'].isna()) & (train['fuelType'] == 'электро'), 'engineDisplacement'] = 0.0"
   ]
  },
  {
   "cell_type": "code",
   "execution_count": 29,
   "id": "777990fe",
   "metadata": {
    "scrolled": false
   },
   "outputs": [
    {
     "name": "stdout",
     "output_type": "stream",
     "text": [
      "Пустых значений: 1\n",
      "Кол-во строк в столбце: 49309\n",
      "Тип данных столбца: float64\n",
      "\n",
      "Уникальных значений: [2.8 1.8 2.3 2.  2.6 2.2 2.5 1.9 2.1 2.4 1.6 1.3 3.3 1.4 1.2 3.2 1.5 3.1\n",
      " 3.  2.7 4.2 4.  3.9 6.3 6.  3.7 4.1 0.  3.6 5.9 5.2 2.9 5.  1.7 4.4 3.4\n",
      " 3.5 4.8 5.4 6.6 0.7 4.9 4.6 nan 4.5 5.6 4.3 4.7 5.7 1.1 3.8 1.  6.2 5.5\n",
      " 5.8 5.3]\n"
     ]
    }
   ],
   "source": [
    "check_column(train, 'engineDisplacement')"
   ]
  },
  {
   "cell_type": "code",
   "execution_count": 30,
   "id": "2edf829a",
   "metadata": {},
   "outputs": [
    {
     "name": "stdout",
     "output_type": "stream",
     "text": [
      "Пустых значений: 0\n",
      "Кол-во строк в столбце: 129986\n",
      "Тип данных столбца: float64\n",
      "\n",
      "Уникальных значений: [1.8 1.6 1.4 1.2 2.  3.6 1.5 1.9 1.3 2.8 3.  3.1 2.7 4.  2.4 2.9 4.2 2.5\n",
      " 3.2 4.1 3.7 2.3 2.2 2.6 0.  5.9 5.2 5.  2.1 6.  3.5 0.7 1.7 4.4 5.6 4.8\n",
      " 6.6 4.6 4.9 3.4 5.4 3.8 1.  3.3 4.5 5.5 4.7 6.2 5.8 4.3 5.7 1.1]\n"
     ]
    }
   ],
   "source": [
    "check_column(train_parsed, 'engineDisplacement')"
   ]
  },
  {
   "cell_type": "code",
   "execution_count": 31,
   "id": "083918da",
   "metadata": {},
   "outputs": [
    {
     "name": "stdout",
     "output_type": "stream",
     "text": [
      "Пустых значений: 0\n",
      "Кол-во строк в столбце: 34686\n",
      "Тип данных столбца: float64\n",
      "\n",
      "Уникальных значений: [1.2 1.6 1.8 2.  1.4 1.3 1.  3.6 1.5 1.9 2.8 1.1 2.5 4.2 3.  4.  5.9 2.7\n",
      " 3.1 2.4 5.2 3.2 4.1 6.3 2.3 6.  2.2 3.7 2.9 5.  3.3 2.1 2.6 0.  3.5 1.7\n",
      " 0.7 4.4 4.8 5.4 6.6 4.9 3.8 3.4 3.9 4.6 5.6 4.5 5.5 6.2 4.7 4.3 5.8 5.3\n",
      " 5.7]\n"
     ]
    }
   ],
   "source": [
    "check_column(test, 'engineDisplacement')"
   ]
  },
  {
   "cell_type": "code",
   "execution_count": 32,
   "id": "28326616",
   "metadata": {},
   "outputs": [],
   "source": [
    "train.dropna(subset = ['engineDisplacement'], axis = 0, inplace = True)"
   ]
  },
  {
   "cell_type": "markdown",
   "id": "514740f4",
   "metadata": {},
   "source": [
    "### enginePower"
   ]
  },
  {
   "cell_type": "code",
   "execution_count": 33,
   "id": "b808d38b",
   "metadata": {},
   "outputs": [],
   "source": [
    "train_parsed['enginePower'] = train_parsed['enginePower'].apply(\n",
    "    lambda x: None if x == 'undefined N12' else float(str(x).replace(' N12', '')))\n",
    "\n",
    "test['enginePower'] = test['enginePower'].apply(lambda x: float(x.split(' ')[0]))"
   ]
  },
  {
   "cell_type": "code",
   "execution_count": 34,
   "id": "88600a24",
   "metadata": {
    "scrolled": true
   },
   "outputs": [
    {
     "name": "stdout",
     "output_type": "stream",
     "text": [
      "Пустых значений: 0\n",
      "Кол-во строк в столбце: 49308\n",
      "Тип данных столбца: float64\n",
      "\n",
      "Уникальных значений: [174.  90. 136. 101. 133. 150. 115. 137. 112. 230.  70.  88. 100.  75.\n",
      " 165. 182. 170. 113.  80.  54.  60.  71. 122. 125.  61. 102. 190. 180.\n",
      " 160. 105. 140. 110. 250. 200. 130. 120. 225. 163. 211. 249. 255. 143.\n",
      " 220. 239. 265. 116. 193. 177. 240. 245. 204. 340. 300. 233. 310. 218.\n",
      " 210. 290. 333. 335. 224. 350. 155. 254. 338. 435. 372. 460. 275. 500.\n",
      " 260. 450. 420. 280. 326. 285. 408. 271. 272. 270. 238. 252. 610. 525.\n",
      " 430. 367. 605. 560. 580. 256. 354. 571. 360. 520. 400. 156. 306. 320.\n",
      " 184. 129. 258. 231. 118. 192. 286.  98. 234. 171.  46.  51. 407. 530.\n",
      " 313. 235. 381. 462. 197. 109. 609. 544. 445. 329. 188. 370. 410. 431.\n",
      " 343. 507. 600. 625. 510. 355. 269. 264. 347. 555. 575. 321. 201. 281.\n",
      " 131. 154. 152. 147. 135.  53. 215.  44. 142.  95.  92. 114.  94. 103.\n",
      " 126.  91.  85. 166. 128. 186. 162. 145. 194.  86. 124.  83.  78. 295.\n",
      " 205.  50.  65.  64.  58. 284. 257. 243. 185. 247. 242. 158. 132. 222.\n",
      " 302. 330. 307. 328. 315. 309. 303. 278. 405. 304. 221. 168. 325. 283.\n",
      " 262.  99. 214. 277. 228. 161. 317. 296. 219. 208. 292. 212. 279. 305.\n",
      " 263. 181. 380. 394. 388. 282. 294. 421. 383. 318. 477. 276. 223. 288.\n",
      " 146. 139. 117.  82.  84. 148. 175. 213. 149. 195. 144.  52.  67. 178.\n",
      "  87.  48. 203. 199. 167. 227. 121. 202. 141. 209. 169. 107.  97.  79.\n",
      "  49. 540. 485. 550.  68. 268. 248. 153. 106. 127. 173.  42.  30. 273.\n",
      "  74.  73. 159. 179. 157.  72. 151. 232. 187. 189.  96. 108. 183.  69.\n",
      "  76. 111.  77. 266.  55. 236. 241. 104.  57. 476. 557. 639. 585. 390.\n",
      " 457. 487. 517. 612. 299. 402. 514. 401. 422. 700. 800. 382. 558. 455.\n",
      " 469. 630.  32. 316. 564. 626. 591.  38.]\n"
     ]
    }
   ],
   "source": [
    "check_column(train, 'enginePower')"
   ]
  },
  {
   "cell_type": "code",
   "execution_count": 35,
   "id": "7b25b708",
   "metadata": {
    "scrolled": true
   },
   "outputs": [
    {
     "name": "stdout",
     "output_type": "stream",
     "text": [
      "Пустых значений: 0\n",
      "Кол-во строк в столбце: 129986\n",
      "Тип данных столбца: float64\n",
      "\n",
      "Уникальных значений: [180. 110.  90. 150. 105. 125. 152. 102.  70.  80. 122. 140.  86.  75.\n",
      "  68. 115. 260. 280.  64. 220. 143. 100.  58. 200.  60. 160. 170. 120.\n",
      "  54. 190.  69.  79. 101. 193. 184.  53. 249. 250. 255. 211. 340. 245.\n",
      " 225. 272. 333. 290. 204. 300. 460. 239. 310. 520. 165. 422. 130. 450.\n",
      " 372. 350. 230. 163. 233. 177. 238. 265. 435. 344. 133. 136. 270. 252.\n",
      " 600. 605. 367. 420. 354. 408.  88.  71. 500. 271. 400. 218. 210. 335.\n",
      " 571. 560. 174. 112. 144. 137. 646. 113. 610. 580. 525. 550. 231. 380.\n",
      " 320. 313. 360. 256.  93. 166. 145. 186.  83. 118. 201. 147. 155. 156.\n",
      " 142. 257.  52. 205. 132. 182. 154.  78.  98. 158. 128. 243. 162. 192.\n",
      "  91. 295. 103.  95. 275. 194. 116. 173. 281.  66. 135.  94. 188. 185.\n",
      " 109. 131.  99.  85. 141. 212.  42. 124. 248. 240. 247.  50. 215.  46.\n",
      " 175. 314.  76. 237. 197.  67.  44. 114.  82. 176. 148. 106.  92. 181.\n",
      " 235. 286. 203. 254. 315. 304. 126. 117. 407.  87. 306. 213. 285.  72.\n",
      " 111. 410. 625. 530. 258. 575. 326. 381. 370. 555. 355. 462. 431. 609.\n",
      " 129. 387. 347. 264. 510. 507. 445. 329. 635. 269. 171. 169.  49. 167.\n",
      " 107. 405. 234. 540.  65. 127. 309.  48. 157. 331. 390.  97. 221. 262.\n",
      " 222. 283. 307. 328. 302. 325. 330. 149. 284. 278. 168. 612. 585. 388.\n",
      " 455. 224. 476. 558. 544. 296. 517. 639. 421. 557. 469. 299. 394. 537.\n",
      " 591.  55. 401. 242. 481. 503. 522. 279. 183. 273. 415. 288. 236. 146.\n",
      " 199. 151. 179. 277. 178. 282.  74. 187. 223. 301.  73. 318. 266. 121.\n",
      " 276. 228. 189. 263. 317. 208. 294. 383. 417. 477. 161. 214. 292. 423.\n",
      " 226. 219. 311. 303. 305.  84. 241. 209. 227.  41. 202. 139.]\n"
     ]
    }
   ],
   "source": [
    "check_column(train_parsed, 'enginePower')"
   ]
  },
  {
   "cell_type": "code",
   "execution_count": 36,
   "id": "a238bbec",
   "metadata": {
    "scrolled": true
   },
   "outputs": [
    {
     "name": "stdout",
     "output_type": "stream",
     "text": [
      "Пустых значений: 0\n",
      "Кол-во строк в столбце: 34686\n",
      "Тип данных столбца: float64\n",
      "\n",
      "Уникальных значений: [105. 110. 152. 200. 102. 150.  90. 180. 220. 122.  70. 140. 125.  54.\n",
      "  86.  75.  64.  95. 260. 170.  80.  68. 160. 115. 280.  53.  60. 143.\n",
      "  42. 101.  58. 193.  79.  30. 100.  50. 163. 225. 420. 211. 245. 560.\n",
      " 500. 249. 450. 605. 250. 354. 120. 290. 230. 350. 204. 255. 340. 177.\n",
      " 272. 372. 210. 130. 300. 190. 239. 435. 333. 271. 326. 238. 310. 233.\n",
      " 252. 133. 460. 520. 400. 525. 367. 265. 550. 580.  88. 165. 430. 335.\n",
      " 174. 224. 136. 256. 338. 112. 218. 360.  93. 182. 113. 240. 270. 137.\n",
      " 155.  61. 254. 116.  71. 285. 408. 166. 156. 257. 201. 162. 194. 142.\n",
      " 154. 147. 281. 243. 118. 128.  91.  83. 205. 247. 188. 295. 275.  78.\n",
      " 109.  94. 185. 258. 145. 132. 135.  52.  66. 124.  98. 215. 158.  99.\n",
      " 103. 131. 126. 235. 181. 315. 203. 231.  82. 304. 175. 320. 213. 144.\n",
      " 146. 151. 111. 286. 306. 107. 184. 313. 264. 575. 407. 192. 129. 555.\n",
      " 625. 329. 370. 381. 269. 600. 510. 544. 462. 355. 507. 609. 431. 530.\n",
      " 387. 610. 197. 343. 445. 171.  51.  46. 347. 321. 167. 141. 169. 405.\n",
      " 117. 114. 173. 234. 540. 106.  49. 248. 317. 309.  97. 121. 268. 149.\n",
      "  87.  85.  65.  67. 127. 485. 186. 222. 307. 262. 302. 284. 325. 168.\n",
      " 221. 330. 283. 328. 303. 278. 388. 571. 585. 612. 401. 279. 455. 382.\n",
      " 557. 517. 394. 422. 292. 469. 522. 296. 639. 390. 476. 630. 402. 487.\n",
      " 558. 421. 316. 514. 457. 626. 242.  38.  32. 223.  72. 305. 183. 273.\n",
      " 159.  76. 148. 179.  73. 277. 282. 178. 288. 199. 266.  92.  74. 324.\n",
      " 232. 157.  69. 212. 276. 202.  77. 164.  96.  84. 228. 108. 208. 263.\n",
      " 294. 318. 380. 219. 214. 383. 241.  57.  55. 104.  48.  40.  44. 227.\n",
      " 139. 209. 195. 189. 480. 591. 301.]\n"
     ]
    }
   ],
   "source": [
    "check_column(test, 'enginePower')"
   ]
  },
  {
   "cell_type": "code",
   "execution_count": 37,
   "id": "c657eadc",
   "metadata": {},
   "outputs": [],
   "source": [
    "train_parsed.dropna(subset = ['enginePower'], axis = 0, inplace = True)"
   ]
  },
  {
   "cell_type": "markdown",
   "id": "432c17c3",
   "metadata": {},
   "source": [
    "### fuelType"
   ]
  },
  {
   "cell_type": "code",
   "execution_count": 38,
   "id": "0d4e5c6b",
   "metadata": {},
   "outputs": [
    {
     "name": "stdout",
     "output_type": "stream",
     "text": [
      "Пустых значений: 0\n",
      "Кол-во строк в столбце: 49308\n",
      "Тип данных столбца: object\n",
      "\n",
      "Уникальных значений: ['бензин' 'дизель' 'электро' 'гибрид' 'газ']\n"
     ]
    }
   ],
   "source": [
    "check_column(train, 'fuelType')"
   ]
  },
  {
   "cell_type": "code",
   "execution_count": 39,
   "id": "3fe20d3b",
   "metadata": {},
   "outputs": [
    {
     "name": "stdout",
     "output_type": "stream",
     "text": [
      "Пустых значений: 0\n",
      "Кол-во строк в столбце: 129986\n",
      "Тип данных столбца: object\n",
      "\n",
      "Уникальных значений: ['бензин' 'дизель' 'электро' 'гибрид' 'газ']\n"
     ]
    }
   ],
   "source": [
    "check_column(train_parsed, 'fuelType')"
   ]
  },
  {
   "cell_type": "code",
   "execution_count": 40,
   "id": "9a89d126",
   "metadata": {},
   "outputs": [
    {
     "name": "stdout",
     "output_type": "stream",
     "text": [
      "Пустых значений: 0\n",
      "Кол-во строк в столбце: 34686\n",
      "Тип данных столбца: object\n",
      "\n",
      "Уникальных значений: ['бензин' 'дизель' 'гибрид' 'электро' 'газ']\n"
     ]
    }
   ],
   "source": [
    "check_column(test, 'fuelType')"
   ]
  },
  {
   "cell_type": "markdown",
   "id": "bc8e7152",
   "metadata": {},
   "source": [
    "### hidden"
   ]
  },
  {
   "cell_type": "code",
   "execution_count": 41,
   "id": "ce46e7eb",
   "metadata": {},
   "outputs": [
    {
     "name": "stdout",
     "output_type": "stream",
     "text": [
      "Пустых значений: 49308\n",
      "Кол-во строк в столбце: 49308\n",
      "Тип данных столбца: float64\n",
      "\n",
      "Уникальных значений: [nan]\n"
     ]
    }
   ],
   "source": [
    "check_column(train, 'hidden')"
   ]
  },
  {
   "cell_type": "code",
   "execution_count": 42,
   "id": "7d7d9094",
   "metadata": {},
   "outputs": [],
   "source": [
    "train.drop('hidden', axis = 1, inplace = True)"
   ]
  },
  {
   "cell_type": "markdown",
   "id": "90c5b9b5",
   "metadata": {},
   "source": [
    "### mileage"
   ]
  },
  {
   "cell_type": "code",
   "execution_count": 43,
   "id": "3ed4f661",
   "metadata": {},
   "outputs": [
    {
     "name": "stdout",
     "output_type": "stream",
     "text": [
      "Пустых значений: 0\n",
      "Кол-во строк в столбце: 49308\n",
      "Тип данных столбца: int64\n",
      "\n",
      "Уникальных значений: [350000 173424 230000 ... 526000  58726    520]\n"
     ]
    }
   ],
   "source": [
    "check_column(train, 'mileage')"
   ]
  },
  {
   "cell_type": "code",
   "execution_count": 44,
   "id": "00dbc0c2",
   "metadata": {},
   "outputs": [
    {
     "name": "stdout",
     "output_type": "stream",
     "text": [
      "Пустых значений: 26954\n",
      "Кол-во строк в столбце: 129986\n",
      "Тип данных столбца: float64\n",
      "\n",
      "Уникальных значений: [162026.  19210.     nan ...  89865. 112968. 162411.]\n"
     ]
    }
   ],
   "source": [
    "check_column(train_parsed, 'mileage')"
   ]
  },
  {
   "cell_type": "code",
   "execution_count": 45,
   "id": "c3aad78f",
   "metadata": {},
   "outputs": [
    {
     "name": "stdout",
     "output_type": "stream",
     "text": [
      "Пустых значений: 0\n",
      "Кол-во строк в столбце: 34686\n",
      "Тип данных столбца: int64\n",
      "\n",
      "Уникальных значений: [ 74000  60563  88000 ... 121276 212678 157965]\n"
     ]
    }
   ],
   "source": [
    "check_column(test, 'mileage')"
   ]
  },
  {
   "cell_type": "code",
   "execution_count": 46,
   "id": "28b3faa0",
   "metadata": {},
   "outputs": [],
   "source": [
    "train_parsed['mileage'] = train_parsed.mileage.fillna(0.0).astype(np.int64)"
   ]
  },
  {
   "cell_type": "code",
   "execution_count": 47,
   "id": "6a6c4ffd",
   "metadata": {},
   "outputs": [],
   "source": [
    "# Меняем значения в датасете test в столбце mileage. Т.к. 1 - не может быть.\n",
    "# Далее mileage может нам помочь в определении новое авто или с пробегом. (меняем цену подстать данным)\n",
    "# test['mileage'] = test.mileage.apply(lambda x: 0 if x == 1 else x).sort_values()"
   ]
  },
  {
   "cell_type": "markdown",
   "id": "ce88bb59",
   "metadata": {},
   "source": [
    "### model"
   ]
  },
  {
   "cell_type": "code",
   "execution_count": 48,
   "id": "7b31ca56",
   "metadata": {},
   "outputs": [],
   "source": [
    "train.rename(columns = {'model' : 'model_name'}, inplace = True)"
   ]
  },
  {
   "cell_type": "code",
   "execution_count": 49,
   "id": "b0ee1f4c",
   "metadata": {},
   "outputs": [],
   "source": [
    "# Забираем нужную информацию из test.model_info - Полное название модели: Сокращенное название\n",
    "test['model_full'] = test.model_info.apply(lambda x: re.findall(r',\"name\":\"(.+?)\",\"ru_name',x)[0])\n",
    "test['model_short'] = test.model_info.apply(lambda x: re.findall(r'code\"'\":\"'\"(.+?)\"'\",\"'\"name',x)[0])\n",
    "model_info_dict = {b:v for b,v in test.groupby(['model_full', 'model_short']).name.count().index}\n",
    "\n",
    "# Использование словаря для определения модели в train_parsed.model_name\n",
    "train_parsed['model_short'] = train_parsed.model_name.map(model_info_dict)\n",
    "\n",
    "# Удалям лишние столбцы: предыдущий model_name из train_parsed\n",
    "train_parsed.drop(['model_name'], axis = 1, inplace = True)\n",
    "\n",
    "# Удалям лишние столбцы: model_full, model_short из test\n",
    "test.drop(['model_full', 'model_short'], axis = 1, inplace = True)\n",
    "\n",
    "# Переименнуем новый столбец model_short в model_name\n",
    "train_parsed.rename(columns={'model_short': 'model_name'}, inplace=True)\n",
    "\n",
    "# Удалям лишние столбцы: model_info из train_parsed\n",
    "train_parsed.drop(['model_info'], axis = 1, inplace = True)"
   ]
  },
  {
   "cell_type": "code",
   "execution_count": 50,
   "id": "ace8cb48",
   "metadata": {
    "scrolled": true
   },
   "outputs": [
    {
     "name": "stdout",
     "output_type": "stream",
     "text": [
      "Пустых значений: 0\n",
      "Кол-во строк в столбце: 49308\n",
      "Тип данных столбца: object\n",
      "\n",
      "Уникальных значений: ['100' '200' '80' '90' '920' 'A1' 'A2' 'A3' 'A4' 'A4_ALLROAD' 'A5' 'A6'\n",
      " 'ALLROAD' 'A7' 'A8' 'COUPE' 'E_TRON' 'Q3' 'Q3_SPORTBACK' 'Q5' 'Q7' 'Q8'\n",
      " 'R8' 'RS3' 'RS4' 'RS5' 'RS6' 'RS7' 'S3' 'S4' 'S5' 'S6' 'S7' 'S8' 'SQ5'\n",
      " 'TT' 'TT_RS' 'TTS' 'V8' '02' '1ER' 'M1' '2ER' '2ACTIVETOURER'\n",
      " '2GRANDTOURER' '3ER' '321' '326' '340' '4' '5ER' '6ER' '7ER' '8ER' 'E3'\n",
      " 'I3' 'I8' 'M2' 'M3' 'M4' 'M5' 'M6' 'M8' 'X1' 'X2' 'X3' 'X3_M' 'X4' 'X5'\n",
      " 'X5_M' 'X6' 'X6_M' 'X7' 'Z1' 'Z3' 'Z3M' 'Z4' 'ACCORD' 'ACTY' 'AIRWAVE'\n",
      " 'ASCOT' 'AVANCIER' 'CITY' 'CIVIC' 'CIVIC_FERIO' 'CIVIC_TYPE_R' 'CONCERTO'\n",
      " 'CR_V' 'CR_X' 'CR_Z' 'CROSSROAD' 'CROSSTOUR' 'DOMANI' 'EDIX' 'ELEMENT'\n",
      " 'ELYSION' 'FIT' 'FR_V' 'FREED' 'HR_V' 'INSIGHT' 'INSPIRE' 'INTEGRA'\n",
      " 'JAZZ' 'LEGEND' 'LIFE' 'LOGO' 'MOBILIO' 'MOBILIO_SPIKE' 'N_BOX' 'N_ONE'\n",
      " 'N_WGN' 'ODYSSEY' 'ODYSSEY_NA' 'ORTHIA' 'PARTNER' 'PASSPORT' 'PILOT'\n",
      " 'PRELUDE' 'RAFAGA' 'RIDGELINE' 'S_MX' 'S2000' 'SABER' 'SHUTTLE'\n",
      " 'STEPWAGON' 'STREAM' 'VEZEL' 'VIGOR' 'EX' 'FX' 'G35' 'I' 'JX' 'M' 'Q'\n",
      " 'Q30' 'Q50' 'Q60' 'Q70' 'QX30' 'QX4' 'QX50' 'QX56' 'QX60' 'QX70' 'QX80'\n",
      " 'CT' 'ES' 'GS' 'GX' 'HS' 'IS' 'LS' 'LX' 'NX' 'RC' 'RC_F' 'RX' 'SC' 'UX'\n",
      " 'AIRTREK' 'ASPIRE' 'ASX' 'CARISMA' 'CHARIOT' 'COLT' 'DELICA' 'DELICA_D2'\n",
      " 'DELICA_D_5' 'DIAMANTE' 'DINGO' 'DION' 'ECLIPSE' 'ECLIPSE_CROSS'\n",
      " 'EK_WAGON' 'EMERAUDE' 'ENDEAVOR' 'FTO' 'GALANT' 'GRANDIS' 'I_MIEV' 'L200'\n",
      " 'L300' 'L400' 'LANCER' 'LANCER_CARGO' 'LANCER_EVOLUTION' 'LEGNUM'\n",
      " 'LIBERO' 'MINICA' 'MINICAB' 'MIRAGE' 'MONTERO' 'MONTERO_SPORT'\n",
      " 'OUTLANDER' 'PAJERO' 'PAJERO_IO' 'PAJERO_MINI' 'PAJERO_PININ'\n",
      " 'PAJERO_SPORT' 'RVR' 'SIGMA' 'SPACE_GEAR' 'SPACE_RUNNER' 'SPACE_STAR'\n",
      " 'SPACE_WAGON' '100NX' '180SX' '200SX' '280ZX' '350Z' 'AD' 'ALMERA'\n",
      " 'ALMERA_CLASSIC' 'ALMERA_TINO' 'ALTIMA' 'ARMADA' 'AVENIR' 'BASSARA'\n",
      " 'BLUEBIRD' 'BLUEBIRD_SYLPHY' 'CARAVAN_COACH' 'CEDRIC' 'CEFIRO'\n",
      " 'CLIPPER_RIO' 'CUBE' 'DATSUN' 'DAYZ' 'DAYZ_ROOX' 'ELGRAND' 'EXPERT'\n",
      " 'FAIRLADY_Z' 'FUGA' 'GLORIA' 'GT_R' 'JUKE' 'JUKE_NISMO' 'KIX' 'LAFESTA'\n",
      " 'LARGO' 'LAUREL' 'LEAF' 'LIBERTY' 'MARCH' 'MAXIMA' 'MICRA' 'MISTRAL'\n",
      " 'MOCO' 'MURANO' 'NAVARA' 'NOTE' 'NP300' 'CLIPPER' 'NV200' 'PAO'\n",
      " 'PATHFINDER' 'PATROL' 'PRAIRIE' 'PRESAGE' 'PRESIDENT' 'PRIMASTAR'\n",
      " 'PRIMERA' 'PULSAR' 'QASHQAI' 'QASHQAI_PLUS_2' 'QUEST' 'RNESSA' 'SAFARI'\n",
      " 'SENTRA' 'SERENA' 'SILVIA' 'SKYLINE' 'STAGEA' 'SUNNY' 'TEANA' 'TERRANO'\n",
      " 'TERRANO_REGULUS' 'TIIDA' 'TINO' 'TITAN' 'URVAN' 'VANETTE' 'WINGROAD'\n",
      " 'X_TRAIL' '100_SERIES' '120' 'FABIA' 'FABIA_RS' 'FAVORIT' 'FELICIA'\n",
      " 'KAROQ' 'KODIAQ' 'OCTAVIA' 'OCTAVIA_RS' 'POPULAR' 'RAPID' 'ROOMSTER'\n",
      " 'SUPERB' 'YETI' '4RUNNER' 'ALLEX' 'ALPHARD' 'ALTEZZA' 'AQUA' 'ARISTO'\n",
      " 'AURIS' 'AVALON' 'AVENSIS' 'AVENSIS_VERSO' 'AYGO' 'BB' 'BLADE' 'BREVIS'\n",
      " 'C_HR' 'CALDINA' 'CAMI' 'CAMRY' 'CAMRY_SOLARA' 'CARINA' 'CARINA_E'\n",
      " 'CARINA_ED' 'CAVALIER' 'CELICA' 'CELSIOR' 'CHASER' 'COROLLA'\n",
      " 'COROLLA_LEVIN' 'COROLLA_RUMION' 'COROLLA_SPACIO' 'COROLLA_VERSO'\n",
      " 'CORONA' 'CORONA_EXIV' 'CORSA' 'CRESTA' 'CROWN' 'CROWN_MAJESTA' 'CURREN'\n",
      " 'CYNOS' 'DUET' 'ECHO' 'ESQUIRE' 'ESTIMA' 'FJ_CRUISER' 'FORTUNER'\n",
      " 'FUNCARGO' 'GAIA' 'GRAND_HIACE' 'GRANVIA' 'GT86' 'HARRIER' 'HIACE'\n",
      " 'HIGHLANDER' 'HILUX' 'HILUX_SURF' 'IPSUM' 'IQ' 'ISIS' 'KLUGER'\n",
      " 'LAND_CRUISER' 'LAND_CRUISER_PRADO' 'LITE_ACE' 'MARK_II' 'MARK_X'\n",
      " 'MARK_X_ZIO' 'MASTER_ACE_SURF' 'MATRIX' 'MEGA_CRUISER' 'MR_S' 'MR2'\n",
      " 'NADIA' 'NOAH' 'OPA' 'ORIGIN' 'PASEO' 'PASSO' 'PICNIC' 'PLATZ' 'PREMIO'\n",
      " 'PREVIA' 'PRIUS' 'PRIUS_ALPHA' 'PRIUSPLUS' 'PROBOX' 'PROGRES' 'RACTIS'\n",
      " 'RAUM' 'RAV_4' 'REGIUS' 'REGIUSACE' 'ROOMY' 'SCEPTER_SEDAN' 'SEQUOIA'\n",
      " 'SERA' 'SIENNA' 'SIENTA' 'SOARER' 'SPADE' 'SPRINTER' 'SPRINTER_CARIB'\n",
      " 'SPRINTER_MARINO' 'SPRINTER_TRUENO' 'STARLET' 'SUCCEED' 'SUPRA' 'TACOMA'\n",
      " 'TERCEL' 'TOWN_ACE' 'TUNDRA' 'VANGUARD' 'VELLFIRE' 'VENZA' 'VEROSSA'\n",
      " 'VERSO' 'VERSO_S' 'VISTA' 'VITZ' 'VOXY' 'WILL' 'WINDOM' 'WISH' 'YARIS'\n",
      " 'YARIS_VERSO' 'AMAROK' 'BEETLE' 'BORA' 'CADDY' 'CALIFORNIA' 'CARAVELLE'\n",
      " 'CORRADO' 'EOS' 'EUROVAN' 'FOX' 'GOLF' 'GOLF_GTI' 'GOLF_PLUS' 'GOLF_R'\n",
      " 'JETTA' 'LUPO' 'MULTIVAN' 'PASSAT' 'PASSAT_CC' 'PHAETON' 'POINTER' 'POLO'\n",
      " 'SCIROCCO' 'SHARAN' 'TARO' 'TERAMONT' 'TIGUAN' 'TOUAREG' 'TOURAN'\n",
      " 'TRANSPORTER' 'TYPE_1' 'TYPE_2' 'TYPE_3' 'VENTO' '140' '240_SERIES' '440'\n",
      " '460' '740' '760' '850' '940' '960' 'C30' 'C70' 'S40' 'S60'\n",
      " 'S60_CROSS_COUNTRY' 'S70' 'S80' 'S90' 'V40' 'V40_CC' 'V50' 'V60'\n",
      " 'V60_CROSS_COUNTRY' 'V70' 'V90_CROSS_COUNTRY' 'XC40' 'XC60' 'XC70' 'XC90'\n",
      " 'W201' '190_SL' 'A_KLASSE' 'A_KLASSE_AMG' 'AMG_GT' 'B_KLASSE' 'C_KLASSE'\n",
      " 'C_KLASSE_AMG' 'CITAN' 'CL_KLASSE' 'CL_KLASSE_AMG' 'CLA_KLASSE'\n",
      " 'CLA_KLASSE_AMG' 'CLC_KLASSE' 'CLK_KLASSE' 'CLS_KLASSE' 'CLS_KLASSE_AMG'\n",
      " 'E_KLASSE' 'E_KLASSE_AMG' 'EQC' 'G_KLASSE' 'G_KLASSE_AMG' 'GL_KLASSE'\n",
      " 'GL_KLASSE_AMG' 'GLA_CLASS' 'GLA_CLASS_AMG' 'GLB_KLASSE' 'GLC_KLASSE'\n",
      " 'GLC_KLASSE_AMG' 'GLC_COUPE' 'AMG_GLC_COUPE' 'GLE_KLASSE'\n",
      " 'GLE_KLASSE_AMG' 'GLE_KLASSE_COUPE' 'GLE_KLASSE_COUPE_AMG' 'GLK_KLASSE'\n",
      " 'GLS_KLASSE' 'GLS_KLASSE_AMG' 'M_KLASSE' 'M_KLASSE_AMG' 'MAYBACH_GLS'\n",
      " 'S_CLASS_MAYBACH' 'R_KLASSE' 'S_KLASSE' 'S_KLASSE_AMG' 'SIMPLEX'\n",
      " 'SL_KLASSE' 'SL_KLASSE_AMG' 'SLC_KLASSE' 'SLC_KLASSE_AMG' 'SLK_KLASSE'\n",
      " 'SLK_KLASSE_AMG' 'SLR_KLASSE' 'SLS_AMG' 'V_KLASSE' 'VANEO' 'VIANO' 'VITO'\n",
      " 'W110' 'W111' 'W114' 'W123' 'W124' 'W128' 'W136' 'W186' 'W188' 'W189'\n",
      " 'X_KLASSE']\n"
     ]
    }
   ],
   "source": [
    "check_column(train, 'model_name')"
   ]
  },
  {
   "cell_type": "code",
   "execution_count": 51,
   "id": "6625a755",
   "metadata": {
    "scrolled": true
   },
   "outputs": [
    {
     "name": "stdout",
     "output_type": "stream",
     "text": [
      "Пустых значений: 27264\n",
      "Кол-во строк в столбце: 129986\n",
      "Тип данных столбца: object\n",
      "\n",
      "Уникальных значений: ['OCTAVIA' 'RAPID' nan 'KAROQ' 'YETI' 'SUPERB' 'KODIAQ' 'ROOMSTER' 'FABIA'\n",
      " 'FELICIA' 'OCTAVIA_RS' 'FABIA_RS' 'FAVORIT' '120' 'A7' 'A8' 'A6' 'Q3'\n",
      " 'Q5' 'A5' 'Q7' 'A4' 'TT' 'A3' 'S8' 'TTS' 'RS5' '80' 'Q8' 'RSQ3' 'ALLROAD'\n",
      " 'A1' 'A4_ALLROAD' 'S4' '100' '200' 'A2' 'RS6' 'RS3' 'SQ5' 'TT_RS' 'RS7'\n",
      " 'S6' 'S5' 'E_TRON' 'R8' 'V8' '90' 'RS4' 'S7' 'COUPE' 'S3' 'CR_V' 'CIVIC'\n",
      " 'ORTHIA' 'JAZZ' 'FIT' 'PILOT' 'FREED' 'ODYSSEY' 'ACCORD' 'STREAM' 'ZEST'\n",
      " 'HR_V' 'N_WGN' 'STEPWAGON' 'LEGEND' 'VEZEL' 'INTEGRA' 'SHUTTLE'\n",
      " 'CIVIC_TYPE_R' 'INSIGHT' 'SABER' 'PRELUDE' 'ELEMENT' 'AIRWAVE' 'PARTNER'\n",
      " 'CROSSTOUR' 'CIVIC_FERIO' 'TORNEO' 'N_BOX' 'LOGO' 'MOBILIO'\n",
      " 'MOBILIO_SPIKE' 'ODYSSEY_NA' 'CROSSROAD' 'FR_V' 'DOMANI' 'ASCOT'\n",
      " 'INSPIRE' 'CITY' 'ELYSION' 'AVANCIER' 'S2000' 'CR_Z' 'RIDGELINE' 'VIGOR'\n",
      " 'CR_X' 'Z' 'ACTY' 'CONCERTO' 'RAFAGA' 'XC70' 'V40_CC' 'S60' 'S80' 'S40'\n",
      " 'XC90' 'XC60' 'S90' 'XC40' 'C30' 'V90_CROSS_COUNTRY' 'V50' '940' 'V60'\n",
      " 'V60_CROSS_COUNTRY' 'V40' 'S60_CROSS_COUNTRY' '850' '460' '760' '740'\n",
      " 'C70' '960' 'S70' 'V70' '240_SERIES' '440' 'X5' 'X7' '6ER' 'X1' 'X4' 'M2'\n",
      " 'X3' '3ER' '7ER' '2ER' 'X5_M' '5ER' '8ER' 'X6' 'I3' 'M5' '4' '1ER' 'M4'\n",
      " 'X6_M' 'X2' 'M3' 'M6' '2ACTIVETOURER' 'Z4' 'X4_M' 'I8' 'Z3' 'X_TRAIL'\n",
      " 'JUKE' 'CEDRIC' 'QASHQAI' 'TEANA' 'TERRANO' 'NAVARA' 'MURANO' 'LEAF'\n",
      " 'TIIDA' 'ALMERA' 'PATHFINDER' 'DAYZ' 'PATROL' 'QASHQAI_PLUS_2' 'NOTE'\n",
      " 'MICRA' 'ALMERA_CLASSIC' 'WINGROAD' 'NP300' 'CARAVAN_COACH' 'SENTRA'\n",
      " 'MAXIMA' 'PRIMERA' 'MARCH' 'SERENA' 'JUKE_NISMO' 'LAUREL' 'CUBE' 'GT_R'\n",
      " 'BLUEBIRD' 'SUNNY' 'PULSAR' 'AD' 'BLUEBIRD_SYLPHY' 'TINO' 'PRESEA'\n",
      " 'CEFIRO' 'EXPERT' 'ELGRAND' 'PRESAGE' 'NV200' 'VANETTE' 'SKYLINE'\n",
      " 'ARMADA' 'RNESSA' 'LIBERTY' 'AVENIR' 'BASSARA' 'CLIPPER' 'ALTIMA' 'KIX'\n",
      " 'DAYZ_ROOX' 'PRAIRIE' 'GLORIA' 'LARGO' 'FX' 'QX80' 'Q70' 'QX60' 'M' 'Q50'\n",
      " 'QX50' 'EX' 'QX70' 'G35' 'QX30' 'JX' 'QX56' 'QX4' 'Q30' 'Q60' 'Q' 'I'\n",
      " 'GLE_KLASSE_COUPE' 'E_KLASSE_AMG' 'S_CLASS_MAYBACH' 'CLS_KLASSE'\n",
      " 'E_KLASSE' 'G_KLASSE' 'GLS_KLASSE_AMG' 'GLE_KLASSE' 'V_KLASSE'\n",
      " 'GLS_KLASSE' 'G_KLASSE_AMG' 'S_KLASSE' 'CLS_KLASSE_AMG' 'CLA_KLASSE'\n",
      " 'M_KLASSE' 'C_KLASSE' 'GLE_KLASSE_AMG' 'GLK_KLASSE' 'A_KLASSE'\n",
      " 'S_KLASSE_AMG' 'C_KLASSE_AMG' 'GLC_KLASSE' 'GL_KLASSE' 'W124'\n",
      " 'GLE_KLASSE_COUPE_AMG' 'MAYBACH_GLS' 'GLA_CLASS' 'A_KLASSE_AMG'\n",
      " 'B_KLASSE' 'AMG_GT' 'CLC_KLASSE' 'VIANO' 'SLK_KLASSE' 'CITAN' 'VITO'\n",
      " 'GLB_KLASSE' 'M_KLASSE_AMG' 'CLA_KLASSE_AMG' 'GLC_COUPE' 'W123'\n",
      " 'GLC_KLASSE_AMG' 'CL_KLASSE' 'R_KLASSE' 'VANEO' 'SL_KLASSE_AMG'\n",
      " 'GLA_CLASS_AMG' 'AMG_GLC_COUPE' 'W111' 'SL_KLASSE' 'W201' 'X_KLASSE'\n",
      " 'SLS_AMG' 'CL_KLASSE_AMG' 'W128' 'GL_KLASSE_AMG' 'SLC_KLASSE' 'W114'\n",
      " 'CLK_KLASSE' 'W188' 'RAV_4' 'CAMRY' 'LAND_CRUISER' 'COROLLA' 'SIENNA'\n",
      " 'HIGHLANDER' 'C_HR' 'HILUX_SURF' 'TUNDRA' 'VERSO' 'SIENTA' 'ALPHARD'\n",
      " 'HILUX' 'IQ' 'AURIS' 'LAND_CRUISER_PRADO' 'HIACE' 'WISH' 'AVENSIS'\n",
      " 'VENZA' 'PRIUS' 'FORTUNER' 'MARK_II' 'IPSUM' 'VISTA' 'NOAH' 'SPRINTER'\n",
      " '4RUNNER' 'ISIS' 'COROLLA_SPACIO' 'YARIS' 'BB' 'VITZ' 'SEQUOIA'\n",
      " 'FJ_CRUISER' 'REGIUS' 'CROWN' 'CORONA' 'COROLLA_VERSO' 'CELICA' 'RACTIS'\n",
      " 'CAMI' 'MATRIX' 'TOWN_ACE' 'CALDINA' 'ESQUIRE' 'PROGRES' 'CARINA' 'AQUA'\n",
      " 'GAIA' 'FUNCARGO' 'VOXY' 'PROBOX' 'CARINA_E' 'WINDOM' 'VELLFIRE'\n",
      " 'HARRIER' 'CHASER' 'COROLLA_LEVIN' 'PASSO' 'SPRINTER_MARINO'\n",
      " 'CAMRY_SOLARA' 'STARLET' 'PICNIC' 'PRIUS_ALPHA' 'PREMIO' 'ALTEZZA'\n",
      " 'SPADE' 'RAUM' 'PLATZ' 'CAVALIER' 'ESTIMA' 'PORTE' 'OPA' 'LITE_ACE'\n",
      " 'AVALON' 'CARINA_ED' 'CRESTA' 'ALLEX' 'VEROSSA' 'SPRINTER_CARIB'\n",
      " 'SUCCEED' 'SPRINTER_TRUENO' 'SOARER' 'LX' 'RX' 'ES' 'GS' 'IS' 'NX' 'GX'\n",
      " 'CT' 'LS' 'UX' 'SC' 'RC' 'HS' 'TOUAREG' 'TERAMONT' 'POLO' 'MULTIVAN'\n",
      " 'CADDY' 'TIGUAN' 'TRANSPORTER' 'JETTA' 'GOLF' 'PASSAT' 'GOLF_PLUS'\n",
      " 'PASSAT_CC' 'AMAROK' 'GOLF_R' 'BORA' 'CARAVELLE' 'SCIROCCO' 'TOURAN'\n",
      " 'BEETLE' 'SHARAN' 'GOLF_GTI' 'CALIFORNIA' 'PHAETON' 'EOS' 'POINTER'\n",
      " 'TYPE_1' 'ARTEON' 'L200' 'PAJERO_SPORT' 'ASX' 'LANCER' 'PAJERO' 'GALANT'\n",
      " 'OUTLANDER' 'COLT' 'ECLIPSE' 'MONTERO' 'MINICAB' 'ECLIPSE_CROSS'\n",
      " 'SPACE_WAGON' 'GRANDIS' 'AIRTREK' 'EK_WAGON' 'DELICA' 'CARISMA'\n",
      " 'PAJERO_IO' 'RVR' 'SPACE_STAR' 'PAJERO_MINI' 'MONTERO_SPORT' 'DIAMANTE'\n",
      " 'MIRAGE' 'DION' 'LANCER_EVOLUTION' 'PAJERO_PININ' 'CHARIOT'\n",
      " 'SPACE_RUNNER' 'DINGO' 'DELICA_D_5' 'ASPIRE' 'LEGNUM' 'LIBERO' 'MINICA'\n",
      " 'LANCER_RALLIART' 'L300' 'FTO' 'SPACE_GEAR' 'DELICA_D2' 'L400']\n"
     ]
    }
   ],
   "source": [
    "check_column(train_parsed, 'model_name')"
   ]
  },
  {
   "cell_type": "code",
   "execution_count": 52,
   "id": "fd45ea44",
   "metadata": {
    "scrolled": true
   },
   "outputs": [
    {
     "name": "stdout",
     "output_type": "stream",
     "text": [
      "Пустых значений: 0\n",
      "Кол-во строк в столбце: 34686\n",
      "Тип данных столбца: object\n",
      "\n",
      "Уникальных значений: ['OCTAVIA' 'SUPERB' 'OCTAVIA_RS' 'YETI' 'KODIAQ' 'RAPID' 'FABIA'\n",
      " 'ROOMSTER' 'FELICIA' 'KAROQ' 'FABIA_RS' '120' '100_SERIES' 'FAVORIT'\n",
      " 'POPULAR' 'Q5' 'R8' 'Q7' 'Q3' 'A4' 'A3' 'A5' 'A6' 'RS7' 'S6' 'RS6'\n",
      " 'ALLROAD' 'TT' 'S5' 'S8' 'A1' 'A8' '80' 'A7' 'RSQ3' 'RS3' 'A4_ALLROAD'\n",
      " 'Q8' '100' 'SQ5' 'S4' 'TT_RS' 'RS4' 'S7' 'RS5' '90' 'COUPE' 'A2' 'TTS'\n",
      " '920' 'S3' '200' 'V8' 'E_TRON' 'CR_V' 'ACCORD' 'PILOT' 'CIVIC' 'ODYSSEY'\n",
      " 'STREAM' 'CROSSTOUR' 'ELYSION' 'ELEMENT' 'RIDGELINE' 'FIT' 'HR_V'\n",
      " 'SHUTTLE' 'FREED' 'ODYSSEY_NA' 'JAZZ' 'Z' 'CIVIC_FERIO' 'S2000' 'CR_Z'\n",
      " 'LEGEND' 'STEPWAGON' 'CIVIC_TYPE_R' 'FR_V' 'CR_X' 'PRELUDE'\n",
      " 'MOBILIO_SPIKE' 'N_BOX' 'ZEST' 'INTEGRA' 'INSPIRE' 'VEZEL' 'N_WGN'\n",
      " 'ASCOT' 'LOGO' 'ACTY' 'CONCERTO' 'AVANCIER' 'SABER' 'MOBILIO' 'CROSSROAD'\n",
      " 'INSIGHT' 'TORNEO' 'AIRWAVE' 'DOMANI' 'RAFAGA' 'CITY' 'VIGOR' 'ORTHIA'\n",
      " 'PARTNER' 'V60_CROSS_COUNTRY' 'XC40' 'XC60' 'C30' 'V50' 'XC90'\n",
      " 'V90_CROSS_COUNTRY' 'S60' 'XC70' 'V40_CC' 'S40' 'S90' 'V40' '240_SERIES'\n",
      " 'S80' 'V70' 'S60_CROSS_COUNTRY' '940' '740' '850' 'V60' 'S70' 'C70' '760'\n",
      " '960' '460' '440' '140' 'X5' 'X6' 'X7' 'X3' '5ER' 'X2' 'Z4' 'X1' '6ER'\n",
      " '7ER' 'X5_M' 'M5' '1ER' '3ER' 'X6_M' '4' 'X4' 'M2' 'M6' 'X4_M' '8ER' 'I8'\n",
      " 'I3' '2ER' 'M3' 'M1' 'M4' 'X3_M' '2GRANDTOURER' 'Z1' '2ACTIVETOURER' '02'\n",
      " 'Z3' 'E3' '340' '321' 'Z3M' '326' 'PATROL' 'TEANA' 'QASHQAI' 'AVENIR'\n",
      " 'X_TRAIL' 'MURANO' 'MAXIMA' 'NAVARA' 'PATHFINDER' 'NOTE' 'TIIDA' 'JUKE'\n",
      " 'TERRANO' 'ALMERA_CLASSIC' 'PRIMERA' 'SKYLINE' 'ALMERA' 'QASHQAI_PLUS_2'\n",
      " 'SERENA' 'AD' 'MICRA' 'LEAF' 'GT_R' 'MARCH' 'SENTRA' 'BLUEBIRD_SYLPHY'\n",
      " 'PRESAGE' 'ALTIMA' 'NP300' 'CLIPPER' 'PRAIRIE' 'ALMERA_TINO' 'DAYZ'\n",
      " 'FAIRLADY_Z' 'QUEST' 'SILVIA' 'ARMADA' '350Z' 'NV200' 'JUKE_NISMO'\n",
      " 'STAGEA' '280ZX' 'ELGRAND' '300ZX' 'CEFIRO' 'PRESIDENT' 'CUBE' 'PULSAR'\n",
      " 'BLUEBIRD' 'FUGA' 'LAUREL' 'WINGROAD' 'CARAVAN_COACH' 'DATSUN' 'GLORIA'\n",
      " 'EXPERT' '100NX' 'SAFARI' 'LIBERTY' 'CEDRIC' 'VANETTE' 'SUNNY' 'OTTI'\n",
      " 'DAYZ_ROOX' 'PRESEA' 'BASSARA' 'TERRANO_REGULUS' 'RNESSA' 'TINO' '200SX'\n",
      " 'LAFESTA' 'KIX' 'LARGO' 'URVAN' 'JX' 'FX' 'G35' 'Q50' 'QX56' 'QX50'\n",
      " 'QX80' 'EX' 'Q70' 'QX70' 'QX60' 'M' 'QX4' 'Q30' 'QX30' 'Q60' 'Q' 'I'\n",
      " 'V_KLASSE' 'C_KLASSE' 'GLE_KLASSE' 'E_KLASSE' 'S_KLASSE' 'GLA_CLASS'\n",
      " 'SLK_KLASSE' 'SLS_AMG' 'G_KLASSE_AMG' 'GLE_KLASSE_COUPE' 'M_KLASSE_AMG'\n",
      " 'E_KLASSE_AMG' 'GLC_KLASSE' 'CLA_KLASSE' 'GL_KLASSE' 'B_KLASSE'\n",
      " 'A_KLASSE' 'GLS_KLASSE' 'GLK_KLASSE' 'M_KLASSE' 'W124' 'VIANO' 'VITO'\n",
      " 'G_KLASSE' 'S_CLASS_MAYBACH' 'C_KLASSE_AMG' 'CLC_KLASSE' 'CLK_KLASSE'\n",
      " 'GL_KLASSE_AMG' 'GLC_COUPE' 'CLS_KLASSE' 'S_KLASSE_AMG'\n",
      " 'GLE_KLASSE_COUPE_AMG' 'AMG_GT' 'W201' 'CLA_KLASSE_AMG' 'SL_KLASSE'\n",
      " 'GLS_KLASSE_AMG' 'CL_KLASSE' 'R_KLASSE' 'GLE_KLASSE_AMG' 'CLS_KLASSE_AMG'\n",
      " 'SL_KLASSE_AMG' 'A_KLASSE_AMG' 'W111' 'W128' 'GLC_KLASSE_AMG'\n",
      " 'SLC_KLASSE' 'GLB_KLASSE' 'GLA_CLASS_AMG' 'AMG_GLC_COUPE' 'X_KLASSE'\n",
      " 'CL_KLASSE_AMG' 'MAYBACH_GLS' 'SLR_KLASSE' 'VANEO' 'W123' 'CITAN' 'W136'\n",
      " 'SIMPLEX' 'W114' '190_SL' 'W186' 'W188' 'CAMRY' 'RAV_4' 'AVENSIS' 'GT86'\n",
      " 'LAND_CRUISER' 'COROLLA' 'LAND_CRUISER_PRADO' 'MATRIX' '4RUNNER'\n",
      " 'SEQUOIA' 'HIGHLANDER' 'CROWN' 'HILUX' 'HILUX_SURF' 'ISIS' 'AURIS' 'VITZ'\n",
      " 'PRIUS' 'YARIS' 'CARINA' 'CHASER' 'ESTIMA' 'ESQUIRE' 'VERSO' 'ECHO'\n",
      " 'TOWN_ACE' 'FJ_CRUISER' 'VENZA' 'TUNDRA' 'SIENNA' 'BB' 'AQUA' 'IQ'\n",
      " 'CALDINA' 'FORTUNER' 'ALPHARD' 'SUPRA' 'C_HR' 'MARK_II' 'CELICA' 'SOARER'\n",
      " 'SERA' 'MARK_X' 'SPRINTER_TRUENO' 'CAMRY_SOLARA' 'VOXY' 'CROWN_MAJESTA'\n",
      " 'ALTEZZA' 'MR2' 'AVENSIS_VERSO' 'ARISTO' 'HARRIER' 'HIACE' 'VERSO_S'\n",
      " 'VELLFIRE' 'COROLLA_VERSO' 'REGIUS' 'IPSUM' 'CRESTA' 'MR_S' 'YARIS_VERSO'\n",
      " 'NOAH' 'LITE_ACE' 'BLADE' 'PICNIC' 'COROLLA_SPACIO' 'CARINA_ED'\n",
      " 'COROLLA_LEVIN' 'COROLLA_RUMION' 'GRAND_HIACE' 'CARINA_E' 'ORIGIN' 'AYGO'\n",
      " 'STARLET' 'VANGUARD' 'WISH' 'PROBOX' 'CURREN' 'VEROSSA' 'SIENTA'\n",
      " 'SCEPTER_SEDAN' 'FUNCARGO' 'PROGRES' 'PASSO' 'OPA' 'SPARKY' 'SUCCEED'\n",
      " 'PREMIO' 'PREVIA' 'WINDOM' 'ALLEX' 'CORONA' 'SPRINTER_CARIB' 'SPADE'\n",
      " 'AVALON' 'TERCEL' 'CYNOS' 'PRIUS_ALPHA' 'SPRINTER' 'MASTER_ACE_SURF'\n",
      " 'SPRINTER_MARINO' 'CAMI' 'COROLLA_II' 'CORSA' 'RAUM' 'VISTA'\n",
      " 'CORONA_EXIV' 'MEGA_CRUISER' 'MARK_X_ZIO' 'PRIUSPLUS' 'IST' 'GRANVIA'\n",
      " 'GAIA' 'CAVALIER' 'DUET' 'RACTIS' 'NADIA' 'PORTE' 'LS' 'GS' 'ES' 'IS'\n",
      " 'LX' 'RX' 'NX' 'GX' 'UX' 'CT' 'LM' 'RC' 'HS' 'SC' 'TOUAREG' 'TIGUAN'\n",
      " 'PASSAT' 'AMAROK' 'POLO' 'CADDY' 'PASSAT_CC' 'JETTA' 'TRANSPORTER'\n",
      " 'SCIROCCO' 'GOLF' 'TOURAN' 'CARAVELLE' 'MULTIVAN' 'SHARAN' 'GOLF_PLUS'\n",
      " 'TERAMONT' 'VENTO' 'ARTEON' 'PHAETON' 'GOLF_GTI' 'BEETLE' 'EUROVAN'\n",
      " 'CALIFORNIA' 'GOLF_R' 'CORRADO' 'GOLF_R32' 'EOS' 'BORA' 'POLO_GTI' 'LUPO'\n",
      " 'TYPE_1' 'POINTER' 'FOX' 'TARO' 'PAJERO_SPORT' 'OUTLANDER' 'L200'\n",
      " 'MONTERO' 'LANCER' 'PAJERO' 'MONTERO_SPORT' 'GALANT' 'PAJERO_MINI'\n",
      " 'PAJERO_IO' 'ASX' 'COLT' 'CARISMA' 'SPACE_STAR' 'PAJERO_PININ' 'FTO'\n",
      " 'LANCER_EVOLUTION' 'GRANDIS' 'ECLIPSE_CROSS' 'ECLIPSE' 'MINICAB'\n",
      " 'DELICA_D_5' 'ENDEAVOR' 'DELICA' 'I_MIEV' 'SPACE_WAGON' 'LANCER_RALLIART'\n",
      " 'LEGNUM' 'AIRTREK' 'SPACE_GEAR' 'DELICA_D2' 'L300' 'SIGMA' 'DIAMANTE'\n",
      " 'L400' 'MIRAGE' 'DINGO' 'SPACE_RUNNER' 'CHARIOT' 'EK_WAGON' 'RVR'\n",
      " 'LIBERO' 'DION' 'EMERAUDE' 'ASPIRE' 'MINICA' 'ATLAS' 'WILL_CYPHA' 'PASEO'\n",
      " 'WILL' 'PLATZ']\n"
     ]
    }
   ],
   "source": [
    "check_column(test, 'model_name')"
   ]
  },
  {
   "cell_type": "code",
   "execution_count": 53,
   "id": "8d1af6f1",
   "metadata": {},
   "outputs": [
    {
     "data": {
      "text/plain": [
       "False    102722\n",
       "True      27264\n",
       "Name: model_name, dtype: int64"
      ]
     },
     "execution_count": 53,
     "metadata": {},
     "output_type": "execute_result"
    }
   ],
   "source": [
    "train_parsed.model_name.isna().value_counts()"
   ]
  },
  {
   "cell_type": "code",
   "execution_count": 54,
   "id": "5af116e4",
   "metadata": {},
   "outputs": [],
   "source": [
    "# Сохраняем все доступные уникальные значения из \n",
    "#available_model_names = list(train_parsed.model_name.str.lower().unique())\n",
    "\n",
    "available_model_names = list(train.model_name.append(\n",
    "                        [train_parsed['model_name'], test['model_name']]).reset_index(drop=True).str.lower().unique())"
   ]
  },
  {
   "cell_type": "code",
   "execution_count": 55,
   "id": "a6b6791a",
   "metadata": {},
   "outputs": [],
   "source": [
    "train_parsed.loc[train_parsed.model_name.isna(), 'model_name'] = train_parsed[train_parsed.model_name.isna()].name.apply(\n",
    "     lambda x: fill_model_name(available_model_names, x))\n",
    "train_parsed.model_name = train_parsed.model_name.str.lower().str.replace('_', ' ')"
   ]
  },
  {
   "cell_type": "code",
   "execution_count": 56,
   "id": "83f705ea",
   "metadata": {},
   "outputs": [
    {
     "data": {
      "text/plain": [
       "False    119897\n",
       "True      10089\n",
       "Name: model_name, dtype: int64"
      ]
     },
     "execution_count": 56,
     "metadata": {},
     "output_type": "execute_result"
    }
   ],
   "source": [
    "train_parsed.model_name.isna().value_counts()"
   ]
  },
  {
   "cell_type": "code",
   "execution_count": 57,
   "id": "89e4e608",
   "metadata": {},
   "outputs": [],
   "source": [
    "#train_parsed['model_name'].fillna('Unknown', inplace = True)"
   ]
  },
  {
   "cell_type": "code",
   "execution_count": 58,
   "id": "ce6bfb46",
   "metadata": {},
   "outputs": [],
   "source": [
    "#train_parsed.dropna(subset = ['model_name'], axis = 0, inplace = True)"
   ]
  },
  {
   "cell_type": "markdown",
   "id": "52417744",
   "metadata": {},
   "source": [
    "### modelDate"
   ]
  },
  {
   "cell_type": "code",
   "execution_count": 59,
   "id": "dec4f247",
   "metadata": {},
   "outputs": [
    {
     "name": "stdout",
     "output_type": "stream",
     "text": [
      "Пустых значений: 0\n",
      "Кол-во строк в столбце: 49308\n",
      "Тип данных столбца: float64\n",
      "\n",
      "Уникальных значений: [1990. 1982. 1988. 1976. 1983. 1979. 1986. 1991. 1978. 1987. 1992. 1938.\n",
      " 2010. 2014. 2000. 2016. 2004. 2012. 2008. 1996. 2003. 2015. 2011. 2007.\n",
      " 1999. 1994. 2009. 2018. 2001. 1997. 2006. 2019. 2013. 2017. 2002. 2005.\n",
      " 1980. 1984. 1998. 1966. 1975. 1937. 1936. 1949. 2020. 1995. 1981. 1972.\n",
      " 1977. 1989. 1968. 1993. 1985. 1973. 1969. 1934. 1960. 1974. 1950. 1961.\n",
      " 1955. 1965. 1904. 1963. 1971. 1959. 1958. 1951. 1957.]\n"
     ]
    }
   ],
   "source": [
    "check_column(train, 'modelDate')"
   ]
  },
  {
   "cell_type": "code",
   "execution_count": 60,
   "id": "b23c9aa3",
   "metadata": {},
   "outputs": [
    {
     "name": "stdout",
     "output_type": "stream",
     "text": [
      "Пустых значений: 0\n",
      "Кол-во строк в столбце: 129986\n",
      "Тип данных столбца: float64\n",
      "\n",
      "Уникальных значений: [2013. 2020. 2017. 2012. 2008. 2016. 2010. 2009. 2015. 2019. 2007. 2000.\n",
      " 2004. 1999. 2014. 1996. 2006. 1994. 1998. 2001. 1989. 1976. 2018. 2011.\n",
      " 1997. 1986. 2005. 1990. 1988. 1991. 1982. 1978. 2003. 2002. 1983. 1987.\n",
      " 1979. 1984. 1995. 1993. 1985. 1992. 1981. 1974. 1975. 2021. 1980. 1959.\n",
      " 1958. 1968. 1951. 1938. 1953.]\n"
     ]
    }
   ],
   "source": [
    "check_column(train_parsed, 'modelDate')"
   ]
  },
  {
   "cell_type": "code",
   "execution_count": 61,
   "id": "36ef233f",
   "metadata": {},
   "outputs": [
    {
     "name": "stdout",
     "output_type": "stream",
     "text": [
      "Пустых значений: 0\n",
      "Кол-во строк в столбце: 34686\n",
      "Тип данных столбца: int64\n",
      "\n",
      "Уникальных значений: [2013 2017 2008 2009 2016 2012 2015 2010 2006 2000 2007 1994 2004 1999\n",
      " 2005 1976 2001 1969 1996 1998 1989 1934 2014 2011 2018 1986 1997 1990\n",
      " 2019 2002 1991 1987 1980 1982 1938 1988 2003 1983 1978 1979 1984 1992\n",
      " 1995 1993 1985 1974 1966 1977 1981 1972 1968 1975 1949 1937 1936 1973\n",
      " 1959 1958 2020 1965 1971 1904 1963 1955 1951 1960]\n"
     ]
    }
   ],
   "source": [
    "check_column(test, 'modelDate')"
   ]
  },
  {
   "cell_type": "code",
   "execution_count": 62,
   "id": "9eb44dd7",
   "metadata": {},
   "outputs": [],
   "source": [
    "test['modelDate'] = test['modelDate'].astype(float)"
   ]
  },
  {
   "cell_type": "markdown",
   "id": "69db9ddb",
   "metadata": {},
   "source": [
    "### complectation_dict"
   ]
  },
  {
   "cell_type": "code",
   "execution_count": 63,
   "id": "b4a8dd30",
   "metadata": {},
   "outputs": [
    {
     "name": "stdout",
     "output_type": "stream",
     "text": [
      "Пустых значений: 0\n",
      "Кол-во строк в столбце: 49308\n",
      "Тип данных столбца: object\n",
      "\n",
      "Уникальных значений: [\"{'id': '0'}\"\n",
      " \"{'id': '20717199', 'name': 'Basis', 'available_options': ['sport-seats', 'multi-wheel', 'heated-wash-system', 'airbag-passenger', 'lock', 'door-sill-panel', 'electro-mirrors', 'mirrors-heat', 'start-stop-function', 'computer', 'seat-transformation', 'wheel-power', 'fabric-seats', 'airbag-side', 'abs', 'wheel-leather', 'climate-control-1', 'esp', 'audiopreparation', 'front-centre-armrest', 'electro-window-back', '16-inch-wheels', 'condition', 'airbag-driver', 'isofix', 'electro-window-front', 'light-sensor', 'airbag-curtain', 'leather-gear-stick', 'rain-sensor', 'tyre-pressure', 'audiosystem-cd', 'front-seats-heat', 'wheel-configuration2', 'wheel-configuration1', 'immo', '12v-socket', 'third-rear-headrest'], 'vendor_colors': [{'body_color_id': 20617588, 'mark_color_id': 21386826, 'name_ru': 'Mythos black', 'hex_codes': ['010101'], 'color_type': 'METALLIC', 'stock_color': {'hex_code': '040001', 'name_ru': 'черный'}, 'photos': [{'name': '34-front', 'sizes': {'orig': '//avatars.mds.yandex.net/get-verba/787013/2a000001609d03d0f2f54eec64533a0363c4/orig', 'wizardv3mr': '//avatars.mds.yandex.net/get-verba/787013/2a000001609d03d0f2f54eec64533a0363c4/wizardv3mr', 'wizardv3': '//avatars.mds.yandex.net/get-verba/787013/2a000001609d03d0f2f54eec64533a0363c4/wizardv3', 'cattouch': '//avatars.mds.yandex.net/get-verba/787013/2a000001609d03d0f2f54eec64533a0363c4/cattouch', 'small': '//avatars.mds.yandex.net/get-verba/787013/2a000001609d03d0f2f54eec64533a0363c4/small', '320x240': '//avatars.mds.yandex.net/get-verba/787013/2a000001609d03d0f2f54eec64533a0363c4/320x240', '1200x900': '//avatars.mds.yandex.net/get-verba/787013/2a000001609d03d0f2f54eec64533a0363c4/1200x900', '1200x900n': '//avatars.mds.yandex.net/get-verba/787013/2a000001609d03d0f2f54eec64533a0363c4/1200x900n', 'thumb_m': '//avatars.mds.yandex.net/get-verba/787013/2a000001609d03d0f2f54eec64533a0363c4/thumb_m', 'full': '//avatars.mds.yandex.net/get-verba/787013/2a000001609d03d0f2f54eec64533a0363c4/full', '832x624': '//avatars.mds.yandex.net/get-verba/787013/2a000001609d03d0f2f54eec64533a0363c4/832x624', '456x342': '//avatars.mds.yandex.net/get-verba/787013/2a000001609d03d0f2f54eec64533a0363c4/456x342', '120x90': '//avatars.mds.yandex.net/get-verba/787013/2a000001609d03d0f2f54eec64533a0363c4/120x90', '92x69': '//avatars.mds.yandex.net/get-verba/787013/2a000001609d03d0f2f54eec64533a0363c4/92x69', 'islandoff': '//avatars.mds.yandex.net/get-verba/787013/2a000001609d03d0f2f54eec64533a0363c4/islandoff', 'thumb_s': '//avatars.mds.yandex.net/get-verba/787013/2a000001609d03d0f2f54eec64533a0363c4/thumb_s', 'thumb_s_2x': '//avatars.mds.yandex.net/get-verba/787013/2a000001609d03d0f2f54eec64533a0363c4/thumb_s_2x'}}, {'name': '34-back', 'sizes': {'orig': '//avatars.mds.yandex.net/get-verba/787013/2a000001609ce386d74c59c3d65a1d657cab/orig', 'wizardv3mr': '//avatars.mds.yandex.net/get-verba/787013/2a000001609ce386d74c59c3d65a1d657cab/wizardv3mr', 'wizardv3': '//avatars.mds.yandex.net/get-verba/787013/2a000001609ce386d74c59c3d65a1d657cab/wizardv3', 'cattouch': '//avatars.mds.yandex.net/get-verba/787013/2a000001609ce386d74c59c3d65a1d657cab/cattouch', 'small': '//avatars.mds.yandex.net/get-verba/787013/2a000001609ce386d74c59c3d65a1d657cab/small', '320x240': '//avatars.mds.yandex.net/get-verba/787013/2a000001609ce386d74c59c3d65a1d657cab/320x240', '1200x900': '//avatars.mds.yandex.net/get-verba/787013/2a000001609ce386d74c59c3d65a1d657cab/1200x900', '1200x900n': '//avatars.mds.yandex.net/get-verba/787013/2a000001609ce386d74c59c3d65a1d657cab/1200x900n', 'thumb_m': '//avatars.mds.yandex.net/get-verba/787013/2a000001609ce386d74c59c3d65a1d657cab/thumb_m', 'full': '//avatars.mds.yandex.net/get-verba/787013/2a000001609ce386d74c59c3d65a1d657cab/full', '832x624': '//avatars.mds.yandex.net/get-verba/787013/2a000001609ce386d74c59c3d65a1d657cab/832x624', '456x342': '//avatars.mds.yandex.net/get-verba/787013/2a000001609ce386d74c59c3d65a1d657cab/456x342', '120x90': '//avatars.mds.yandex.net/get-verba/787013/2a000001609ce386d74c59c3d65a1d657cab/120x90', '92x69': '//avatars.mds.yandex.net/get-verba/787013/2a000001609ce386d74c59c3d65a1d657cab/92x69', 'islandoff': '//avatars.mds.yandex.net/get-verba/787013/2a000001609ce386d74c59c3d65a1d657cab/islandoff', 'thumb_s': '//avatars.mds.yandex.net/get-verba/787013/2a000001609ce386d74c59c3d65a1d657cab/thumb_s', 'thumb_s_2x': '//avatars.mds.yandex.net/get-verba/787013/2a000001609ce386d74c59c3d65a1d657cab/thumb_s_2x'}}, {'name': 'side', 'sizes': {'orig': '//avatars.mds.yandex.net/get-verba/787013/2a000001609d3e6aac7f658c2507e7fff50f/orig', 'wizardv3mr': '//avatars.mds.yandex.net/get-verba/787013/2a000001609d3e6aac7f658c2507e7fff50f/wizardv3mr', 'wizardv3': '//avatars.mds.yandex.net/get-verba/787013/2a000001609d3e6aac7f658c2507e7fff50f/wizardv3', 'cattouch': '//avatars.mds.yandex.net/get-verba/787013/2a000001609d3e6aac7f658c2507e7fff50f/cattouch', 'small': '//avatars.mds.yandex.net/get-verba/787013/2a000001609d3e6aac7f658c2507e7fff50f/small', '320x240': '//avatars.mds.yandex.net/get-verba/787013/2a000001609d3e6aac7f658c2507e7fff50f/320x240', '1200x900': '//avatars.mds.yandex.net/get-verba/787013/2a000001609d3e6aac7f658c2507e7fff50f/1200x900', '1200x900n': '//avatars.mds.yandex.net/get-verba/787013/2a000001609d3e6aac7f658c2507e7fff50f/1200x900n', 'thumb_m': '//avatars.mds.yandex.net/get-verba/787013/2a000001609d3e6aac7f658c2507e7fff50f/thumb_m', 'full': '//avatars.mds.yandex.net/get-verba/787013/2a000001609d3e6aac7f658c2507e7fff50f/full', '832x624': '//avatars.mds.yandex.net/get-verba/787013/2a000001609d3e6aac7f658c2507e7fff50f/832x624', '456x342': '//avatars.mds.yandex.net/get-verba/787013/2a000001609d3e6aac7f658c2507e7fff50f/456x342', '120x90': '//avatars.mds.yandex.net/get-verba/787013/2a000001609d3e6aac7f658c2507e7fff50f/120x90', '92x69': '//avatars.mds.yandex.net/get-verba/787013/2a000001609d3e6aac7f658c2507e7fff50f/92x69', 'islandoff': '//avatars.mds.yandex.net/get-verba/787013/2a000001609d3e6aac7f658c2507e7fff50f/islandoff', 'thumb_s': '//avatars.mds.yandex.net/get-verba/787013/2a000001609d3e6aac7f658c2507e7fff50f/thumb_s', 'thumb_s_2x': '//avatars.mds.yandex.net/get-verba/787013/2a000001609d3e6aac7f658c2507e7fff50f/thumb_s_2x'}}], 'main_color': False}]}\"\n",
      " \"{'id': '7979583', 'name': 'Ambition', 'available_options': ['sport-seats', 'heated-wash-system', 'airbag-passenger', 'roof-rails', 'lock', 'electro-mirrors', 'mirrors-heat', 'start-stop-function', 'computer', 'seat-transformation', 'wheel-power', 'fabric-seats', 'airbag-side', 'abs', 'wheel-leather', 'esp', 'audiopreparation', 'electro-window-back', '16-inch-wheels', 'condition', 'airbag-driver', 'isofix', 'electro-window-front', 'airbag-curtain', 'ptf', 'audiosystem-cd', 'front-seats-heat', 'wheel-configuration2', 'wheel-configuration1', 'immo', 'third-rear-headrest']}\"\n",
      " ...\n",
      " \"{'id': '21624291', 'name': 'Tourer Style', 'available_options': ['cruise-control', 'multi-wheel', 'heated-wash-system', 'airbag-passenger', 'roof-rails', 'bas', 'lock', 'electro-mirrors', 'mirrors-heat', 'glonass', 'drowsy-driver-alert-system', 'passenger-seat-updown', 'computer', 'fabric-seats', 'airbag-side', 'abs', 'wheel-leather', 'third-row-seats', 'climate-control-2', 'asr', 'esp', 'adaptive-light', 'usb', 'spare-wheel', 'front-centre-armrest', 'rear-camera', 'servo', 'electro-window-back', '17-inch-wheels', 'park-assist-f', 'led-lights', 'park-assist-r', 'airbag-driver', 'isofix', 'aux', 'electro-window-front', 'light-sensor', 'hcc', 'airbag-curtain', 'paint-metallic', 'rain-sensor', 'tyre-pressure', 'audiosystem-cd', 'front-seats-heat', 'bluetooth', 'wheel-configuration2', 'wheel-configuration1', 'immo', '12v-socket', 'third-rear-headrest'], 'vendor_colors': [{'body_color_id': 21601329, 'mark_color_id': 21389960, 'name_ru': 'Бриллиантово-серебристый', 'hex_codes': ['DEDFE3'], 'color_type': 'METALLIC', 'stock_color': {'hex_code': 'CACECB', 'name_ru': 'серебряный'}, 'photos': [{'name': '34-front', 'sizes': {'orig': '//avatars.mds.yandex.net/get-verba/1030388/2a0000016b8e321913ceefae593d73f56702/orig', 'wizardv3mr': '//avatars.mds.yandex.net/get-verba/1030388/2a0000016b8e321913ceefae593d73f56702/wizardv3mr', 'wizardv3': '//avatars.mds.yandex.net/get-verba/1030388/2a0000016b8e321913ceefae593d73f56702/wizardv3', 'cattouch': '//avatars.mds.yandex.net/get-verba/1030388/2a0000016b8e321913ceefae593d73f56702/cattouch', 'small': '//avatars.mds.yandex.net/get-verba/1030388/2a0000016b8e321913ceefae593d73f56702/small', '320x240': '//avatars.mds.yandex.net/get-verba/1030388/2a0000016b8e321913ceefae593d73f56702/320x240', '1200x900': '//avatars.mds.yandex.net/get-verba/1030388/2a0000016b8e321913ceefae593d73f56702/1200x900', '1200x900n': '//avatars.mds.yandex.net/get-verba/1030388/2a0000016b8e321913ceefae593d73f56702/1200x900n', 'thumb_m': '//avatars.mds.yandex.net/get-verba/1030388/2a0000016b8e321913ceefae593d73f56702/thumb_m', 'full': '//avatars.mds.yandex.net/get-verba/1030388/2a0000016b8e321913ceefae593d73f56702/full', '832x624': '//avatars.mds.yandex.net/get-verba/1030388/2a0000016b8e321913ceefae593d73f56702/832x624', '456x342': '//avatars.mds.yandex.net/get-verba/1030388/2a0000016b8e321913ceefae593d73f56702/456x342', '120x90': '//avatars.mds.yandex.net/get-verba/1030388/2a0000016b8e321913ceefae593d73f56702/120x90', '92x69': '//avatars.mds.yandex.net/get-verba/1030388/2a0000016b8e321913ceefae593d73f56702/92x69', 'islandoff': '//avatars.mds.yandex.net/get-verba/1030388/2a0000016b8e321913ceefae593d73f56702/islandoff', 'thumb_s': '//avatars.mds.yandex.net/get-verba/1030388/2a0000016b8e321913ceefae593d73f56702/thumb_s', 'thumb_s_2x': '//avatars.mds.yandex.net/get-verba/1030388/2a0000016b8e321913ceefae593d73f56702/thumb_s_2x'}}], 'main_color': False}]}\"\n",
      " \"{'id': '21338655', 'name': 'Tourer Base', 'available_options': ['airbag-passenger', 'lock', 'drowsy-driver-alert-system', 'computer', 'wheel-power', 'fabric-seats', 'steel-wheels', 'abs', 'esp', 'audiopreparation', 'front-centre-armrest', 'airbag-driver', 'isofix', 'electro-window-front', 'hcc', 'immo'], 'vendor_colors': [{'body_color_id': 21597882, 'mark_color_id': 21389958, 'name_ru': 'Арктический белый', 'hex_codes': ['E0E3E8'], 'color_type': 'NOT_METALLIC', 'stock_color': {'hex_code': 'FAFBFB', 'name_ru': 'белый'}, 'photos': [{'name': '34-front', 'sizes': {'orig': '//avatars.mds.yandex.net/get-verba/1540742/2a0000016b8e2c0e9945e7bcb8e0d89bba33/orig', 'wizardv3mr': '//avatars.mds.yandex.net/get-verba/1540742/2a0000016b8e2c0e9945e7bcb8e0d89bba33/wizardv3mr', 'wizardv3': '//avatars.mds.yandex.net/get-verba/1540742/2a0000016b8e2c0e9945e7bcb8e0d89bba33/wizardv3', 'cattouch': '//avatars.mds.yandex.net/get-verba/1540742/2a0000016b8e2c0e9945e7bcb8e0d89bba33/cattouch', 'small': '//avatars.mds.yandex.net/get-verba/1540742/2a0000016b8e2c0e9945e7bcb8e0d89bba33/small', '320x240': '//avatars.mds.yandex.net/get-verba/1540742/2a0000016b8e2c0e9945e7bcb8e0d89bba33/320x240', '1200x900': '//avatars.mds.yandex.net/get-verba/1540742/2a0000016b8e2c0e9945e7bcb8e0d89bba33/1200x900', '1200x900n': '//avatars.mds.yandex.net/get-verba/1540742/2a0000016b8e2c0e9945e7bcb8e0d89bba33/1200x900n', 'thumb_m': '//avatars.mds.yandex.net/get-verba/1540742/2a0000016b8e2c0e9945e7bcb8e0d89bba33/thumb_m', 'full': '//avatars.mds.yandex.net/get-verba/1540742/2a0000016b8e2c0e9945e7bcb8e0d89bba33/full', '832x624': '//avatars.mds.yandex.net/get-verba/1540742/2a0000016b8e2c0e9945e7bcb8e0d89bba33/832x624', '456x342': '//avatars.mds.yandex.net/get-verba/1540742/2a0000016b8e2c0e9945e7bcb8e0d89bba33/456x342', '120x90': '//avatars.mds.yandex.net/get-verba/1540742/2a0000016b8e2c0e9945e7bcb8e0d89bba33/120x90', '92x69': '//avatars.mds.yandex.net/get-verba/1540742/2a0000016b8e2c0e9945e7bcb8e0d89bba33/92x69', 'islandoff': '//avatars.mds.yandex.net/get-verba/1540742/2a0000016b8e2c0e9945e7bcb8e0d89bba33/islandoff', 'thumb_s': '//avatars.mds.yandex.net/get-verba/1540742/2a0000016b8e2c0e9945e7bcb8e0d89bba33/thumb_s', 'thumb_s_2x': '//avatars.mds.yandex.net/get-verba/1540742/2a0000016b8e2c0e9945e7bcb8e0d89bba33/thumb_s_2x'}}], 'main_color': False}]}\"\n",
      " \"{'id': '21277397', 'name': '250 d 4MATIC POWER', 'available_options': ['cruise-control', 'heated-wash-system', 'airbag-passenger', 'roof-rails', 'lock', 'door-sill-panel', 'electro-mirrors', 'mirrors-heat', 'leather', 'computer', 'wheel-power', 'abs', 'wheel-leather', 'climate-control-1', 'auto-mirrors', 'tinted-glass', 'esp', 'usb', 'audiopreparation', 'ashtray-and-cigarette-lighter', 'front-centre-armrest', 'electro-window-back', '18-inch-wheels', 'park-assist-f', 'folding-front-passenger-seat', 'led-lights', 'park-assist-r', 'airbag-driver', 'isofix', 'electro-window-front', 'hcc', 'airbag-curtain', 'passenger-seat-electric', 'leather-gear-stick', 'ptf', 'rain-sensor', 'tyre-pressure', 'audiosystem-cd', 'front-seats-heat', 'power-child-locks-rear-doors', 'bluetooth', 'wheel-configuration2', 'wheel-configuration1', 'immo', '12v-socket', '360-camera'], 'vendor_colors': [{'body_color_id': 21557788, 'mark_color_id': 21557785, 'name_ru': 'Серый Камень', 'hex_codes': ['595D60'], 'color_type': 'METALLIC', 'stock_color': {'hex_code': '97948F', 'name_ru': 'серый'}, 'photos': [{'name': '34-front', 'sizes': {'orig': '//avatars.mds.yandex.net/get-verba/1672712/2a0000016a83d74fcf0cca06a24ba4c63b04/orig', 'wizardv3mr': '//avatars.mds.yandex.net/get-verba/1672712/2a0000016a83d74fcf0cca06a24ba4c63b04/wizardv3mr', 'wizardv3': '//avatars.mds.yandex.net/get-verba/1672712/2a0000016a83d74fcf0cca06a24ba4c63b04/wizardv3', 'cattouch': '//avatars.mds.yandex.net/get-verba/1672712/2a0000016a83d74fcf0cca06a24ba4c63b04/cattouch', 'small': '//avatars.mds.yandex.net/get-verba/1672712/2a0000016a83d74fcf0cca06a24ba4c63b04/small', '320x240': '//avatars.mds.yandex.net/get-verba/1672712/2a0000016a83d74fcf0cca06a24ba4c63b04/320x240', '1200x900': '//avatars.mds.yandex.net/get-verba/1672712/2a0000016a83d74fcf0cca06a24ba4c63b04/1200x900', '1200x900n': '//avatars.mds.yandex.net/get-verba/1672712/2a0000016a83d74fcf0cca06a24ba4c63b04/1200x900n', 'thumb_m': '//avatars.mds.yandex.net/get-verba/1672712/2a0000016a83d74fcf0cca06a24ba4c63b04/thumb_m', 'full': '//avatars.mds.yandex.net/get-verba/1672712/2a0000016a83d74fcf0cca06a24ba4c63b04/full', '832x624': '//avatars.mds.yandex.net/get-verba/1672712/2a0000016a83d74fcf0cca06a24ba4c63b04/832x624', '456x342': '//avatars.mds.yandex.net/get-verba/1672712/2a0000016a83d74fcf0cca06a24ba4c63b04/456x342', '120x90': '//avatars.mds.yandex.net/get-verba/1672712/2a0000016a83d74fcf0cca06a24ba4c63b04/120x90', '92x69': '//avatars.mds.yandex.net/get-verba/1672712/2a0000016a83d74fcf0cca06a24ba4c63b04/92x69', 'islandoff': '//avatars.mds.yandex.net/get-verba/1672712/2a0000016a83d74fcf0cca06a24ba4c63b04/islandoff', 'thumb_s': '//avatars.mds.yandex.net/get-verba/1672712/2a0000016a83d74fcf0cca06a24ba4c63b04/thumb_s', 'thumb_s_2x': '//avatars.mds.yandex.net/get-verba/1672712/2a0000016a83d74fcf0cca06a24ba4c63b04/thumb_s_2x'}}], 'main_color': False}]}\"]\n"
     ]
    }
   ],
   "source": [
    "check_column(train, 'Комплектация')"
   ]
  },
  {
   "cell_type": "code",
   "execution_count": 64,
   "id": "c38f5aa0",
   "metadata": {
    "scrolled": true
   },
   "outputs": [
    {
     "name": "stdout",
     "output_type": "stream",
     "text": [
      "Пустых значений: 24719\n",
      "Кол-во строк в столбце: 129986\n",
      "Тип данных столбца: object\n",
      "\n",
      "Уникальных значений: [\"['cruise-control', 'multi-wheel', 'xenon', 'heated-wash-system', 'airbag-passenger', 'lock', 'door-sill-panel', 'electro-mirrors', 'mirrors-heat', 'volume-sensor', 'cooling-box', 'seat-memory', 'start-stop-function', 'automatic-lighting-control', 'computer', 'seat-transformation', 'light-cleaner', 'airbag-side', 'abs', 'wheel-leather', 'climate-control-1', 'auto-mirrors', 'esp', 'adaptive-light', 'usb', 'audiopreparation', 'ashtray-and-cigarette-lighter', 'front-centre-armrest', 'servo', 'electro-window-back', '17-inch-wheels', 'park-assist-f', 'combo-interior', 'rear-seats-heat', 'music-super', 'park-assist-r', 'airbag-driver', 'isofix', 'aux', 'electro-window-front', 'light-sensor', 'hcc', 'airbag-curtain', 'passenger-seat-electric', 'alarm', 'ptf', 'rain-sensor', 'tyre-pressure', 'audiosystem-cd', 'migration-flag', 'front-seats-heat', 'bluetooth', 'wheel-configuration2', 'wheel-configuration1', 'immo', '12v-socket']\"\n",
      " \"['cruise-control', 'multi-wheel', 'heated-wash-system', 'airbag-passenger', 'decorative-interior-lighting', 'bas', 'lock', 'electro-mirrors', 'mirrors-heat', 'glonass', 'collision-prevention-assist', 'computer', 'high-beam-assist', 'android-auto', 'wheel-power', 'fabric-seats', 'airbag-side', 'abs', 'wheel-leather', 'climate-control-1', 'auto-mirrors', 'esp', 'usb', 'spare-wheel', 'front-centre-armrest', 'apple-carplay', 'drl', 'driver-seat-updown', 'led-lights', 'park-assist-r', '15-inch-wheels', 'airbag-driver', 'isofix', 'electro-window-front', 'light-sensor', 'airbag-curtain', 'keyless-entry', 'leather-gear-stick', 'start-button', 'ptf', 'rain-sensor', 'tyre-pressure', 'audiosystem-cd', 'front-seats-heat', 'bluetooth', 'wheel-configuration2', 'wheel-configuration1', 'immo', '12v-socket', 'third-rear-headrest']\"\n",
      " \"['cruise-control', 'heated-wash-system', 'airbag-passenger', 'bas', 'lock', 'electro-mirrors', 'mirrors-heat', 'glonass', 'computer', 'android-auto', 'wheel-power', 'fabric-seats', 'steel-wheels', 'airbag-side', 'abs', 'auto-mirrors', 'esp', 'usb', 'spare-wheel', 'apple-carplay', 'drl', 'driver-seat-updown', 'condition', 'led-lights', '15-inch-wheels', 'airbag-driver', 'isofix', 'electro-window-front', 'ptf', 'tyre-pressure', 'audiosystem-cd', 'front-seats-heat', 'bluetooth', 'wheel-configuration2', 'wheel-configuration1', 'immo', '12v-socket', 'third-rear-headrest']\"\n",
      " ...\n",
      " \"['cruise-control', 'multi-wheel', 'airbag-passenger', 'roof-rails', 'lock', 'electro-mirrors', 'mirrors-heat', 'computer', 'seat-transformation', 'wheel-power', 'fabric-seats', 'airbag-side', 'abs', 'wheel-leather', 'climate-control-1', 'auto-mirrors', 'esp', 'audiopreparation', 'ashtray-and-cigarette-lighter', 'front-centre-armrest', 'steering-wheel-gear-shift-paddles', 'electro-window-back', '17-inch-wheels', 'body-mouldings', 'condition', 'airbag-driver', 'isofix', 'electro-window-front', 'airbag-curtain', 'leather-gear-stick', 'ptf', 'audiosystem-cd', 'migration-flag', 'front-seats-heat', 'power-child-locks-rear-doors', 'wheel-configuration1', 'immo', '12v-socket', 'third-rear-headrest']\"\n",
      " \"['airbag-passenger', 'lock', 'electro-mirrors', 'mirrors-heat', 'computer', 'seat-transformation', 'wheel-power', 'fabric-seats', 'abs', 'climate-control-1', 'esp', 'audiopreparation', 'electro-window-back', 'condition', 'airbag-driver', 'electro-window-front', 'migration-flag', 'front-seats-heat', 'wheel-configuration1', 'immo']\"\n",
      " \"['cruise-control', 'multi-wheel', 'heated-wash-system', 'airbag-passenger', 'roof-rails', 'bas', 'lock', 'electro-mirrors', 'mirrors-heat', 'cooling-box', 'glonass', 'computer', 'seat-transformation', 'wheel-power', 'light-cleaner', 'driver-seat-electric', 'fabric-seats', 'airbag-side', 'abs', 'wheel-leather', 'climate-control-2', 'auto-mirrors', 'asr', 'tinted-glass', 'esp', 'usb', 'spare-wheel', 'audiosystem-tv', 'ashtray-and-cigarette-lighter', 'front-centre-armrest', 'rear-camera', 'drl', 'steering-wheel-gear-shift-paddles', 'electro-window-back', '18-inch-wheels', 'rear-seats-heat', 'driver-seat-updown', 'wheel-heat', 'led-lights', 'knee-airbag', 'airbag-driver', 'isofix', 'electro-window-front', 'light-sensor', 'hcc', 'airbag-curtain', 'paint-metallic', 'leather-gear-stick', 'ptf', 'rain-sensor', 'tyre-pressure', 'audiosystem-cd', 'front-seats-heat', 'power-child-locks-rear-doors', 'bluetooth', 'wheel-configuration2', 'wheel-configuration1', 'immo', 'windscreen-heat', '12v-socket', 'third-rear-headrest']\"]\n"
     ]
    }
   ],
   "source": [
    "check_column(train_parsed, 'complectation_dict')"
   ]
  },
  {
   "cell_type": "code",
   "execution_count": 65,
   "id": "ef6c49c9",
   "metadata": {},
   "outputs": [
    {
     "name": "stdout",
     "output_type": "stream",
     "text": [
      "Пустых значений: 28268\n",
      "Кол-во строк в столбце: 34686\n",
      "Тип данных столбца: object\n",
      "\n",
      "Уникальных значений: [nan\n",
      " '{\"id\":\"20026336\",\"name\":\"Ambition\",\"available_options\":[\"heated-wash-system\",\"airbag-passenger\",\"lock\",\"door-sill-panel\",\"electro-mirrors\",\"mirrors-heat\",\"cooling-box\",\"computer\",\"seat-transformation\",\"wheel-power\",\"fabric-seats\",\"airbag-side\",\"abs\",\"wheel-leather\",\"climate-control-1\",\"esp\",\"adaptive-light\",\"audiopreparation\",\"ashtray-and-cigarette-lighter\",\"front-centre-armrest\",\"electro-window-back\",\"16-inch-wheels\",\"body-mouldings\",\"condition\",\"airbag-driver\",\"isofix\",\"aux\",\"electro-window-front\",\"light-sensor\",\"hcc\",\"ptf\",\"rain-sensor\",\"tyre-pressure\",\"audiosystem-cd\",\"front-seats-heat\",\"wheel-configuration2\",\"wheel-configuration1\",\"immo\",\"12v-socket\",\"third-rear-headrest\"]}'\n",
      " '{\"id\":\"20803582\",\"name\":\"Ambition\",\"available_options\":[\"heated-wash-system\",\"airbag-passenger\",\"lock\",\"electro-mirrors\",\"mirrors-heat\",\"computer\",\"seat-transformation\",\"wheel-power\",\"fabric-seats\",\"steel-wheels\",\"airbag-side\",\"abs\",\"esp\",\"usb\",\"audiopreparation\",\"ashtray-and-cigarette-lighter\",\"electro-window-back\",\"condition\",\"airbag-driver\",\"isofix\",\"aux\",\"electro-window-front\",\"hcc\",\"ptf\",\"rain-sensor\",\"audiosystem-cd\",\"front-seats-heat\",\"wheel-configuration2\",\"wheel-configuration1\",\"immo\",\"12v-socket\"],\"vendor_colors\":[{\"body_color_id\":20625189,\"mark_color_id\":21390884,\"name_ru\":\"Коричневый Topaz\",\"hex_codes\":[\"50311B\"],\"color_type\":\"METALLIC\",\"stock_color\":{\"hex_code\":\"200204\",\"name_ru\":\"коричневый\"},\"photos\":[{\"name\":\"34-front\",\"sizes\":{\"orig\":\"//avatars.mds.yandex.net/get-verba/787013/2a000001609d5d7753340435af7d921d4cd5/orig\",\"wizardv3mr\":\"//avatars.mds.yandex.net/get-verba/787013/2a000001609d5d7753340435af7d921d4cd5/wizardv3mr\",\"wizardv3\":\"//avatars.mds.yandex.net/get-verba/787013/2a000001609d5d7753340435af7d921d4cd5/wizardv3\",\"cattouch\":\"//avatars.mds.yandex.net/get-verba/787013/2a000001609d5d7753340435af7d921d4cd5/cattouch\",\"small\":\"//avatars.mds.yandex.net/get-verba/787013/2a000001609d5d7753340435af7d921d4cd5/small\",\"320x240\":\"//avatars.mds.yandex.net/get-verba/787013/2a000001609d5d7753340435af7d921d4cd5/320x240\",\"1200x900\":\"//avatars.mds.yandex.net/get-verba/787013/2a000001609d5d7753340435af7d921d4cd5/1200x900\",\"1200x900n\":\"//avatars.mds.yandex.net/get-verba/787013/2a000001609d5d7753340435af7d921d4cd5/1200x900n\",\"thumb_m\":\"//avatars.mds.yandex.net/get-verba/787013/2a000001609d5d7753340435af7d921d4cd5/thumb_m\",\"full\":\"//avatars.mds.yandex.net/get-verba/787013/2a000001609d5d7753340435af7d921d4cd5/full\",\"832x624\":\"//avatars.mds.yandex.net/get-verba/787013/2a000001609d5d7753340435af7d921d4cd5/832x624\",\"456x342\":\"//avatars.mds.yandex.net/get-verba/787013/2a000001609d5d7753340435af7d921d4cd5/456x342\",\"120x90\":\"//avatars.mds.yandex.net/get-verba/787013/2a000001609d5d7753340435af7d921d4cd5/120x90\",\"92x69\":\"//avatars.mds.yandex.net/get-verba/787013/2a000001609d5d7753340435af7d921d4cd5/92x69\",\"islandoff\":\"//avatars.mds.yandex.net/get-verba/787013/2a000001609d5d7753340435af7d921d4cd5/islandoff\",\"thumb_s\":\"//avatars.mds.yandex.net/get-verba/787013/2a000001609d5d7753340435af7d921d4cd5/thumb_s\",\"thumb_s_2x\":\"//avatars.mds.yandex.net/get-verba/787013/2a000001609d5d7753340435af7d921d4cd5/thumb_s_2x\"}},{\"name\":\"34-back\",\"sizes\":{\"orig\":\"//avatars.mds.yandex.net/get-verba/787013/2a000001609d12e5c72373ed07ee1c62816f/orig\",\"wizardv3mr\":\"//avatars.mds.yandex.net/get-verba/787013/2a000001609d12e5c72373ed07ee1c62816f/wizardv3mr\",\"wizardv3\":\"//avatars.mds.yandex.net/get-verba/787013/2a000001609d12e5c72373ed07ee1c62816f/wizardv3\",\"cattouch\":\"//avatars.mds.yandex.net/get-verba/787013/2a000001609d12e5c72373ed07ee1c62816f/cattouch\",\"small\":\"//avatars.mds.yandex.net/get-verba/787013/2a000001609d12e5c72373ed07ee1c62816f/small\",\"320x240\":\"//avatars.mds.yandex.net/get-verba/787013/2a000001609d12e5c72373ed07ee1c62816f/320x240\",\"1200x900\":\"//avatars.mds.yandex.net/get-verba/787013/2a000001609d12e5c72373ed07ee1c62816f/1200x900\",\"1200x900n\":\"//avatars.mds.yandex.net/get-verba/787013/2a000001609d12e5c72373ed07ee1c62816f/1200x900n\",\"thumb_m\":\"//avatars.mds.yandex.net/get-verba/787013/2a000001609d12e5c72373ed07ee1c62816f/thumb_m\",\"full\":\"//avatars.mds.yandex.net/get-verba/787013/2a000001609d12e5c72373ed07ee1c62816f/full\",\"832x624\":\"//avatars.mds.yandex.net/get-verba/787013/2a000001609d12e5c72373ed07ee1c62816f/832x624\",\"456x342\":\"//avatars.mds.yandex.net/get-verba/787013/2a000001609d12e5c72373ed07ee1c62816f/456x342\",\"120x90\":\"//avatars.mds.yandex.net/get-verba/787013/2a000001609d12e5c72373ed07ee1c62816f/120x90\",\"92x69\":\"//avatars.mds.yandex.net/get-verba/787013/2a000001609d12e5c72373ed07ee1c62816f/92x69\",\"islandoff\":\"//avatars.mds.yandex.net/get-verba/787013/2a000001609d12e5c72373ed07ee1c62816f/islandoff\",\"thumb_s\":\"//avatars.mds.yandex.net/get-verba/787013/2a000001609d12e5c72373ed07ee1c62816f/thumb_s\",\"thumb_s_2x\":\"//avatars.mds.yandex.net/get-verba/787013/2a000001609d12e5c72373ed07ee1c62816f/thumb_s_2x\"}},{\"name\":\"side\",\"sizes\":{\"orig\":\"//avatars.mds.yandex.net/get-verba/787013/2a000001609b9d49fc7a4fc16d2c3f8e7048/orig\",\"wizardv3mr\":\"//avatars.mds.yandex.net/get-verba/787013/2a000001609b9d49fc7a4fc16d2c3f8e7048/wizardv3mr\",\"wizardv3\":\"//avatars.mds.yandex.net/get-verba/787013/2a000001609b9d49fc7a4fc16d2c3f8e7048/wizardv3\",\"cattouch\":\"//avatars.mds.yandex.net/get-verba/787013/2a000001609b9d49fc7a4fc16d2c3f8e7048/cattouch\",\"small\":\"//avatars.mds.yandex.net/get-verba/787013/2a000001609b9d49fc7a4fc16d2c3f8e7048/small\",\"320x240\":\"//avatars.mds.yandex.net/get-verba/787013/2a000001609b9d49fc7a4fc16d2c3f8e7048/320x240\",\"1200x900\":\"//avatars.mds.yandex.net/get-verba/787013/2a000001609b9d49fc7a4fc16d2c3f8e7048/1200x900\",\"1200x900n\":\"//avatars.mds.yandex.net/get-verba/787013/2a000001609b9d49fc7a4fc16d2c3f8e7048/1200x900n\",\"thumb_m\":\"//avatars.mds.yandex.net/get-verba/787013/2a000001609b9d49fc7a4fc16d2c3f8e7048/thumb_m\",\"full\":\"//avatars.mds.yandex.net/get-verba/787013/2a000001609b9d49fc7a4fc16d2c3f8e7048/full\",\"832x624\":\"//avatars.mds.yandex.net/get-verba/787013/2a000001609b9d49fc7a4fc16d2c3f8e7048/832x624\",\"456x342\":\"//avatars.mds.yandex.net/get-verba/787013/2a000001609b9d49fc7a4fc16d2c3f8e7048/456x342\",\"120x90\":\"//avatars.mds.yandex.net/get-verba/787013/2a000001609b9d49fc7a4fc16d2c3f8e7048/120x90\",\"92x69\":\"//avatars.mds.yandex.net/get-verba/787013/2a000001609b9d49fc7a4fc16d2c3f8e7048/92x69\",\"islandoff\":\"//avatars.mds.yandex.net/get-verba/787013/2a000001609b9d49fc7a4fc16d2c3f8e7048/islandoff\",\"thumb_s\":\"//avatars.mds.yandex.net/get-verba/787013/2a000001609b9d49fc7a4fc16d2c3f8e7048/thumb_s\",\"thumb_s_2x\":\"//avatars.mds.yandex.net/get-verba/787013/2a000001609b9d49fc7a4fc16d2c3f8e7048/thumb_s_2x\"}},{\"name\":\"front\",\"sizes\":{\"orig\":\"//avatars.mds.yandex.net/get-verba/216201/2a000001609d31acf8e78ed79dc54ea5235f/orig\",\"wizardv3mr\":\"//avatars.mds.yandex.net/get-verba/216201/2a000001609d31acf8e78ed79dc54ea5235f/wizardv3mr\",\"wizardv3\":\"//avatars.mds.yandex.net/get-verba/216201/2a000001609d31acf8e78ed79dc54ea5235f/wizardv3\",\"cattouch\":\"//avatars.mds.yandex.net/get-verba/216201/2a000001609d31acf8e78ed79dc54ea5235f/cattouch\",\"small\":\"//avatars.mds.yandex.net/get-verba/216201/2a000001609d31acf8e78ed79dc54ea5235f/small\",\"320x240\":\"//avatars.mds.yandex.net/get-verba/216201/2a000001609d31acf8e78ed79dc54ea5235f/320x240\",\"1200x900\":\"//avatars.mds.yandex.net/get-verba/216201/2a000001609d31acf8e78ed79dc54ea5235f/1200x900\",\"1200x900n\":\"//avatars.mds.yandex.net/get-verba/216201/2a000001609d31acf8e78ed79dc54ea5235f/1200x900n\",\"thumb_m\":\"//avatars.mds.yandex.net/get-verba/216201/2a000001609d31acf8e78ed79dc54ea5235f/thumb_m\",\"full\":\"//avatars.mds.yandex.net/get-verba/216201/2a000001609d31acf8e78ed79dc54ea5235f/full\",\"832x624\":\"//avatars.mds.yandex.net/get-verba/216201/2a000001609d31acf8e78ed79dc54ea5235f/832x624\",\"456x342\":\"//avatars.mds.yandex.net/get-verba/216201/2a000001609d31acf8e78ed79dc54ea5235f/456x342\",\"120x90\":\"//avatars.mds.yandex.net/get-verba/216201/2a000001609d31acf8e78ed79dc54ea5235f/120x90\",\"92x69\":\"//avatars.mds.yandex.net/get-verba/216201/2a000001609d31acf8e78ed79dc54ea5235f/92x69\",\"islandoff\":\"//avatars.mds.yandex.net/get-verba/216201/2a000001609d31acf8e78ed79dc54ea5235f/islandoff\",\"thumb_s\":\"//avatars.mds.yandex.net/get-verba/216201/2a000001609d31acf8e78ed79dc54ea5235f/thumb_s\",\"thumb_s_2x\":\"//avatars.mds.yandex.net/get-verba/216201/2a000001609d31acf8e78ed79dc54ea5235f/thumb_s_2x\"}},{\"name\":\"back\",\"sizes\":{\"orig\":\"//avatars.mds.yandex.net/get-verba/1030388/2a000001609d4388eee8b4cbef6b7926dd3f/orig\",\"wizardv3mr\":\"//avatars.mds.yandex.net/get-verba/1030388/2a000001609d4388eee8b4cbef6b7926dd3f/wizardv3mr\",\"wizardv3\":\"//avatars.mds.yandex.net/get-verba/1030388/2a000001609d4388eee8b4cbef6b7926dd3f/wizardv3\",\"cattouch\":\"//avatars.mds.yandex.net/get-verba/1030388/2a000001609d4388eee8b4cbef6b7926dd3f/cattouch\",\"small\":\"//avatars.mds.yandex.net/get-verba/1030388/2a000001609d4388eee8b4cbef6b7926dd3f/small\",\"320x240\":\"//avatars.mds.yandex.net/get-verba/1030388/2a000001609d4388eee8b4cbef6b7926dd3f/320x240\",\"1200x900\":\"//avatars.mds.yandex.net/get-verba/1030388/2a000001609d4388eee8b4cbef6b7926dd3f/1200x900\",\"1200x900n\":\"//avatars.mds.yandex.net/get-verba/1030388/2a000001609d4388eee8b4cbef6b7926dd3f/1200x900n\",\"thumb_m\":\"//avatars.mds.yandex.net/get-verba/1030388/2a000001609d4388eee8b4cbef6b7926dd3f/thumb_m\",\"full\":\"//avatars.mds.yandex.net/get-verba/1030388/2a000001609d4388eee8b4cbef6b7926dd3f/full\",\"832x624\":\"//avatars.mds.yandex.net/get-verba/1030388/2a000001609d4388eee8b4cbef6b7926dd3f/832x624\",\"456x342\":\"//avatars.mds.yandex.net/get-verba/1030388/2a000001609d4388eee8b4cbef6b7926dd3f/456x342\",\"120x90\":\"//avatars.mds.yandex.net/get-verba/1030388/2a000001609d4388eee8b4cbef6b7926dd3f/120x90\",\"92x69\":\"//avatars.mds.yandex.net/get-verba/1030388/2a000001609d4388eee8b4cbef6b7926dd3f/92x69\",\"islandoff\":\"//avatars.mds.yandex.net/get-verba/1030388/2a000001609d4388eee8b4cbef6b7926dd3f/islandoff\",\"thumb_s\":\"//avatars.mds.yandex.net/get-verba/1030388/2a000001609d4388eee8b4cbef6b7926dd3f/thumb_s\",\"thumb_s_2x\":\"//avatars.mds.yandex.net/get-verba/1030388/2a000001609d4388eee8b4cbef6b7926dd3f/thumb_s_2x\"}}],\"main_color\":false}]}'\n",
      " ...\n",
      " '{\"id\":\"21073109\",\"name\":\"xDrive20d M Sport Локальная сборка\",\"available_options\":[\"cruise-control\",\"sport-seats\",\"multi-wheel\",\"xenon\",\"airbag-passenger\",\"lock\",\"electro-mirrors\",\"mirrors-heat\",\"volume-sensor\",\"seat-memory\",\"start-stop-function\",\"automatic-lighting-control\",\"computer\",\"high-beam-assist\",\"seat-transformation\",\"light-cleaner\",\"airbag-side\",\"electro-trunk\",\"abs\",\"wheel-leather\",\"climate-control-1\",\"auto-mirrors\",\"esp\",\"adaptive-light\",\"usb\",\"audiopreparation\",\"ashtray-and-cigarette-lighter\",\"front-centre-armrest\",\"servo\",\"steering-wheel-gear-shift-paddles\",\"electro-window-back\",\"18-inch-wheels\",\"park-assist-f\",\"combo-interior\",\"wheel-heat\",\"condition\",\"park-assist-r\",\"airbag-driver\",\"isofix\",\"electro-window-front\",\"light-sensor\",\"hcc\",\"airbag-curtain\",\"passenger-seat-electric\",\"alarm\",\"paint-metallic\",\"start-button\",\"rain-sensor\",\"tyre-pressure\",\"audiosystem-cd\",\"front-seats-heat\",\"power-child-locks-rear-doors\",\"bluetooth\",\"wheel-configuration2\",\"wheel-configuration1\",\"immo\",\"12v-socket\",\"third-rear-headrest\"],\"vendor_colors\":[{\"body_color_id\":20610571,\"mark_color_id\":21387411,\"name_ru\":\"Белоснежный\",\"hex_codes\":[\"F2F2F2\"],\"color_type\":\"NOT_METALLIC\",\"stock_color\":{\"hex_code\":\"FAFBFB\",\"name_ru\":\"белый\"},\"photos\":[{\"name\":\"34-front\",\"sizes\":{\"orig\":\"//avatars.mds.yandex.net/get-verba/1030388/2a000001609d03a903bdddbc4f4a3f9560d6/orig\",\"wizardv3mr\":\"//avatars.mds.yandex.net/get-verba/1030388/2a000001609d03a903bdddbc4f4a3f9560d6/wizardv3mr\",\"wizardv3\":\"//avatars.mds.yandex.net/get-verba/1030388/2a000001609d03a903bdddbc4f4a3f9560d6/wizardv3\",\"cattouch\":\"//avatars.mds.yandex.net/get-verba/1030388/2a000001609d03a903bdddbc4f4a3f9560d6/cattouch\",\"small\":\"//avatars.mds.yandex.net/get-verba/1030388/2a000001609d03a903bdddbc4f4a3f9560d6/small\",\"320x240\":\"//avatars.mds.yandex.net/get-verba/1030388/2a000001609d03a903bdddbc4f4a3f9560d6/320x240\",\"1200x900\":\"//avatars.mds.yandex.net/get-verba/1030388/2a000001609d03a903bdddbc4f4a3f9560d6/1200x900\",\"1200x900n\":\"//avatars.mds.yandex.net/get-verba/1030388/2a000001609d03a903bdddbc4f4a3f9560d6/1200x900n\",\"thumb_m\":\"//avatars.mds.yandex.net/get-verba/1030388/2a000001609d03a903bdddbc4f4a3f9560d6/thumb_m\",\"full\":\"//avatars.mds.yandex.net/get-verba/1030388/2a000001609d03a903bdddbc4f4a3f9560d6/full\",\"832x624\":\"//avatars.mds.yandex.net/get-verba/1030388/2a000001609d03a903bdddbc4f4a3f9560d6/832x624\",\"456x342\":\"//avatars.mds.yandex.net/get-verba/1030388/2a000001609d03a903bdddbc4f4a3f9560d6/456x342\",\"120x90\":\"//avatars.mds.yandex.net/get-verba/1030388/2a000001609d03a903bdddbc4f4a3f9560d6/120x90\",\"92x69\":\"//avatars.mds.yandex.net/get-verba/1030388/2a000001609d03a903bdddbc4f4a3f9560d6/92x69\",\"islandoff\":\"//avatars.mds.yandex.net/get-verba/1030388/2a000001609d03a903bdddbc4f4a3f9560d6/islandoff\",\"thumb_s\":\"//avatars.mds.yandex.net/get-verba/1030388/2a000001609d03a903bdddbc4f4a3f9560d6/thumb_s\",\"thumb_s_2x\":\"//avatars.mds.yandex.net/get-verba/1030388/2a000001609d03a903bdddbc4f4a3f9560d6/thumb_s_2x\"}},{\"name\":\"34-back\",\"sizes\":{\"orig\":\"//avatars.mds.yandex.net/get-verba/787013/2a000001609cf46ce9b21ab167acdd31e30f/orig\",\"wizardv3mr\":\"//avatars.mds.yandex.net/get-verba/787013/2a000001609cf46ce9b21ab167acdd31e30f/wizardv3mr\",\"wizardv3\":\"//avatars.mds.yandex.net/get-verba/787013/2a000001609cf46ce9b21ab167acdd31e30f/wizardv3\",\"cattouch\":\"//avatars.mds.yandex.net/get-verba/787013/2a000001609cf46ce9b21ab167acdd31e30f/cattouch\",\"small\":\"//avatars.mds.yandex.net/get-verba/787013/2a000001609cf46ce9b21ab167acdd31e30f/small\",\"320x240\":\"//avatars.mds.yandex.net/get-verba/787013/2a000001609cf46ce9b21ab167acdd31e30f/320x240\",\"1200x900\":\"//avatars.mds.yandex.net/get-verba/787013/2a000001609cf46ce9b21ab167acdd31e30f/1200x900\",\"1200x900n\":\"//avatars.mds.yandex.net/get-verba/787013/2a000001609cf46ce9b21ab167acdd31e30f/1200x900n\",\"thumb_m\":\"//avatars.mds.yandex.net/get-verba/787013/2a000001609cf46ce9b21ab167acdd31e30f/thumb_m\",\"full\":\"//avatars.mds.yandex.net/get-verba/787013/2a000001609cf46ce9b21ab167acdd31e30f/full\",\"832x624\":\"//avatars.mds.yandex.net/get-verba/787013/2a000001609cf46ce9b21ab167acdd31e30f/832x624\",\"456x342\":\"//avatars.mds.yandex.net/get-verba/787013/2a000001609cf46ce9b21ab167acdd31e30f/456x342\",\"120x90\":\"//avatars.mds.yandex.net/get-verba/787013/2a000001609cf46ce9b21ab167acdd31e30f/120x90\",\"92x69\":\"//avatars.mds.yandex.net/get-verba/787013/2a000001609cf46ce9b21ab167acdd31e30f/92x69\",\"islandoff\":\"//avatars.mds.yandex.net/get-verba/787013/2a000001609cf46ce9b21ab167acdd31e30f/islandoff\",\"thumb_s\":\"//avatars.mds.yandex.net/get-verba/787013/2a000001609cf46ce9b21ab167acdd31e30f/thumb_s\",\"thumb_s_2x\":\"//avatars.mds.yandex.net/get-verba/787013/2a000001609cf46ce9b21ab167acdd31e30f/thumb_s_2x\"}},{\"name\":\"side\",\"sizes\":{\"orig\":\"//avatars.mds.yandex.net/get-verba/787013/2a000001609d2ac9aa41a77152576f50bd64/orig\",\"wizardv3mr\":\"//avatars.mds.yandex.net/get-verba/787013/2a000001609d2ac9aa41a77152576f50bd64/wizardv3mr\",\"wizardv3\":\"//avatars.mds.yandex.net/get-verba/787013/2a000001609d2ac9aa41a77152576f50bd64/wizardv3\",\"cattouch\":\"//avatars.mds.yandex.net/get-verba/787013/2a000001609d2ac9aa41a77152576f50bd64/cattouch\",\"small\":\"//avatars.mds.yandex.net/get-verba/787013/2a000001609d2ac9aa41a77152576f50bd64/small\",\"320x240\":\"//avatars.mds.yandex.net/get-verba/787013/2a000001609d2ac9aa41a77152576f50bd64/320x240\",\"1200x900\":\"//avatars.mds.yandex.net/get-verba/787013/2a000001609d2ac9aa41a77152576f50bd64/1200x900\",\"1200x900n\":\"//avatars.mds.yandex.net/get-verba/787013/2a000001609d2ac9aa41a77152576f50bd64/1200x900n\",\"thumb_m\":\"//avatars.mds.yandex.net/get-verba/787013/2a000001609d2ac9aa41a77152576f50bd64/thumb_m\",\"full\":\"//avatars.mds.yandex.net/get-verba/787013/2a000001609d2ac9aa41a77152576f50bd64/full\",\"832x624\":\"//avatars.mds.yandex.net/get-verba/787013/2a000001609d2ac9aa41a77152576f50bd64/832x624\",\"456x342\":\"//avatars.mds.yandex.net/get-verba/787013/2a000001609d2ac9aa41a77152576f50bd64/456x342\",\"120x90\":\"//avatars.mds.yandex.net/get-verba/787013/2a000001609d2ac9aa41a77152576f50bd64/120x90\",\"92x69\":\"//avatars.mds.yandex.net/get-verba/787013/2a000001609d2ac9aa41a77152576f50bd64/92x69\",\"islandoff\":\"//avatars.mds.yandex.net/get-verba/787013/2a000001609d2ac9aa41a77152576f50bd64/islandoff\",\"thumb_s\":\"//avatars.mds.yandex.net/get-verba/787013/2a000001609d2ac9aa41a77152576f50bd64/thumb_s\",\"thumb_s_2x\":\"//avatars.mds.yandex.net/get-verba/787013/2a000001609d2ac9aa41a77152576f50bd64/thumb_s_2x\"}},{\"name\":\"front\",\"sizes\":{\"orig\":\"//avatars.mds.yandex.net/get-verba/787013/2a000001609d35df5c9f311b238b8fe43d3f/orig\",\"wizardv3mr\":\"//avatars.mds.yandex.net/get-verba/787013/2a000001609d35df5c9f311b238b8fe43d3f/wizardv3mr\",\"wizardv3\":\"//avatars.mds.yandex.net/get-verba/787013/2a000001609d35df5c9f311b238b8fe43d3f/wizardv3\",\"cattouch\":\"//avatars.mds.yandex.net/get-verba/787013/2a000001609d35df5c9f311b238b8fe43d3f/cattouch\",\"small\":\"//avatars.mds.yandex.net/get-verba/787013/2a000001609d35df5c9f311b238b8fe43d3f/small\",\"320x240\":\"//avatars.mds.yandex.net/get-verba/787013/2a000001609d35df5c9f311b238b8fe43d3f/320x240\",\"1200x900\":\"//avatars.mds.yandex.net/get-verba/787013/2a000001609d35df5c9f311b238b8fe43d3f/1200x900\",\"1200x900n\":\"//avatars.mds.yandex.net/get-verba/787013/2a000001609d35df5c9f311b238b8fe43d3f/1200x900n\",\"thumb_m\":\"//avatars.mds.yandex.net/get-verba/787013/2a000001609d35df5c9f311b238b8fe43d3f/thumb_m\",\"full\":\"//avatars.mds.yandex.net/get-verba/787013/2a000001609d35df5c9f311b238b8fe43d3f/full\",\"832x624\":\"//avatars.mds.yandex.net/get-verba/787013/2a000001609d35df5c9f311b238b8fe43d3f/832x624\",\"456x342\":\"//avatars.mds.yandex.net/get-verba/787013/2a000001609d35df5c9f311b238b8fe43d3f/456x342\",\"120x90\":\"//avatars.mds.yandex.net/get-verba/787013/2a000001609d35df5c9f311b238b8fe43d3f/120x90\",\"92x69\":\"//avatars.mds.yandex.net/get-verba/787013/2a000001609d35df5c9f311b238b8fe43d3f/92x69\",\"islandoff\":\"//avatars.mds.yandex.net/get-verba/787013/2a000001609d35df5c9f311b238b8fe43d3f/islandoff\",\"thumb_s\":\"//avatars.mds.yandex.net/get-verba/787013/2a000001609d35df5c9f311b238b8fe43d3f/thumb_s\",\"thumb_s_2x\":\"//avatars.mds.yandex.net/get-verba/787013/2a000001609d35df5c9f311b238b8fe43d3f/thumb_s_2x\"}},{\"name\":\"back\",\"sizes\":{\"orig\":\"//avatars.mds.yandex.net/get-verba/787013/2a000001609cea39aab13213e58c36fe8735/orig\",\"wizardv3mr\":\"//avatars.mds.yandex.net/get-verba/787013/2a000001609cea39aab13213e58c36fe8735/wizardv3mr\",\"wizardv3\":\"//avatars.mds.yandex.net/get-verba/787013/2a000001609cea39aab13213e58c36fe8735/wizardv3\",\"cattouch\":\"//avatars.mds.yandex.net/get-verba/787013/2a000001609cea39aab13213e58c36fe8735/cattouch\",\"small\":\"//avatars.mds.yandex.net/get-verba/787013/2a000001609cea39aab13213e58c36fe8735/small\",\"320x240\":\"//avatars.mds.yandex.net/get-verba/787013/2a000001609cea39aab13213e58c36fe8735/320x240\",\"1200x900\":\"//avatars.mds.yandex.net/get-verba/787013/2a000001609cea39aab13213e58c36fe8735/1200x900\",\"1200x900n\":\"//avatars.mds.yandex.net/get-verba/787013/2a000001609cea39aab13213e58c36fe8735/1200x900n\",\"thumb_m\":\"//avatars.mds.yandex.net/get-verba/787013/2a000001609cea39aab13213e58c36fe8735/thumb_m\",\"full\":\"//avatars.mds.yandex.net/get-verba/787013/2a000001609cea39aab13213e58c36fe8735/full\",\"832x624\":\"//avatars.mds.yandex.net/get-verba/787013/2a000001609cea39aab13213e58c36fe8735/832x624\",\"456x342\":\"//avatars.mds.yandex.net/get-verba/787013/2a000001609cea39aab13213e58c36fe8735/456x342\",\"120x90\":\"//avatars.mds.yandex.net/get-verba/787013/2a000001609cea39aab13213e58c36fe8735/120x90\",\"92x69\":\"//avatars.mds.yandex.net/get-verba/787013/2a000001609cea39aab13213e58c36fe8735/92x69\",\"islandoff\":\"//avatars.mds.yandex.net/get-verba/787013/2a000001609cea39aab13213e58c36fe8735/islandoff\",\"thumb_s\":\"//avatars.mds.yandex.net/get-verba/787013/2a000001609cea39aab13213e58c36fe8735/thumb_s\",\"thumb_s_2x\":\"//avatars.mds.yandex.net/get-verba/787013/2a000001609cea39aab13213e58c36fe8735/thumb_s_2x\"}}],\"main_color\":false}]}'\n",
      " '{\"id\":\"21074243\",\"name\":\"xDrive30d Prestige\",\"available_options\":[\"cruise-control\",\"sport-seats\",\"multi-wheel\",\"xenon\",\"airbag-passenger\",\"navigation\",\"roof-rails\",\"lock\",\"electro-mirrors\",\"mirrors-heat\",\"leather\",\"seat-memory\",\"start-stop-function\",\"automatic-lighting-control\",\"computer\",\"seat-transformation\",\"light-cleaner\",\"airbag-side\",\"electro-trunk\",\"abs\",\"wheel-leather\",\"climate-control-1\",\"auto-mirrors\",\"esp\",\"usb\",\"audiopreparation\",\"ashtray-and-cigarette-lighter\",\"front-centre-armrest\",\"servo\",\"electro-window-back\",\"18-inch-wheels\",\"body-mouldings\",\"park-assist-f\",\"wheel-heat\",\"music-super\",\"park-assist-r\",\"airbag-driver\",\"isofix\",\"aux\",\"electro-window-front\",\"light-sensor\",\"hcc\",\"airbag-curtain\",\"passenger-seat-electric\",\"paint-metallic\",\"ptf\",\"rain-sensor\",\"audiosystem-cd\",\"front-seats-heat\",\"bluetooth\",\"wheel-configuration2\",\"wheel-configuration1\",\"immo\",\"12v-socket\",\"third-rear-headrest\"],\"vendor_colors\":[{\"body_color_id\":20611711,\"mark_color_id\":21387421,\"name_ru\":\"Серый космос\",\"hex_codes\":[\"8F9397\"],\"color_type\":\"METALLIC\",\"stock_color\":{\"hex_code\":\"97948F\",\"name_ru\":\"серый\"},\"photos\":[{\"name\":\"34-front\",\"sizes\":{\"orig\":\"//avatars.mds.yandex.net/get-verba/787013/2a000001609c8f6c0a99f29a961a7cdedca6/orig\",\"wizardv3mr\":\"//avatars.mds.yandex.net/get-verba/787013/2a000001609c8f6c0a99f29a961a7cdedca6/wizardv3mr\",\"wizardv3\":\"//avatars.mds.yandex.net/get-verba/787013/2a000001609c8f6c0a99f29a961a7cdedca6/wizardv3\",\"cattouch\":\"//avatars.mds.yandex.net/get-verba/787013/2a000001609c8f6c0a99f29a961a7cdedca6/cattouch\",\"small\":\"//avatars.mds.yandex.net/get-verba/787013/2a000001609c8f6c0a99f29a961a7cdedca6/small\",\"320x240\":\"//avatars.mds.yandex.net/get-verba/787013/2a000001609c8f6c0a99f29a961a7cdedca6/320x240\",\"1200x900\":\"//avatars.mds.yandex.net/get-verba/787013/2a000001609c8f6c0a99f29a961a7cdedca6/1200x900\",\"1200x900n\":\"//avatars.mds.yandex.net/get-verba/787013/2a000001609c8f6c0a99f29a961a7cdedca6/1200x900n\",\"thumb_m\":\"//avatars.mds.yandex.net/get-verba/787013/2a000001609c8f6c0a99f29a961a7cdedca6/thumb_m\",\"full\":\"//avatars.mds.yandex.net/get-verba/787013/2a000001609c8f6c0a99f29a961a7cdedca6/full\",\"832x624\":\"//avatars.mds.yandex.net/get-verba/787013/2a000001609c8f6c0a99f29a961a7cdedca6/832x624\",\"456x342\":\"//avatars.mds.yandex.net/get-verba/787013/2a000001609c8f6c0a99f29a961a7cdedca6/456x342\",\"120x90\":\"//avatars.mds.yandex.net/get-verba/787013/2a000001609c8f6c0a99f29a961a7cdedca6/120x90\",\"92x69\":\"//avatars.mds.yandex.net/get-verba/787013/2a000001609c8f6c0a99f29a961a7cdedca6/92x69\",\"islandoff\":\"//avatars.mds.yandex.net/get-verba/787013/2a000001609c8f6c0a99f29a961a7cdedca6/islandoff\",\"thumb_s\":\"//avatars.mds.yandex.net/get-verba/787013/2a000001609c8f6c0a99f29a961a7cdedca6/thumb_s\",\"thumb_s_2x\":\"//avatars.mds.yandex.net/get-verba/787013/2a000001609c8f6c0a99f29a961a7cdedca6/thumb_s_2x\"}},{\"name\":\"34-back\",\"sizes\":{\"orig\":\"//avatars.mds.yandex.net/get-verba/787013/2a000001609cee2480df3e0b78f5007c1a79/orig\",\"wizardv3mr\":\"//avatars.mds.yandex.net/get-verba/787013/2a000001609cee2480df3e0b78f5007c1a79/wizardv3mr\",\"wizardv3\":\"//avatars.mds.yandex.net/get-verba/787013/2a000001609cee2480df3e0b78f5007c1a79/wizardv3\",\"cattouch\":\"//avatars.mds.yandex.net/get-verba/787013/2a000001609cee2480df3e0b78f5007c1a79/cattouch\",\"small\":\"//avatars.mds.yandex.net/get-verba/787013/2a000001609cee2480df3e0b78f5007c1a79/small\",\"320x240\":\"//avatars.mds.yandex.net/get-verba/787013/2a000001609cee2480df3e0b78f5007c1a79/320x240\",\"1200x900\":\"//avatars.mds.yandex.net/get-verba/787013/2a000001609cee2480df3e0b78f5007c1a79/1200x900\",\"1200x900n\":\"//avatars.mds.yandex.net/get-verba/787013/2a000001609cee2480df3e0b78f5007c1a79/1200x900n\",\"thumb_m\":\"//avatars.mds.yandex.net/get-verba/787013/2a000001609cee2480df3e0b78f5007c1a79/thumb_m\",\"full\":\"//avatars.mds.yandex.net/get-verba/787013/2a000001609cee2480df3e0b78f5007c1a79/full\",\"832x624\":\"//avatars.mds.yandex.net/get-verba/787013/2a000001609cee2480df3e0b78f5007c1a79/832x624\",\"456x342\":\"//avatars.mds.yandex.net/get-verba/787013/2a000001609cee2480df3e0b78f5007c1a79/456x342\",\"120x90\":\"//avatars.mds.yandex.net/get-verba/787013/2a000001609cee2480df3e0b78f5007c1a79/120x90\",\"92x69\":\"//avatars.mds.yandex.net/get-verba/787013/2a000001609cee2480df3e0b78f5007c1a79/92x69\",\"islandoff\":\"//avatars.mds.yandex.net/get-verba/787013/2a000001609cee2480df3e0b78f5007c1a79/islandoff\",\"thumb_s\":\"//avatars.mds.yandex.net/get-verba/787013/2a000001609cee2480df3e0b78f5007c1a79/thumb_s\",\"thumb_s_2x\":\"//avatars.mds.yandex.net/get-verba/787013/2a000001609cee2480df3e0b78f5007c1a79/thumb_s_2x\"}},{\"name\":\"side\",\"sizes\":{\"orig\":\"//avatars.mds.yandex.net/get-verba/216201/2a000001609b608632fe68d3967e553c5d9c/orig\",\"wizardv3mr\":\"//avatars.mds.yandex.net/get-verba/216201/2a000001609b608632fe68d3967e553c5d9c/wizardv3mr\",\"wizardv3\":\"//avatars.mds.yandex.net/get-verba/216201/2a000001609b608632fe68d3967e553c5d9c/wizardv3\",\"cattouch\":\"//avatars.mds.yandex.net/get-verba/216201/2a000001609b608632fe68d3967e553c5d9c/cattouch\",\"small\":\"//avatars.mds.yandex.net/get-verba/216201/2a000001609b608632fe68d3967e553c5d9c/small\",\"320x240\":\"//avatars.mds.yandex.net/get-verba/216201/2a000001609b608632fe68d3967e553c5d9c/320x240\",\"1200x900\":\"//avatars.mds.yandex.net/get-verba/216201/2a000001609b608632fe68d3967e553c5d9c/1200x900\",\"1200x900n\":\"//avatars.mds.yandex.net/get-verba/216201/2a000001609b608632fe68d3967e553c5d9c/1200x900n\",\"thumb_m\":\"//avatars.mds.yandex.net/get-verba/216201/2a000001609b608632fe68d3967e553c5d9c/thumb_m\",\"full\":\"//avatars.mds.yandex.net/get-verba/216201/2a000001609b608632fe68d3967e553c5d9c/full\",\"832x624\":\"//avatars.mds.yandex.net/get-verba/216201/2a000001609b608632fe68d3967e553c5d9c/832x624\",\"456x342\":\"//avatars.mds.yandex.net/get-verba/216201/2a000001609b608632fe68d3967e553c5d9c/456x342\",\"120x90\":\"//avatars.mds.yandex.net/get-verba/216201/2a000001609b608632fe68d3967e553c5d9c/120x90\",\"92x69\":\"//avatars.mds.yandex.net/get-verba/216201/2a000001609b608632fe68d3967e553c5d9c/92x69\",\"islandoff\":\"//avatars.mds.yandex.net/get-verba/216201/2a000001609b608632fe68d3967e553c5d9c/islandoff\",\"thumb_s\":\"//avatars.mds.yandex.net/get-verba/216201/2a000001609b608632fe68d3967e553c5d9c/thumb_s\",\"thumb_s_2x\":\"//avatars.mds.yandex.net/get-verba/216201/2a000001609b608632fe68d3967e553c5d9c/thumb_s_2x\"}},{\"name\":\"front\",\"sizes\":{\"orig\":\"//avatars.mds.yandex.net/get-verba/787013/2a000001609d06a2de96e7044087084d934d/orig\",\"wizardv3mr\":\"//avatars.mds.yandex.net/get-verba/787013/2a000001609d06a2de96e7044087084d934d/wizardv3mr\",\"wizardv3\":\"//avatars.mds.yandex.net/get-verba/787013/2a000001609d06a2de96e7044087084d934d/wizardv3\",\"cattouch\":\"//avatars.mds.yandex.net/get-verba/787013/2a000001609d06a2de96e7044087084d934d/cattouch\",\"small\":\"//avatars.mds.yandex.net/get-verba/787013/2a000001609d06a2de96e7044087084d934d/small\",\"320x240\":\"//avatars.mds.yandex.net/get-verba/787013/2a000001609d06a2de96e7044087084d934d/320x240\",\"1200x900\":\"//avatars.mds.yandex.net/get-verba/787013/2a000001609d06a2de96e7044087084d934d/1200x900\",\"1200x900n\":\"//avatars.mds.yandex.net/get-verba/787013/2a000001609d06a2de96e7044087084d934d/1200x900n\",\"thumb_m\":\"//avatars.mds.yandex.net/get-verba/787013/2a000001609d06a2de96e7044087084d934d/thumb_m\",\"full\":\"//avatars.mds.yandex.net/get-verba/787013/2a000001609d06a2de96e7044087084d934d/full\",\"832x624\":\"//avatars.mds.yandex.net/get-verba/787013/2a000001609d06a2de96e7044087084d934d/832x624\",\"456x342\":\"//avatars.mds.yandex.net/get-verba/787013/2a000001609d06a2de96e7044087084d934d/456x342\",\"120x90\":\"//avatars.mds.yandex.net/get-verba/787013/2a000001609d06a2de96e7044087084d934d/120x90\",\"92x69\":\"//avatars.mds.yandex.net/get-verba/787013/2a000001609d06a2de96e7044087084d934d/92x69\",\"islandoff\":\"//avatars.mds.yandex.net/get-verba/787013/2a000001609d06a2de96e7044087084d934d/islandoff\",\"thumb_s\":\"//avatars.mds.yandex.net/get-verba/787013/2a000001609d06a2de96e7044087084d934d/thumb_s\",\"thumb_s_2x\":\"//avatars.mds.yandex.net/get-verba/787013/2a000001609d06a2de96e7044087084d934d/thumb_s_2x\"}},{\"name\":\"back\",\"sizes\":{\"orig\":\"//avatars.mds.yandex.net/get-verba/1030388/2a000001609d6c6125b6c1f6512ad2fb363f/orig\",\"wizardv3mr\":\"//avatars.mds.yandex.net/get-verba/1030388/2a000001609d6c6125b6c1f6512ad2fb363f/wizardv3mr\",\"wizardv3\":\"//avatars.mds.yandex.net/get-verba/1030388/2a000001609d6c6125b6c1f6512ad2fb363f/wizardv3\",\"cattouch\":\"//avatars.mds.yandex.net/get-verba/1030388/2a000001609d6c6125b6c1f6512ad2fb363f/cattouch\",\"small\":\"//avatars.mds.yandex.net/get-verba/1030388/2a000001609d6c6125b6c1f6512ad2fb363f/small\",\"320x240\":\"//avatars.mds.yandex.net/get-verba/1030388/2a000001609d6c6125b6c1f6512ad2fb363f/320x240\",\"1200x900\":\"//avatars.mds.yandex.net/get-verba/1030388/2a000001609d6c6125b6c1f6512ad2fb363f/1200x900\",\"1200x900n\":\"//avatars.mds.yandex.net/get-verba/1030388/2a000001609d6c6125b6c1f6512ad2fb363f/1200x900n\",\"thumb_m\":\"//avatars.mds.yandex.net/get-verba/1030388/2a000001609d6c6125b6c1f6512ad2fb363f/thumb_m\",\"full\":\"//avatars.mds.yandex.net/get-verba/1030388/2a000001609d6c6125b6c1f6512ad2fb363f/full\",\"832x624\":\"//avatars.mds.yandex.net/get-verba/1030388/2a000001609d6c6125b6c1f6512ad2fb363f/832x624\",\"456x342\":\"//avatars.mds.yandex.net/get-verba/1030388/2a000001609d6c6125b6c1f6512ad2fb363f/456x342\",\"120x90\":\"//avatars.mds.yandex.net/get-verba/1030388/2a000001609d6c6125b6c1f6512ad2fb363f/120x90\",\"92x69\":\"//avatars.mds.yandex.net/get-verba/1030388/2a000001609d6c6125b6c1f6512ad2fb363f/92x69\",\"islandoff\":\"//avatars.mds.yandex.net/get-verba/1030388/2a000001609d6c6125b6c1f6512ad2fb363f/islandoff\",\"thumb_s\":\"//avatars.mds.yandex.net/get-verba/1030388/2a000001609d6c6125b6c1f6512ad2fb363f/thumb_s\",\"thumb_s_2x\":\"//avatars.mds.yandex.net/get-verba/1030388/2a000001609d6c6125b6c1f6512ad2fb363f/thumb_s_2x\"}}],\"main_color\":false}]}'\n",
      " '{\"id\":\"6336008\",\"name\":\"xDrive20d Локальная сборка\",\"available_options\":[\"multi-wheel\",\"airbag-passenger\",\"roof-rails\",\"lock\",\"electro-mirrors\",\"mirrors-heat\",\"volume-sensor\",\"start-stop-function\",\"computer\",\"seat-transformation\",\"fabric-seats\",\"airbag-side\",\"abs\",\"wheel-leather\",\"climate-control-1\",\"esp\",\"audiopreparation\",\"front-centre-armrest\",\"servo\",\"electro-window-back\",\"17-inch-wheels\",\"wheel-heat\",\"condition\",\"park-assist-r\",\"airbag-driver\",\"isofix\",\"aux\",\"electro-window-front\",\"airbag-curtain\",\"alarm\",\"start-button\",\"ptf\",\"audiosystem-cd\",\"front-seats-heat\",\"wheel-configuration2\",\"wheel-configuration1\",\"immo\",\"third-rear-headrest\"],\"vendor_colors\":[{\"body_color_id\":20609705,\"mark_color_id\":21387534,\"name_ru\":\"Коричневый марракеш\",\"color_type\":\"METALLIC\",\"stock_color\":{\"hex_code\":\"200204\",\"name_ru\":\"коричневый\"},\"photos\":[{\"name\":\"34-front\",\"sizes\":{\"orig\":\"//avatars.mds.yandex.net/get-verba/787013/2a000001609cebce5401dc41613d83de6d34/orig\",\"wizardv3mr\":\"//avatars.mds.yandex.net/get-verba/787013/2a000001609cebce5401dc41613d83de6d34/wizardv3mr\",\"wizardv3\":\"//avatars.mds.yandex.net/get-verba/787013/2a000001609cebce5401dc41613d83de6d34/wizardv3\",\"cattouch\":\"//avatars.mds.yandex.net/get-verba/787013/2a000001609cebce5401dc41613d83de6d34/cattouch\",\"small\":\"//avatars.mds.yandex.net/get-verba/787013/2a000001609cebce5401dc41613d83de6d34/small\",\"320x240\":\"//avatars.mds.yandex.net/get-verba/787013/2a000001609cebce5401dc41613d83de6d34/320x240\",\"1200x900\":\"//avatars.mds.yandex.net/get-verba/787013/2a000001609cebce5401dc41613d83de6d34/1200x900\",\"1200x900n\":\"//avatars.mds.yandex.net/get-verba/787013/2a000001609cebce5401dc41613d83de6d34/1200x900n\",\"thumb_m\":\"//avatars.mds.yandex.net/get-verba/787013/2a000001609cebce5401dc41613d83de6d34/thumb_m\",\"full\":\"//avatars.mds.yandex.net/get-verba/787013/2a000001609cebce5401dc41613d83de6d34/full\",\"832x624\":\"//avatars.mds.yandex.net/get-verba/787013/2a000001609cebce5401dc41613d83de6d34/832x624\",\"456x342\":\"//avatars.mds.yandex.net/get-verba/787013/2a000001609cebce5401dc41613d83de6d34/456x342\",\"120x90\":\"//avatars.mds.yandex.net/get-verba/787013/2a000001609cebce5401dc41613d83de6d34/120x90\",\"92x69\":\"//avatars.mds.yandex.net/get-verba/787013/2a000001609cebce5401dc41613d83de6d34/92x69\",\"islandoff\":\"//avatars.mds.yandex.net/get-verba/787013/2a000001609cebce5401dc41613d83de6d34/islandoff\",\"thumb_s\":\"//avatars.mds.yandex.net/get-verba/787013/2a000001609cebce5401dc41613d83de6d34/thumb_s\",\"thumb_s_2x\":\"//avatars.mds.yandex.net/get-verba/787013/2a000001609cebce5401dc41613d83de6d34/thumb_s_2x\"}},{\"name\":\"34-back\",\"sizes\":{\"orig\":\"//avatars.mds.yandex.net/get-verba/787013/2a000001609cf7975b249218a1129c9d8ac0/orig\",\"wizardv3mr\":\"//avatars.mds.yandex.net/get-verba/787013/2a000001609cf7975b249218a1129c9d8ac0/wizardv3mr\",\"wizardv3\":\"//avatars.mds.yandex.net/get-verba/787013/2a000001609cf7975b249218a1129c9d8ac0/wizardv3\",\"cattouch\":\"//avatars.mds.yandex.net/get-verba/787013/2a000001609cf7975b249218a1129c9d8ac0/cattouch\",\"small\":\"//avatars.mds.yandex.net/get-verba/787013/2a000001609cf7975b249218a1129c9d8ac0/small\",\"320x240\":\"//avatars.mds.yandex.net/get-verba/787013/2a000001609cf7975b249218a1129c9d8ac0/320x240\",\"1200x900\":\"//avatars.mds.yandex.net/get-verba/787013/2a000001609cf7975b249218a1129c9d8ac0/1200x900\",\"1200x900n\":\"//avatars.mds.yandex.net/get-verba/787013/2a000001609cf7975b249218a1129c9d8ac0/1200x900n\",\"thumb_m\":\"//avatars.mds.yandex.net/get-verba/787013/2a000001609cf7975b249218a1129c9d8ac0/thumb_m\",\"full\":\"//avatars.mds.yandex.net/get-verba/787013/2a000001609cf7975b249218a1129c9d8ac0/full\",\"832x624\":\"//avatars.mds.yandex.net/get-verba/787013/2a000001609cf7975b249218a1129c9d8ac0/832x624\",\"456x342\":\"//avatars.mds.yandex.net/get-verba/787013/2a000001609cf7975b249218a1129c9d8ac0/456x342\",\"120x90\":\"//avatars.mds.yandex.net/get-verba/787013/2a000001609cf7975b249218a1129c9d8ac0/120x90\",\"92x69\":\"//avatars.mds.yandex.net/get-verba/787013/2a000001609cf7975b249218a1129c9d8ac0/92x69\",\"islandoff\":\"//avatars.mds.yandex.net/get-verba/787013/2a000001609cf7975b249218a1129c9d8ac0/islandoff\",\"thumb_s\":\"//avatars.mds.yandex.net/get-verba/787013/2a000001609cf7975b249218a1129c9d8ac0/thumb_s\",\"thumb_s_2x\":\"//avatars.mds.yandex.net/get-verba/787013/2a000001609cf7975b249218a1129c9d8ac0/thumb_s_2x\"}},{\"name\":\"side\",\"sizes\":{\"orig\":\"//avatars.mds.yandex.net/get-verba/787013/2a000001609d4d0453197e2f84719f735f86/orig\",\"wizardv3mr\":\"//avatars.mds.yandex.net/get-verba/787013/2a000001609d4d0453197e2f84719f735f86/wizardv3mr\",\"wizardv3\":\"//avatars.mds.yandex.net/get-verba/787013/2a000001609d4d0453197e2f84719f735f86/wizardv3\",\"cattouch\":\"//avatars.mds.yandex.net/get-verba/787013/2a000001609d4d0453197e2f84719f735f86/cattouch\",\"small\":\"//avatars.mds.yandex.net/get-verba/787013/2a000001609d4d0453197e2f84719f735f86/small\",\"320x240\":\"//avatars.mds.yandex.net/get-verba/787013/2a000001609d4d0453197e2f84719f735f86/320x240\",\"1200x900\":\"//avatars.mds.yandex.net/get-verba/787013/2a000001609d4d0453197e2f84719f735f86/1200x900\",\"1200x900n\":\"//avatars.mds.yandex.net/get-verba/787013/2a000001609d4d0453197e2f84719f735f86/1200x900n\",\"thumb_m\":\"//avatars.mds.yandex.net/get-verba/787013/2a000001609d4d0453197e2f84719f735f86/thumb_m\",\"full\":\"//avatars.mds.yandex.net/get-verba/787013/2a000001609d4d0453197e2f84719f735f86/full\",\"832x624\":\"//avatars.mds.yandex.net/get-verba/787013/2a000001609d4d0453197e2f84719f735f86/832x624\",\"456x342\":\"//avatars.mds.yandex.net/get-verba/787013/2a000001609d4d0453197e2f84719f735f86/456x342\",\"120x90\":\"//avatars.mds.yandex.net/get-verba/787013/2a000001609d4d0453197e2f84719f735f86/120x90\",\"92x69\":\"//avatars.mds.yandex.net/get-verba/787013/2a000001609d4d0453197e2f84719f735f86/92x69\",\"islandoff\":\"//avatars.mds.yandex.net/get-verba/787013/2a000001609d4d0453197e2f84719f735f86/islandoff\",\"thumb_s\":\"//avatars.mds.yandex.net/get-verba/787013/2a000001609d4d0453197e2f84719f735f86/thumb_s\",\"thumb_s_2x\":\"//avatars.mds.yandex.net/get-verba/787013/2a000001609d4d0453197e2f84719f735f86/thumb_s_2x\"}},{\"name\":\"front\",\"sizes\":{\"orig\":\"//avatars.mds.yandex.net/get-verba/787013/2a000001609d52e0fbde3d406e6bd9ef03f6/orig\",\"wizardv3mr\":\"//avatars.mds.yandex.net/get-verba/787013/2a000001609d52e0fbde3d406e6bd9ef03f6/wizardv3mr\",\"wizardv3\":\"//avatars.mds.yandex.net/get-verba/787013/2a000001609d52e0fbde3d406e6bd9ef03f6/wizardv3\",\"cattouch\":\"//avatars.mds.yandex.net/get-verba/787013/2a000001609d52e0fbde3d406e6bd9ef03f6/cattouch\",\"small\":\"//avatars.mds.yandex.net/get-verba/787013/2a000001609d52e0fbde3d406e6bd9ef03f6/small\",\"320x240\":\"//avatars.mds.yandex.net/get-verba/787013/2a000001609d52e0fbde3d406e6bd9ef03f6/320x240\",\"1200x900\":\"//avatars.mds.yandex.net/get-verba/787013/2a000001609d52e0fbde3d406e6bd9ef03f6/1200x900\",\"1200x900n\":\"//avatars.mds.yandex.net/get-verba/787013/2a000001609d52e0fbde3d406e6bd9ef03f6/1200x900n\",\"thumb_m\":\"//avatars.mds.yandex.net/get-verba/787013/2a000001609d52e0fbde3d406e6bd9ef03f6/thumb_m\",\"full\":\"//avatars.mds.yandex.net/get-verba/787013/2a000001609d52e0fbde3d406e6bd9ef03f6/full\",\"832x624\":\"//avatars.mds.yandex.net/get-verba/787013/2a000001609d52e0fbde3d406e6bd9ef03f6/832x624\",\"456x342\":\"//avatars.mds.yandex.net/get-verba/787013/2a000001609d52e0fbde3d406e6bd9ef03f6/456x342\",\"120x90\":\"//avatars.mds.yandex.net/get-verba/787013/2a000001609d52e0fbde3d406e6bd9ef03f6/120x90\",\"92x69\":\"//avatars.mds.yandex.net/get-verba/787013/2a000001609d52e0fbde3d406e6bd9ef03f6/92x69\",\"islandoff\":\"//avatars.mds.yandex.net/get-verba/787013/2a000001609d52e0fbde3d406e6bd9ef03f6/islandoff\",\"thumb_s\":\"//avatars.mds.yandex.net/get-verba/787013/2a000001609d52e0fbde3d406e6bd9ef03f6/thumb_s\",\"thumb_s_2x\":\"//avatars.mds.yandex.net/get-verba/787013/2a000001609d52e0fbde3d406e6bd9ef03f6/thumb_s_2x\"}},{\"name\":\"back\",\"sizes\":{\"orig\":\"//avatars.mds.yandex.net/get-verba/787013/2a000001609cfa81568f923c23ecc3e0a21a/orig\",\"wizardv3mr\":\"//avatars.mds.yandex.net/get-verba/787013/2a000001609cfa81568f923c23ecc3e0a21a/wizardv3mr\",\"wizardv3\":\"//avatars.mds.yandex.net/get-verba/787013/2a000001609cfa81568f923c23ecc3e0a21a/wizardv3\",\"cattouch\":\"//avatars.mds.yandex.net/get-verba/787013/2a000001609cfa81568f923c23ecc3e0a21a/cattouch\",\"small\":\"//avatars.mds.yandex.net/get-verba/787013/2a000001609cfa81568f923c23ecc3e0a21a/small\",\"320x240\":\"//avatars.mds.yandex.net/get-verba/787013/2a000001609cfa81568f923c23ecc3e0a21a/320x240\",\"1200x900\":\"//avatars.mds.yandex.net/get-verba/787013/2a000001609cfa81568f923c23ecc3e0a21a/1200x900\",\"1200x900n\":\"//avatars.mds.yandex.net/get-verba/787013/2a000001609cfa81568f923c23ecc3e0a21a/1200x900n\",\"thumb_m\":\"//avatars.mds.yandex.net/get-verba/787013/2a000001609cfa81568f923c23ecc3e0a21a/thumb_m\",\"full\":\"//avatars.mds.yandex.net/get-verba/787013/2a000001609cfa81568f923c23ecc3e0a21a/full\",\"832x624\":\"//avatars.mds.yandex.net/get-verba/787013/2a000001609cfa81568f923c23ecc3e0a21a/832x624\",\"456x342\":\"//avatars.mds.yandex.net/get-verba/787013/2a000001609cfa81568f923c23ecc3e0a21a/456x342\",\"120x90\":\"//avatars.mds.yandex.net/get-verba/787013/2a000001609cfa81568f923c23ecc3e0a21a/120x90\",\"92x69\":\"//avatars.mds.yandex.net/get-verba/787013/2a000001609cfa81568f923c23ecc3e0a21a/92x69\",\"islandoff\":\"//avatars.mds.yandex.net/get-verba/787013/2a000001609cfa81568f923c23ecc3e0a21a/islandoff\",\"thumb_s\":\"//avatars.mds.yandex.net/get-verba/787013/2a000001609cfa81568f923c23ecc3e0a21a/thumb_s\",\"thumb_s_2x\":\"//avatars.mds.yandex.net/get-verba/787013/2a000001609cfa81568f923c23ecc3e0a21a/thumb_s_2x\"}}],\"main_color\":false}]}']\n"
     ]
    }
   ],
   "source": [
    "check_column(test, 'complectation_dict')"
   ]
  },
  {
   "cell_type": "code",
   "execution_count": 66,
   "id": "4f573f1b",
   "metadata": {},
   "outputs": [],
   "source": [
    "train.drop(['Комплектация'], axis = 1, inplace = True)\n",
    "train_parsed.drop(['complectation_dict'], axis = 1, inplace = True)\n",
    "test.drop(['complectation_dict'], axis = 1, inplace = True)"
   ]
  },
  {
   "cell_type": "markdown",
   "id": "a8a89377",
   "metadata": {},
   "source": [
    "### name"
   ]
  },
  {
   "cell_type": "code",
   "execution_count": 67,
   "id": "6c675768",
   "metadata": {},
   "outputs": [
    {
     "name": "stdout",
     "output_type": "stream",
     "text": [
      "Пустых значений: 0\n",
      "Кол-во строк в столбце: 49308\n",
      "Тип данных столбца: object\n",
      "\n",
      "Уникальных значений: ['2.8 MT (174 л.с.) 4WD' '1.8 MT (90 л.с.)' '2.3 MT (136 л.с.) 4WD' ...\n",
      " '3.0 MT (150 л.с.)' '3.0 AT (160 л.с.)' '250 d 2.3d AT (190 л.с.) 4WD']\n"
     ]
    }
   ],
   "source": [
    "check_column(train, 'name')"
   ]
  },
  {
   "cell_type": "code",
   "execution_count": 68,
   "id": "1c864a9e",
   "metadata": {
    "scrolled": true
   },
   "outputs": [
    {
     "name": "stdout",
     "output_type": "stream",
     "text": [
      "Пустых значений: 0\n",
      "Кол-во строк в столбце: 129986\n",
      "Тип данных столбца: object\n",
      "\n",
      "Уникальных значений: ['Skoda Octavia III (A7)' 'Skoda Rapid II'\n",
      " 'Skoda Octavia III (A7) Рестайлинг' ... 'Mitsubishi 3000 GT II'\n",
      " 'Mitsubishi L400' 'Mitsubishi Eclipse Cross I Рестайлинг']\n"
     ]
    }
   ],
   "source": [
    "check_column(train_parsed, 'name')"
   ]
  },
  {
   "cell_type": "code",
   "execution_count": 69,
   "id": "df64897e",
   "metadata": {},
   "outputs": [
    {
     "name": "stdout",
     "output_type": "stream",
     "text": [
      "Пустых значений: 0\n",
      "Кол-во строк в столбце: 34686\n",
      "Тип данных столбца: object\n",
      "\n",
      "Уникальных значений: ['1.2 AMT (105 л.с.)' '1.6 MT (110 л.с.)' 'DSG 1.8 AMT (152 л.с.)' ...\n",
      " 'Arctic Trucks AT38 2.8d AT (177 л.с.) 4WD' '2.0 MT (151 л.с.) 4WD'\n",
      " '300 3.0 AT (218 л.с.)']\n"
     ]
    }
   ],
   "source": [
    "check_column(test, 'name')"
   ]
  },
  {
   "cell_type": "code",
   "execution_count": 70,
   "id": "278fabdf",
   "metadata": {},
   "outputs": [],
   "source": [
    "train.drop('name', axis = 1, inplace = True)\n",
    "train_parsed.drop('name', axis = 1, inplace = True)\n",
    "test.drop('name', axis = 1, inplace = True)"
   ]
  },
  {
   "cell_type": "markdown",
   "id": "8930b5a8",
   "metadata": {},
   "source": [
    "### numberOfDoors"
   ]
  },
  {
   "cell_type": "code",
   "execution_count": 71,
   "id": "df98da4d",
   "metadata": {},
   "outputs": [
    {
     "name": "stdout",
     "output_type": "stream",
     "text": [
      "Пустых значений: 0\n",
      "Кол-во строк в столбце: 49308\n",
      "Тип данных столбца: float64\n",
      "\n",
      "Уникальных значений: [4. 5. 3. 2. 0.]\n"
     ]
    }
   ],
   "source": [
    "check_column(train, 'numberOfDoors')"
   ]
  },
  {
   "cell_type": "code",
   "execution_count": 72,
   "id": "73a68cf8",
   "metadata": {
    "scrolled": true
   },
   "outputs": [
    {
     "name": "stdout",
     "output_type": "stream",
     "text": [
      "Пустых значений: 0\n",
      "Кол-во строк в столбце: 129986\n",
      "Тип данных столбца: float64\n",
      "\n",
      "Уникальных значений: [5. 4. 2. 3.]\n"
     ]
    }
   ],
   "source": [
    "check_column(train_parsed, 'numberOfDoors')"
   ]
  },
  {
   "cell_type": "code",
   "execution_count": 73,
   "id": "4adba4c3",
   "metadata": {},
   "outputs": [
    {
     "name": "stdout",
     "output_type": "stream",
     "text": [
      "Пустых значений: 0\n",
      "Кол-во строк в столбце: 34686\n",
      "Тип данных столбца: int64\n",
      "\n",
      "Уникальных значений: [5 4 2 3 0]\n"
     ]
    }
   ],
   "source": [
    "check_column(test, 'numberOfDoors')"
   ]
  },
  {
   "cell_type": "code",
   "execution_count": 74,
   "id": "b5bd57f2",
   "metadata": {},
   "outputs": [],
   "source": [
    "test['numberOfDoors'] = test['numberOfDoors'].astype(float)"
   ]
  },
  {
   "cell_type": "markdown",
   "id": "5995b76c",
   "metadata": {},
   "source": [
    "### price"
   ]
  },
  {
   "cell_type": "code",
   "execution_count": 75,
   "id": "e31aa70e",
   "metadata": {},
   "outputs": [
    {
     "name": "stdout",
     "output_type": "stream",
     "text": [
      "Пустых значений: 208\n",
      "Кол-во строк в столбце: 49308\n",
      "Тип данных столбца: float64\n",
      "\n",
      "Уникальных значений: [  200000.    60000.    99000. ... 35000000. 22434224. 52500000.]\n"
     ]
    }
   ],
   "source": [
    "check_column(train, 'price')"
   ]
  },
  {
   "cell_type": "code",
   "execution_count": 76,
   "id": "480cfa3a",
   "metadata": {
    "scrolled": true
   },
   "outputs": [
    {
     "name": "stdout",
     "output_type": "stream",
     "text": [
      "Пустых значений: 20222\n",
      "Кол-во строк в столбце: 129986\n",
      "Тип данных столбца: float64\n",
      "\n",
      "Уникальных значений: [ 999000. 1179000. 1464100. ...  347099. 1253100. 1425500.]\n"
     ]
    }
   ],
   "source": [
    "check_column(train_parsed, 'price')"
   ]
  },
  {
   "cell_type": "code",
   "execution_count": 77,
   "id": "086f9b7b",
   "metadata": {},
   "outputs": [],
   "source": [
    "train.dropna(subset = ['price'], axis = 0, inplace = True)\n",
    "train_parsed.dropna(subset = ['price'], axis = 0, inplace = True)"
   ]
  },
  {
   "cell_type": "code",
   "execution_count": 78,
   "id": "c5c415de",
   "metadata": {},
   "outputs": [],
   "source": [
    "test['price'] = 0.0"
   ]
  },
  {
   "cell_type": "markdown",
   "id": "d31d26fa",
   "metadata": {},
   "source": [
    "### productionDate"
   ]
  },
  {
   "cell_type": "code",
   "execution_count": 79,
   "id": "6698a9f3",
   "metadata": {},
   "outputs": [],
   "source": [
    "train_parsed = train_parsed.dropna(subset=['productionDate'], axis = 0)"
   ]
  },
  {
   "cell_type": "code",
   "execution_count": 80,
   "id": "45ead469",
   "metadata": {},
   "outputs": [],
   "source": [
    "train_parsed['productionDate'] = train_parsed['productionDate'].astype(np.int64)"
   ]
  },
  {
   "cell_type": "code",
   "execution_count": 81,
   "id": "5383145e",
   "metadata": {},
   "outputs": [
    {
     "name": "stdout",
     "output_type": "stream",
     "text": [
      "Пустых значений: 0\n",
      "Кол-во строк в столбце: 49100\n",
      "Тип данных столбца: int64\n",
      "\n",
      "Уникальных значений: [1991 1986 1989 1993 1992 1994 1987 1988 1985 1983 1980 1984 1990 1981\n",
      " 1995 1938 2014 2011 2013 2012 2016 2010 2002 2000 2001 2020 2008 2018\n",
      " 2015 2019 2007 2003 2017 2006 2005 2004 2009 1997 1999 1998 1996 1982\n",
      " 1972 1978 1937 1949 1948 1950 1953 1975 1969 1979 1976 1939 1974 1973\n",
      " 1954 1964 1970 1961 1960 1957 1968 1977 1904 1967 1966 1965 1963 1959\n",
      " 1936 1952]\n"
     ]
    }
   ],
   "source": [
    "check_column(train, 'productionDate')"
   ]
  },
  {
   "cell_type": "code",
   "execution_count": 82,
   "id": "8f9298b6",
   "metadata": {
    "scrolled": true
   },
   "outputs": [
    {
     "name": "stdout",
     "output_type": "stream",
     "text": [
      "Пустых значений: 0\n",
      "Кол-во строк в столбце: 109764\n",
      "Тип данных столбца: int64\n",
      "\n",
      "Уникальных значений: [2015 2020 2021 2018 2019 2014 2017 2011 2012 2013 2016 2010 2007 2009\n",
      " 2008 2003 2000 2001 2002 2006 2004 1998 1997 1999 2005 1996 1992 1984\n",
      " 1987 1995 1990 1991 1989 1994 1988 1986 1983 1993 1985 1980 1982 1978\n",
      " 1974 1979 1969 1959 1975 1976 1952 1973]\n"
     ]
    }
   ],
   "source": [
    "check_column(train_parsed, 'productionDate')"
   ]
  },
  {
   "cell_type": "code",
   "execution_count": 83,
   "id": "ff1a806a",
   "metadata": {},
   "outputs": [
    {
     "name": "stdout",
     "output_type": "stream",
     "text": [
      "Пустых значений: 0\n",
      "Кол-во строк в столбце: 34686\n",
      "Тип данных столбца: int64\n",
      "\n",
      "Уникальных значений: [2014 2017 2012 2011 2019 2018 2010 2020 2016 2013 2006 2007 2015 2005\n",
      " 2008 2009 1997 2004 2002 1987 2003 2001 1976 2000 1998 1995 1999 1993\n",
      " 1939 1996 1984 1990 1991 1992 1989 1982 1985 1994 1938 1981 1988 1983\n",
      " 1980 1986 1978 1970 1979 1977 1972 1975 1969 1950 1953 1949 1937 1959\n",
      " 1968 1936 1904 1974 1967 1961 1960 1965 1963 1957 1952 1973 1948]\n"
     ]
    }
   ],
   "source": [
    "check_column(test, 'productionDate')"
   ]
  },
  {
   "cell_type": "markdown",
   "id": "c7d6f8d0",
   "metadata": {},
   "source": [
    "### start_date"
   ]
  },
  {
   "cell_type": "code",
   "execution_count": 84,
   "id": "310dbe9c",
   "metadata": {},
   "outputs": [
    {
     "name": "stdout",
     "output_type": "stream",
     "text": [
      "Пустых значений: 0\n",
      "Кол-во строк в столбце: 49100\n",
      "Тип данных столбца: object\n",
      "\n",
      "Уникальных значений: ['2019-10-03T08:09:11Z' '2020-09-06T06:49:40Z' '2020-09-02T14:04:21Z' ...\n",
      " '2020-03-03T14:56:44Z' '2020-08-05T07:36:53Z' '2020-07-14T17:22:32Z']\n"
     ]
    }
   ],
   "source": [
    "check_column(train, 'start_date')"
   ]
  },
  {
   "cell_type": "code",
   "execution_count": 85,
   "id": "c4bccdcf",
   "metadata": {},
   "outputs": [
    {
     "name": "stdout",
     "output_type": "stream",
     "text": [
      "Пустых значений: 0\n",
      "Кол-во строк в столбце: 109764\n",
      "Тип данных столбца: float64\n",
      "\n",
      "Уникальных значений: [1.63261348e+09 1.63261348e+09 1.63261348e+09 ... 1.63304905e+09\n",
      " 1.63304905e+09 1.63304905e+09]\n"
     ]
    }
   ],
   "source": [
    "check_column(train_parsed, 'parsing_unixtime')"
   ]
  },
  {
   "cell_type": "code",
   "execution_count": 86,
   "id": "a341301f",
   "metadata": {
    "scrolled": true
   },
   "outputs": [
    {
     "name": "stdout",
     "output_type": "stream",
     "text": [
      "Пустых значений: 0\n",
      "Кол-во строк в столбце: 34686\n",
      "Тип данных столбца: int64\n",
      "\n",
      "Уникальных значений: [1603226273 1603226277 1603226280 ... 1603707843 1603707909 1603710264]\n"
     ]
    }
   ],
   "source": [
    "check_column(test, 'parsing_unixtime')"
   ]
  },
  {
   "cell_type": "code",
   "execution_count": 87,
   "id": "9649b221",
   "metadata": {},
   "outputs": [
    {
     "name": "stdout",
     "output_type": "stream",
     "text": [
      "train\n",
      "2014        1\n",
      "2015        4\n",
      "2016        7\n",
      "2017       26\n",
      "2018      925\n",
      "2019     5831\n",
      "2020    42306\n",
      "Name: start_date, dtype: int64\n",
      "\n",
      "train_parsed\n",
      "2021    109764\n",
      "Name: parsing_unixtime, dtype: int64\n",
      "\n",
      "test\n",
      "2020    34686\n",
      "Name: parsing_unixtime, dtype: int64\n"
     ]
    }
   ],
   "source": [
    "print('train')\n",
    "print(pd.DatetimeIndex(train['start_date'].apply(lambda x: x.split('T')[0])).year.value_counts().sort_values())\n",
    "print()\n",
    "print('train_parsed')\n",
    "print(pd.DatetimeIndex(pd.to_datetime(pd.to_datetime(train_parsed.parsing_unixtime, unit='s').dt.floor('d'))).year.value_counts())\n",
    "print()\n",
    "print('test')\n",
    "print(pd.DatetimeIndex(pd.to_datetime(pd.to_datetime(test.parsing_unixtime, unit='s').dt.floor('d'))).year.value_counts())"
   ]
  },
  {
   "cell_type": "code",
   "execution_count": 88,
   "id": "3d689fc4",
   "metadata": {},
   "outputs": [],
   "source": [
    "# Как мы видим, train более натуральный датасет, который ввелся вручную.\n",
    "# Тогда как данные датасетов train_parsed и test были получены парсингом. \n",
    "# Стоить отметить, что пустые значения можно заменить теми же годами, что есть в столбцах parsing_unixtime датасетов.\n",
    "# Но прежде мы переименнуем названия столбцов.\n",
    "rename_column(train, 'start_date', 'pars_date')\n",
    "rename_column(train_parsed, 'parsing_unixtime', 'pars_date')\n",
    "rename_column(test, 'parsing_unixtime', 'pars_date')"
   ]
  },
  {
   "cell_type": "code",
   "execution_count": 89,
   "id": "77afab03",
   "metadata": {},
   "outputs": [],
   "source": [
    "train['pars_date'] = pd.DatetimeIndex(train['pars_date'].apply(lambda x: x.split('T')[0])).year\n",
    "train_parsed['pars_date'] = int(2021)\n",
    "test['pars_date'] = int(2020)"
   ]
  },
  {
   "cell_type": "code",
   "execution_count": 90,
   "id": "9cf84471",
   "metadata": {},
   "outputs": [
    {
     "name": "stdout",
     "output_type": "stream",
     "text": [
      "Пустых значений: 0\n",
      "Кол-во строк в столбце: 49100\n",
      "Тип данных столбца: int64\n",
      "\n",
      "Уникальных значений: [2019 2020 2018 2017 2015 2016 2014]\n"
     ]
    }
   ],
   "source": [
    "check_column(train, 'pars_date')"
   ]
  },
  {
   "cell_type": "code",
   "execution_count": 91,
   "id": "d1fedd83",
   "metadata": {},
   "outputs": [
    {
     "name": "stdout",
     "output_type": "stream",
     "text": [
      "Пустых значений: 0\n",
      "Кол-во строк в столбце: 109764\n",
      "Тип данных столбца: int64\n",
      "\n",
      "Уникальных значений: [2021]\n"
     ]
    }
   ],
   "source": [
    "check_column(train_parsed, 'pars_date')"
   ]
  },
  {
   "cell_type": "code",
   "execution_count": 92,
   "id": "a56e6929",
   "metadata": {},
   "outputs": [
    {
     "name": "stdout",
     "output_type": "stream",
     "text": [
      "Пустых значений: 0\n",
      "Кол-во строк в столбце: 34686\n",
      "Тип данных столбца: int64\n",
      "\n",
      "Уникальных значений: [2020]\n"
     ]
    }
   ],
   "source": [
    "check_column(test, 'pars_date')"
   ]
  },
  {
   "cell_type": "markdown",
   "id": "20e24e85",
   "metadata": {},
   "source": [
    "### vehicleConfiguration"
   ]
  },
  {
   "cell_type": "code",
   "execution_count": 93,
   "id": "5f8a4c9d",
   "metadata": {},
   "outputs": [
    {
     "name": "stdout",
     "output_type": "stream",
     "text": [
      "Пустых значений: 0\n",
      "Кол-во строк в столбце: 49100\n",
      "Тип данных столбца: object\n",
      "\n",
      "Уникальных значений: ['SEDAN MECHANICAL 2.8' 'SEDAN MECHANICAL 1.8'\n",
      " 'WAGON_5_DOORS MECHANICAL 2.3' ... 'COUPE_HARDTOP MECHANICAL 230'\n",
      " 'PICKUP_TWO AUTOMATIC 350' 'PICKUP_TWO AUTOMATIC 250']\n"
     ]
    }
   ],
   "source": [
    "check_column(train, 'vehicleConfiguration')"
   ]
  },
  {
   "cell_type": "code",
   "execution_count": 94,
   "id": "587bde63",
   "metadata": {},
   "outputs": [
    {
     "name": "stdout",
     "output_type": "stream",
     "text": [
      "Пустых значений: 0\n",
      "Кол-во строк в столбце: 109764\n",
      "Тип данных столбца: object\n",
      "\n",
      "Уникальных значений: ['LIFTBACK ROBOT 1.8' 'LIFTBACK AUTOMATIC 1.6' 'LIFTBACK MECHANICAL 1.6'\n",
      " 'LIFTBACK ROBOT 1.4' 'ALLROAD_5_DOORS AUTOMATIC 1.4'\n",
      " 'ALLROAD_5_DOORS ROBOT 1.2' 'ALLROAD_5_DOORS ROBOT 1.4'\n",
      " 'ALLROAD_5_DOORS ROBOT 2.0' 'ALLROAD_5_DOORS ROBOT 1.8'\n",
      " 'COMPACTVAN MECHANICAL 1.6' 'HATCHBACK_5_DOORS AUTOMATIC 1.6'\n",
      " 'LIFTBACK MECHANICAL 1.2' 'ALLROAD_5_DOORS MECHANICAL 1.2'\n",
      " 'WAGON_5_DOORS ROBOT 1.8' 'HATCHBACK_5_DOORS MECHANICAL 1.2'\n",
      " 'WAGON_5_DOORS MECHANICAL 1.4' 'LIFTBACK MECHANICAL 1.4'\n",
      " 'ALLROAD_5_DOORS MECHANICAL 1.6' 'LIFTBACK ROBOT 2.0'\n",
      " 'WAGON_5_DOORS ROBOT 1.4' 'LIFTBACK MECHANICAL 1.8'\n",
      " 'LIFTBACK AUTOMATIC 1.8' 'ALLROAD_5_DOORS MECHANICAL 1.8'\n",
      " 'WAGON_5_DOORS MECHANICAL 1.6' 'ALLROAD_5_DOORS AUTOMATIC 1.6'\n",
      " 'HATCHBACK_5_DOORS MECHANICAL 1.4' 'WAGON_5_DOORS MECHANICAL 1.8'\n",
      " 'ALLROAD_5_DOORS MECHANICAL 1.4' 'WAGON_5_DOORS ROBOT 2.0'\n",
      " 'LIFTBACK AUTOMATIC 1.4' 'WAGON_5_DOORS AUTOMATIC 1.6'\n",
      " 'COMPACTVAN MECHANICAL 1.4' 'HATCHBACK_5_DOORS AUTOMATIC 1.4'\n",
      " 'LIFTBACK ROBOT 1.2' 'WAGON_5_DOORS ROBOT 3.6'\n",
      " 'HATCHBACK_5_DOORS MECHANICAL 1.6' 'ALLROAD_5_DOORS ROBOT 1.5'\n",
      " 'WAGON_5_DOORS AUTOMATIC 1.8' 'SEDAN MECHANICAL 1.2' 'LIFTBACK ROBOT 1.9'\n",
      " 'COMPACTVAN MECHANICAL 1.2' 'WAGON_5_DOORS MECHANICAL 1.3'\n",
      " 'SEDAN MECHANICAL 1.4' 'HATCHBACK_5_DOORS MECHANICAL 1.3'\n",
      " 'WAGON_5_DOORS MECHANICAL 1.2' 'SEDAN AUTOMATIC 1.8'\n",
      " 'LIFTBACK MECHANICAL 2.0' 'SEDAN MECHANICAL 1.8'\n",
      " 'LIFTBACK MECHANICAL 1.9' 'WAGON_5_DOORS ROBOT 1.6'\n",
      " 'ALLROAD_5_DOORS MECHANICAL 2.0' 'COMPACTVAN AUTOMATIC 1.6'\n",
      " 'HATCHBACK_5_DOORS ROBOT 1.2' 'LIFTBACK AUTOMATIC 2.0'\n",
      " 'HATCHBACK_5_DOORS ROBOT 1.4' 'SEDAN AUTOMATIC 2.8'\n",
      " 'WAGON_5_DOORS MECHANICAL 1.9' 'WAGON_5_DOORS MECHANICAL 2.0'\n",
      " 'LIFTBACK ROBOT 1.5' 'SEDAN AUTOMATIC 1.4' 'SEDAN AUTOMATIC 3.0'\n",
      " 'SEDAN ROBOT 2.0' 'SEDAN AUTOMATIC 3.1' 'SEDAN ROBOT 1.8'\n",
      " 'LIFTBACK ROBOT 3.0' 'SEDAN VARIATOR 2.0' 'COUPE VARIATOR 1.8'\n",
      " 'ALLROAD_5_DOORS AUTOMATIC 3.0' 'SEDAN VARIATOR 1.8' 'COUPE ROBOT 2.0'\n",
      " 'SEDAN ROBOT 2.8' 'COUPE MECHANICAL 1.8' 'SEDAN ROBOT 1.4'\n",
      " 'SEDAN ROBOT 3.0' 'ALLROAD_5_DOORS AUTOMATIC 2.0'\n",
      " 'WAGON_5_DOORS AUTOMATIC 2.7' 'SEDAN AUTOMATIC 4.0'\n",
      " 'ALLROAD_5_DOORS ROBOT 3.0' 'SEDAN MECHANICAL 2.4'\n",
      " 'HATCHBACK_5_DOORS MECHANICAL 1.8' 'ALLROAD_5_DOORS AUTOMATIC 4.0'\n",
      " 'HATCHBACK_5_DOORS ROBOT 1.8' 'COUPE AUTOMATIC 2.9'\n",
      " 'HATCHBACK_5_DOORS AUTOMATIC 1.8' 'HATCHBACK_3_DOORS ROBOT 1.8'\n",
      " 'SEDAN AUTOMATIC 4.2' 'SEDAN VARIATOR 2.8' 'SEDAN MECHANICAL 2.0'\n",
      " 'ALLROAD_5_DOORS ROBOT 2.5' 'ALLROAD_5_DOORS AUTOMATIC 4.2'\n",
      " 'WAGON_5_DOORS VARIATOR 1.8' 'SEDAN AUTOMATIC 2.0'\n",
      " 'WAGON_5_DOORS VARIATOR 2.5' 'WAGON_5_DOORS ROBOT 3.0'\n",
      " 'COUPE AUTOMATIC 3.2' 'WAGON_5_DOORS AUTOMATIC 2.5'\n",
      " 'LIFTBACK VARIATOR 1.8' 'LIFTBACK ROBOT 2.8'\n",
      " 'ALLROAD_5_DOORS AUTOMATIC 4.1' 'HATCHBACK_5_DOORS ROBOT 2.0'\n",
      " 'HATCHBACK_3_DOORS ROBOT 1.6' 'COUPE VARIATOR 2.0' 'CABRIO AUTOMATIC 4.2'\n",
      " 'HATCHBACK_3_DOORS ROBOT 1.4' 'SEDAN AUTOMATIC 2.4'\n",
      " 'WAGON_5_DOORS AUTOMATIC 3.1' 'COUPE ROBOT 4.2' 'SEDAN AUTOMATIC 2.3'\n",
      " 'SEDAN MECHANICAL 2.2' 'SEDAN MECHANICAL 2.3' 'ALLROAD_5_DOORS ROBOT 3.2'\n",
      " 'SEDAN AUTOMATIC 2.5' 'SEDAN VARIATOR 3.1' 'SEDAN MECHANICAL 1.6'\n",
      " 'WAGON_5_DOORS AUTOMATIC 2.0' 'SEDAN AUTOMATIC 2.6'\n",
      " 'HATCHBACK_5_DOORS AUTOMATIC 2.0' 'WAGON_5_DOORS AUTOMATIC 4.0'\n",
      " 'WAGON_5_DOORS AUTOMATIC 3.0' 'HATCHBACK_5_DOORS ROBOT 2.5'\n",
      " 'ALLROAD_5_DOORS AUTOMATIC' 'ALLROAD_5_DOORS AUTOMATIC 3.6'\n",
      " 'LIFTBACK VARIATOR 2.0' 'SEDAN MECHANICAL 2.8'\n",
      " 'ALLROAD_5_DOORS AUTOMATIC 5.9' 'WAGON_5_DOORS VARIATOR 2.0'\n",
      " 'ALLROAD_5_DOORS AUTOMATIC 3.2' 'SEDAN MECHANICAL 1.9'\n",
      " 'WAGON_5_DOORS MECHANICAL 2.5' 'COUPE ROBOT 2.5' 'SEDAN VARIATOR 2.4'\n",
      " 'ROADSTER ROBOT 3.2' 'HATCHBACK_3_DOORS AUTOMATIC 1.6'\n",
      " 'HATCHBACK_3_DOORS MECHANICAL 1.8' 'LIFTBACK AUTOMATIC 4.0'\n",
      " 'SEDAN ROBOT 4.0' 'COUPE AUTOMATIC 4.2' 'HATCHBACK_3_DOORS AUTOMATIC 1.8'\n",
      " 'LIFTBACK AUTOMATIC 3.0' 'COUPE ROBOT 3.0' 'SEDAN AUTOMATIC 2.7'\n",
      " 'HATCHBACK_3_DOORS AUTOMATIC 2.0' 'COUPE VARIATOR 3.2'\n",
      " 'WAGON_5_DOORS AUTOMATIC 2.4' 'HATCHBACK_3_DOORS ROBOT 1.2'\n",
      " 'SEDAN AUTOMATIC 5.2' 'HATCHBACK_3_DOORS MECHANICAL 1.6'\n",
      " 'SEDAN AUTOMATIC 3.7' 'SEDAN MECHANICAL 3.6'\n",
      " 'WAGON_5_DOORS MECHANICAL 2.7' 'SEDAN MECHANICAL 2.5' 'SEDAN AUTOMATIC'\n",
      " 'CABRIO VARIATOR 3.2' 'WAGON_5_DOORS MECHANICAL 2.2'\n",
      " 'CABRIO AUTOMATIC 2.0' 'SEDAN MECHANICAL 2.6' 'WAGON_5_DOORS ROBOT 2.8'\n",
      " 'SEDAN AUTOMATIC 1.6' 'WAGON_5_DOORS AUTOMATIC 2.8'\n",
      " 'WAGON_5_DOORS VARIATOR 2.4' 'HATCHBACK_5_DOORS ROBOT 1.5'\n",
      " 'WAGON_5_DOORS AUTOMATIC 2.6' 'COUPE AUTOMATIC 3.0' 'SEDAN AUTOMATIC 4.1'\n",
      " 'CABRIO VARIATOR 2.0' 'COUPE ROBOT 5.2' 'WAGON_5_DOORS AUTOMATIC 5.0'\n",
      " 'COUPE MECHANICAL 2.0' 'SEDAN MECHANICAL 3.1' 'SEDAN AUTOMATIC 2.1'\n",
      " 'SEDAN AUTOMATIC 5.0' 'SEDAN AUTOMATIC 1.9' 'CABRIO VARIATOR 2.4'\n",
      " 'SEDAN MECHANICAL 4.2' 'WAGON_5_DOORS MECHANICAL 2.6'\n",
      " 'COUPE MECHANICAL 2.5' 'WAGON_5_DOORS ROBOT 4.2'\n",
      " 'HATCHBACK_3_DOORS MECHANICAL 2.0' 'LIFTBACK ROBOT 4.0'\n",
      " 'COUPE AUTOMATIC 1.8' 'ROADSTER ROBOT 1.8' 'SEDAN AUTOMATIC 6.0'\n",
      " 'ALLROAD_5_DOORS MECHANICAL 3.6' 'COUPE MECHANICAL 2.6'\n",
      " 'WAGON_5_DOORS AUTOMATIC 4.2' 'WAGON_5_DOORS MECHANICAL 2.4'\n",
      " 'HATCHBACK_5_DOORS ROBOT 1.6' 'SEDAN MECHANICAL 2.1'\n",
      " 'ROADSTER MECHANICAL 2.5' 'CABRIO MECHANICAL 1.8' 'SEDAN MECHANICAL 2.7'\n",
      " 'ALLROAD_5_DOORS AUTOMATIC 2.4' 'SEDAN AUTOMATIC 1.5'\n",
      " 'ALLROAD_5_DOORS VARIATOR 2.4' 'HATCHBACK_5_DOORS VARIATOR 1.3'\n",
      " 'HATCHBACK_5_DOORS VARIATOR 1.5' 'ALLROAD_5_DOORS AUTOMATIC 3.5'\n",
      " 'COMPACTVAN VARIATOR 1.5' 'ALLROAD_5_DOORS VARIATOR 2.0'\n",
      " 'COMPACTVAN AUTOMATIC 1.8' 'HATCHBACK_3_DOORS MECHANICAL 1.4'\n",
      " 'HATCHBACK_3_DOORS AUTOMATIC 1.4' 'HATCHBACK_3_DOORS MECHANICAL 1.3'\n",
      " 'HATCHBACK_5_DOORS AUTOMATIC 0.7' 'ALLROAD_5_DOORS VARIATOR 1.6'\n",
      " 'HATCHBACK_5_DOORS VARIATOR 0.7' 'MINIVAN AUTOMATIC 2.0'\n",
      " 'MINIVAN VARIATOR 2.0' 'MINIVAN VARIATOR 1.5' 'COMPACTVAN AUTOMATIC 1.7'\n",
      " 'SEDAN AUTOMATIC 3.5' 'COMPACTVAN AUTOMATIC 2.2'\n",
      " 'COMPACTVAN AUTOMATIC 2.0' 'MICROVAN AUTOMATIC 1.5' 'SEDAN VARIATOR 1.5'\n",
      " 'SEDAN MECHANICAL 1.5' 'WAGON_5_DOORS VARIATOR 1.5' 'SEDAN VARIATOR 1.3'\n",
      " 'COUPE AUTOMATIC 1.5' 'WAGON_5_DOORS ROBOT 1.5' 'MINIVAN AUTOMATIC 2.4'\n",
      " 'ALLROAD_5_DOORS AUTOMATIC 2.2' 'HATCHBACK_3_DOORS AUTOMATIC 1.3'\n",
      " 'COUPE AUTOMATIC 2.2' 'HATCHBACK_5_DOORS ROBOT 1.3'\n",
      " 'COMPACTVAN AUTOMATIC 2.3' 'WAGON_5_DOORS AUTOMATIC 1.5'\n",
      " 'COMPACTVAN AUTOMATIC 1.5' 'COUPE MECHANICAL 1.5' 'MINIVAN AUTOMATIC 3.5'\n",
      " 'COMPACTVAN VARIATOR 2.4' 'COUPE VARIATOR 1.5'\n",
      " 'ALLROAD_5_DOORS MECHANICAL 2.4' 'ALLROAD_5_DOORS VARIATOR 1.5'\n",
      " 'ALLROAD_5_DOORS MECHANICAL 2.2' 'ALLROAD_5_DOORS AUTOMATIC 1.8'\n",
      " 'COMPACTVAN MECHANICAL 2.0' 'ROADSTER VARIATOR 0.7'\n",
      " 'HATCHBACK_3_DOORS MECHANICAL 1.5' 'HATCHBACK_3_DOORS AUTOMATIC 1.5'\n",
      " 'HATCHBACK_5_DOORS AUTOMATIC 1.3' 'COUPE MECHANICAL 2.2'\n",
      " 'MINIVAN AUTOMATIC 1.5' 'WAGON_5_DOORS VARIATOR 1.3' 'SEDAN ROBOT 1.5'\n",
      " 'WAGON_5_DOORS AUTOMATIC 2.3' 'COMPACTVAN AUTOMATIC 2.4'\n",
      " 'HATCHBACK_5_DOORS AUTOMATIC 1.5' 'ALLROAD_3_DOORS VARIATOR 1.6'\n",
      " 'MINIVAN AUTOMATIC 3.0' 'SEDAN AUTOMATIC 2.2'\n",
      " 'HATCHBACK_5_DOORS MECHANICAL 2.0' 'COUPE MECHANICAL 1.6'\n",
      " 'WAGON_5_DOORS AUTOMATIC 1.4' 'HATCHBACK_5_DOORS MECHANICAL 1.5'\n",
      " 'COUPE AUTOMATIC 1.7' 'MINIVAN VARIATOR 2.4' 'COUPE MECHANICAL 1.7'\n",
      " 'SEDAN AUTOMATIC 1.3' 'ALLROAD_3_DOORS MECHANICAL 1.6'\n",
      " 'HATCHBACK_3_DOORS MECHANICAL 0.7' 'SEDAN AUTOMATIC 1.7'\n",
      " 'COMPACTVAN ROBOT 1.5' 'CABRIO MECHANICAL 2.0' 'SEDAN MECHANICAL 1.7'\n",
      " 'HATCHBACK_3_DOORS VARIATOR 1.5' 'PICKUP_TWO AUTOMATIC 3.5'\n",
      " 'MICROVAN VARIATOR 1.5' 'COMPACTVAN VARIATOR 2.0' 'SEDAN AUTOMATIC 3.2'\n",
      " 'SEDAN MECHANICAL 1.3' 'COMPACTVAN MECHANICAL 1.7'\n",
      " 'HATCHBACK_3_DOORS AUTOMATIC 0.7' 'MICROVAN AUTOMATIC 0.7'\n",
      " 'SEDAN ROBOT 3.5' 'ROADSTER MECHANICAL 0.7' 'SEDAN VARIATOR 1.7'\n",
      " 'ALLROAD_5_DOORS VARIATOR 1.8' 'COUPE AUTOMATIC 3.5'\n",
      " 'COUPE AUTOMATIC 2.0' 'HATCHBACK_5_DOORS MECHANICAL 1.7'\n",
      " 'CABRIO MECHANICAL 2.2' 'HATCHBACK_3_DOORS VARIATOR 1.3'\n",
      " 'HATCHBACK_3_DOORS AUTOMATIC 1.2' 'HATCHBACK_5_DOORS VARIATOR 1.7'\n",
      " 'WAGON_5_DOORS AUTOMATIC 2.2' 'HATCHBACK_3_DOORS MECHANICAL 1.2'\n",
      " 'WAGON_5_DOORS AUTOMATIC 1.3' 'SEDAN VARIATOR 1.6' 'COUPE AUTOMATIC 2.4'\n",
      " 'HATCHBACK_5_DOORS MECHANICAL 1.9' 'SEDAN MECHANICAL 3.2'\n",
      " 'HATCHBACK_5_DOORS AUTOMATIC 1.7' 'COUPE AUTOMATIC 1.6'\n",
      " 'WAGON_5_DOORS MECHANICAL 1.5' 'COUPE MECHANICAL 2.7'\n",
      " 'HATCHBACK_5_DOORS AUTOMATIC 1.9' 'COUPE MECHANICAL 2.3'\n",
      " 'SEDAN ROBOT 1.6' 'ALLROAD_5_DOORS AUTOMATIC 2.5'\n",
      " 'WAGON_5_DOORS AUTOMATIC 3.2' 'HATCHBACK_3_DOORS ROBOT 2.0'\n",
      " 'SEDAN AUTOMATIC 2.9' 'HATCHBACK_3_DOORS AUTOMATIC 2.4'\n",
      " 'CABRIO AUTOMATIC 2.5' 'ALLROAD_5_DOORS AUTOMATIC 2.9'\n",
      " 'ALLROAD_5_DOORS AUTOMATIC 4.4' 'ALLROAD_5_DOORS MECHANICAL 2.5'\n",
      " 'SEDAN AUTOMATIC 4.4' 'WAGON_5_DOORS MECHANICAL 2.1'\n",
      " 'SEDAN MECHANICAL 2.9' 'HATCHBACK_5_DOORS AUTOMATIC 2.5'\n",
      " 'WAGON_5_DOORS MECHANICAL 2.3' 'CABRIO AUTOMATIC 2.4'\n",
      " 'ALLROAD_5_DOORS AUTOMATIC 1.5' 'WAGON_5_DOORS MECHANICAL 1.7'\n",
      " 'COUPE AUTOMATIC 2.3' 'HATCHBACK_3_DOORS MECHANICAL 2.5'\n",
      " 'CABRIO AUTOMATIC 2.3' 'CABRIO AUTOMATIC 3.0' 'COUPE AUTOMATIC 4.4'\n",
      " 'SEDAN MECHANICAL 4.0' 'ALLROAD_5_DOORS AUTOMATIC 4.8'\n",
      " 'CABRIO AUTOMATIC 4.4' 'COUPE ROBOT 4.4' 'HATCHBACK_5_DOORS AUTOMATIC'\n",
      " 'SEDAN AUTOMATIC 6.6' 'COUPE AUTOMATIC 2.5'\n",
      " 'HATCHBACK_5_DOORS MECHANICAL 3.0' 'SEDAN AUTOMATIC 3.6'\n",
      " 'ALLROAD_5_DOORS AUTOMATIC 4.6' 'SEDAN ROBOT 4.4' 'SEDAN MECHANICAL 3.0'\n",
      " 'ROADSTER AUTOMATIC 2.5' 'COMPACTVAN MECHANICAL 1.5' 'COUPE ROBOT 5.0'\n",
      " 'ROADSTER AUTOMATIC 2.0' 'SEDAN MECHANICAL 4.9' 'LIFTBACK AUTOMATIC 4.4'\n",
      " 'ALLROAD_5_DOORS MECHANICAL 3.0' 'CABRIO AUTOMATIC 4.8'\n",
      " 'COUPE MECHANICAL 3.4' 'COUPE MECHANICAL 3.0' 'COUPE ROBOT 4.0'\n",
      " 'CABRIO AUTOMATIC 2.8' 'ROADSTER AUTOMATIC 3.0' 'SEDAN ROBOT 5.0'\n",
      " 'ROADSTER ROBOT 3.0' 'WAGON_5_DOORS AUTOMATIC 2.9' 'SEDAN AUTOMATIC 3.4'\n",
      " 'CABRIO ROBOT 5.0' 'ROADSTER MECHANICAL 1.9' 'SEDAN AUTOMATIC 5.4'\n",
      " 'ALLROAD_5_DOORS VARIATOR 2.5' 'SEDAN VARIATOR 2.5'\n",
      " 'PICKUP_TWO AUTOMATIC 2.5' 'SEDAN VARIATOR 3.5'\n",
      " 'ALLROAD_5_DOORS VARIATOR 3.5' 'ALLROAD_5_DOORS VARIATOR 1.2'\n",
      " 'ALLROAD_5_DOORS MECHANICAL 1.5' 'PICKUP_TWO MECHANICAL 2.5'\n",
      " 'HATCHBACK_5_DOORS AUTOMATIC 1.2' 'HATCHBACK_5_DOORS VARIATOR 1.2'\n",
      " 'ALLROAD_5_DOORS AUTOMATIC 5.6' 'ALLROAD_5_DOORS MECHANICAL 2.8'\n",
      " 'COMPACTVAN AUTOMATIC 1.3' 'COUPE ROBOT 3.8'\n",
      " 'PICKUP_ONE_HALF MECHANICAL 2.5' 'WAGON_5_DOORS AUTOMATIC 1.2'\n",
      " 'HATCHBACK_5_DOORS MECHANICAL 1.0' 'MINIVAN VARIATOR 3.5'\n",
      " 'MINIVAN AUTOMATIC 1.6' 'HATCHBACK_3_DOORS VARIATOR 1.4'\n",
      " 'HATCHBACK_5_DOORS AUTOMATIC 1.0' 'MINIVAN MECHANICAL 2.2'\n",
      " 'ALLROAD_3_DOORS MECHANICAL 2.4' 'ALLROAD_5_DOORS MECHANICAL 3.3'\n",
      " 'COMPACTVAN AUTOMATIC 1.4' 'HATCHBACK_3_DOORS MECHANICAL 1.0'\n",
      " 'HATCHBACK_5_DOORS VARIATOR 1.6' 'ALLROAD_3_DOORS AUTOMATIC 0.7'\n",
      " 'COUPE AUTOMATIC 3.7' 'PICKUP_TWO AUTOMATIC 5.6'\n",
      " 'ALLROAD_5_DOORS AUTOMATIC 3.3' 'MINIVAN MECHANICAL 1.5'\n",
      " 'MICROVAN ROBOT 0.7' 'MINIVAN AUTOMATIC 1.8' 'COMPACTVAN MECHANICAL 2.3'\n",
      " 'VAN MECHANICAL 2.3' 'ALLROAD_5_DOORS AUTOMATIC 3.7'\n",
      " 'ALLROAD_5_DOORS AUTOMATIC 4.5' 'ALLROAD_5_DOORS AUTOMATIC 5.0'\n",
      " 'COUPE MECHANICAL 3.7' 'SEDAN AUTOMATIC 4.5' 'CABRIO AUTOMATIC 3.7'\n",
      " 'SEDAN AUTOMATIC 5.6' 'COUPE MECHANICAL 3.5' 'MINIVAN AUTOMATIC 2.1'\n",
      " 'ALLROAD_5_DOORS AUTOMATIC 5.5' 'ALLROAD_5_DOORS AUTOMATIC 5.4'\n",
      " 'ALLROAD_5_DOORS AUTOMATIC 4.7' 'COUPE AUTOMATIC 5.5' 'SEDAN ROBOT 1.3'\n",
      " 'ALLROAD_5_DOORS AUTOMATIC 2.1' 'COUPE AUTOMATIC 4.0'\n",
      " 'SEDAN AUTOMATIC 4.7' 'ALLROAD_5_DOORS ROBOT 1.6' 'SEDAN AUTOMATIC 5.5'\n",
      " 'COUPE_HARDTOP AUTOMATIC 2.0' 'COUPE_HARDTOP AUTOMATIC 1.8'\n",
      " 'ALLROAD_5_DOORS ROBOT 1.3' 'ROADSTER AUTOMATIC 1.8'\n",
      " 'MINIVAN AUTOMATIC 3.2' 'WAGON_5_DOORS ROBOT 1.3'\n",
      " 'WAGON_5_DOORS MECHANICAL 2.8' 'COUPE AUTOMATIC 4.7'\n",
      " 'ALLROAD_5_DOORS AUTOMATIC 6.2' 'ROADSTER AUTOMATIC 5.5'\n",
      " 'COUPE_HARDTOP AUTOMATIC 3.5' 'MINIVAN MECHANICAL 2.1'\n",
      " 'HATCHBACK_5_DOORS VARIATOR 2.0' 'COUPE AUTOMATIC 2.8'\n",
      " 'COUPE_HARDTOP AUTOMATIC 5.0' 'PICKUP_TWO AUTOMATIC 3.0'\n",
      " 'ROADSTER ROBOT 6.2' 'ALLROAD_5_DOORS AUTOMATIC 6.0'\n",
      " 'COUPE_HARDTOP AUTOMATIC 6.2' 'ROADSTER AUTOMATIC 3.5'\n",
      " 'VAN MECHANICAL 1.6' 'MINIVAN AUTOMATIC 2.2' 'SEDAN AUTOMATIC 6.2'\n",
      " 'MINIVAN MECHANICAL 1.6' 'VAN MECHANICAL 2.2' 'MINIVAN AUTOMATIC 2.3'\n",
      " 'ROADSTER AUTOMATIC 5.0' 'MINIVAN AUTOMATIC'\n",
      " 'COUPE_HARDTOP AUTOMATIC 4.7' 'PICKUP_TWO AUTOMATIC 2.3'\n",
      " 'COUPE_HARDTOP AUTOMATIC 5.5' 'WAGON_5_DOORS AUTOMATIC 2.1'\n",
      " 'COUPE AUTOMATIC 6.0' 'COUPE AUTOMATIC 5.6' 'ROADSTER AUTOMATIC 5.4'\n",
      " 'CABRIO MECHANICAL 3.0' 'COUPE AUTOMATIC 6.2' 'ROADSTER AUTOMATIC 3.7'\n",
      " 'ALLROAD_5_DOORS MECHANICAL 2.3' 'COUPE_HARDTOP AUTOMATIC 5.8'\n",
      " 'ROADSTER ROBOT 4.0' 'HATCHBACK_3_DOORS VARIATOR 1.7'\n",
      " 'LIMOUSINE MECHANICAL 3.0' 'ALLROAD_OPEN MECHANICAL 3.0'\n",
      " 'COUPE_HARDTOP MECHANICAL 1.8' 'ROADSTER AUTOMATIC 2.3'\n",
      " 'ALLROAD_5_DOORS AUTOMATIC 2.7' 'PICKUP_TWO AUTOMATIC 4.0'\n",
      " 'COMPACTVAN VARIATOR 1.8' 'PICKUP_TWO AUTOMATIC 2.8'\n",
      " 'WAGON_5_DOORS VARIATOR 1.6' 'ALLROAD_5_DOORS AUTOMATIC 2.8'\n",
      " 'MINIVAN MECHANICAL 2.7' 'MINIVAN VARIATOR 1.8'\n",
      " 'ALLROAD_3_DOORS AUTOMATIC 2.0' 'ALLROAD_5_DOORS MECHANICAL 4.2'\n",
      " 'ALLROAD_5_DOORS MECHANICAL 2.7' 'ALLROAD_5_DOORS AUTOMATIC 3.4'\n",
      " 'PICKUP_ONE AUTOMATIC 2.8' 'HATCHBACK_3_DOORS ROBOT 1.3'\n",
      " 'MINIVAN AUTOMATIC 2.7' 'COMPACTVAN MECHANICAL 1.8'\n",
      " 'ALLROAD_5_DOORS AUTOMATIC 5.7' 'PICKUP_TWO AUTOMATIC 5.7'\n",
      " 'PICKUP_TWO MECHANICAL 2.4' 'ALLROAD_3_DOORS MECHANICAL 2.0'\n",
      " 'ALLROAD_5_DOORS MECHANICAL 4.0' 'ALLROAD_5_DOORS MECHANICAL 3.4'\n",
      " 'PICKUP_TWO MECHANICAL 2.7' 'PICKUP_TWO AUTOMATIC 2.4'\n",
      " 'HATCHBACK_5_DOORS VARIATOR 1.0' 'MINIVAN AUTOMATIC 2.8'\n",
      " 'ALLROAD_5_DOORS VARIATOR 3.3' 'MINIVAN AUTOMATIC 3.3'\n",
      " 'HATCHBACK_3_DOORS VARIATOR 1.0' 'ALLROAD_3_DOORS AUTOMATIC 3.0'\n",
      " 'ALLROAD_3_DOORS AUTOMATIC 4.0' 'HATCHBACK_3_DOORS AUTOMATIC 1.0'\n",
      " 'SEDAN_HARDTOP AUTOMATIC 2.0' 'SEDAN AUTOMATIC 1.0'\n",
      " 'MINIVAN VARIATOR 2.5' 'MINIVAN MECHANICAL 1.8'\n",
      " 'ALLROAD_5_DOORS MECHANICAL 4.5' 'PICKUP_TWO AUTOMATIC 2.7'\n",
      " 'PICKUP_TWO AUTOMATIC 4.7' 'MINIVAN AUTOMATIC 2.5'\n",
      " 'ALLROAD_3_DOORS AUTOMATIC 2.7' 'PICKUP_ONE_HALF AUTOMATIC 5.7'\n",
      " 'HATCHBACK_5_DOORS VARIATOR 1.8' 'SEDAN AUTOMATIC 4.6'\n",
      " 'SEDAN AUTOMATIC 4.3' 'COUPE AUTOMATIC 5.0' 'SEDAN VARIATOR 5.0'\n",
      " 'CABRIO AUTOMATIC 4.3' 'COUPE VARIATOR 2.5' 'SEDAN AUTOMATIC 3.3'\n",
      " 'MINIVAN ROBOT 2.0' 'VAN MECHANICAL 2.0' 'ALLROAD_5_DOORS AUTOMATIC 4.9'\n",
      " 'PICKUP_TWO MECHANICAL 2.0' 'VAN MECHANICAL 2.5' 'MINIVAN MECHANICAL 2.0'\n",
      " 'COMPACTVAN ROBOT 1.4' 'VAN MECHANICAL 1.4' 'PICKUP_TWO AUTOMATIC 2.0'\n",
      " 'COMPACTVAN ROBOT 2.0' 'MINIVAN MECHANICAL 2.5' 'COMPACTVAN ROBOT 1.6'\n",
      " 'MINIVAN MECHANICAL 1.9' 'MINIVAN AUTOMATIC 1.9' 'VAN MECHANICAL 1.9'\n",
      " 'CABRIO AUTOMATIC 1.8' 'SEDAN ROBOT 3.2' 'VAN MECHANICAL 1.2'\n",
      " 'MINIVAN MECHANICAL 3.2' 'MINIVAN MECHANICAL 2.4'\n",
      " 'HATCHBACK_3_DOORS MECHANICAL 1.9' 'PICKUP_ONE AUTOMATIC 2.0'\n",
      " 'COMPACTVAN ROBOT 1.9' 'PICKUP_ONE MECHANICAL 2.0'\n",
      " 'ALLROAD_5_DOORS MECHANICAL 3.2' 'ALLROAD_5_DOORS AUTOMATIC 3.8'\n",
      " 'PICKUP_ONE_HALF AUTOMATIC 2.5' 'VAN AUTOMATIC'\n",
      " 'COMPACTVAN MECHANICAL 2.4' 'ALLROAD_5_DOORS MECHANICAL 3.5'\n",
      " 'ALLROAD_3_DOORS AUTOMATIC 3.2' 'COMPACTVAN MECHANICAL 1.3'\n",
      " 'ALLROAD_3_DOORS AUTOMATIC 3.5' 'ALLROAD_3_DOORS MECHANICAL 3.0'\n",
      " 'ALLROAD_3_DOORS MECHANICAL 3.2' 'ALLROAD_3_DOORS AUTOMATIC 3.8'\n",
      " 'ALLROAD_OPEN MECHANICAL 2.6' 'ALLROAD_3_DOORS MECHANICAL 1.8'\n",
      " 'ALLROAD_3_DOORS MECHANICAL 0.7' 'HATCHBACK_5_DOORS MECHANICAL 1.1'\n",
      " 'MICROVAN MECHANICAL 0.7' 'ALLROAD_3_DOORS MECHANICAL 2.5'\n",
      " 'ALLROAD_3_DOORS AUTOMATIC 1.1' 'ALLROAD_3_DOORS AUTOMATIC 2.5'\n",
      " 'MICROVAN VARIATOR 1.2' 'SEDAN_HARDTOP AUTOMATIC 1.8']\n"
     ]
    }
   ],
   "source": [
    "check_column(train_parsed, 'vehicleConfiguration')"
   ]
  },
  {
   "cell_type": "code",
   "execution_count": 95,
   "id": "523b4115",
   "metadata": {
    "scrolled": true
   },
   "outputs": [
    {
     "name": "stdout",
     "output_type": "stream",
     "text": [
      "Пустых значений: 0\n",
      "Кол-во строк в столбце: 34686\n",
      "Тип данных столбца: object\n",
      "\n",
      "Уникальных значений: ['LIFTBACK ROBOT 1.2' 'LIFTBACK MECHANICAL 1.6' 'LIFTBACK ROBOT 1.8'\n",
      " 'LIFTBACK AUTOMATIC 1.6' 'LIFTBACK AUTOMATIC 1.8' 'LIFTBACK ROBOT 2.0'\n",
      " 'ALLROAD_5_DOORS ROBOT 1.8' 'ALLROAD_5_DOORS MECHANICAL 1.4'\n",
      " 'ALLROAD_5_DOORS MECHANICAL 1.8' 'LIFTBACK ROBOT 1.4'\n",
      " 'ALLROAD_5_DOORS ROBOT 1.4' 'ALLROAD_5_DOORS ROBOT 2.0'\n",
      " 'ALLROAD_5_DOORS MECHANICAL 1.2' 'LIFTBACK MECHANICAL 1.4'\n",
      " 'HATCHBACK_5_DOORS AUTOMATIC 1.6' 'HATCHBACK_5_DOORS MECHANICAL 1.2'\n",
      " 'ALLROAD_5_DOORS ROBOT 1.2' 'SEDAN AUTOMATIC 1.8'\n",
      " 'COMPACTVAN AUTOMATIC 1.6' 'WAGON_5_DOORS ROBOT 2.0'\n",
      " 'LIFTBACK MECHANICAL 1.8' 'ALLROAD_5_DOORS AUTOMATIC 1.6'\n",
      " 'HATCHBACK_5_DOORS ROBOT 1.2' 'WAGON_5_DOORS ROBOT 1.8'\n",
      " 'WAGON_5_DOORS AUTOMATIC 1.6' 'HATCHBACK_5_DOORS MECHANICAL 1.3'\n",
      " 'HATCHBACK_5_DOORS MECHANICAL 1.4' 'LIFTBACK MECHANICAL 1.2'\n",
      " 'COMPACTVAN MECHANICAL 1.2' 'WAGON_5_DOORS MECHANICAL 1.2'\n",
      " 'HATCHBACK_5_DOORS MECHANICAL 1.6' 'WAGON_5_DOORS MECHANICAL 1.4'\n",
      " 'WAGON_5_DOORS ROBOT 1.0' 'LIFTBACK ROBOT 3.6'\n",
      " 'COMPACTVAN MECHANICAL 1.4' 'WAGON_5_DOORS ROBOT 1.4'\n",
      " 'WAGON_5_DOORS MECHANICAL 1.6' 'WAGON_5_DOORS MECHANICAL 1.8'\n",
      " 'ALLROAD_5_DOORS ROBOT 1.5' 'WAGON_5_DOORS AUTOMATIC 1.8'\n",
      " 'HATCHBACK_5_DOORS AUTOMATIC 1.4' 'ALLROAD_5_DOORS MECHANICAL 1.6'\n",
      " 'LIFTBACK MECHANICAL 2.0' 'WAGON_5_DOORS ROBOT 3.6'\n",
      " 'WAGON_5_DOORS MECHANICAL 2.0' 'LIFTBACK AUTOMATIC 2.0'\n",
      " 'HATCHBACK_5_DOORS ROBOT 1.4' 'SEDAN MECHANICAL 1.2' 'LIFTBACK ROBOT 1.9'\n",
      " 'COMPACTVAN MECHANICAL 1.6' 'SEDAN MECHANICAL 1.8' 'SEDAN MECHANICAL 1.0'\n",
      " 'PICKUP_ONE MECHANICAL 1.3' 'WAGON_5_DOORS MECHANICAL 1.3'\n",
      " 'WAGON_5_DOORS ROBOT 1.2' 'SEDAN AUTOMATIC 2.8' 'LIFTBACK MECHANICAL 1.9'\n",
      " 'WAGON_5_DOORS AUTOMATIC 1.4' 'SEDAN MECHANICAL 1.4'\n",
      " 'ALLROAD_5_DOORS AUTOMATIC 1.4' 'COMPACTVAN ROBOT 1.2'\n",
      " 'HATCHBACK_3_DOORS MECHANICAL 1.1' 'WAGON_5_DOORS MECHANICAL 1.9'\n",
      " 'HATCHBACK_5_DOORS MECHANICAL 1.0' 'SEDAN AUTOMATIC 2.5'\n",
      " 'ALLROAD_5_DOORS AUTOMATIC 2.0' 'COUPE ROBOT 4.2'\n",
      " 'ALLROAD_5_DOORS AUTOMATIC 3.0' 'SEDAN ROBOT 2.0' 'SEDAN ROBOT 1.4'\n",
      " 'COUPE VARIATOR 1.8' 'SEDAN AUTOMATIC 2.0' 'LIFTBACK AUTOMATIC 4.0'\n",
      " 'ALLROAD_5_DOORS AUTOMATIC 5.9' 'WAGON_5_DOORS AUTOMATIC 2.7'\n",
      " 'SEDAN ROBOT 4.0' 'WAGON_5_DOORS AUTOMATIC 4.0' 'COUPE ROBOT 2.0'\n",
      " 'HATCHBACK_5_DOORS AUTOMATIC 1.8' 'COUPE VARIATOR 2.0'\n",
      " 'SEDAN VARIATOR 2.0' 'COUPE AUTOMATIC 4.2' 'SEDAN VARIATOR 1.8'\n",
      " 'SEDAN AUTOMATIC 4.0' 'SEDAN AUTOMATIC 3.0'\n",
      " 'ALLROAD_5_DOORS AUTOMATIC 3.6' 'ALLROAD_5_DOORS ROBOT 3.0'\n",
      " 'COUPE MECHANICAL 4.2' 'ALLROAD_5_DOORS AUTOMATIC 4.2'\n",
      " 'HATCHBACK_5_DOORS ROBOT 1.8' 'SEDAN ROBOT 2.8'\n",
      " 'WAGON_5_DOORS AUTOMATIC 3.1' 'SEDAN VARIATOR 2.4' 'SEDAN VARIATOR 3.1'\n",
      " 'LIFTBACK ROBOT 3.0' 'SEDAN AUTOMATIC 4.2' 'SEDAN VARIATOR 2.8'\n",
      " 'SEDAN ROBOT 3.0' 'WAGON_5_DOORS VARIATOR 2.0'\n",
      " 'ALLROAD_5_DOORS ROBOT 2.5' 'HATCHBACK_3_DOORS AUTOMATIC 1.6'\n",
      " 'SEDAN AUTOMATIC 5.2' 'SEDAN AUTOMATIC 3.1' 'SEDAN ROBOT 1.8'\n",
      " 'SEDAN AUTOMATIC 2.4' 'ALLROAD_5_DOORS AUTOMATIC 3.2'\n",
      " 'HATCHBACK_5_DOORS ROBOT 2.5' 'ALLROAD_5_DOORS AUTOMATIC 4.1'\n",
      " 'WAGON_5_DOORS AUTOMATIC 2.0' 'HATCHBACK_3_DOORS ROBOT 1.8'\n",
      " 'COUPE MECHANICAL 1.8' 'SEDAN MECHANICAL 2.0' 'SEDAN MECHANICAL 2.8'\n",
      " 'WAGON_5_DOORS ROBOT 3.0' 'LIFTBACK ROBOT 2.8'\n",
      " 'HATCHBACK_3_DOORS ROBOT 1.4' 'WAGON_5_DOORS AUTOMATIC 3.0'\n",
      " 'HATCHBACK_5_DOORS ROBOT 1.6' 'WAGON_5_DOORS MECHANICAL 2.5'\n",
      " 'HATCHBACK_5_DOORS AUTOMATIC 2.0' 'HATCHBACK_3_DOORS ROBOT 1.2'\n",
      " 'LIFTBACK AUTOMATIC 3.0' 'SEDAN AUTOMATIC 6.3' 'COUPE ROBOT 3.0'\n",
      " 'SEDAN MECHANICAL 2.3' 'HATCHBACK_3_DOORS MECHANICAL 1.8'\n",
      " 'SEDAN AUTOMATIC 6.0' 'WAGON_5_DOORS VARIATOR 1.8'\n",
      " 'LIFTBACK VARIATOR 1.8' 'SEDAN MECHANICAL 2.2' 'SEDAN MECHANICAL 2.4'\n",
      " 'SEDAN AUTOMATIC 3.7' 'COUPE ROBOT 2.5' 'WAGON_5_DOORS ROBOT 4.2'\n",
      " 'COUPE ROBOT 5.2' 'LIFTBACK ROBOT 4.0' 'COUPE AUTOMATIC 3.2'\n",
      " 'COUPE AUTOMATIC 2.9' 'SEDAN AUTOMATIC 5.0' 'WAGON_5_DOORS AUTOMATIC 4.2'\n",
      " 'LIFTBACK VARIATOR 2.0' 'SEDAN AUTOMATIC 2.3' 'COUPE MECHANICAL 2.2'\n",
      " 'WAGON_5_DOORS AUTOMATIC 2.4' 'COUPE ROBOT 3.2'\n",
      " 'ALLROAD_5_DOORS MECHANICAL 2.0' 'SEDAN AUTOMATIC 4.1'\n",
      " 'CABRIO MECHANICAL 4.2' 'COUPE AUTOMATIC 3.0'\n",
      " 'WAGON_5_DOORS VARIATOR 2.7' 'SEDAN MECHANICAL 1.6'\n",
      " 'SEDAN MECHANICAL 3.0' 'COUPE MECHANICAL 3.0' 'COUPE VARIATOR 3.2'\n",
      " 'SEDAN MECHANICAL 3.3' 'WAGON_5_DOORS ROBOT 4.0' 'COUPE MECHANICAL 2.3'\n",
      " 'SEDAN MECHANICAL 2.7' 'HATCHBACK_3_DOORS ROBOT 2.0'\n",
      " 'SEDAN AUTOMATIC 2.7' 'WAGON_5_DOORS MECHANICAL 2.4'\n",
      " 'HATCHBACK_5_DOORS ROBOT 2.0' 'HATCHBACK_5_DOORS MECHANICAL 2.0'\n",
      " 'SEDAN AUTOMATIC 1.9' 'SEDAN VARIATOR 3.0' 'WAGON_5_DOORS AUTOMATIC 2.5'\n",
      " 'HATCHBACK_3_DOORS AUTOMATIC 2.0' 'HATCHBACK_3_DOORS MECHANICAL 1.6'\n",
      " 'SEDAN AUTOMATIC 2.1' 'WAGON_5_DOORS AUTOMATIC 2.6' 'CABRIO VARIATOR 1.8'\n",
      " 'WAGON_5_DOORS VARIATOR 2.4' 'SEDAN MECHANICAL 2.6' 'SEDAN ROBOT 1.5'\n",
      " 'CABRIO ROBOT 2.0' 'WAGON_5_DOORS MECHANICAL 2.7' 'SEDAN MECHANICAL 2.1'\n",
      " 'CABRIO MECHANICAL 1.8' 'SEDAN MECHANICAL 2.5' 'SEDAN MECHANICAL 1.9'\n",
      " 'WAGON_5_DOORS MECHANICAL 2.1' 'SEDAN MECHANICAL 3.2'\n",
      " 'WAGON_5_DOORS AUTOMATIC 2.3' 'ALLROAD_5_DOORS ROBOT 3.2'\n",
      " 'HATCHBACK_3_DOORS AUTOMATIC 1.8' 'SEDAN AUTOMATIC 2.6'\n",
      " 'CABRIO AUTOMATIC 2.0' 'SEDAN VARIATOR 2.5'\n",
      " 'HATCHBACK_5_DOORS MECHANICAL 1.8' 'COUPE AUTOMATIC 1.8'\n",
      " 'SEDAN AUTOMATIC 3.6' 'HATCHBACK_3_DOORS ROBOT 1.6'\n",
      " 'HATCHBACK_5_DOORS ROBOT 1.9' 'WAGON_5_DOORS MECHANICAL 2.3'\n",
      " 'WAGON_5_DOORS MECHANICAL 2.6' 'SEDAN VARIATOR 1.9'\n",
      " 'ALLROAD_5_DOORS AUTOMATIC' 'ALLROAD_5_DOORS AUTOMATIC 2.4'\n",
      " 'ALLROAD_5_DOORS AUTOMATIC 3.5' 'COMPACTVAN AUTOMATIC 2.3'\n",
      " 'COMPACTVAN AUTOMATIC 1.7' 'MINIVAN AUTOMATIC 2.4'\n",
      " 'HATCHBACK_3_DOORS AUTOMATIC 1.4' 'PICKUP_TWO AUTOMATIC 3.5'\n",
      " 'COMPACTVAN MECHANICAL 1.7' 'HATCHBACK_5_DOORS AUTOMATIC 1.5'\n",
      " 'ALLROAD_3_DOORS VARIATOR 1.6' 'SEDAN MECHANICAL 1.7'\n",
      " 'COMPACTVAN AUTOMATIC 2.2' 'SEDAN AUTOMATIC 1.6'\n",
      " 'COMPACTVAN VARIATOR 1.5' 'MINIVAN AUTOMATIC 3.5'\n",
      " 'HATCHBACK_3_DOORS MECHANICAL 1.4' 'HATCHBACK_3_DOORS AUTOMATIC 1.3'\n",
      " 'SEDAN AUTOMATIC 3.5' 'HATCHBACK_5_DOORS VARIATOR 1.3'\n",
      " 'SEDAN VARIATOR 1.5' 'HATCHBACK_3_DOORS AUTOMATIC 0.7'\n",
      " 'SEDAN AUTOMATIC 1.5' 'CABRIO MECHANICAL 2.0'\n",
      " 'ALLROAD_3_DOORS MECHANICAL 1.6' 'HATCHBACK_5_DOORS ROBOT 1.3'\n",
      " 'HATCHBACK_3_DOORS MECHANICAL 1.5' 'ALLROAD_5_DOORS MECHANICAL 2.4'\n",
      " 'MINIVAN VARIATOR 2.0' 'COUPE VARIATOR 1.5'\n",
      " 'HATCHBACK_3_DOORS MECHANICAL 1.3' 'SEDAN MECHANICAL 1.5'\n",
      " 'MINIVAN AUTOMATIC 2.0' 'HATCHBACK_3_DOORS MECHANICAL 2.0'\n",
      " 'ALLROAD_5_DOORS VARIATOR 2.4' 'COMPACTVAN MECHANICAL 2.0'\n",
      " 'COUPE AUTOMATIC 2.4' 'ROADSTER MECHANICAL 1.6' 'SEDAN AUTOMATIC 3.2'\n",
      " 'HATCHBACK_5_DOORS VARIATOR 1.5' 'WAGON_5_DOORS ROBOT 1.5'\n",
      " 'SEDAN VARIATOR 1.3' 'COUPE AUTOMATIC 2.3' 'COMPACTVAN VARIATOR 2.0'\n",
      " 'ALLROAD_5_DOORS VARIATOR 1.6' 'HATCHBACK_5_DOORS VARIATOR 0.7'\n",
      " 'ROADSTER AUTOMATIC 1.6' 'COUPE MECHANICAL 1.6'\n",
      " 'HATCHBACK_5_DOORS AUTOMATIC 0.7' 'WAGON_5_DOORS MECHANICAL 2.2'\n",
      " 'COUPE MECHANICAL 2.0' 'HATCHBACK_5_DOORS MECHANICAL 1.5'\n",
      " 'COUPE AUTOMATIC 1.7' 'COUPE AUTOMATIC 2.2' 'SEDAN AUTOMATIC 1.3'\n",
      " 'COMPACTVAN AUTOMATIC 3.0' 'HATCHBACK_3_DOORS AUTOMATIC 1.5'\n",
      " 'HATCHBACK_5_DOORS AUTOMATIC 1.3' 'COUPE MECHANICAL 2.4'\n",
      " 'SEDAN AUTOMATIC 1.7' 'MICROVAN AUTOMATIC 0.7' 'COMPACTVAN AUTOMATIC 2.0'\n",
      " 'COUPE AUTOMATIC 2.0' 'COUPE AUTOMATIC 1.5' 'WAGON_5_DOORS AUTOMATIC 2.2'\n",
      " 'MINIVAN AUTOMATIC 3.0' 'HATCHBACK_3_DOORS VARIATOR 1.5'\n",
      " 'ALLROAD_5_DOORS VARIATOR 2.0' 'ALLROAD_5_DOORS AUTOMATIC 1.8'\n",
      " 'COUPE MECHANICAL 1.5' 'HATCHBACK_5_DOORS ROBOT 1.5'\n",
      " 'ALLROAD_5_DOORS MECHANICAL 2.2' 'COUPE AUTOMATIC 1.6'\n",
      " 'WAGON_5_DOORS VARIATOR 1.5' 'COMPACTVAN AUTOMATIC 1.5'\n",
      " 'COMPACTVAN AUTOMATIC 1.8' 'COUPE MECHANICAL 1.7'\n",
      " 'HATCHBACK_5_DOORS MECHANICAL 1.9' 'WAGON_5_DOORS AUTOMATIC 1.5'\n",
      " 'SEDAN AUTOMATIC 2.2' 'HATCHBACK_3_DOORS VARIATOR 1.3'\n",
      " 'HATCHBACK_3_DOORS AUTOMATIC 2.4' 'ALLROAD_5_DOORS AUTOMATIC 2.5'\n",
      " 'SEDAN ROBOT 1.6' 'ALLROAD_5_DOORS AUTOMATIC 4.4'\n",
      " 'WAGON_5_DOORS AUTOMATIC 3.2' 'SEDAN AUTOMATIC 2.9'\n",
      " 'ALLROAD_5_DOORS AUTOMATIC 2.9' 'CABRIO AUTOMATIC 2.5'\n",
      " 'CABRIO AUTOMATIC 2.4' 'SEDAN AUTOMATIC 4.4'\n",
      " 'WAGON_5_DOORS AUTOMATIC 2.9' 'HATCHBACK_3_DOORS MECHANICAL 2.5'\n",
      " 'SEDAN MECHANICAL 2.9' 'HATCHBACK_3_DOORS AUTOMATIC 2.5'\n",
      " 'SEDAN_2_DOORS MECHANICAL 2.0' 'WAGON_5_DOORS AUTOMATIC 1.7'\n",
      " 'WAGON_5_DOORS MECHANICAL 1.7' 'ROADSTER AUTOMATIC 2.5'\n",
      " 'ALLROAD_5_DOORS AUTOMATIC 4.8' 'SEDAN ROBOT 4.4' 'COUPE AUTOMATIC 2.5'\n",
      " 'COUPE ROBOT 4.4' 'SEDAN MECHANICAL 3.5' 'ROADSTER AUTOMATIC 1.5'\n",
      " 'CABRIO AUTOMATIC 4.8' 'SEDAN AUTOMATIC 4.8' 'SEDAN AUTOMATIC 5.4'\n",
      " 'COUPE ROBOT 5.0' 'ALLROAD_5_DOORS AUTOMATIC 1.5' 'COUPE ROBOT 4.0'\n",
      " 'SEDAN AUTOMATIC 6.6' 'HATCHBACK_5_DOORS AUTOMATIC'\n",
      " 'HATCHBACK_5_DOORS AUTOMATIC 3.0' 'COUPE AUTOMATIC 4.4' 'SEDAN ROBOT 5.0'\n",
      " 'COUPE MECHANICAL 4.0' 'HATCHBACK_3_DOORS AUTOMATIC 3.0'\n",
      " 'ROADSTER AUTOMATIC 3.0' 'SEDAN MECHANICAL 4.9' 'CABRIO AUTOMATIC 4.4'\n",
      " 'SEDAN MECHANICAL 3.8' 'COUPE_HARDTOP AUTOMATIC 5.0'\n",
      " 'ROADSTER MECHANICAL 2.5' 'COMPACTVAN ROBOT 1.5' 'CABRIO ROBOT 4.0'\n",
      " 'COUPE MECHANICAL 3.5' 'CABRIO AUTOMATIC 3.0' 'COUPE MECHANICAL 3.4'\n",
      " 'COUPE AUTOMATIC 4.8' 'ROADSTER AUTOMATIC 2.0' 'COUPE MECHANICAL 2.5'\n",
      " 'SEDAN AUTOMATIC 3.9' 'ROADSTER ROBOT 3.0' 'LIFTBACK AUTOMATIC 4.4'\n",
      " 'ROADSTER AUTOMATIC 2.8' 'ALLROAD_5_DOORS MECHANICAL 3.0'\n",
      " 'CABRIO ROBOT 3.3' 'COUPE MECHANICAL 2.8' 'WAGON_5_DOORS MECHANICAL 3.0'\n",
      " 'SEDAN_2_DOORS MECHANICAL 1.6' 'SEDAN MECHANICAL 3.4'\n",
      " 'ROADSTER MECHANICAL 1.9' 'SEDAN AUTOMATIC 3.4' 'ROADSTER MECHANICAL 3.0'\n",
      " 'ROADSTER MECHANICAL 1.8' 'ALLROAD_5_DOORS AUTOMATIC 4.6'\n",
      " 'ROADSTER MECHANICAL 3.2' 'CABRIO AUTOMATIC 2.8' 'COUPE MECHANICAL 4.4'\n",
      " 'HATCHBACK_3_DOORS MECHANICAL 1.9' 'COUPE ROBOT 3.3'\n",
      " 'COUPE AUTOMATIC 2.8' 'SEDAN MECHANICAL 4.4'\n",
      " 'ALLROAD_5_DOORS VARIATOR 2.5' 'ALLROAD_5_DOORS AUTOMATIC 5.6'\n",
      " 'ALLROAD_5_DOORS VARIATOR 3.5' 'PICKUP_TWO AUTOMATIC 2.5'\n",
      " 'ALLROAD_5_DOORS VARIATOR 1.2' 'ALLROAD_5_DOORS MECHANICAL 4.2'\n",
      " 'SEDAN VARIATOR 3.5' 'HATCHBACK_3_DOORS MECHANICAL 1.2' 'COUPE ROBOT 3.8'\n",
      " 'ALLROAD_5_DOORS MECHANICAL 1.5' 'HATCHBACK_5_DOORS AUTOMATIC 1.2'\n",
      " 'PICKUP_TWO MECHANICAL 2.5' 'SEDAN VARIATOR 1.6'\n",
      " 'ALLROAD_5_DOORS MECHANICAL 2.7' 'ALLROAD_5_DOORS VARIATOR 1.5'\n",
      " 'ALLROAD_5_DOORS MECHANICAL 2.5' 'COUPE VARIATOR 2.5'\n",
      " 'COMPACTVAN MECHANICAL 1.8' 'COUPE AUTOMATIC 3.5'\n",
      " 'ALLROAD_5_DOORS MECHANICAL 2.8' 'MINIVAN MECHANICAL 1.5'\n",
      " 'MINIVAN AUTOMATIC 1.6' 'ALLROAD_5_DOORS AUTOMATIC 4.0'\n",
      " 'FASTBACK MECHANICAL 2.8' 'MINIVAN VARIATOR 3.5'\n",
      " 'HATCHBACK_5_DOORS VARIATOR 1.6' 'COMPACTVAN AUTOMATIC 1.4'\n",
      " 'HATCHBACK_3_DOORS MECHANICAL 1.0' 'COMPACTVAN VARIATOR 1.6'\n",
      " 'HATCHBACK_5_DOORS VARIATOR 2.0' 'PICKUP_ONE MECHANICAL 2.3'\n",
      " 'ALLROAD_3_DOORS MECHANICAL 2.8' 'TARGA MECHANICAL 1.6'\n",
      " 'ALLROAD_3_DOORS MECHANICAL 2.4' 'ALLROAD_5_DOORS AUTOMATIC 3.3'\n",
      " 'HATCHBACK_5_DOORS VARIATOR 1.2' 'HATCHBACK_5_DOORS VARIATOR 1.0'\n",
      " 'MINIVAN AUTOMATIC 2.2' 'MINIVAN MECHANICAL 2.3' 'MINIVAN MECHANICAL 2.2'\n",
      " 'MINIVAN AUTOMATIC 2.5' 'COMPACTVAN AUTOMATIC 1.3'\n",
      " 'ALLROAD_3_DOORS MECHANICAL 3.0' 'PICKUP_TWO MECHANICAL 2.7'\n",
      " 'MINIVAN MECHANICAL 2.0' 'WAGON_5_DOORS MECHANICAL 1.5'\n",
      " 'SEDAN MECHANICAL 1.3' 'MINIVAN AUTOMATIC 3.2'\n",
      " 'ALLROAD_3_DOORS AUTOMATIC 0.7' 'ALLROAD_5_DOORS AUTOMATIC 4.5'\n",
      " 'MINIVAN MECHANICAL 1.8' 'MINIVAN MECHANICAL 3.0'\n",
      " 'HATCHBACK_3_DOORS AUTOMATIC 1.2' 'HATCHBACK_3_DOORS VARIATOR 1.0'\n",
      " 'PICKUP_TWO AUTOMATIC 2.7' 'COMPACTVAN MECHANICAL 2.2'\n",
      " 'ALLROAD_5_DOORS AUTOMATIC 2.7' 'PICKUP_TWO MECHANICAL 2.3'\n",
      " 'PICKUP_TWO AUTOMATIC 3.2' 'WAGON_5_DOORS AUTOMATIC 1.3'\n",
      " 'MINIVAN MECHANICAL 2.7' 'ALLROAD_5_DOORS AUTOMATIC 3.7'\n",
      " 'ALLROAD_5_DOORS AUTOMATIC 5.0' 'SEDAN AUTOMATIC 4.5'\n",
      " 'COUPE AUTOMATIC 3.7' 'SEDAN AUTOMATIC 5.6' 'CABRIO AUTOMATIC 3.7'\n",
      " 'MINIVAN AUTOMATIC 2.1' 'SEDAN AUTOMATIC 5.5' 'ALLROAD_5_DOORS ROBOT 1.6'\n",
      " 'ROADSTER AUTOMATIC 1.8' 'COUPE ROBOT 6.2' 'COUPE_HARDTOP AUTOMATIC 1.8'\n",
      " 'ALLROAD_5_DOORS AUTOMATIC 5.5' 'SEDAN AUTOMATIC 4.7'\n",
      " 'ALLROAD_5_DOORS AUTOMATIC 2.1' 'ALLROAD_3_DOORS AUTOMATIC 3.0'\n",
      " 'ALLROAD_5_DOORS AUTOMATIC 4.7' 'COUPE_HARDTOP AUTOMATIC 2.0'\n",
      " 'HATCHBACK_5_DOORS VARIATOR 1.7' 'COUPE AUTOMATIC 4.0'\n",
      " 'CABRIO AUTOMATIC 1.8' 'COUPE AUTOMATIC 6.2' 'SEDAN AUTOMATIC 4.3'\n",
      " 'SEDAN ROBOT 1.3' 'WAGON_5_DOORS AUTOMATIC 2.1' 'ROADSTER AUTOMATIC 5.0'\n",
      " 'COUPE_HARDTOP AUTOMATIC 5.5' 'COUPE AUTOMATIC 5.5'\n",
      " 'ROADSTER AUTOMATIC 5.4' 'ALLROAD_OPEN AUTOMATIC 5.5'\n",
      " 'CABRIO MECHANICAL 2.2' 'COUPE AUTOMATIC 4.7' 'ROADSTER AUTOMATIC 3.5'\n",
      " 'LIMOUSINE AUTOMATIC 6.2' 'HATCHBACK_3_DOORS VARIATOR 1.7'\n",
      " 'ALLROAD_5_DOORS AUTOMATIC 6.0' 'ROADSTER AUTOMATIC 2.3'\n",
      " 'SEDAN AUTOMATIC 6.2' 'ALLROAD_5_DOORS AUTOMATIC 5.4'\n",
      " 'MINIVAN AUTOMATIC 3.7' 'ALLROAD_5_DOORS AUTOMATIC 6.2'\n",
      " 'COUPE_HARDTOP AUTOMATIC 4.7' 'PICKUP_TWO AUTOMATIC 2.3'\n",
      " 'COUPE AUTOMATIC 5.0' 'COUPE_HARDTOP AUTOMATIC 6.0'\n",
      " 'COUPE_HARDTOP AUTOMATIC 3.5' 'WAGON_5_DOORS AUTOMATIC 4.7'\n",
      " 'COUPE AUTOMATIC 5.4' 'WAGON_5_DOORS AUTOMATIC 5.5'\n",
      " 'MINIVAN AUTOMATIC 2.8' 'ALLROAD_3_DOORS AUTOMATIC 3.2'\n",
      " 'COUPE_HARDTOP AUTOMATIC 3.2' 'COUPE AUTOMATIC 5.6'\n",
      " 'WAGON_5_DOORS AUTOMATIC 5.4' 'WAGON_5_DOORS AUTOMATIC 3.5'\n",
      " 'COUPE_HARDTOP MECHANICAL 2.3' 'ROADSTER AUTOMATIC 5.5'\n",
      " 'COUPE_HARDTOP AUTOMATIC 2.3' 'COUPE AUTOMATIC 4.3'\n",
      " 'COUPE_HARDTOP AUTOMATIC 5.8' 'ROADSTER AUTOMATIC 4.7'\n",
      " 'COMPACTVAN MECHANICAL 1.5' 'LIMOUSINE AUTOMATIC 5.5'\n",
      " 'MINIVAN AUTOMATIC 5.0' 'COUPE_HARDTOP AUTOMATIC 2.6'\n",
      " 'CABRIO MECHANICAL 5.3' 'HATCHBACK_3_DOORS AUTOMATIC 2.3'\n",
      " 'ROADSTER ROBOT 6.2' 'CABRIO AUTOMATIC 5.5' 'MINIVAN MECHANICAL 2.1'\n",
      " 'COUPE AUTOMATIC 6.0' 'ROADSTER AUTOMATIC 3.8' 'SEDAN AUTOMATIC 3.8'\n",
      " 'ALLROAD_5_DOORS ROBOT 2.1' 'HATCHBACK_5_DOORS ROBOT 2.1'\n",
      " 'ALLROAD_5_DOORS MECHANICAL 2.3' 'LIMOUSINE AUTOMATIC 5.8'\n",
      " 'ALLROAD_OPEN AUTOMATIC 5.0' 'SEDAN AUTOMATIC 5.8'\n",
      " 'ROADSTER AUTOMATIC 3.7' 'HATCHBACK_5_DOORS AUTOMATIC 1.7'\n",
      " 'ROADSTER AUTOMATIC 6.0' 'ALLROAD_5_DOORS AUTOMATIC 4.3'\n",
      " 'COUPE_HARDTOP MECHANICAL 1.8' 'ROADSTER AUTOMATIC 3.2'\n",
      " 'MINIVAN MECHANICAL 1.6' 'CABRIO AUTOMATIC 3.5' 'CABRIO AUTOMATIC 2.3'\n",
      " 'WAGON_5_DOORS AUTOMATIC 2.8' 'ALLROAD_5_DOORS AUTOMATIC 2.8'\n",
      " 'ALLROAD_5_DOORS AUTOMATIC 5.7' 'ALLROAD_3_DOORS AUTOMATIC 4.0'\n",
      " 'COMPACTVAN VARIATOR 1.8' 'ALLROAD_3_DOORS AUTOMATIC 2.0'\n",
      " 'MINIVAN VARIATOR 1.8' 'PICKUP_TWO MECHANICAL 2.4'\n",
      " 'PICKUP_TWO AUTOMATIC 2.8' 'ALLROAD_5_DOORS AUTOMATIC 2.2'\n",
      " 'ALLROAD_5_DOORS AUTOMATIC 3.4' 'PICKUP_TWO AUTOMATIC 5.7'\n",
      " 'COUPE AUTOMATIC 3.3' 'MINIVAN AUTOMATIC 3.3'\n",
      " 'ALLROAD_5_DOORS MECHANICAL 4.0' 'PICKUP_TWO AUTOMATIC 3.0'\n",
      " 'ALLROAD_5_DOORS VARIATOR 3.3' 'PICKUP_TWO AUTOMATIC 4.7'\n",
      " 'ALLROAD_3_DOORS MECHANICAL 2.5' 'MINIVAN VARIATOR 2.4'\n",
      " 'ALLROAD_5_DOORS MECHANICAL 3.4' 'ALLROAD_3_DOORS MECHANICAL 4.5'\n",
      " 'ALLROAD_5_DOORS MECHANICAL 4.5' 'HATCHBACK_5_DOORS AUTOMATIC 2.4'\n",
      " 'MINIVAN VARIATOR 2.5' 'COMPACTVAN ROBOT 1.8' 'COMPACTVAN AUTOMATIC 2.4'\n",
      " 'COMPACTVAN MECHANICAL 1.3' 'PICKUP_ONE_HALF AUTOMATIC 2.5'\n",
      " 'HATCHBACK_5_DOORS VARIATOR 2.4' 'ALLROAD_3_DOORS MECHANICAL 4.2'\n",
      " 'PICKUP_ONE_HALF AUTOMATIC 5.7' 'SEDAN_HARDTOP MECHANICAL 2.0'\n",
      " 'MINIVAN AUTOMATIC 3.4' 'MINIVAN MECHANICAL 2.4'\n",
      " 'HATCHBACK_3_DOORS AUTOMATIC 1.0' 'ALLROAD_3_DOORS MECHANICAL 3.4'\n",
      " 'PICKUP_ONE MECHANICAL 2.7' 'HATCHBACK_3_DOORS ROBOT 1.3'\n",
      " 'MINIVAN MECHANICAL 2.5' 'MINIVAN AUTOMATIC 2.7'\n",
      " 'ALLROAD_5_DOORS MECHANICAL 3.5' 'LIFTBACK MECHANICAL 1.3'\n",
      " 'MICROVAN AUTOMATIC 1.3' 'PICKUP_ONE MECHANICAL 4.0'\n",
      " 'COUPE MECHANICAL 1.3' 'ALLROAD_5_DOORS AUTOMATIC 1.3'\n",
      " 'SEDAN_HARDTOP AUTOMATIC 1.6' 'SEDAN_HARDTOP AUTOMATIC 1.8'\n",
      " 'COMPACTVAN VARIATOR 2.4' 'ALLROAD_3_DOORS MECHANICAL 2.0'\n",
      " 'CABRIO AUTOMATIC 4.3' 'PICKUP_TWO MECHANICAL 2.8' 'TARGA MECHANICAL 2.0'\n",
      " 'PICKUP_TWO AUTOMATIC 4.6' 'ALLROAD_3_DOORS AUTOMATIC 2.7'\n",
      " 'HATCHBACK_5_DOORS AUTOMATIC 1.0' 'SEDAN_HARDTOP AUTOMATIC 2.0'\n",
      " 'MINIVAN AUTOMATIC 1.5' 'HATCHBACK_5_DOORS VARIATOR 1.8'\n",
      " 'SEDAN AUTOMATIC 4.6' 'SEDAN VARIATOR 5.0' 'SEDAN AUTOMATIC 3.3'\n",
      " 'PICKUP_TWO AUTOMATIC 2.0' 'SEDAN ROBOT 3.6' 'MINIVAN MECHANICAL 1.9'\n",
      " 'COMPACTVAN ROBOT 1.4' 'MINIVAN ROBOT 2.0' 'VAN MECHANICAL 1.9'\n",
      " 'PICKUP_TWO MECHANICAL 2.0' 'VAN MECHANICAL 2.1' 'COMPACTVAN ROBOT 2.0'\n",
      " 'PICKUP_ONE MECHANICAL 2.0' 'COMPACTVAN ROBOT 1.6'\n",
      " 'MINIVAN AUTOMATIC 1.8' 'COMPACTVAN ROBOT 1.9' 'VAN MECHANICAL 2.0'\n",
      " 'VAN MECHANICAL 2.4' 'HATCHBACK_3_DOORS MECHANICAL 3.2'\n",
      " 'MINIVAN MECHANICAL 1.7' 'HATCHBACK_5_DOORS AUTOMATIC 2.3'\n",
      " 'HATCHBACK_5_DOORS MECHANICAL 2.3' 'WAGON_5_DOORS MECHANICAL 4.0'\n",
      " 'VAN MECHANICAL 2.5' 'VAN MECHANICAL 1.6' 'CABRIO ROBOT 3.2'\n",
      " 'MINIVAN AUTOMATIC 1.9' 'VAN MECHANICAL 1.7' 'WAGON_5_DOORS ROBOT 1.6'\n",
      " 'HATCHBACK_3_DOORS MECHANICAL 2.8' 'COMPACTVAN MECHANICAL 1.9'\n",
      " 'WAGON_5_DOORS AUTOMATIC 1.9' 'MINIVAN MECHANICAL 2.8'\n",
      " 'MINIVAN MECHANICAL 3.2' 'VAN ROBOT 2.0' 'CABRIO MECHANICAL 1.3'\n",
      " 'VAN AUTOMATIC 2.5' 'ALLROAD_5_DOORS AUTOMATIC 4.9' 'SEDAN ROBOT 1.9'\n",
      " 'WAGON_5_DOORS ROBOT 1.9' 'HATCHBACK_3_DOORS MECHANICAL 2.9'\n",
      " 'HATCHBACK_3_DOORS AUTOMATIC 1.9' 'HATCHBACK_3_DOORS MECHANICAL 1.7'\n",
      " 'PICKUP_ONE_HALF MECHANICAL 2.4' 'ALLROAD_3_DOORS AUTOMATIC 1.8'\n",
      " 'ALLROAD_5_DOORS VARIATOR 1.8' 'ALLROAD_5_DOORS AUTOMATIC 3.8'\n",
      " 'MICROVAN MECHANICAL 0.7' 'PICKUP_TWO AUTOMATIC 2.4'\n",
      " 'MINIVAN AUTOMATIC 2.3' 'ALLROAD_3_DOORS AUTOMATIC 3.8'\n",
      " 'ALLROAD_3_DOORS MECHANICAL 3.5' 'ALLROAD_3_DOORS MECHANICAL 3.2'\n",
      " 'ALLROAD_3_DOORS AUTOMATIC 2.5' 'COMPACTVAN MECHANICAL 2.4'\n",
      " 'ALLROAD_5_DOORS MECHANICAL 3.2' 'ALLROAD_3_DOORS AUTOMATIC 3.5'\n",
      " 'MICROVAN VARIATOR 1.2' 'ALLROAD_3_DOORS MECHANICAL 1.8'\n",
      " 'ALLROAD_3_DOORS AUTOMATIC 2.8' 'COMPACTVAN VARIATOR 1.2'\n",
      " 'HATCHBACK_5_DOORS MECHANICAL 0.7' 'COUPE MECHANICAL 5.0'\n",
      " 'WAGON_5_DOORS AUTOMATIC 4.4' 'WAGON_5_DOORS VARIATOR 2.5'\n",
      " 'COUPE MECHANICAL 3.2' 'SEDAN ROBOT 3.2' 'WAGON_5_DOORS MECHANICAL 2.8'\n",
      " 'COUPE_HARDTOP AUTOMATIC 6.2' 'LIMOUSINE AUTOMATIC 6.0'\n",
      " 'MINIVAN VARIATOR 1.5' 'ALLROAD_3_DOORS AUTOMATIC 1.6'\n",
      " 'COMPACTVAN VARIATOR 1.3' 'SEDAN_HARDTOP MECHANICAL 1.8'\n",
      " 'ALLROAD_OPEN AUTOMATIC 2.0']\n"
     ]
    }
   ],
   "source": [
    "check_column(test, 'vehicleConfiguration')"
   ]
  },
  {
   "cell_type": "code",
   "execution_count": 96,
   "id": "85520f92",
   "metadata": {},
   "outputs": [],
   "source": [
    "train.drop('vehicleConfiguration', axis = 1, inplace = True)\n",
    "train_parsed.drop('vehicleConfiguration', axis = 1, inplace = True)\n",
    "test.drop('vehicleConfiguration', axis = 1, inplace = True)"
   ]
  },
  {
   "cell_type": "markdown",
   "id": "4c25e4e4",
   "metadata": {},
   "source": [
    "### vehicleTransmission"
   ]
  },
  {
   "cell_type": "code",
   "execution_count": 97,
   "id": "6e9a2863",
   "metadata": {},
   "outputs": [],
   "source": [
    "train['vehicleTransmission'] = train['vehicleTransmission'].apply(\n",
    "    lambda x: 'роботизированная' if x == 'ROBOT' else (\n",
    "        'автоматическая' if x == 'AUTOMATIC' else (\n",
    "        'механическая' if x == 'MECHANICAL' else 'вариатор')))"
   ]
  },
  {
   "cell_type": "code",
   "execution_count": 98,
   "id": "73010963",
   "metadata": {},
   "outputs": [
    {
     "name": "stdout",
     "output_type": "stream",
     "text": [
      "Пустых значений: 0\n",
      "Кол-во строк в столбце: 49100\n",
      "Тип данных столбца: object\n",
      "\n",
      "Уникальных значений: ['механическая' 'автоматическая' 'роботизированная' 'вариатор']\n"
     ]
    }
   ],
   "source": [
    "check_column(train, 'vehicleTransmission')"
   ]
  },
  {
   "cell_type": "code",
   "execution_count": 99,
   "id": "4ba883ff",
   "metadata": {},
   "outputs": [
    {
     "name": "stdout",
     "output_type": "stream",
     "text": [
      "Пустых значений: 0\n",
      "Кол-во строк в столбце: 109764\n",
      "Тип данных столбца: object\n",
      "\n",
      "Уникальных значений: ['роботизированная' 'автоматическая' 'механическая' 'вариатор']\n"
     ]
    }
   ],
   "source": [
    "check_column(train_parsed, 'vehicleTransmission')"
   ]
  },
  {
   "cell_type": "code",
   "execution_count": 100,
   "id": "30d44a84",
   "metadata": {
    "scrolled": true
   },
   "outputs": [
    {
     "name": "stdout",
     "output_type": "stream",
     "text": [
      "Пустых значений: 0\n",
      "Кол-во строк в столбце: 34686\n",
      "Тип данных столбца: object\n",
      "\n",
      "Уникальных значений: ['роботизированная' 'механическая' 'автоматическая' 'вариатор']\n"
     ]
    }
   ],
   "source": [
    "check_column(test, 'vehicleTransmission')"
   ]
  },
  {
   "cell_type": "markdown",
   "id": "2c1be148",
   "metadata": {},
   "source": [
    "### Владельцы"
   ]
  },
  {
   "cell_type": "code",
   "execution_count": 101,
   "id": "f0861bca",
   "metadata": {},
   "outputs": [],
   "source": [
    "train.loc[(train['Владельцы'].isna()) & (train['mileage'] == 0.0), 'Владельцы'] = 0"
   ]
  },
  {
   "cell_type": "code",
   "execution_count": 102,
   "id": "3d4fb0a1",
   "metadata": {},
   "outputs": [
    {
     "name": "stdout",
     "output_type": "stream",
     "text": [
      "Пустых значений: 0\n",
      "Кол-во строк в столбце: 49100\n",
      "Тип данных столбца: float64\n",
      "\n",
      "Уникальных значений: [3. 1. 2. 0.]\n"
     ]
    }
   ],
   "source": [
    "check_column(train, 'Владельцы')"
   ]
  },
  {
   "cell_type": "code",
   "execution_count": 103,
   "id": "c1d18fa0",
   "metadata": {},
   "outputs": [],
   "source": [
    "train_parsed['Владельцы'] = train_parsed['Владельцы'].apply(lambda x: 1 if x == '1 владелец' else( 2 if x == '2 владельца' else (3 if x == '3 или более' else x)))"
   ]
  },
  {
   "cell_type": "code",
   "execution_count": 104,
   "id": "807b32a0",
   "metadata": {},
   "outputs": [],
   "source": [
    "train_parsed.loc[(train_parsed['Владельцы'].isna()) & (train['mileage'] == 0.0), 'Владельцы'] = 0"
   ]
  },
  {
   "cell_type": "code",
   "execution_count": 105,
   "id": "fc86abbf",
   "metadata": {},
   "outputs": [],
   "source": [
    "train_parsed['Владельцы'] = train_parsed['Владельцы'].astype(np.float64)"
   ]
  },
  {
   "cell_type": "code",
   "execution_count": 106,
   "id": "102ba085",
   "metadata": {},
   "outputs": [],
   "source": [
    "train_parsed.loc[train_parsed['Владельцы'].isnull(), ['mileage', 'Владельцы']] = 0"
   ]
  },
  {
   "cell_type": "code",
   "execution_count": 107,
   "id": "a8469b0b",
   "metadata": {},
   "outputs": [
    {
     "name": "stdout",
     "output_type": "stream",
     "text": [
      "Пустых значений: 0\n",
      "Кол-во строк в столбце: 109764\n",
      "Тип данных столбца: float64\n",
      "\n",
      "Уникальных значений: [3. 1. 0. 2.]\n"
     ]
    }
   ],
   "source": [
    "check_column(train_parsed, 'Владельцы')"
   ]
  },
  {
   "cell_type": "code",
   "execution_count": 108,
   "id": "a6317654",
   "metadata": {},
   "outputs": [],
   "source": [
    "test['Владельцы'] = test['Владельцы'].apply(lambda x: 1.0 if x == '1\\xa0владелец' else( 2.0 if x == '2\\xa0владельца' else (3.0 if x == '3 или более' else 0)))"
   ]
  },
  {
   "cell_type": "code",
   "execution_count": 109,
   "id": "11428491",
   "metadata": {
    "scrolled": true
   },
   "outputs": [
    {
     "name": "stdout",
     "output_type": "stream",
     "text": [
      "Пустых значений: 0\n",
      "Кол-во строк в столбце: 34686\n",
      "Тип данных столбца: float64\n",
      "\n",
      "Уникальных значений: [3. 1. 2.]\n"
     ]
    }
   ],
   "source": [
    "check_column(test, 'Владельцы')"
   ]
  },
  {
   "cell_type": "markdown",
   "id": "e835d58b",
   "metadata": {},
   "source": [
    "### Владение"
   ]
  },
  {
   "cell_type": "code",
   "execution_count": 110,
   "id": "2c181c0d",
   "metadata": {
    "scrolled": true
   },
   "outputs": [
    {
     "name": "stdout",
     "output_type": "stream",
     "text": [
      "Пустых значений: 34274\n",
      "Кол-во строк в столбце: 49100\n",
      "Тип данных столбца: object\n",
      "\n",
      "Уникальных значений: [nan \"{'year': 2010, 'month': 6}\" \"{'year': 2017, 'month': 12}\"\n",
      " \"{'year': 2003, 'month': 8}\" \"{'year': 2019, 'month': 10}\"\n",
      " \"{'year': 2012, 'month': 10}\" \"{'year': 2014, 'month': 8}\"\n",
      " \"{'year': 2019, 'month': 8}\" \"{'year': 2019, 'month': 2}\"\n",
      " \"{'year': 2016, 'month': 7}\" \"{'year': 2018, 'month': 12}\"\n",
      " \"{'year': 2020, 'month': 8}\" \"{'year': 2017, 'month': 3}\"\n",
      " \"{'year': 2019, 'month': 11}\" \"{'year': 2018, 'month': 5}\"\n",
      " \"{'year': 1993, 'month': 1}\" \"{'year': 2018, 'month': 10}\"\n",
      " \"{'year': 2020, 'month': 1}\" \"{'year': 2017, 'month': 10}\"\n",
      " \"{'year': 2018, 'month': 1}\" \"{'year': 2011, 'month': 12}\"\n",
      " \"{'year': 2014, 'month': 5}\" \"{'year': 2019, 'month': 1}\"\n",
      " \"{'year': 1990, 'month': 6}\" \"{'year': 2016, 'month': 5}\"\n",
      " \"{'year': 2019, 'month': 7}\" \"{'year': 2013, 'month': 6}\"\n",
      " \"{'year': 2005, 'month': 4}\" \"{'year': 1997, 'month': 6}\"\n",
      " \"{'year': 2016, 'month': 3}\" \"{'year': 2013, 'month': 1}\"\n",
      " \"{'year': 2016, 'month': 10}\" \"{'year': 2020, 'month': 4}\"\n",
      " \"{'year': 2018, 'month': 6}\" \"{'year': 2019, 'month': 5}\"\n",
      " \"{'year': 2020, 'month': 6}\" \"{'year': 2017, 'month': 2}\"\n",
      " \"{'year': 2020, 'month': 3}\" \"{'year': 2014, 'month': 10}\"\n",
      " \"{'year': 2010, 'month': 1}\" \"{'year': 2006, 'month': 3}\"\n",
      " \"{'year': 2008, 'month': 12}\" \"{'year': 2004, 'month': 9}\"\n",
      " \"{'year': 2017, 'month': 1}\" \"{'year': 2019, 'month': 3}\"\n",
      " \"{'year': 2020, 'month': 5}\" \"{'year': 2015, 'month': 11}\"\n",
      " \"{'year': 2016, 'month': 8}\" \"{'year': 2017, 'month': 6}\"\n",
      " \"{'year': 2017, 'month': 9}\" \"{'year': 2015, 'month': 8}\"\n",
      " \"{'year': 2017, 'month': 7}\" \"{'year': 2017, 'month': 8}\"\n",
      " \"{'year': 2018, 'month': 11}\" \"{'year': 2008, 'month': 8}\"\n",
      " \"{'year': 2006, 'month': 5}\" \"{'year': 2015, 'month': 3}\"\n",
      " \"{'year': 1986, 'month': 8}\" \"{'year': 2014, 'month': 12}\"\n",
      " \"{'year': 2018, 'month': 9}\" \"{'year': 2014, 'month': 3}\"\n",
      " \"{'year': 2014, 'month': 9}\" \"{'year': 2012, 'month': 6}\"\n",
      " \"{'year': 2011, 'month': 11}\" \"{'year': 2009, 'month': 12}\"\n",
      " \"{'year': 2013, 'month': 7}\" \"{'year': 2012, 'month': 3}\"\n",
      " \"{'year': 2019, 'month': 9}\" \"{'year': 2010, 'month': 10}\"\n",
      " \"{'year': 2016, 'month': 9}\" \"{'year': 2013, 'month': 3}\"\n",
      " \"{'year': 2019, 'month': 6}\" \"{'year': 2016, 'month': 11}\"\n",
      " \"{'year': 2013, 'month': 8}\" \"{'year': 2012, 'month': 2}\"\n",
      " \"{'year': 2017, 'month': 4}\" \"{'year': 2015, 'month': 4}\"\n",
      " \"{'year': 2015, 'month': 6}\" \"{'year': 2016, 'month': 1}\"\n",
      " \"{'year': 2018, 'month': 2}\" \"{'year': 2017, 'month': 5}\"\n",
      " \"{'year': 2014, 'month': 1}\" \"{'year': 2007, 'month': 2}\"\n",
      " \"{'year': 2013, 'month': 4}\" \"{'year': 2018, 'month': 4}\"\n",
      " \"{'year': 2013, 'month': 12}\" \"{'year': 2018, 'month': 3}\"\n",
      " \"{'year': 2015, 'month': 12}\" \"{'year': 2016, 'month': 4}\"\n",
      " \"{'year': 2018, 'month': 7}\" \"{'year': 2014, 'month': 6}\"\n",
      " \"{'year': 2017, 'month': 11}\" \"{'year': 2019, 'month': 12}\"\n",
      " \"{'year': 2014, 'month': 4}\" \"{'year': 2010, 'month': 11}\"\n",
      " \"{'year': 2019, 'month': 4}\" \"{'year': 2018, 'month': 8}\"\n",
      " \"{'year': 2020, 'month': 2}\" \"{'year': 2015, 'month': 2}\"\n",
      " \"{'year': 2009, 'month': 4}\" \"{'year': 2014, 'month': 2}\"\n",
      " \"{'year': 2012, 'month': 7}\" \"{'year': 2013, 'month': 10}\"\n",
      " \"{'year': 2012, 'month': 5}\" \"{'year': 2020, 'month': 9}\"\n",
      " \"{'year': 2013, 'month': 11}\" \"{'year': 2014, 'month': 7}\"\n",
      " \"{'year': 2005, 'month': 7}\" \"{'year': 2006, 'month': 6}\"\n",
      " \"{'year': 2015, 'month': 1}\" \"{'year': 2016, 'month': 2}\"\n",
      " \"{'year': 2011, 'month': 7}\" \"{'year': 2013, 'month': 9}\"\n",
      " \"{'year': 2014, 'month': 11}\" \"{'year': 2011, 'month': 9}\"\n",
      " \"{'year': 2015, 'month': 5}\" \"{'year': 2012, 'month': 12}\"\n",
      " \"{'year': 2015, 'month': 9}\" \"{'year': 2011, 'month': 6}\"\n",
      " \"{'year': 2002, 'month': 10}\" \"{'year': 2008, 'month': 9}\"\n",
      " \"{'year': 2009, 'month': 11}\" \"{'year': 2012, 'month': 8}\"\n",
      " \"{'year': 2006, 'month': 9}\" \"{'year': 2013, 'month': 2}\"\n",
      " \"{'year': 2012, 'month': 1}\" \"{'year': 2006, 'month': 11}\"\n",
      " \"{'year': 2011, 'month': 3}\" \"{'year': 2011, 'month': 10}\"\n",
      " \"{'year': 1999, 'month': 12}\" \"{'year': 2006, 'month': 12}\"\n",
      " \"{'year': 2006, 'month': 4}\" \"{'year': 2010, 'month': 12}\"\n",
      " \"{'year': 2009, 'month': 8}\" \"{'year': 2020, 'month': 7}\"\n",
      " \"{'year': 2012, 'month': 4}\" \"{'year': 2016, 'month': 6}\"\n",
      " \"{'year': 2007, 'month': 9}\" \"{'year': 2012, 'month': 9}\"\n",
      " \"{'year': 2011, 'month': 5}\" \"{'year': 2016, 'month': 12}\"\n",
      " \"{'year': 2010, 'month': 3}\" \"{'year': 2010, 'month': 5}\"\n",
      " \"{'year': 2011, 'month': 4}\" \"{'year': 2008, 'month': 4}\"\n",
      " \"{'year': 2010, 'month': 9}\" \"{'year': 2015, 'month': 10}\"\n",
      " \"{'year': 2010, 'month': 8}\" \"{'year': 2007, 'month': 12}\"\n",
      " \"{'year': 2008, 'month': 2}\" \"{'year': 2010, 'month': 7}\"\n",
      " \"{'year': 2003, 'month': 6}\" \"{'year': 2009, 'month': 3}\"\n",
      " \"{'year': 2010, 'month': 4}\" \"{'year': 2009, 'month': 5}\"\n",
      " \"{'year': 2015, 'month': 7}\" \"{'year': 2001, 'month': 2}\"\n",
      " \"{'year': 2002, 'month': 6}\" \"{'year': 2007, 'month': 3}\"\n",
      " \"{'year': 2013, 'month': 5}\" \"{'year': 2008, 'month': 11}\"\n",
      " \"{'year': 2009, 'month': 1}\" \"{'year': 2008, 'month': 1}\"\n",
      " \"{'year': 2002, 'month': 9}\" \"{'year': 2011, 'month': 1}\"\n",
      " \"{'year': 2007, 'month': 10}\" \"{'year': 2008, 'month': 10}\"\n",
      " \"{'year': 2010, 'month': 2}\" \"{'year': 2011, 'month': 2}\"\n",
      " \"{'year': 1977, 'month': 12}\" \"{'year': 2009, 'month': 9}\"\n",
      " \"{'year': 2009, 'month': 2}\" \"{'year': 2003, 'month': 3}\"\n",
      " \"{'year': 2009, 'month': 10}\" \"{'year': 2005, 'month': 6}\"\n",
      " \"{'year': 2008, 'month': 6}\" \"{'year': 2006, 'month': 8}\"\n",
      " \"{'year': 2011, 'month': 8}\" \"{'year': 1998, 'month': 12}\"\n",
      " \"{'year': 2002, 'month': 11}\" \"{'year': 2012, 'month': 11}\"\n",
      " \"{'year': 1994, 'month': 5}\" \"{'year': 2008, 'month': 3}\"\n",
      " \"{'year': 2007, 'month': 6}\" \"{'year': 2004, 'month': 1}\"\n",
      " \"{'year': 1992, 'month': 10}\" \"{'year': 2004, 'month': 8}\"\n",
      " \"{'year': 2007, 'month': 4}\" \"{'year': 2004, 'month': 6}\"\n",
      " \"{'year': 2005, 'month': 12}\" \"{'year': 2007, 'month': 5}\"\n",
      " \"{'year': 2004, 'month': 7}\" \"{'year': 2004, 'month': 10}\"\n",
      " \"{'year': 2005, 'month': 11}\" \"{'year': 2007, 'month': 1}\"\n",
      " \"{'year': 2005, 'month': 9}\" \"{'year': 2009, 'month': 7}\"\n",
      " \"{'year': 2008, 'month': 5}\" \"{'year': 2007, 'month': 11}\"\n",
      " \"{'year': 2002, 'month': 12}\" \"{'year': 2007, 'month': 7}\"\n",
      " \"{'year': 2006, 'month': 10}\" \"{'year': 2003, 'month': 7}\"\n",
      " \"{'year': 2000, 'month': 7}\" \"{'year': 2004, 'month': 2}\"\n",
      " \"{'year': 2006, 'month': 7}\" \"{'year': 2006, 'month': 2}\"\n",
      " \"{'year': 2004, 'month': 12}\" \"{'year': 2005, 'month': 1}\"\n",
      " \"{'year': 2004, 'month': 4}\" \"{'year': 2005, 'month': 3}\"\n",
      " \"{'year': 2007, 'month': 8}\" \"{'year': 2005, 'month': 10}\"\n",
      " \"{'year': 2002, 'month': 1}\" \"{'year': 1994, 'month': 3}\"\n",
      " \"{'year': 2008, 'month': 7}\" \"{'year': 2009, 'month': 6}\"\n",
      " \"{'year': 2000, 'month': 9}\" \"{'year': 2005, 'month': 8}\"\n",
      " \"{'year': 2001, 'month': 8}\" \"{'year': 1996, 'month': 1}\"\n",
      " \"{'year': 2002, 'month': 8}\" \"{'year': 2005, 'month': 5}\"\n",
      " \"{'year': 2003, 'month': 4}\" \"{'year': 2006, 'month': 1}\"\n",
      " \"{'year': 1992, 'month': 2}\" \"{'year': 2004, 'month': 3}\"\n",
      " \"{'year': 1997, 'month': 4}\" \"{'year': 2005, 'month': 2}\"\n",
      " \"{'year': 2001, 'month': 11}\" \"{'year': 1997, 'month': 12}\"\n",
      " \"{'year': 1998, 'month': 6}\" \"{'year': 2003, 'month': 5}\"\n",
      " \"{'year': 2002, 'month': 2}\" \"{'year': 2003, 'month': 9}\"\n",
      " \"{'year': 2003, 'month': 10}\" \"{'year': 1989, 'month': 3}\"\n",
      " \"{'year': 2001, 'month': 4}\" \"{'year': 2002, 'month': 7}\"\n",
      " \"{'year': 1999, 'month': 8}\" \"{'year': 2004, 'month': 11}\"\n",
      " \"{'year': 1996, 'month': 7}\" \"{'year': 2004, 'month': 5}\"\n",
      " \"{'year': 2003, 'month': 12}\" \"{'year': 2002, 'month': 5}\"\n",
      " \"{'year': 2000, 'month': 1}\" \"{'year': 2001, 'month': 6}\"\n",
      " \"{'year': 2000, 'month': 6}\" \"{'year': 1999, 'month': 6}\"\n",
      " \"{'year': 1998, 'month': 11}\" \"{'year': 2001, 'month': 5}\"\n",
      " \"{'year': 1998, 'month': 5}\" \"{'year': 2001, 'month': 9}\"\n",
      " \"{'year': 2003, 'month': 11}\" \"{'year': 2002, 'month': 3}\"\n",
      " \"{'year': 2000, 'month': 3}\" \"{'year': 2001, 'month': 10}\"\n",
      " \"{'year': 2000, 'month': 12}\" \"{'year': 1990, 'month': 11}\"\n",
      " \"{'year': 1995, 'month': 1}\" \"{'year': 1989, 'month': 5}\"\n",
      " \"{'year': 2000, 'month': 11}\" \"{'year': 1997, 'month': 11}\"\n",
      " \"{'year': 2001, 'month': 12}\" \"{'year': 1995, 'month': 12}\"\n",
      " \"{'year': 1997, 'month': 8}\" \"{'year': 1991, 'month': 1}\"\n",
      " \"{'year': 1998, 'month': 7}\" \"{'year': 1991, 'month': 5}\"\n",
      " \"{'year': 1999, 'month': 11}\" \"{'year': 1998, 'month': 8}\"\n",
      " \"{'year': 1997, 'month': 7}\"]\n"
     ]
    }
   ],
   "source": [
    "check_column(train, 'Владение')"
   ]
  },
  {
   "cell_type": "code",
   "execution_count": 111,
   "id": "4bb803b9",
   "metadata": {
    "scrolled": true
   },
   "outputs": [
    {
     "name": "stdout",
     "output_type": "stream",
     "text": [
      "Пустых значений: 97596\n",
      "Кол-во строк в столбце: 109764\n",
      "Тип данных столбца: object\n",
      "\n",
      "Уникальных значений: [nan '1 год и 9 месяцев' '6 лет и 12 месяцев' '2 года и 5 месяцев'\n",
      " '5 лет и 4 месяца' '7 лет и 10 месяцев' '6 лет и 5 месяцев'\n",
      " '2 года и 9 месяцев' '1 год и 6 месяцев' '5 лет и 1 месяц' '5 лет'\n",
      " '9 лет и 10 месяцев' '4 года и 12 месяцев' '9 лет и 7 месяцев'\n",
      " '6 месяцев' '3 месяца' '1 год и 2 месяца' '12 лет и 12 месяцев'\n",
      " '9 лет и 12 месяцев' '8 лет и 7 месяцев' '7 лет и 1 месяц'\n",
      " '3 года и 12 месяцев' '2 года и 12 месяцев' '9 лет и 6 месяцев'\n",
      " '3 года и 4 месяца' '6 лет' '3 года и 2 месяца' '4 года и 1 месяц'\n",
      " '2 года и 2 месяца' '1 год и 11 месяцев' '8 месяцев' '5 лет и 12 месяцев'\n",
      " '23 года и 4 месяца' '1 год и 3 месяца' '6 лет и 7 месяцев'\n",
      " '1 год и 8 месяцев' '12 месяцев' '1 год и 12 месяцев' '12 лет и 1 месяц'\n",
      " '9 лет и 2 месяца' '11 месяцев' '7 лет и 6 месяцев' '2 года и 10 месяцев'\n",
      " '4 месяца' '6 лет и 2 месяца' '7 лет и 5 месяцев' '8 лет и 10 месяцев'\n",
      " '12 лет и 3 месяца' '1 год и 10 месяцев' '8 лет и 6 месяцев'\n",
      " '12 лет и 10 месяцев' '2 года' '3 года' '5 лет и 5 месяцев' '11 лет'\n",
      " '9 лет и 1 месяц' '10 месяцев' '1 год и 1 месяц' '5 месяцев'\n",
      " '5 лет и 10 месяцев' '1 год и 7 месяцев' '7 месяцев' '4 года и 2 месяца'\n",
      " '11 лет и 12 месяцев' '2 месяца' '5 лет и 7 месяцев' '4 года и 4 месяца'\n",
      " '3 года и 10 месяцев' '5 лет и 2 месяца' '1 год и 5 месяцев'\n",
      " '10 лет и 4 месяца' '7 лет и 9 месяцев' '6 лет и 10 месяцев'\n",
      " '1 год и 4 месяца' '6 лет и 11 месяцев' '8 лет и 1 месяц'\n",
      " '2 года и 7 месяцев' '3 года и 1 месяц' '4 года и 10 месяцев' '1 год'\n",
      " '3 года и 7 месяцев' '13 лет и 11 месяцев' '3 года и 5 месяцев'\n",
      " '8 лет и 2 месяца' '8 лет' '3 года и 3 месяца' '4 года и 7 месяцев'\n",
      " '3 года и 8 месяцев' '6 лет и 1 месяц' '11 лет и 5 месяцев'\n",
      " '8 лет и 12 месяцев' '2 года и 3 месяца' '2 года и 11 месяцев'\n",
      " '2 года и 8 месяцев' '2 года и 1 месяц' '9 месяцев' '3 года и 11 месяцев'\n",
      " '6 лет и 9 месяцев' '8 лет и 11 месяцев' '17 лет и 4 месяца'\n",
      " '9 лет и 9 месяцев' '7 лет и 11 месяцев' '2 года и 4 месяца'\n",
      " '7 лет и 2 месяца' '4 года и 3 месяца' '8 лет и 3 месяца'\n",
      " '14 лет и 6 месяцев' '7 лет и 12 месяцев' '9 лет и 3 месяца' '1 месяц'\n",
      " '9 лет и 11 месяцев' '4 года' '4 года и 11 месяцев' '9 лет' '7 лет'\n",
      " '10 лет и 5 месяцев' '8 лет и 9 месяцев' '13 лет и 10 месяцев'\n",
      " '5 лет и 3 месяца' '15 лет и 9 месяцев' '7 лет и 7 месяцев'\n",
      " '12 лет и 8 месяцев' '11 лет и 6 месяцев' '3 года и 6 месяцев'\n",
      " '6 лет и 3 месяца' '4 года и 9 месяцев' '13 лет и 6 месяцев'\n",
      " '4 года и 8 месяцев' '10 лет и 3 месяца' '6 лет и 6 месяцев'\n",
      " '13 лет и 4 месяца' '5 лет и 9 месяцев' '4 года и 5 месяцев'\n",
      " '10 лет и 6 месяцев' '10 лет и 8 месяцев' '5 лет и 11 месяцев'\n",
      " '15 лет и 7 месяцев' '10 лет' '21 год и 9 месяцев' '9 лет и 8 месяцев'\n",
      " '13 лет' '14 лет и 7 месяцев' '10 лет и 12 месяцев' '11 лет и 8 месяцев'\n",
      " '16 лет и 3 месяца' '7 лет и 3 месяца' '17 лет и 6 месяцев'\n",
      " '12 лет и 7 месяцев' '15 лет и 12 месяцев' '10 лет и 9 месяцев'\n",
      " '9 лет и 5 месяцев' '13 лет и 7 месяцев' '8 лет и 5 месяцев'\n",
      " '14 лет и 5 месяцев' '22 года и 9 месяцев' '14 лет и 3 месяца'\n",
      " '24 года и 1 месяц' '11 лет и 3 месяца' '13 лет и 3 месяца'\n",
      " '16 лет и 10 месяцев' '11 лет и 11 месяцев' '11 лет и 1 месяц'\n",
      " '22 года и 10 месяцев' '16 лет и 4 месяца' '15 лет' '23 года и 2 месяца'\n",
      " '12 лет и 9 месяцев' '12 лет и 11 месяцев' '14 лет и 10 месяцев'\n",
      " '11 лет и 9 месяцев' '11 лет и 4 месяца' '20 лет и 8 месяцев' '12 лет'\n",
      " '11 лет и 7 месяцев' '16 лет и 5 месяцев' '27 лет и 11 месяцев'\n",
      " '12 лет и 6 месяцев' '14 лет' '15 лет и 5 месяцев' '5 лет и 8 месяцев'\n",
      " '19 лет и 8 месяцев' '17 лет и 2 месяца' '12 лет и 5 месяцев'\n",
      " '24 года и 6 месяцев' '10 лет и 1 месяц' '20 лет и 5 месяцев'\n",
      " '13 лет и 1 месяц' '21 год и 5 месяцев' '10 лет и 7 месяцев'\n",
      " '10 лет и 11 месяцев' '13 лет и 9 месяцев' '13 лет и 12 месяцев'\n",
      " '14 лет и 2 месяца' '13 лет и 8 месяцев' '15 лет и 2 месяца'\n",
      " '4 года и 6 месяцев' '8 лет и 4 месяца' '7 лет и 8 месяцев'\n",
      " '6 лет и 4 месяца' '10 лет и 10 месяцев' '17 лет и 10 месяцев'\n",
      " '14 лет и 4 месяца' '34 года и 10 месяцев' '2 года и 6 месяцев'\n",
      " '14 лет и 11 месяцев' '25 лет и 5 месяцев' '22 года и 5 месяцев'\n",
      " '24 года и 2 месяца' '31 год и 7 месяцев' '23 года и 7 месяцев'\n",
      " '16 лет и 1 месяц' '3 года и 9 месяцев' '7 лет и 4 месяца'\n",
      " '6 лет и 8 месяцев' '9 лет и 4 месяца' '19 лет и 9 месяцев'\n",
      " '26 лет и 10 месяцев' '14 лет и 9 месяцев' '13 лет и 5 месяцев'\n",
      " '18 лет и 4 месяца' '8 лет и 8 месяцев' '17 лет и 3 месяца'\n",
      " '13 лет и 2 месяца' '18 лет и 11 месяцев' '11 лет и 2 месяца'\n",
      " '11 лет и 10 месяцев' '5 лет и 6 месяцев' '10 лет и 2 месяца'\n",
      " '14 лет и 1 месяц' '16 лет' '16 лет и 12 месяцев' '18 лет и 5 месяцев'\n",
      " '15 лет и 11 месяцев' '27 лет и 10 месяцев' '22 года и 2 месяца'\n",
      " '20 лет и 9 месяцев' '16 лет и 7 месяцев' '23 года и 6 месяцев'\n",
      " '21 год и 8 месяцев' '16 лет и 2 месяца' '15 лет и 10 месяцев'\n",
      " '18 лет и 2 месяца' '23 года и 9 месяцев' '17 лет и 1 месяц'\n",
      " '18 лет и 3 месяца' '15 лет и 4 месяца' '17 лет и 7 месяцев'\n",
      " '15 лет и 8 месяцев' '12 лет и 2 месяца' '19 лет и 5 месяцев'\n",
      " '19 лет и 7 месяцев' '16 лет и 11 месяцев' '18 лет и 1 месяц'\n",
      " '22 года и 8 месяцев' '17 лет' '19 лет и 2 месяца' '24 года и 8 месяцев'\n",
      " '12 лет и 4 месяца' '17 лет и 5 месяцев']\n"
     ]
    }
   ],
   "source": [
    "check_column(train_parsed, 'Владение')"
   ]
  },
  {
   "cell_type": "code",
   "execution_count": 112,
   "id": "7557f633",
   "metadata": {
    "scrolled": true
   },
   "outputs": [
    {
     "name": "stdout",
     "output_type": "stream",
     "text": [
      "Пустых значений: 22691\n",
      "Кол-во строк в столбце: 34686\n",
      "Тип данных столбца: object\n",
      "\n",
      "Уникальных значений: [nan '3 года и 2 месяца' '11 месяцев' '4 года и 1 месяц'\n",
      " '2 года и 4 месяца' '1 месяц' '3 года и 10 месяцев' '2 года и 6 месяцев'\n",
      " '6 лет и 4 месяца' '2 месяца' '4 месяца' '1 год и 10 месяцев'\n",
      " '2 года и 7 месяцев' '7 лет и 11 месяцев' '7 лет и 5 месяцев'\n",
      " '1 год и 11 месяцев' '2 года и 1 месяц' '7 лет' '4 года и 2 месяца'\n",
      " '2 года и 8 месяцев' '2 года и 5 месяцев' '12 лет и 11 месяцев'\n",
      " '5 лет и 11 месяцев' '2 года и 11 месяцев' '3 года и 1 месяц'\n",
      " '1 год и 1 месяц' '1 год' '1 год и 7 месяцев' '3 месяца'\n",
      " '1 год и 5 месяцев' '1 год и 2 месяца' '7 лет и 8 месяцев'\n",
      " '3 года и 4 месяца' '1 год и 6 месяцев' '12 лет и 8 месяцев'\n",
      " '6 лет и 1 месяц' '6 лет и 11 месяцев' '5 лет и 4 месяца'\n",
      " '3 года и 5 месяцев' '6 лет и 2 месяца' '4 года и 6 месяцев'\n",
      " '3 года и 6 месяцев' '1 год и 8 месяцев' '1 год и 9 месяцев'\n",
      " '3 года и 11 месяцев' '2 года и 2 месяца' '3 года' '5 лет и 5 месяцев'\n",
      " '2 года и 9 месяцев' '6 лет и 9 месяцев' '9 месяцев' '1 год и 3 месяца'\n",
      " '4 года и 3 месяца' '8 месяцев' '6 лет' '1 год и 4 месяца'\n",
      " '5 лет и 2 месяца' '2 года и 10 месяцев' '3 года и 8 месяцев'\n",
      " '4 года и 5 месяцев' '5 лет и 1 месяц' '4 года и 10 месяцев' '10 месяцев'\n",
      " '8 лет' '6 лет и 10 месяцев' '4 года и 8 месяцев' '7 лет и 10 месяцев'\n",
      " '5 лет и 10 месяцев' '10 лет и 5 месяцев' '3 года и 7 месяцев'\n",
      " '7 лет и 3 месяца' '5 лет и 9 месяцев' '3 года и 9 месяцев' '6 месяцев'\n",
      " '6 лет и 7 месяцев' '8 лет и 2 месяца' '8 лет и 4 месяца'\n",
      " '2 года и 3 месяца' '2 года' '4 года и 4 месяца' '4 года и 9 месяцев'\n",
      " '28 лет и 8 месяцев' '11 лет и 9 месяцев' '16 лет и 7 месяцев'\n",
      " '6 лет и 6 месяцев' '5 лет и 8 месяцев' '8 лет и 6 месяцев'\n",
      " '12 лет и 7 месяцев' '8 лет и 1 месяц' '7 лет и 2 месяца'\n",
      " '7 лет и 1 месяц' '10 лет и 9 месяцев' '6 лет и 5 месяцев' '5 месяцев'\n",
      " '14 лет и 10 месяцев' '3 года и 3 месяца' '8 лет и 3 месяца' '5 лет'\n",
      " '17 лет и 7 месяцев' '11 лет и 3 месяца' '13 лет и 1 месяц'\n",
      " '9 лет и 1 месяц' '9 лет и 5 месяцев' '7 месяцев' '9 лет и 11 месяцев'\n",
      " '9 лет и 2 месяца' '4 года и 7 месяцев' '12 лет и 4 месяца' '10 лет'\n",
      " '9 лет и 3 месяца' '8 лет и 9 месяцев' '9 лет и 7 месяцев'\n",
      " '4 года и 11 месяцев' '8 лет и 5 месяцев' '5 лет и 6 месяцев'\n",
      " '7 лет и 7 месяцев' '7 лет и 4 месяца' '7 лет и 6 месяцев' '4 года'\n",
      " '10 лет и 4 месяца' '9 лет и 4 месяца' '8 лет и 10 месяцев'\n",
      " '5 лет и 7 месяцев' '11 лет и 4 месяца' '11 лет и 11 месяцев' '11 лет'\n",
      " '10 лет и 3 месяца' '12 лет и 2 месяца' '9 лет' '10 лет и 6 месяцев'\n",
      " '5 лет и 3 месяца' '15 лет и 10 месяцев' '8 лет и 8 месяцев'\n",
      " '11 лет и 8 месяцев' '9 лет и 10 месяцев' '11 лет и 5 месяцев'\n",
      " '7 лет и 9 месяцев' '11 лет и 7 месяцев' '9 лет и 6 месяцев'\n",
      " '12 лет и 5 месяцев' '6 лет и 8 месяцев' '11 лет и 2 месяца'\n",
      " '10 лет и 8 месяцев' '6 лет и 3 месяца' '10 лет и 10 месяцев'\n",
      " '34 года и 2 месяца' '22 года и 6 месяцев' '10 лет и 1 месяц'\n",
      " '11 лет и 10 месяцев' '8 лет и 7 месяцев' '23 года и 4 месяца'\n",
      " '14 лет и 1 месяц' '12 лет' '13 лет и 8 месяцев' '20 лет и 10 месяцев'\n",
      " '8 лет и 11 месяцев' '14 лет и 5 месяцев' '10 лет и 7 месяцев'\n",
      " '12 лет и 10 месяцев' '18 лет' '13 лет и 10 месяцев' '17 лет и 4 месяца'\n",
      " '9 лет и 9 месяцев' '18 лет и 1 месяц' '27 лет и 9 месяцев'\n",
      " '12 лет и 9 месяцев' '13 лет' '13 лет и 11 месяцев' '16 лет и 1 месяц'\n",
      " '19 лет и 8 месяцев' '10 лет и 11 месяцев' '14 лет и 6 месяцев'\n",
      " '15 лет и 11 месяцев' '15 лет' '11 лет и 6 месяцев' '20 лет и 8 месяцев'\n",
      " '12 лет и 6 месяцев' '10 лет и 2 месяца' '14 лет и 3 месяца'\n",
      " '15 лет и 3 месяца' '13 лет и 2 месяца' '16 лет и 3 месяца'\n",
      " '20 лет и 3 месяца' '12 лет и 3 месяца' '15 лет и 9 месяцев'\n",
      " '16 лет и 6 месяцев' '13 лет и 6 месяцев' '13 лет и 3 месяца'\n",
      " '9 лет и 8 месяцев' '12 лет и 1 месяц' '15 лет и 8 месяцев'\n",
      " '19 лет и 11 месяцев' '19 лет и 4 месяца' '11 лет и 1 месяц'\n",
      " '25 лет и 9 месяцев' '16 лет и 10 месяцев' '17 лет и 6 месяцев'\n",
      " '31 год и 5 месяцев' '29 лет и 11 месяцев' '16 лет и 4 месяца'\n",
      " '13 лет и 7 месяцев' '19 лет и 7 месяцев' '42 года и 10 месяцев'\n",
      " '20 лет и 5 месяцев' '14 лет и 11 месяцев' '13 лет и 5 месяцев' '16 лет'\n",
      " '26 лет и 7 месяцев' '18 лет и 5 месяцев' '13 лет и 9 месяцев'\n",
      " '17 лет и 10 месяцев' '15 лет и 5 месяцев' '17 лет и 5 месяцев' '14 лет'\n",
      " '15 лет и 2 месяца' '13 лет и 4 месяца' '15 лет и 1 месяц'\n",
      " '18 лет и 6 месяцев' '18 лет и 2 месяца' '14 лет и 9 месяцев'\n",
      " '14 лет и 4 месяца' '18 лет и 4 месяца' '24 года и 2 месяца' '19 лет'\n",
      " '14 лет и 7 месяцев' '14 лет и 8 месяцев' '16 лет и 9 месяцев'\n",
      " '15 лет и 4 месяца' '14 лет и 2 месяца' '23 года и 6 месяцев'\n",
      " '29 лет и 9 месяцев' '15 лет и 7 месяцев' '19 лет и 6 месяцев'\n",
      " '24 года и 3 месяца' '18 лет и 11 месяцев' '20 лет и 4 месяца' '17 лет'\n",
      " '26 лет и 3 месяца' '22 года и 3 месяца' '23 года и 3 месяца'\n",
      " '19 лет и 2 месяца' '16 лет и 2 месяца' '23 года и 2 месяца'\n",
      " '15 лет и 6 месяцев' '16 лет и 11 месяцев' '17 лет и 2 месяца'\n",
      " '20 лет и 9 месяцев' '19 лет и 10 месяцев' '20 лет и 11 месяцев'\n",
      " '18 лет и 10 месяцев' '17 лет и 1 месяц' '21 год и 6 месяцев'\n",
      " '20 лет и 2 месяца' '20 лет и 1 месяц' '21 год и 9 месяцев'\n",
      " '21 год и 8 месяцев' '20 лет и 7 месяцев' '17 лет и 3 месяца'\n",
      " '21 год и 2 месяца' '18 лет и 3 месяца' '23 года и 9 месяцев'\n",
      " '18 лет и 8 месяцев' '22 года и 10 месяцев' '19 лет и 9 месяцев'\n",
      " '21 год и 4 месяца' '16 лет и 5 месяцев' '18 лет и 7 месяцев'\n",
      " '22 года и 2 месяца' '19 лет и 5 месяцев' '21 год и 11 месяцев'\n",
      " '17 лет и 9 месяцев' '18 лет и 9 месяцев' '16 лет и 8 месяцев'\n",
      " '26 лет и 5 месяцев' '20 лет' '22 года и 9 месяцев']\n"
     ]
    }
   ],
   "source": [
    "check_column(test, 'Владение')"
   ]
  },
  {
   "cell_type": "code",
   "execution_count": 113,
   "id": "1e45b1c8",
   "metadata": {},
   "outputs": [],
   "source": [
    "train.drop('Владение', axis = 1, inplace = True)\n",
    "train_parsed.drop('Владение', axis = 1, inplace = True)\n",
    "test.drop('Владение', axis = 1, inplace = True)"
   ]
  },
  {
   "cell_type": "markdown",
   "id": "6b9762e7",
   "metadata": {},
   "source": [
    "### ПТС"
   ]
  },
  {
   "cell_type": "code",
   "execution_count": 114,
   "id": "4212c282",
   "metadata": {},
   "outputs": [],
   "source": [
    "train['ПТС'] = train['ПТС'].apply(lambda x: 'original' if x == 'ORIGINAL' else ('duplicate' if x == 'DUPLICATE' else x))\n",
    "train_parsed['ПТС'] = train['ПТС'].apply(lambda x: 'original' if x == 'Оригинал' else ('duplicate' if x == 'Дубликат' else x))\n",
    "test['ПТС'] = train['ПТС'].apply(lambda x: 'original' if x == 'Оригинал' else ('duplicate' if x == 'Дубликат' else x))"
   ]
  },
  {
   "cell_type": "code",
   "execution_count": 115,
   "id": "ba5a09c7",
   "metadata": {},
   "outputs": [],
   "source": [
    "# train['ПТС']\n",
    "train.loc[(train['ПТС'].isna()) & (train.mileage == 0.0), 'ПТС'] = 'original'\n",
    "train.loc[(train['ПТС'].isna()) & (train.mileage != 0.0), 'ПТС'] = 'duplicate'\n",
    "\n",
    "# train_parsed['ПТС']\n",
    "train_parsed.loc[(train_parsed['ПТС'].isna()) & (train_parsed.mileage == 0.0), 'ПТС'] = 'original'\n",
    "train_parsed.loc[(train_parsed['ПТС'].isna()) & (train_parsed.mileage != 0.0), 'ПТС'] = 'duplicate'\n",
    "\n",
    "# test['ПТС']\n",
    "test.loc[(test['ПТС'].isna()) & (test.mileage == 0.0), 'ПТС'] = 'original'\n",
    "test.loc[(test['ПТС'].isna()) & (test.mileage != 0.0), 'ПТС'] = 'duplicate'"
   ]
  },
  {
   "cell_type": "code",
   "execution_count": 116,
   "id": "d260c71f",
   "metadata": {
    "scrolled": true
   },
   "outputs": [
    {
     "name": "stdout",
     "output_type": "stream",
     "text": [
      "Пустых значений: 0\n",
      "Кол-во строк в столбце: 49100\n",
      "Тип данных столбца: object\n",
      "\n",
      "Уникальных значений: ['original' 'duplicate']\n"
     ]
    }
   ],
   "source": [
    "check_column(train, 'ПТС')"
   ]
  },
  {
   "cell_type": "code",
   "execution_count": 117,
   "id": "ccd691ca",
   "metadata": {
    "scrolled": true
   },
   "outputs": [
    {
     "name": "stdout",
     "output_type": "stream",
     "text": [
      "Пустых значений: 0\n",
      "Кол-во строк в столбце: 109764\n",
      "Тип данных столбца: object\n",
      "\n",
      "Уникальных значений: ['original' 'duplicate']\n"
     ]
    }
   ],
   "source": [
    "check_column(train_parsed, 'ПТС')"
   ]
  },
  {
   "cell_type": "code",
   "execution_count": 118,
   "id": "62c79193",
   "metadata": {
    "scrolled": true
   },
   "outputs": [
    {
     "name": "stdout",
     "output_type": "stream",
     "text": [
      "Пустых значений: 0\n",
      "Кол-во строк в столбце: 34686\n",
      "Тип данных столбца: object\n",
      "\n",
      "Уникальных значений: ['original' 'duplicate']\n"
     ]
    }
   ],
   "source": [
    "check_column(test, 'ПТС')"
   ]
  },
  {
   "cell_type": "markdown",
   "id": "bf230327",
   "metadata": {},
   "source": [
    "### Привод"
   ]
  },
  {
   "cell_type": "code",
   "execution_count": 119,
   "id": "eefa8e8c",
   "metadata": {},
   "outputs": [],
   "source": [
    "train.rename(columns = {'Привод' : 'driving_gear'}, inplace = True)\n",
    "train_parsed.rename(columns = {'Привод' : 'driving_gear'}, inplace = True)\n",
    "test.rename(columns = {'Привод' : 'driving_gear'}, inplace = True)"
   ]
  },
  {
   "cell_type": "code",
   "execution_count": 120,
   "id": "e9a46b23",
   "metadata": {
    "scrolled": true
   },
   "outputs": [
    {
     "name": "stdout",
     "output_type": "stream",
     "text": [
      "Пустых значений: 0\n",
      "Кол-во строк в столбце: 49100\n",
      "Тип данных столбца: object\n",
      "\n",
      "Уникальных значений: ['полный' 'передний' 'задний']\n"
     ]
    }
   ],
   "source": [
    "check_column(train, 'driving_gear')"
   ]
  },
  {
   "cell_type": "code",
   "execution_count": 121,
   "id": "b3e172c8",
   "metadata": {},
   "outputs": [],
   "source": [
    "# Словарь для определения привода по модели и бренду авто\n",
    "driving_gear_df = train_parsed.groupby(['brand', 'model_name', 'driving_gear']).bodyType.count().reset_index().drop_duplicates([\n",
    "                    'brand', 'model_name']).drop(columns=['bodyType'])\n",
    "\n",
    "# Применяем к пустым значениям в train_parsed\n",
    "train_parsed.loc[train_parsed.driving_gear.isna(), 'driving_gear'] = train_parsed[train_parsed.driving_gear.isna()].apply(\n",
    "    lambda row: fill_driving_gear(row.brand, row.model_name, driving_gear_df), axis=1)"
   ]
  },
  {
   "cell_type": "code",
   "execution_count": 122,
   "id": "99bab7db",
   "metadata": {
    "scrolled": false
   },
   "outputs": [
    {
     "name": "stdout",
     "output_type": "stream",
     "text": [
      "Пустых значений: 0\n",
      "Кол-во строк в столбце: 109764\n",
      "Тип данных столбца: object\n",
      "\n",
      "Уникальных значений: ['передний' 'полный' 'задний']\n"
     ]
    }
   ],
   "source": [
    "check_column(train_parsed, 'driving_gear')"
   ]
  },
  {
   "cell_type": "code",
   "execution_count": 123,
   "id": "ef6df6e3",
   "metadata": {
    "scrolled": false
   },
   "outputs": [
    {
     "name": "stdout",
     "output_type": "stream",
     "text": [
      "Пустых значений: 0\n",
      "Кол-во строк в столбце: 34686\n",
      "Тип данных столбца: object\n",
      "\n",
      "Уникальных значений: ['передний' 'полный' 'задний']\n"
     ]
    }
   ],
   "source": [
    "check_column(test, 'driving_gear')"
   ]
  },
  {
   "cell_type": "markdown",
   "id": "abb14e47",
   "metadata": {},
   "source": [
    "### Руль"
   ]
  },
  {
   "cell_type": "code",
   "execution_count": 124,
   "id": "58303282",
   "metadata": {},
   "outputs": [],
   "source": [
    "train['Руль'] = train['Руль'].apply(lambda x: 'left' if x == 'LEFT' else ('right' if x == 'RIGHT' else x))\n",
    "train_parsed['Руль'] = train_parsed['Руль'].apply(lambda x: 'left' if x == 'Левый' else ('right' if x == 'Правый' else x))\n",
    "test['Руль'] = test['Руль'].apply(lambda x: 'left' if x == 'Левый' else ('right' if x == 'Правый' else x))"
   ]
  },
  {
   "cell_type": "code",
   "execution_count": 125,
   "id": "b55772b4",
   "metadata": {},
   "outputs": [],
   "source": [
    "right_wheel_models = train_parsed[train_parsed['Руль'] == 'right'].groupby(['brand', 'model_name']).bodyType.count() "
   ]
  },
  {
   "cell_type": "code",
   "execution_count": 126,
   "id": "b857f35c",
   "metadata": {},
   "outputs": [],
   "source": [
    "right_wheel_models = right_wheel_models.reset_index().sort_values('bodyType', ascending=False)"
   ]
  },
  {
   "cell_type": "code",
   "execution_count": 127,
   "id": "d8e6fa8f",
   "metadata": {},
   "outputs": [],
   "source": [
    "right_wheel_dict = right_wheel_models[right_wheel_models.bodyType > 1].groupby('brand').agg(\n",
    "    {'model_name': lambda x: x.tolist()}).to_dict()['model_name']"
   ]
  },
  {
   "cell_type": "code",
   "execution_count": 128,
   "id": "05e5dea8",
   "metadata": {},
   "outputs": [],
   "source": [
    "train_parsed.loc[train_parsed['Руль'].isna(), 'Руль'] = train_parsed[train_parsed['Руль'].isna()].apply(\n",
    "    lambda row: fill_steering_wheel(row.brand, row.model_name, right_wheel_dict), axis=1)"
   ]
  },
  {
   "cell_type": "code",
   "execution_count": 129,
   "id": "2c99f1f6",
   "metadata": {
    "scrolled": true
   },
   "outputs": [
    {
     "name": "stdout",
     "output_type": "stream",
     "text": [
      "Пустых значений: 0\n",
      "Кол-во строк в столбце: 49100\n",
      "Тип данных столбца: object\n",
      "\n",
      "Уникальных значений: ['left' 'right']\n"
     ]
    }
   ],
   "source": [
    "check_column(train, 'Руль')"
   ]
  },
  {
   "cell_type": "code",
   "execution_count": 130,
   "id": "a6347d34",
   "metadata": {
    "scrolled": false
   },
   "outputs": [
    {
     "name": "stdout",
     "output_type": "stream",
     "text": [
      "Пустых значений: 0\n",
      "Кол-во строк в столбце: 109764\n",
      "Тип данных столбца: object\n",
      "\n",
      "Уникальных значений: ['left' 'right']\n"
     ]
    }
   ],
   "source": [
    "check_column(train_parsed, 'Руль')"
   ]
  },
  {
   "cell_type": "code",
   "execution_count": 131,
   "id": "80634bb8",
   "metadata": {
    "scrolled": false
   },
   "outputs": [
    {
     "name": "stdout",
     "output_type": "stream",
     "text": [
      "Пустых значений: 0\n",
      "Кол-во строк в столбце: 34686\n",
      "Тип данных столбца: object\n",
      "\n",
      "Уникальных значений: ['left' 'right']\n"
     ]
    }
   ],
   "source": [
    "check_column(test, 'Руль')"
   ]
  },
  {
   "cell_type": "markdown",
   "id": "2503058f",
   "metadata": {},
   "source": [
    "### Таможня"
   ]
  },
  {
   "cell_type": "code",
   "execution_count": 132,
   "id": "934a3a99",
   "metadata": {},
   "outputs": [],
   "source": [
    "train['Таможня'] = train['Таможня'].apply(lambda x: 'Растаможен' if x == True else 'Нет')"
   ]
  },
  {
   "cell_type": "code",
   "execution_count": 133,
   "id": "d412f1a4",
   "metadata": {},
   "outputs": [],
   "source": [
    "train_parsed['Таможня'] = train_parsed['Таможня'].fillna('Нет')"
   ]
  },
  {
   "cell_type": "code",
   "execution_count": 134,
   "id": "2fa93c4c",
   "metadata": {
    "scrolled": false
   },
   "outputs": [
    {
     "name": "stdout",
     "output_type": "stream",
     "text": [
      "Пустых значений: 0\n",
      "Кол-во строк в столбце: 49100\n",
      "Тип данных столбца: object\n",
      "\n",
      "Уникальных значений: ['Растаможен']\n"
     ]
    }
   ],
   "source": [
    "check_column(train, 'Таможня')"
   ]
  },
  {
   "cell_type": "code",
   "execution_count": 135,
   "id": "f8b2b4db",
   "metadata": {
    "scrolled": false
   },
   "outputs": [
    {
     "name": "stdout",
     "output_type": "stream",
     "text": [
      "Пустых значений: 0\n",
      "Кол-во строк в столбце: 109764\n",
      "Тип данных столбца: object\n",
      "\n",
      "Уникальных значений: ['Растаможен' 'Нет']\n"
     ]
    }
   ],
   "source": [
    "check_column(train_parsed, 'Таможня')"
   ]
  },
  {
   "cell_type": "code",
   "execution_count": 136,
   "id": "53fe86a7",
   "metadata": {
    "scrolled": false
   },
   "outputs": [
    {
     "name": "stdout",
     "output_type": "stream",
     "text": [
      "Пустых значений: 0\n",
      "Кол-во строк в столбце: 34686\n",
      "Тип данных столбца: object\n",
      "\n",
      "Уникальных значений: ['Растаможен']\n"
     ]
    }
   ],
   "source": [
    "check_column(test, 'Таможня')"
   ]
  },
  {
   "cell_type": "code",
   "execution_count": 137,
   "id": "105609c9",
   "metadata": {},
   "outputs": [
    {
     "data": {
      "text/plain": [
       "Index(['bodyType', 'brand', 'car_url', 'color', 'engineDisplacement',\n",
       "       'enginePower', 'equipment_dict', 'fuelType', 'image', 'mileage',\n",
       "       'modelDate', 'numberOfDoors', 'pars_date', 'priceCurrency',\n",
       "       'productionDate', 'sell_id', 'super_gen', 'vehicleTransmission',\n",
       "       'vendor', 'Владельцы', 'ПТС', 'driving_gear', 'Руль', 'Состояние',\n",
       "       'Таможня', 'views', 'date_added', 'region', 'price', 'model_name'],\n",
       "      dtype='object')"
      ]
     },
     "execution_count": 137,
     "metadata": {},
     "output_type": "execute_result"
    }
   ],
   "source": [
    "train_parsed.columns"
   ]
  },
  {
   "cell_type": "markdown",
   "id": "ca11ddf8",
   "metadata": {},
   "source": [
    "### vendor"
   ]
  },
  {
   "cell_type": "code",
   "execution_count": 138,
   "id": "3e5d9b9c",
   "metadata": {
    "scrolled": false
   },
   "outputs": [
    {
     "name": "stdout",
     "output_type": "stream",
     "text": [
      "Пустых значений: 109764\n",
      "Кол-во строк в столбце: 109764\n",
      "Тип данных столбца: float64\n",
      "\n",
      "Уникальных значений: [nan]\n"
     ]
    }
   ],
   "source": [
    "check_column(train_parsed, 'vendor')"
   ]
  },
  {
   "cell_type": "code",
   "execution_count": 139,
   "id": "b6317389",
   "metadata": {
    "scrolled": false
   },
   "outputs": [
    {
     "name": "stdout",
     "output_type": "stream",
     "text": [
      "Пустых значений: 0\n",
      "Кол-во строк в столбце: 34686\n",
      "Тип данных столбца: object\n",
      "\n",
      "Уникальных значений: ['EUROPEAN' 'JAPANESE']\n"
     ]
    }
   ],
   "source": [
    "check_column(test, 'vendor')"
   ]
  },
  {
   "cell_type": "code",
   "execution_count": 140,
   "id": "15e8020b",
   "metadata": {},
   "outputs": [],
   "source": [
    "vendor_brand_dict = {v:b for b,v in test.groupby(['vendor', 'brand']).count().index}"
   ]
  },
  {
   "cell_type": "code",
   "execution_count": 141,
   "id": "027d27ba",
   "metadata": {},
   "outputs": [
    {
     "name": "stdout",
     "output_type": "stream",
     "text": [
      "Уникальные значения в столбце vendor в датасете test: ['EUROPEAN' 'JAPANESE']\n",
      "\n",
      "Уникальные значения в столбце vendor в датасете train_parsed: ['EUROPEAN' 'JAPANESE']\n",
      "\n",
      "Количество значений nan в столбце vendor в датасете train_parsed: 0\n"
     ]
    }
   ],
   "source": [
    "# Начнем с vendor из train_parsed\n",
    "# Количество строк совпадает с количеством пустых значений\n",
    "# Для заполнения пустых значений мы проверим наличие vendor в датасете test (в train отсутствует)\n",
    "\n",
    "new_line = '\\n'\n",
    "print(f'Уникальные значения в столбце vendor в датасете test: {test.vendor.unique()}')\n",
    "vendor_brand_dict = {v:b for b,v in test.groupby(['vendor', 'brand']).count().index}\n",
    "train_parsed['vendor'] = train_parsed.brand.map(vendor_brand_dict)\n",
    "print(new_line+ f'Уникальные значения в столбце vendor в датасете train_parsed: {train_parsed.vendor.unique()}')\n",
    "print(new_line+f'Количество значений nan в столбце vendor в датасете train_parsed: {train_parsed.vendor.isnull().sum()}')"
   ]
  },
  {
   "cell_type": "code",
   "execution_count": 142,
   "id": "3aaed040",
   "metadata": {
    "scrolled": true
   },
   "outputs": [
    {
     "name": "stdout",
     "output_type": "stream",
     "text": [
      "0\n"
     ]
    }
   ],
   "source": [
    "# Используем готовый словарь для датасета train\n",
    "train['vendor'] = train.brand.map(vendor_brand_dict)\n",
    "\n",
    "# Примерно половина отсутствует\n",
    "print(train['vendor'].isnull().sum())"
   ]
  },
  {
   "cell_type": "markdown",
   "id": "a82676a6",
   "metadata": {},
   "source": [
    "## Состояние"
   ]
  },
  {
   "cell_type": "code",
   "execution_count": 143,
   "id": "a375751c",
   "metadata": {
    "scrolled": true
   },
   "outputs": [
    {
     "name": "stdout",
     "output_type": "stream",
     "text": [
      "Пустых значений: 49100\n",
      "Кол-во строк в столбце: 49100\n",
      "Тип данных столбца: float64\n",
      "\n",
      "Уникальных значений: [nan]\n"
     ]
    }
   ],
   "source": [
    "check_column(train, 'Состояние')"
   ]
  },
  {
   "cell_type": "code",
   "execution_count": 144,
   "id": "4df24b35",
   "metadata": {},
   "outputs": [
    {
     "name": "stdout",
     "output_type": "stream",
     "text": [
      "Пустых значений: 21153\n",
      "Кол-во строк в столбце: 109764\n",
      "Тип данных столбца: object\n",
      "\n",
      "Уникальных значений: ['Не требует ремонта' nan]\n"
     ]
    }
   ],
   "source": [
    "check_column(train_parsed, 'Состояние')"
   ]
  },
  {
   "cell_type": "code",
   "execution_count": 145,
   "id": "78f04e84",
   "metadata": {},
   "outputs": [
    {
     "name": "stdout",
     "output_type": "stream",
     "text": [
      "Пустых значений: 0\n",
      "Кол-во строк в столбце: 34686\n",
      "Тип данных столбца: object\n",
      "\n",
      "Уникальных значений: ['Не требует ремонта']\n"
     ]
    }
   ],
   "source": [
    "check_column(test, 'Состояние')"
   ]
  },
  {
   "cell_type": "code",
   "execution_count": 146,
   "id": "32efd4aa",
   "metadata": {},
   "outputs": [],
   "source": [
    "train.loc[(train['Состояние'].isna()) & (train['Владельцы'] == 0.0), 'Состояние'] = 'Не требует ремонта'\n",
    "train['Состояние'].fillna('Требует ремонта', inplace = True)"
   ]
  },
  {
   "cell_type": "code",
   "execution_count": 147,
   "id": "189e49bb",
   "metadata": {},
   "outputs": [],
   "source": [
    "train_parsed.loc[(train_parsed['Состояние'].isna()) & (train_parsed['Владельцы'] == 0.0), 'Состояние'] = 'Не требует ремонта'\n",
    "train_parsed['Состояние'].fillna('Требует ремонта', inplace = True)"
   ]
  },
  {
   "cell_type": "markdown",
   "id": "ccb573ed",
   "metadata": {},
   "source": [
    "## price"
   ]
  },
  {
   "cell_type": "code",
   "execution_count": 148,
   "id": "0106a9d2",
   "metadata": {},
   "outputs": [
    {
     "data": {
      "image/jpeg": "[encoded data removed]",
      "text/plain": [
       "<IPython.core.display.Image object>"
      ]
     },
     "execution_count": 148,
     "metadata": {
      "image/jpeg": {
       "height": "auto",
       "width": 700
      }
     },
     "output_type": "execute_result"
    }
   ],
   "source": [
    "image_url_1='https://www.autostat.ru/application/includes/blocks/big_photo/images/cache/000/094/996/aba1c0d9-670-0.jpg'\n",
    "Image(image_url_1,width=700, height='auto')"
   ]
  },
  {
   "cell_type": "markdown",
   "id": "e1c719d8",
   "metadata": {},
   "source": [
    "### С пробегом до 7 лет"
   ]
  },
  {
   "cell_type": "code",
   "execution_count": 149,
   "id": "d8bcc59c",
   "metadata": {},
   "outputs": [],
   "source": [
    "# Данные авто за 2014 с пробегом до 7 лет и датой выпуска модели после 2014 (48%)\n",
    "train.loc[(train.productionDate > 2014) & (train.mileage != 0.0) & (\n",
    "    train.pars_date == 2014), 'price'] = train['price'] + (train['price'] * 0.48)\n",
    "\n",
    "# Данные авто за 2015 с пробегом до 7 лет и датой выпуска модели после 2014 (37%)\n",
    "train.loc[(train.productionDate > 2014) & (\n",
    "    train.mileage != 0.0) & (train.pars_date == 2015), 'price'] = train['price'] + (train['price'] * 0.37)\n",
    "\n",
    "# Данные авто за 2016 с пробегом до 7 лет и датой выпуска модели после 2014 (32%)\n",
    "train.loc[(train.productionDate > 2014) & (\n",
    "    train.mileage != 0.0) & (train.pars_date == 2016), 'price'] = train['price'] + (train['price'] * 0.32)\n",
    "\n",
    "# Данные авто за 2017 с пробегом до 7 лет и датой выпуска модели после 2014 (27%)\n",
    "train.loc[(train.productionDate > 2014) & (\n",
    "    train.mileage != 0.0) & (train.pars_date == 2017), 'price'] = train['price'] + (train['price'] * 0.27)\n",
    "\n",
    "# Данные авто за 2018 с пробегом до 7 лет и датой выпуска модели после 2014 (22%)\n",
    "train.loc[(train.productionDate > 2014) & (\n",
    "    train.mileage != 0.0) & (train.pars_date == 2018), 'price'] = train['price'] + (train['price'] * 0.22)\n",
    "\n",
    "# Данные авто за 2019 с пробегом до 7 лет и датой выпуска модели после 2014 (10%)\n",
    "train.loc[(train.productionDate > 2014) & (\n",
    "    train.mileage != 0.0) & (train.pars_date == 2019), 'price'] = train['price'] + (train['price'] * 0.10)"
   ]
  },
  {
   "cell_type": "code",
   "execution_count": 150,
   "id": "314a6c28",
   "metadata": {},
   "outputs": [],
   "source": [
    "# Данные авто за 2021 с пробегом до 7 лет и датой выпуска модели после 2014 (-28%)\n",
    "train_parsed.loc[(train_parsed.productionDate > 2014) & (\n",
    "    train_parsed.mileage != 0.0), 'price'] = train_parsed['price'] - (train_parsed['price'] * 0.28)"
   ]
  },
  {
   "cell_type": "markdown",
   "id": "da1a8f60",
   "metadata": {},
   "source": [
    "### С пробегом после 7 лет"
   ]
  },
  {
   "cell_type": "code",
   "execution_count": 151,
   "id": "1e9f291f",
   "metadata": {
    "scrolled": false
   },
   "outputs": [],
   "source": [
    "# Данные авто за 2014 с пробегом и датой выпуска модели до 2014 (11%)\n",
    "train.loc[(train.productionDate < 2014) & (train.mileage != 0.0) & (\n",
    "    train.pars_date == 2014), 'price'] = train['price'] + (train['price'] * 0.11)\n",
    "\n",
    "# Данные авто за 2015 с пробегом и датой выпуска модели до 2014 (18%)\n",
    "train.loc[(train.productionDate < 2014) & (\n",
    "    train.mileage != 0.0) & (train.pars_date == 2015), 'price'] = train['price'] + (train['price'] * 0.18)\n",
    "\n",
    "# Данные авто за 2016 с пробегом и датой выпуска модели до 2014 (16%)\n",
    "train.loc[(train.productionDate < 2014) & (\n",
    "    train.mileage != 0.0) & (train.pars_date == 2016), 'price'] = train['price'] + (train['price'] * 0.16)\n",
    "\n",
    "# Данные авто за 2017 с пробегом и датой выпуска модели до 2014 (10%)\n",
    "train.loc[(train.productionDate < 2014) & (\n",
    "    train.mileage != 0.0) & (train.pars_date == 2017), 'price'] = train['price'] + (train['price'] * 0.10)\n",
    "\n",
    "# Данные авто за 2018 с пробегом и датой выпуска модели до 2014 (9%)\n",
    "train.loc[(train.productionDate < 2014) & (\n",
    "    train.mileage != 0.0) & (train.pars_date == 2018), 'price'] = train['price'] + (train['price'] * 0.09)\n",
    "\n",
    "# Данные авто за 2019 с пробегом и датой выпуска модели до 2014 (3%)\n",
    "train.loc[(train.productionDate < 2014) & (\n",
    "    train.mileage != 0.0) & (train.pars_date == 2019), 'price'] = train['price'] + (train['price'] * 0.03)"
   ]
  },
  {
   "cell_type": "code",
   "execution_count": 152,
   "id": "7fcbe585",
   "metadata": {},
   "outputs": [],
   "source": [
    "# Данные авто за 2021 с пробегом после 7 лет и датой выпуска модели до 2014 (-8%)\n",
    "train_parsed.loc[(train_parsed.productionDate < 2014) & (\n",
    "    train_parsed.mileage != 0.0), 'price'] = train_parsed['price'] - (train_parsed['price'] * 0.8)"
   ]
  },
  {
   "cell_type": "code",
   "execution_count": 153,
   "id": "f17a9588",
   "metadata": {},
   "outputs": [
    {
     "data": {
      "image/jpeg": "[encoded data removed]",
      "text/plain": [
       "<IPython.core.display.Image object>"
      ]
     },
     "execution_count": 153,
     "metadata": {
      "image/jpeg": {
       "height": "auto",
       "width": 700
      }
     },
     "output_type": "execute_result"
    }
   ],
   "source": [
    "image_url_2='https://www.autostat.ru/application/includes/blocks/big_photo/images/cache/000/098/537/e44a2300-670-0.jpg'\n",
    "Image(image_url_2,width=700, height='auto')"
   ]
  },
  {
   "cell_type": "markdown",
   "id": "5641eb8c",
   "metadata": {},
   "source": [
    "### Без пробега дата выупска после 2014"
   ]
  },
  {
   "cell_type": "code",
   "execution_count": 154,
   "id": "cd3cb5cc",
   "metadata": {},
   "outputs": [],
   "source": [
    "# Данные авто за 2018 без пробега и датой выпуска модели после 2014 (16%)\n",
    "train.loc[(train.productionDate > 2014) & (\n",
    "    train.mileage == 0.0) & (train.pars_date == 2018), 'price'] = train['price'] + (train['price'] * 0.16)\n",
    "\n",
    "# Данные авто за 2019 без пробега и датой выпуска модели после 2014 (7%)\n",
    "train.loc[(train.productionDate > 2014) & (\n",
    "    train.mileage == 0.0) & (train.pars_date == 2019), 'price'] = train['price'] + (train['price'] * 0.07)"
   ]
  },
  {
   "cell_type": "code",
   "execution_count": 155,
   "id": "b61a4854",
   "metadata": {},
   "outputs": [],
   "source": [
    "# Данные авто за 2021 без пробега и датой выпуска модели после 2014 (-23%)\n",
    "train_parsed.loc[(train_parsed.productionDate > 2014) & (\n",
    "    train_parsed.mileage == 0.0), 'price'] = train_parsed['price'] - (train_parsed['price'] * 0.23)"
   ]
  },
  {
   "cell_type": "markdown",
   "id": "2a9ede17",
   "metadata": {},
   "source": [
    "## Проврека столбцов"
   ]
  },
  {
   "cell_type": "code",
   "execution_count": 156,
   "id": "34838c1f",
   "metadata": {},
   "outputs": [
    {
     "data": {
      "text/plain": [
       "bodyType               0\n",
       "brand                  0\n",
       "color                  0\n",
       "fuelType               0\n",
       "modelDate              0\n",
       "numberOfDoors          0\n",
       "productionDate         0\n",
       "vehicleTransmission    0\n",
       "engineDisplacement     0\n",
       "enginePower            0\n",
       "mileage                0\n",
       "driving_gear           0\n",
       "Руль                   0\n",
       "Состояние              0\n",
       "Владельцы              0\n",
       "ПТС                    0\n",
       "Таможня                0\n",
       "price                  0\n",
       "pars_date              0\n",
       "model_name             0\n",
       "vendor                 0\n",
       "dtype: int64"
      ]
     },
     "execution_count": 156,
     "metadata": {},
     "output_type": "execute_result"
    }
   ],
   "source": [
    "train.isna().sum()"
   ]
  },
  {
   "cell_type": "code",
   "execution_count": 157,
   "id": "cf994104",
   "metadata": {},
   "outputs": [
    {
     "data": {
      "text/plain": [
       "bodyType                   0\n",
       "brand                      0\n",
       "car_url                    0\n",
       "color                      0\n",
       "engineDisplacement         0\n",
       "enginePower                0\n",
       "equipment_dict             0\n",
       "fuelType                   0\n",
       "image                      8\n",
       "mileage                    0\n",
       "modelDate                  0\n",
       "numberOfDoors              0\n",
       "pars_date                  0\n",
       "priceCurrency              0\n",
       "productionDate             0\n",
       "sell_id                    0\n",
       "super_gen                  0\n",
       "vehicleTransmission        0\n",
       "vendor                     0\n",
       "Владельцы                  0\n",
       "ПТС                        0\n",
       "driving_gear               0\n",
       "Руль                       0\n",
       "Состояние                  0\n",
       "Таможня                    0\n",
       "views                  22084\n",
       "date_added             21152\n",
       "region                 21152\n",
       "price                      0\n",
       "model_name              7856\n",
       "dtype: int64"
      ]
     },
     "execution_count": 157,
     "metadata": {},
     "output_type": "execute_result"
    }
   ],
   "source": [
    "train_parsed.isna().sum()"
   ]
  },
  {
   "cell_type": "code",
   "execution_count": 158,
   "id": "4a66751b",
   "metadata": {},
   "outputs": [
    {
     "data": {
      "text/plain": [
       "bodyType                  0\n",
       "brand                     0\n",
       "car_url                   0\n",
       "color                     0\n",
       "engineDisplacement        0\n",
       "enginePower               0\n",
       "equipment_dict         9996\n",
       "fuelType                  0\n",
       "image                     0\n",
       "mileage                   0\n",
       "modelDate                 0\n",
       "model_info                0\n",
       "model_name                0\n",
       "numberOfDoors             0\n",
       "pars_date                 0\n",
       "priceCurrency             0\n",
       "productionDate            0\n",
       "sell_id                   0\n",
       "super_gen                 0\n",
       "vehicleTransmission       0\n",
       "vendor                    0\n",
       "Владельцы                 0\n",
       "ПТС                       0\n",
       "driving_gear              0\n",
       "Руль                      0\n",
       "Состояние                 0\n",
       "Таможня                   0\n",
       "price                     0\n",
       "dtype: int64"
      ]
     },
     "execution_count": 158,
     "metadata": {},
     "output_type": "execute_result"
    }
   ],
   "source": [
    "test.isna().sum()"
   ]
  },
  {
   "cell_type": "code",
   "execution_count": 159,
   "id": "7bc23e67",
   "metadata": {},
   "outputs": [],
   "source": [
    "# Возможность скинуть пустые значения, но качество метрики ухудшается, т.к. что оставляем\n",
    "#train_parsed.dropna(subset = ['model_name'], axis= 0, inplace = True)"
   ]
  },
  {
   "cell_type": "code",
   "execution_count": 160,
   "id": "639fbaf4",
   "metadata": {},
   "outputs": [],
   "source": [
    "train_parsed.drop(columns = ['views','date_added','region','image'], axis = 1, inplace = True)\n",
    "test.drop(['equipment_dict'], axis = 1, inplace = True)"
   ]
  },
  {
   "cell_type": "code",
   "execution_count": 161,
   "id": "7803fc08",
   "metadata": {},
   "outputs": [
    {
     "data": {
      "text/plain": [
       "False    101908\n",
       "True       7856\n",
       "Name: model_name, dtype: int64"
      ]
     },
     "execution_count": 161,
     "metadata": {},
     "output_type": "execute_result"
    }
   ],
   "source": [
    "train_parsed.model_name.isna().value_counts()"
   ]
  },
  {
   "cell_type": "markdown",
   "id": "f6cccf28",
   "metadata": {},
   "source": [
    "## Сравнение столбцов"
   ]
  },
  {
   "cell_type": "code",
   "execution_count": 162,
   "id": "6f8089b1",
   "metadata": {},
   "outputs": [
    {
     "name": "stdout",
     "output_type": "stream",
     "text": [
      "Columns in df1, but not in df2:  ['equipment_dict']\n",
      "df1 : df2\n",
      "\n",
      "sell_id float64  |  sell_id int64\n"
     ]
    }
   ],
   "source": [
    "check_df(train_parsed, test)"
   ]
  },
  {
   "cell_type": "code",
   "execution_count": 163,
   "id": "b778a3fa",
   "metadata": {},
   "outputs": [],
   "source": [
    "# Меняем тип данных sell_id в train_parsed. Избавляемся от повторяющихся значений в датасете train_parsed.\n",
    "train_parsed['sell_id'] = train_parsed.sell_id.astype(np.int64)\n",
    "train_parsed = (train_parsed[~train_parsed.sell_id.isin(test.sell_id)])\n",
    "\n",
    "# Удаляем оба sell_id\n",
    "train_parsed.drop(['sell_id'], axis = 1, inplace = True)\n",
    "test.drop(['sell_id'], axis = 1, inplace = True)"
   ]
  },
  {
   "cell_type": "code",
   "execution_count": 164,
   "id": "b771f28e",
   "metadata": {},
   "outputs": [],
   "source": [
    "train_parsed.drop(['equipment_dict', 'car_url', \n",
    "                   'priceCurrency', 'super_gen'], axis = 1, inplace = True)\n",
    "test.drop(['car_url', 'image', 'model_info','priceCurrency', 'super_gen'], axis = 1, inplace = True)"
   ]
  },
  {
   "cell_type": "code",
   "execution_count": 165,
   "id": "0ec52916",
   "metadata": {},
   "outputs": [],
   "source": [
    "for df in [train, train_parsed, test]:\n",
    "    df.rename(columns = {'bodyType' : 'body_type', 'engineDisplacement' : 'engine_displacement',\n",
    "                           'enginePower' : 'engine_power', 'numberOfDoors' : 'doors',\n",
    "                           'productionDate' : 'production_date', 'vehicleTransmission' : 'transmission',\n",
    "                           'Владельцы' : 'owners', 'ПТС' : 'vehicle_licence',\n",
    "                           'Руль' : 'steering_wheel', 'Состояние' : 'condition',\n",
    "                           'Таможня' : 'customs', 'modelDate' : 'model_date'}, inplace = True)"
   ]
  },
  {
   "cell_type": "markdown",
   "id": "eb5f2de4",
   "metadata": {},
   "source": [
    "## Объединение датасетов"
   ]
  },
  {
   "cell_type": "code",
   "execution_count": 166,
   "id": "26175e5e",
   "metadata": {},
   "outputs": [],
   "source": [
    "df = pd.concat([train, train_parsed], ignore_index = True)"
   ]
  },
  {
   "cell_type": "markdown",
   "id": "09d20b7a",
   "metadata": {},
   "source": [
    "## Классификация перемен"
   ]
  },
  {
   "cell_type": "code",
   "execution_count": 167,
   "id": "0499370d",
   "metadata": {},
   "outputs": [],
   "source": [
    "#Разделяем по классификации переменные\n",
    "\n",
    "#бинарные переменные \n",
    "bin_cols = ['condition', 'customs', 'steering_wheel', 'vehicle_licence', 'vendor']\n",
    "\n",
    "#категориальные переменные\n",
    "cat_cols = ['body_type', 'brand', 'color', 'driving_gear', 'fuelType', 'model_name',\n",
    "           'transmission']\n",
    "\n",
    "#числовые переменные\n",
    "num_cols = ['doors', 'engine_displacement', 'engine_power', 'mileage', 'model_date',\n",
    "               'owners', 'pars_date', 'production_date']"
   ]
  },
  {
   "cell_type": "code",
   "execution_count": 168,
   "id": "d7d4bc38",
   "metadata": {},
   "outputs": [
    {
     "data": {
      "text/plain": [
       "<AxesSubplot:>"
      ]
     },
     "execution_count": 168,
     "metadata": {},
     "output_type": "execute_result"
    },
    {
     "data": {
      "image/png": "[encoded data removed]",
      "text/plain": [
       "<Figure size 432x288 with 2 Axes>"
      ]
     },
     "metadata": {
      "needs_background": "light"
     },
     "output_type": "display_data"
    }
   ],
   "source": [
    "#Корреляция Пирсона\n",
    "sns.heatmap(df[num_cols].corr().abs(), vmin=0, vmax=1)"
   ]
  },
  {
   "cell_type": "code",
   "execution_count": 169,
   "id": "cda9efa9",
   "metadata": {},
   "outputs": [],
   "source": [
    "# Судя по корреляции лучше избавиться от model_date, т.к. выпуск важнее.\n",
    "df.drop('model_date', axis = 1, inplace = True)\n",
    "test.drop('model_date', axis = 1, inplace = True)\n",
    "\n",
    "#числовые переменные\n",
    "num_cols = ['doors', 'engine_displacement', 'engine_power', 'mileage', \n",
    "            'owners', 'pars_date', 'production_date']"
   ]
  },
  {
   "cell_type": "code",
   "execution_count": 170,
   "id": "4150f253",
   "metadata": {},
   "outputs": [
    {
     "data": {
      "text/plain": [
       "<AxesSubplot:>"
      ]
     },
     "execution_count": 170,
     "metadata": {},
     "output_type": "execute_result"
    },
    {
     "data": {
      "image/png": "[encoded data removed]",
      "text/plain": [
       "<Figure size 432x288 with 1 Axes>"
      ]
     },
     "metadata": {
      "needs_background": "light"
     },
     "output_type": "display_data"
    }
   ],
   "source": [
    "#Используем функцию f_classif для анализа значимости признака для нашей линейной модели\n",
    "imp_num = pd.Series(f_classif(df[num_cols], df['price'])[0], index = num_cols)\n",
    "imp_num.sort_values(inplace = True)\n",
    "imp_num.plot(kind = 'barh')"
   ]
  },
  {
   "cell_type": "code",
   "execution_count": 171,
   "id": "b6ba9e65",
   "metadata": {},
   "outputs": [],
   "source": [
    "# pars_date берет на себя слишком много внимания. Так что, удаляем.\n",
    "df.drop('pars_date', axis = 1, inplace = True)\n",
    "test.drop('pars_date', axis = 1, inplace = True)"
   ]
  },
  {
   "cell_type": "code",
   "execution_count": 172,
   "id": "0b4068e3",
   "metadata": {},
   "outputs": [],
   "source": [
    "#числовые переменные\n",
    "num_cols = ['doors', 'engine_displacement', 'engine_power', 'mileage', \n",
    "            'owners', 'production_date']"
   ]
  },
  {
   "cell_type": "markdown",
   "id": "e4a4bd9b",
   "metadata": {},
   "source": [
    "## Визуализация"
   ]
  },
  {
   "cell_type": "code",
   "execution_count": 173,
   "id": "b290debb",
   "metadata": {},
   "outputs": [],
   "source": [
    "df['train'] = 1\n",
    "test['train'] = 0"
   ]
  },
  {
   "cell_type": "code",
   "execution_count": 174,
   "id": "5e9534e1",
   "metadata": {},
   "outputs": [],
   "source": [
    "df = pd.concat([df, test], ignore_index = True)"
   ]
  },
  {
   "cell_type": "code",
   "execution_count": 175,
   "id": "08d3608c",
   "metadata": {
    "scrolled": true
   },
   "outputs": [
    {
     "data": {
      "image/png": "[encoded data removed]",
      "text/plain": [
       "<Figure size 1008x288 with 1 Axes>"
      ]
     },
     "metadata": {
      "needs_background": "light"
     },
     "output_type": "display_data"
    },
    {
     "data": {
      "image/png": "[encoded data removed]",
      "text/plain": [
       "<Figure size 1008x288 with 1 Axes>"
      ]
     },
     "metadata": {
      "needs_background": "light"
     },
     "output_type": "display_data"
    },
    {
     "data": {
      "image/png": "[encoded data removed]",
      "text/plain": [
       "<Figure size 1008x288 with 1 Axes>"
      ]
     },
     "metadata": {
      "needs_background": "light"
     },
     "output_type": "display_data"
    },
    {
     "data": {
      "image/png": "[encoded data removed]",
      "text/plain": [
       "<Figure size 1008x288 with 1 Axes>"
      ]
     },
     "metadata": {
      "needs_background": "light"
     },
     "output_type": "display_data"
    },
    {
     "data": {
      "image/png": "[encoded data removed]",
      "text/plain": [
       "<Figure size 1008x288 with 1 Axes>"
      ]
     },
     "metadata": {
      "needs_background": "light"
     },
     "output_type": "display_data"
    },
    {
     "data": {
      "image/png": "[encoded data removed]",
      "text/plain": [
       "<Figure size 1008x288 with 1 Axes>"
      ]
     },
     "metadata": {
      "needs_background": "light"
     },
     "output_type": "display_data"
    },
    {
     "data": {
      "image/png": "[encoded data removed]",
      "text/plain": [
       "<Figure size 1008x288 with 1 Axes>"
      ]
     },
     "metadata": {
      "needs_background": "light"
     },
     "output_type": "display_data"
    },
    {
     "data": {
      "image/png": "[encoded data removed]",
      "text/plain": [
       "<Figure size 1008x288 with 1 Axes>"
      ]
     },
     "metadata": {
      "needs_background": "light"
     },
     "output_type": "display_data"
    },
    {
     "data": {
      "image/png": "[encoded data removed]",
      "text/plain": [
       "<Figure size 1008x288 with 1 Axes>"
      ]
     },
     "metadata": {
      "needs_background": "light"
     },
     "output_type": "display_data"
    },
    {
     "data": {
      "image/png": "[encoded data removed]",
      "text/plain": [
       "<Figure size 1008x288 with 1 Axes>"
      ]
     },
     "metadata": {
      "needs_background": "light"
     },
     "output_type": "display_data"
    },
    {
     "data": {
      "image/png": "[encoded data removed]",
      "text/plain": [
       "<Figure size 1008x288 with 1 Axes>"
      ]
     },
     "metadata": {
      "needs_background": "light"
     },
     "output_type": "display_data"
    }
   ],
   "source": [
    "for col in bin_cols + cat_cols:\n",
    "    if col not in ['model_name', 'name']:\n",
    "        show_boxplot(data=df[\n",
    "            (df.price <= df.price.quantile(0.9)) & (df.train == 1)], column=col, target_column='price')"
   ]
  },
  {
   "cell_type": "code",
   "execution_count": 176,
   "id": "558b18f0",
   "metadata": {
    "scrolled": true
   },
   "outputs": [
    {
     "data": {
      "image/png": "[encoded data removed]",
      "text/plain": [
       "<Figure size 1080x288 with 1 Axes>"
      ]
     },
     "metadata": {
      "needs_background": "light"
     },
     "output_type": "display_data"
    },
    {
     "data": {
      "image/png": "[encoded data removed]",
      "text/plain": [
       "<Figure size 1080x288 with 1 Axes>"
      ]
     },
     "metadata": {
      "needs_background": "light"
     },
     "output_type": "display_data"
    },
    {
     "data": {
      "image/png": "[encoded data removed]",
      "text/plain": [
       "<Figure size 1080x288 with 1 Axes>"
      ]
     },
     "metadata": {
      "needs_background": "light"
     },
     "output_type": "display_data"
    },
    {
     "data": {
      "image/png": "[encoded data removed]",
      "text/plain": [
       "<Figure size 1080x288 with 1 Axes>"
      ]
     },
     "metadata": {
      "needs_background": "light"
     },
     "output_type": "display_data"
    },
    {
     "data": {
      "image/png": "[encoded data removed]",
      "text/plain": [
       "<Figure size 1080x288 with 1 Axes>"
      ]
     },
     "metadata": {
      "needs_background": "light"
     },
     "output_type": "display_data"
    },
    {
     "data": {
      "image/png": "[encoded data removed]",
      "text/plain": [
       "<Figure size 1080x288 with 1 Axes>"
      ]
     },
     "metadata": {
      "needs_background": "light"
     },
     "output_type": "display_data"
    },
    {
     "data": {
      "image/png": "[encoded data removed]",
      "text/plain": [
       "<Figure size 1080x288 with 1 Axes>"
      ]
     },
     "metadata": {
      "needs_background": "light"
     },
     "output_type": "display_data"
    },
    {
     "data": {
      "image/png": "[encoded data removed]",
      "text/plain": [
       "<Figure size 1080x288 with 1 Axes>"
      ]
     },
     "metadata": {
      "needs_background": "light"
     },
     "output_type": "display_data"
    },
    {
     "data": {
      "image/png": "[encoded data removed]",
      "text/plain": [
       "<Figure size 1080x288 with 1 Axes>"
      ]
     },
     "metadata": {
      "needs_background": "light"
     },
     "output_type": "display_data"
    },
    {
     "data": {
      "image/png": "[encoded data removed]",
      "text/plain": [
       "<Figure size 1080x288 with 1 Axes>"
      ]
     },
     "metadata": {
      "needs_background": "light"
     },
     "output_type": "display_data"
    },
    {
     "data": {
      "image/png": "[encoded data removed]",
      "text/plain": [
       "<Figure size 1080x288 with 1 Axes>"
      ]
     },
     "metadata": {
      "needs_background": "light"
     },
     "output_type": "display_data"
    }
   ],
   "source": [
    "for col in bin_cols + cat_cols:\n",
    "    if col not in ['model_name', 'name']: # these columns have too many categories, the plots don't show any useful information for them. Create new features!\n",
    "        fig, ax = plt.subplots(figsize=(15, 4))\n",
    "        ax.set_title(f'Данные для столбца {col}.', fontdict={'fontsize': 14})\n",
    "        df[col].value_counts(normalize=True).plot(kind='bar', ax=ax)"
   ]
  },
  {
   "cell_type": "markdown",
   "id": "8c160d05",
   "metadata": {},
   "source": [
    "# Преобразование данных перед машинным обучением"
   ]
  },
  {
   "cell_type": "code",
   "execution_count": 177,
   "id": "d164cea5",
   "metadata": {},
   "outputs": [],
   "source": [
    "# Меняем значения в переменных\n",
    "df['vehicle_licence'] = df['vehicle_licence'].apply(lambda x: 1 if x == 'original' else 0)\n",
    "df['steering_wheel'] = df['steering_wheel'].apply(lambda x: 1 if x == 'left' else 0)\n",
    "df['vendor'] = df.vendor.apply(lambda x: 1 if x == 'EUROPEAN' else 0)\n",
    "df['customs'] = df['customs'].apply(lambda x: 1 if x == 'Растаможен' else 0)\n",
    "df['condition'] = df['condition'].apply(lambda x: 0 if x == 'Не требует ремонта' else 1).astype(np.int64)"
   ]
  },
  {
   "cell_type": "code",
   "execution_count": 178,
   "id": "104e1355",
   "metadata": {},
   "outputs": [],
   "source": [
    "test_original = df.query('train == 0').drop(['train', 'price'], axis = 1)"
   ]
  },
  {
   "cell_type": "code",
   "execution_count": 179,
   "id": "b9e2f5c7",
   "metadata": {},
   "outputs": [
    {
     "data": {
      "text/html": [
       "<div>\n",
       "<style scoped>\n",
       "    .dataframe tbody tr th:only-of-type {\n",
       "        vertical-align: middle;\n",
       "    }\n",
       "\n",
       "    .dataframe tbody tr th {\n",
       "        vertical-align: top;\n",
       "    }\n",
       "\n",
       "    .dataframe thead th {\n",
       "        text-align: right;\n",
       "    }\n",
       "</style>\n",
       "<table border=\"1\" class=\"dataframe\">\n",
       "  <thead>\n",
       "    <tr style=\"text-align: right;\">\n",
       "      <th></th>\n",
       "      <th>body_type</th>\n",
       "      <th>brand</th>\n",
       "      <th>color</th>\n",
       "      <th>fuelType</th>\n",
       "      <th>doors</th>\n",
       "      <th>production_date</th>\n",
       "      <th>transmission</th>\n",
       "      <th>engine_displacement</th>\n",
       "      <th>engine_power</th>\n",
       "      <th>mileage</th>\n",
       "      <th>driving_gear</th>\n",
       "      <th>steering_wheel</th>\n",
       "      <th>condition</th>\n",
       "      <th>owners</th>\n",
       "      <th>vehicle_licence</th>\n",
       "      <th>customs</th>\n",
       "      <th>price</th>\n",
       "      <th>model_name</th>\n",
       "      <th>vendor</th>\n",
       "      <th>train</th>\n",
       "    </tr>\n",
       "  </thead>\n",
       "  <tbody>\n",
       "    <tr>\n",
       "      <th>0</th>\n",
       "      <td>седан</td>\n",
       "      <td>AUDI</td>\n",
       "      <td>чёрный</td>\n",
       "      <td>бензин</td>\n",
       "      <td>4.0</td>\n",
       "      <td>1991</td>\n",
       "      <td>механическая</td>\n",
       "      <td>2.8</td>\n",
       "      <td>174.0</td>\n",
       "      <td>350000</td>\n",
       "      <td>полный</td>\n",
       "      <td>1</td>\n",
       "      <td>1</td>\n",
       "      <td>3.0</td>\n",
       "      <td>1</td>\n",
       "      <td>1</td>\n",
       "      <td>206000.0</td>\n",
       "      <td>100</td>\n",
       "      <td>1</td>\n",
       "      <td>1</td>\n",
       "    </tr>\n",
       "    <tr>\n",
       "      <th>1</th>\n",
       "      <td>седан</td>\n",
       "      <td>AUDI</td>\n",
       "      <td>красный</td>\n",
       "      <td>бензин</td>\n",
       "      <td>4.0</td>\n",
       "      <td>1986</td>\n",
       "      <td>механическая</td>\n",
       "      <td>1.8</td>\n",
       "      <td>90.0</td>\n",
       "      <td>173424</td>\n",
       "      <td>передний</td>\n",
       "      <td>1</td>\n",
       "      <td>1</td>\n",
       "      <td>3.0</td>\n",
       "      <td>1</td>\n",
       "      <td>1</td>\n",
       "      <td>60000.0</td>\n",
       "      <td>100</td>\n",
       "      <td>1</td>\n",
       "      <td>1</td>\n",
       "    </tr>\n",
       "    <tr>\n",
       "      <th>2</th>\n",
       "      <td>универсал</td>\n",
       "      <td>AUDI</td>\n",
       "      <td>синий</td>\n",
       "      <td>бензин</td>\n",
       "      <td>5.0</td>\n",
       "      <td>1989</td>\n",
       "      <td>механическая</td>\n",
       "      <td>2.3</td>\n",
       "      <td>136.0</td>\n",
       "      <td>230000</td>\n",
       "      <td>полный</td>\n",
       "      <td>1</td>\n",
       "      <td>1</td>\n",
       "      <td>3.0</td>\n",
       "      <td>1</td>\n",
       "      <td>1</td>\n",
       "      <td>99000.0</td>\n",
       "      <td>100</td>\n",
       "      <td>1</td>\n",
       "      <td>1</td>\n",
       "    </tr>\n",
       "    <tr>\n",
       "      <th>3</th>\n",
       "      <td>седан</td>\n",
       "      <td>AUDI</td>\n",
       "      <td>серебристый</td>\n",
       "      <td>бензин</td>\n",
       "      <td>4.0</td>\n",
       "      <td>1989</td>\n",
       "      <td>механическая</td>\n",
       "      <td>1.8</td>\n",
       "      <td>90.0</td>\n",
       "      <td>240000</td>\n",
       "      <td>передний</td>\n",
       "      <td>1</td>\n",
       "      <td>1</td>\n",
       "      <td>3.0</td>\n",
       "      <td>1</td>\n",
       "      <td>1</td>\n",
       "      <td>65000.0</td>\n",
       "      <td>100</td>\n",
       "      <td>1</td>\n",
       "      <td>1</td>\n",
       "    </tr>\n",
       "    <tr>\n",
       "      <th>4</th>\n",
       "      <td>седан</td>\n",
       "      <td>AUDI</td>\n",
       "      <td>чёрный</td>\n",
       "      <td>бензин</td>\n",
       "      <td>4.0</td>\n",
       "      <td>1991</td>\n",
       "      <td>механическая</td>\n",
       "      <td>2.0</td>\n",
       "      <td>101.0</td>\n",
       "      <td>300000</td>\n",
       "      <td>передний</td>\n",
       "      <td>1</td>\n",
       "      <td>1</td>\n",
       "      <td>3.0</td>\n",
       "      <td>0</td>\n",
       "      <td>1</td>\n",
       "      <td>100000.0</td>\n",
       "      <td>100</td>\n",
       "      <td>1</td>\n",
       "      <td>1</td>\n",
       "    </tr>\n",
       "  </tbody>\n",
       "</table>\n",
       "</div>"
      ],
      "text/plain": [
       "   body_type brand        color fuelType  doors  production_date  \\\n",
       "0      седан  AUDI       чёрный   бензин    4.0             1991   \n",
       "1      седан  AUDI      красный   бензин    4.0             1986   \n",
       "2  универсал  AUDI        синий   бензин    5.0             1989   \n",
       "3      седан  AUDI  серебристый   бензин    4.0             1989   \n",
       "4      седан  AUDI       чёрный   бензин    4.0             1991   \n",
       "\n",
       "   transmission  engine_displacement  engine_power  mileage driving_gear  \\\n",
       "0  механическая                  2.8         174.0   350000       полный   \n",
       "1  механическая                  1.8          90.0   173424     передний   \n",
       "2  механическая                  2.3         136.0   230000       полный   \n",
       "3  механическая                  1.8          90.0   240000     передний   \n",
       "4  механическая                  2.0         101.0   300000     передний   \n",
       "\n",
       "   steering_wheel  condition  owners  vehicle_licence  customs     price  \\\n",
       "0               1          1     3.0                1        1  206000.0   \n",
       "1               1          1     3.0                1        1   60000.0   \n",
       "2               1          1     3.0                1        1   99000.0   \n",
       "3               1          1     3.0                1        1   65000.0   \n",
       "4               1          1     3.0                0        1  100000.0   \n",
       "\n",
       "  model_name  vendor  train  \n",
       "0        100       1      1  \n",
       "1        100       1      1  \n",
       "2        100       1      1  \n",
       "3        100       1      1  \n",
       "4        100       1      1  "
      ]
     },
     "execution_count": 179,
     "metadata": {},
     "output_type": "execute_result"
    }
   ],
   "source": [
    "# Для бинарных признаков мы будем использовать LabelEncoder\n",
    "\n",
    "label_encoder = LabelEncoder()\n",
    "\n",
    "for column in bin_cols:\n",
    "    df[column] = label_encoder.fit_transform(df[column])\n",
    "    \n",
    "# убедимся в преобразовании    \n",
    "df.head()"
   ]
  },
  {
   "cell_type": "code",
   "execution_count": 180,
   "id": "1cbff765",
   "metadata": {
    "scrolled": true
   },
   "outputs": [
    {
     "data": {
      "text/html": [
       "<div>\n",
       "<style scoped>\n",
       "    .dataframe tbody tr th:only-of-type {\n",
       "        vertical-align: middle;\n",
       "    }\n",
       "\n",
       "    .dataframe tbody tr th {\n",
       "        vertical-align: top;\n",
       "    }\n",
       "\n",
       "    .dataframe thead th {\n",
       "        text-align: right;\n",
       "    }\n",
       "</style>\n",
       "<table border=\"1\" class=\"dataframe\">\n",
       "  <thead>\n",
       "    <tr style=\"text-align: right;\">\n",
       "      <th></th>\n",
       "      <th>body_type</th>\n",
       "      <th>brand</th>\n",
       "      <th>color</th>\n",
       "      <th>fuelType</th>\n",
       "      <th>doors</th>\n",
       "      <th>production_date</th>\n",
       "      <th>transmission</th>\n",
       "      <th>engine_displacement</th>\n",
       "      <th>engine_power</th>\n",
       "      <th>mileage</th>\n",
       "      <th>driving_gear</th>\n",
       "      <th>steering_wheel</th>\n",
       "      <th>condition</th>\n",
       "      <th>owners</th>\n",
       "      <th>vehicle_licence</th>\n",
       "      <th>customs</th>\n",
       "      <th>price</th>\n",
       "      <th>model_name</th>\n",
       "      <th>vendor</th>\n",
       "      <th>train</th>\n",
       "    </tr>\n",
       "  </thead>\n",
       "  <tbody>\n",
       "    <tr>\n",
       "      <th>0</th>\n",
       "      <td>11</td>\n",
       "      <td>0</td>\n",
       "      <td>15</td>\n",
       "      <td>0</td>\n",
       "      <td>4.0</td>\n",
       "      <td>1991</td>\n",
       "      <td>2</td>\n",
       "      <td>2.8</td>\n",
       "      <td>174.0</td>\n",
       "      <td>350000</td>\n",
       "      <td>2</td>\n",
       "      <td>1</td>\n",
       "      <td>1</td>\n",
       "      <td>3.0</td>\n",
       "      <td>1</td>\n",
       "      <td>1</td>\n",
       "      <td>206000.0</td>\n",
       "      <td>1</td>\n",
       "      <td>1</td>\n",
       "      <td>1</td>\n",
       "    </tr>\n",
       "    <tr>\n",
       "      <th>1</th>\n",
       "      <td>11</td>\n",
       "      <td>0</td>\n",
       "      <td>7</td>\n",
       "      <td>0</td>\n",
       "      <td>4.0</td>\n",
       "      <td>1986</td>\n",
       "      <td>2</td>\n",
       "      <td>1.8</td>\n",
       "      <td>90.0</td>\n",
       "      <td>173424</td>\n",
       "      <td>1</td>\n",
       "      <td>1</td>\n",
       "      <td>1</td>\n",
       "      <td>3.0</td>\n",
       "      <td>1</td>\n",
       "      <td>1</td>\n",
       "      <td>60000.0</td>\n",
       "      <td>1</td>\n",
       "      <td>1</td>\n",
       "      <td>1</td>\n",
       "    </tr>\n",
       "    <tr>\n",
       "      <th>2</th>\n",
       "      <td>14</td>\n",
       "      <td>0</td>\n",
       "      <td>13</td>\n",
       "      <td>0</td>\n",
       "      <td>5.0</td>\n",
       "      <td>1989</td>\n",
       "      <td>2</td>\n",
       "      <td>2.3</td>\n",
       "      <td>136.0</td>\n",
       "      <td>230000</td>\n",
       "      <td>2</td>\n",
       "      <td>1</td>\n",
       "      <td>1</td>\n",
       "      <td>3.0</td>\n",
       "      <td>1</td>\n",
       "      <td>1</td>\n",
       "      <td>99000.0</td>\n",
       "      <td>1</td>\n",
       "      <td>1</td>\n",
       "      <td>1</td>\n",
       "    </tr>\n",
       "    <tr>\n",
       "      <th>3</th>\n",
       "      <td>11</td>\n",
       "      <td>0</td>\n",
       "      <td>11</td>\n",
       "      <td>0</td>\n",
       "      <td>4.0</td>\n",
       "      <td>1989</td>\n",
       "      <td>2</td>\n",
       "      <td>1.8</td>\n",
       "      <td>90.0</td>\n",
       "      <td>240000</td>\n",
       "      <td>1</td>\n",
       "      <td>1</td>\n",
       "      <td>1</td>\n",
       "      <td>3.0</td>\n",
       "      <td>1</td>\n",
       "      <td>1</td>\n",
       "      <td>65000.0</td>\n",
       "      <td>1</td>\n",
       "      <td>1</td>\n",
       "      <td>1</td>\n",
       "    </tr>\n",
       "    <tr>\n",
       "      <th>4</th>\n",
       "      <td>11</td>\n",
       "      <td>0</td>\n",
       "      <td>15</td>\n",
       "      <td>0</td>\n",
       "      <td>4.0</td>\n",
       "      <td>1991</td>\n",
       "      <td>2</td>\n",
       "      <td>2.0</td>\n",
       "      <td>101.0</td>\n",
       "      <td>300000</td>\n",
       "      <td>1</td>\n",
       "      <td>1</td>\n",
       "      <td>1</td>\n",
       "      <td>3.0</td>\n",
       "      <td>0</td>\n",
       "      <td>1</td>\n",
       "      <td>100000.0</td>\n",
       "      <td>1</td>\n",
       "      <td>1</td>\n",
       "      <td>1</td>\n",
       "    </tr>\n",
       "  </tbody>\n",
       "</table>\n",
       "</div>"
      ],
      "text/plain": [
       "   body_type  brand  color  fuelType  doors  production_date  transmission  \\\n",
       "0         11      0     15         0    4.0             1991             2   \n",
       "1         11      0      7         0    4.0             1986             2   \n",
       "2         14      0     13         0    5.0             1989             2   \n",
       "3         11      0     11         0    4.0             1989             2   \n",
       "4         11      0     15         0    4.0             1991             2   \n",
       "\n",
       "   engine_displacement  engine_power  mileage  driving_gear  steering_wheel  \\\n",
       "0                  2.8         174.0   350000             2               1   \n",
       "1                  1.8          90.0   173424             1               1   \n",
       "2                  2.3         136.0   230000             2               1   \n",
       "3                  1.8          90.0   240000             1               1   \n",
       "4                  2.0         101.0   300000             1               1   \n",
       "\n",
       "   condition  owners  vehicle_licence  customs     price  model_name  vendor  \\\n",
       "0          1     3.0                1        1  206000.0           1       1   \n",
       "1          1     3.0                1        1   60000.0           1       1   \n",
       "2          1     3.0                1        1   99000.0           1       1   \n",
       "3          1     3.0                1        1   65000.0           1       1   \n",
       "4          1     3.0                0        1  100000.0           1       1   \n",
       "\n",
       "   train  \n",
       "0      1  \n",
       "1      1  \n",
       "2      1  \n",
       "3      1  \n",
       "4      1  "
      ]
     },
     "execution_count": 180,
     "metadata": {},
     "output_type": "execute_result"
    }
   ],
   "source": [
    "# Для категориальных признаков мы будем использовать LabelEncoder\n",
    "\n",
    "label_encoder = LabelEncoder()\n",
    "\n",
    "for column in cat_cols:\n",
    "    df[column] = label_encoder.fit_transform(df[column])\n",
    "    \n",
    "# убедимся в преобразовании    \n",
    "df.head()"
   ]
  },
  {
   "cell_type": "markdown",
   "id": "d1b62e02",
   "metadata": {},
   "source": [
    "### Подготовка выборок"
   ]
  },
  {
   "cell_type": "code",
   "execution_count": 181,
   "id": "3deb867f",
   "metadata": {},
   "outputs": [],
   "source": [
    "#Разделяем наши преобразованные данные на два датасета (тренировочный и тестовый)\n",
    "train_data = df.query('train == 1').drop(['train'], axis=1)\n",
    "test_data = df.query('train == 0').drop(['train', 'price'], axis=1)"
   ]
  },
  {
   "cell_type": "code",
   "execution_count": 182,
   "id": "bef1ef53",
   "metadata": {},
   "outputs": [],
   "source": [
    "#Создаем тренировочную и валидационную выборки\n",
    "train, validation = train_test_split(train_data, test_size=0.3, random_state=RANDOM_SEED)"
   ]
  },
  {
   "cell_type": "code",
   "execution_count": 183,
   "id": "52aefd8b",
   "metadata": {},
   "outputs": [],
   "source": [
    "x_train = train.drop('price', axis = 1)\n",
    "y_train = train['price'].astype(np.int32)\n",
    "\n",
    "x_valid = validation.drop('price', axis = 1)\n",
    "y_valid = validation['price'].astype(np.int32)\n",
    "\n",
    "x_test = test_data.copy()"
   ]
  },
  {
   "cell_type": "code",
   "execution_count": 184,
   "id": "9e488201",
   "metadata": {},
   "outputs": [],
   "source": [
    "# Стандартизируем данные, определив в другую переменную\n",
    "scaler = StandardScaler()\n",
    "x_train_scaler = scaler.fit_transform(x_train)\n",
    "x_valid_scaler = scaler.transform(x_valid)\n",
    "\n",
    "x_test_scaler = scaler.transform(x_test)"
   ]
  },
  {
   "cell_type": "markdown",
   "id": "4d55902c",
   "metadata": {},
   "source": [
    "# Модель 1: Naive ML model"
   ]
  },
  {
   "cell_type": "code",
   "execution_count": 185,
   "id": "6d214904",
   "metadata": {},
   "outputs": [
    {
     "name": "stdout",
     "output_type": "stream",
     "text": [
      "The MAPE of the Naive model for doors: 270.55%.\n",
      "The MAPE of the Naive model for engine_displacement: 213.87%.\n",
      "The MAPE of the Naive model for engine_power: 156.13%.\n",
      "The MAPE of the Naive model for mileage: 66.63%.\n",
      "The MAPE of the Naive model for owners: 147.79%.\n",
      "The MAPE of the Naive model for production_date: 62.91%.\n"
     ]
    }
   ],
   "source": [
    "tmp_train = x_train.copy()\n",
    "tmp_train['price'] = y_train\n",
    "# Находим median по экземплярам всех переменных num_cols (другие показывают куда более хужший результат)\n",
    "\n",
    "#оцениваем точность каждой переменной\n",
    "for col in num_cols:\n",
    "    y_pred = x_valid[col].map(tmp_train.groupby(col)['price'].median())\n",
    "    print(f\"The MAPE of the Naive model for {col}: {(np.mean(np.abs((y_pred-y_valid)/y_valid)) * 100):0.2f}%.\")"
   ]
  },
  {
   "cell_type": "markdown",
   "id": "0334c42f",
   "metadata": {},
   "source": [
    "#### Cудя по MAPE метрики - наивная модель МО нам не подходит."
   ]
  },
  {
   "cell_type": "markdown",
   "id": "a7fcdfea",
   "metadata": {},
   "source": [
    "# Модель 2: CatBoost"
   ]
  },
  {
   "cell_type": "code",
   "execution_count": 186,
   "id": "c643ba36",
   "metadata": {},
   "outputs": [
    {
     "name": "stdout",
     "output_type": "stream",
     "text": [
      "The MAPE of the CatBoost model: 10.84%.\n"
     ]
    }
   ],
   "source": [
    "model = CatBoostRegressor(iterations = 5000,\n",
    "                          random_seed = RANDOM_SEED,\n",
    "                          eval_metric='MAPE',\n",
    "                          custom_metric=['R2', 'MAE'],\n",
    "                          silent=True,\n",
    "                         )\n",
    "model.fit(x_train, y_train,\n",
    "         eval_set=(x_valid, y_valid),\n",
    "         verbose_eval=0,\n",
    "         use_best_model=True)\n",
    "\n",
    "y_pred = model.predict(x_valid)\n",
    "# оцениваем точность\n",
    "print(f\"The MAPE of the CatBoost model: {(np.mean(np.abs((y_pred-y_valid)/y_valid)) * 100):0.2f}%.\")"
   ]
  },
  {
   "cell_type": "markdown",
   "id": "7bc4449b",
   "metadata": {},
   "source": [
    "#### CatBoost показал куда более лучший результат. "
   ]
  },
  {
   "cell_type": "markdown",
   "id": "114bece4",
   "metadata": {},
   "source": [
    "# Модель 3: RandomForest"
   ]
  },
  {
   "cell_type": "code",
   "execution_count": 187,
   "id": "e9ee922e",
   "metadata": {
    "scrolled": true
   },
   "outputs": [
    {
     "name": "stderr",
     "output_type": "stream",
     "text": [
      "[Parallel(n_jobs=-1)]: Using backend ThreadingBackend with 6 concurrent workers.\n",
      "[Parallel(n_jobs=-1)]: Done  38 tasks      | elapsed:    2.5s\n",
      "[Parallel(n_jobs=-1)]: Done 100 out of 100 | elapsed:    6.3s finished\n",
      "[Parallel(n_jobs=6)]: Using backend ThreadingBackend with 6 concurrent workers.\n",
      "[Parallel(n_jobs=6)]: Done  38 tasks      | elapsed:    0.0s\n"
     ]
    },
    {
     "name": "stdout",
     "output_type": "stream",
     "text": [
      "The MAPE of the RandomForest model: 8.05%.\n"
     ]
    },
    {
     "name": "stderr",
     "output_type": "stream",
     "text": [
      "[Parallel(n_jobs=6)]: Done 100 out of 100 | elapsed:    0.2s finished\n"
     ]
    }
   ],
   "source": [
    "# Без StandardScaler\n",
    "myModel = RandomForestRegressor(random_state=RANDOM_SEED, n_jobs=-1, verbose=1)\n",
    "myModel.fit(x_train, y_train)\n",
    "y_pred = myModel.predict(x_valid)\n",
    "\n",
    "print(f\"The MAPE of the RandomForest model: {(np.mean(np.abs((y_pred-y_valid)/y_valid)) * 100):0.2f}%.\")"
   ]
  },
  {
   "cell_type": "code",
   "execution_count": 188,
   "id": "7339de34",
   "metadata": {
    "scrolled": true
   },
   "outputs": [
    {
     "name": "stderr",
     "output_type": "stream",
     "text": [
      "[Parallel(n_jobs=-1)]: Using backend ThreadingBackend with 6 concurrent workers.\n",
      "[Parallel(n_jobs=-1)]: Done  38 tasks      | elapsed:    2.7s\n",
      "[Parallel(n_jobs=-1)]: Done 100 out of 100 | elapsed:    7.8s finished\n",
      "[Parallel(n_jobs=6)]: Using backend ThreadingBackend with 6 concurrent workers.\n",
      "[Parallel(n_jobs=6)]: Done  38 tasks      | elapsed:    0.0s\n"
     ]
    },
    {
     "name": "stdout",
     "output_type": "stream",
     "text": [
      "The MAPE of the RandomForest model: 8.02%.\n"
     ]
    },
    {
     "name": "stderr",
     "output_type": "stream",
     "text": [
      "[Parallel(n_jobs=6)]: Done 100 out of 100 | elapsed:    0.2s finished\n"
     ]
    }
   ],
   "source": [
    "# C StandardScaler\n",
    "myModel = RandomForestRegressor(random_state=RANDOM_SEED, n_jobs=-1, verbose=1)\n",
    "myModel.fit(x_train_scaler, y_train)\n",
    "y_pred = myModel.predict(x_valid_scaler)\n",
    "\n",
    "print(f\"The MAPE of the RandomForest model: {(np.mean(np.abs((y_pred-y_valid)/y_valid)) * 100):0.2f}%.\")"
   ]
  },
  {
   "cell_type": "markdown",
   "id": "56b5111e",
   "metadata": {},
   "source": [
    "#### На данный момент лучший показатель."
   ]
  },
  {
   "cell_type": "markdown",
   "id": "0e6f2df9",
   "metadata": {},
   "source": [
    "# Модель 4: ExtraTrees"
   ]
  },
  {
   "cell_type": "code",
   "execution_count": 189,
   "id": "1f317e10",
   "metadata": {
    "scrolled": false
   },
   "outputs": [
    {
     "name": "stderr",
     "output_type": "stream",
     "text": [
      "[Parallel(n_jobs=-1)]: Using backend ThreadingBackend with 6 concurrent workers.\n",
      "[Parallel(n_jobs=-1)]: Done  38 tasks      | elapsed:    2.2s\n",
      "[Parallel(n_jobs=-1)]: Done 100 out of 100 | elapsed:    5.8s finished\n",
      "[Parallel(n_jobs=6)]: Using backend ThreadingBackend with 6 concurrent workers.\n",
      "[Parallel(n_jobs=6)]: Done  38 tasks      | elapsed:    0.0s\n"
     ]
    },
    {
     "name": "stdout",
     "output_type": "stream",
     "text": [
      "The MAPE of the ExtraTrees model: 8.55%.\n"
     ]
    },
    {
     "name": "stderr",
     "output_type": "stream",
     "text": [
      "[Parallel(n_jobs=6)]: Done 100 out of 100 | elapsed:    0.2s finished\n"
     ]
    }
   ],
   "source": [
    "# with log-transformation of the target variable\n",
    "myModel = ExtraTreesRegressor(random_state=RANDOM_SEED, n_jobs=-1, verbose=1)\n",
    "\n",
    "myModel.fit(x_train_scaler, y_train)\n",
    "y_pred = myModel.predict(x_valid_scaler)\n",
    "\n",
    "print(f\"The MAPE of the ExtraTrees model: {(np.mean(np.abs((y_pred-y_valid)/y_valid)) * 100):0.2f}%.\")"
   ]
  },
  {
   "cell_type": "markdown",
   "id": "5ac0c452",
   "metadata": {},
   "source": [
    "#### Хороший результат, но результат уступает случайному лесу."
   ]
  },
  {
   "cell_type": "markdown",
   "id": "605be6cb",
   "metadata": {},
   "source": [
    "# Модель 5: Stacking"
   ]
  },
  {
   "cell_type": "code",
   "execution_count": 190,
   "id": "440e53fc",
   "metadata": {},
   "outputs": [],
   "source": [
    "# Создаем словарь с моделями, что будем использовать в качестве стекинга\n",
    "estimators = [\n",
    "    ('ran', RandomForestRegressor(random_state=RANDOM_SEED, n_jobs=-1, verbose=1)),\n",
    "    ('ext',ExtraTreesRegressor(random_state=RANDOM_SEED, n_jobs=-1, verbose=1)),\n",
    "    ('xgb',XGBRegressor(objective='reg:squarederror', \n",
    "                         colsample_bytree=0.5, \n",
    "                         learning_rate=0.05, \n",
    "                         max_depth=12, \n",
    "                         alpha=1, \n",
    "                         n_jobs=-1, \n",
    "                         n_estimators=1000, \n",
    "                         random_state=RANDOM_SEED))]"
   ]
  },
  {
   "cell_type": "code",
   "execution_count": 191,
   "id": "0d5ce72b",
   "metadata": {},
   "outputs": [],
   "source": [
    "# Добавляем в качестве конечного алгоритма линейную регрессию\n",
    "stackingModel = StackingRegressor(\n",
    "     estimators=estimators,\n",
    "     final_estimator=LinearRegression())"
   ]
  },
  {
   "cell_type": "code",
   "execution_count": 192,
   "id": "d076be30",
   "metadata": {
    "scrolled": true
   },
   "outputs": [
    {
     "name": "stderr",
     "output_type": "stream",
     "text": [
      "[Parallel(n_jobs=-1)]: Using backend LokyBackend with 6 concurrent workers.\n",
      "[Parallel(n_jobs=-1)]: Done  38 tasks      | elapsed:    4.6s\n",
      "[Parallel(n_jobs=-1)]: Done 100 out of 100 | elapsed:    9.0s finished\n",
      "[Parallel(n_jobs=-1)]: Using backend LokyBackend with 6 concurrent workers.\n",
      "[Parallel(n_jobs=-1)]: Done  38 tasks      | elapsed:    3.0s\n",
      "[Parallel(n_jobs=-1)]: Done 100 out of 100 | elapsed:    7.2s finished\n",
      "[Parallel(n_jobs=-1)]: Using backend LokyBackend with 6 concurrent workers.\n",
      "[Parallel(n_jobs=-1)]: Done  38 tasks      | elapsed:    2.2s\n",
      "[Parallel(n_jobs=-1)]: Done 100 out of 100 | elapsed:    5.6s finished\n",
      "[Parallel(n_jobs=6)]: Using backend ThreadingBackend with 6 concurrent workers.\n",
      "[Parallel(n_jobs=6)]: Done  38 tasks      | elapsed:    0.0s\n",
      "[Parallel(n_jobs=6)]: Done 100 out of 100 | elapsed:    0.0s finished\n",
      "[Parallel(n_jobs=-1)]: Using backend LokyBackend with 6 concurrent workers.\n",
      "[Parallel(n_jobs=-1)]: Done  38 tasks      | elapsed:    2.2s\n",
      "[Parallel(n_jobs=-1)]: Done 100 out of 100 | elapsed:    5.6s finished\n",
      "[Parallel(n_jobs=6)]: Using backend ThreadingBackend with 6 concurrent workers.\n",
      "[Parallel(n_jobs=6)]: Done  38 tasks      | elapsed:    0.0s\n",
      "[Parallel(n_jobs=6)]: Done 100 out of 100 | elapsed:    0.0s finished\n",
      "[Parallel(n_jobs=-1)]: Using backend LokyBackend with 6 concurrent workers.\n",
      "[Parallel(n_jobs=-1)]: Done  38 tasks      | elapsed:    2.1s\n",
      "[Parallel(n_jobs=-1)]: Done 100 out of 100 | elapsed:    5.3s finished\n",
      "[Parallel(n_jobs=6)]: Using backend ThreadingBackend with 6 concurrent workers.\n",
      "[Parallel(n_jobs=6)]: Done  38 tasks      | elapsed:    0.0s\n",
      "[Parallel(n_jobs=6)]: Done 100 out of 100 | elapsed:    0.0s finished\n",
      "[Parallel(n_jobs=-1)]: Using backend LokyBackend with 6 concurrent workers.\n",
      "[Parallel(n_jobs=-1)]: Done  38 tasks      | elapsed:    2.2s\n",
      "[Parallel(n_jobs=-1)]: Done 100 out of 100 | elapsed:    5.4s finished\n",
      "[Parallel(n_jobs=6)]: Using backend ThreadingBackend with 6 concurrent workers.\n",
      "[Parallel(n_jobs=6)]: Done  38 tasks      | elapsed:    0.0s\n",
      "[Parallel(n_jobs=6)]: Done 100 out of 100 | elapsed:    0.0s finished\n",
      "[Parallel(n_jobs=-1)]: Using backend LokyBackend with 6 concurrent workers.\n",
      "[Parallel(n_jobs=-1)]: Done  38 tasks      | elapsed:    2.3s\n",
      "[Parallel(n_jobs=-1)]: Done 100 out of 100 | elapsed:    5.5s finished\n",
      "[Parallel(n_jobs=6)]: Using backend ThreadingBackend with 6 concurrent workers.\n",
      "[Parallel(n_jobs=6)]: Done  38 tasks      | elapsed:    0.0s\n",
      "[Parallel(n_jobs=6)]: Done 100 out of 100 | elapsed:    0.0s finished\n",
      "[Parallel(n_jobs=-1)]: Using backend LokyBackend with 6 concurrent workers.\n",
      "[Parallel(n_jobs=-1)]: Done  38 tasks      | elapsed:    2.0s\n",
      "[Parallel(n_jobs=-1)]: Done 100 out of 100 | elapsed:    5.1s finished\n",
      "[Parallel(n_jobs=6)]: Using backend ThreadingBackend with 6 concurrent workers.\n",
      "[Parallel(n_jobs=6)]: Done  38 tasks      | elapsed:    0.0s\n",
      "[Parallel(n_jobs=6)]: Done 100 out of 100 | elapsed:    0.0s finished\n",
      "[Parallel(n_jobs=-1)]: Using backend LokyBackend with 6 concurrent workers.\n",
      "[Parallel(n_jobs=-1)]: Done  38 tasks      | elapsed:    2.0s\n",
      "[Parallel(n_jobs=-1)]: Done 100 out of 100 | elapsed:    5.2s finished\n",
      "[Parallel(n_jobs=6)]: Using backend ThreadingBackend with 6 concurrent workers.\n",
      "[Parallel(n_jobs=6)]: Done  38 tasks      | elapsed:    0.0s\n",
      "[Parallel(n_jobs=6)]: Done 100 out of 100 | elapsed:    0.1s finished\n",
      "[Parallel(n_jobs=-1)]: Using backend LokyBackend with 6 concurrent workers.\n",
      "[Parallel(n_jobs=-1)]: Done  38 tasks      | elapsed:    2.0s\n",
      "[Parallel(n_jobs=-1)]: Done 100 out of 100 | elapsed:    5.0s finished\n",
      "[Parallel(n_jobs=6)]: Using backend ThreadingBackend with 6 concurrent workers.\n",
      "[Parallel(n_jobs=6)]: Done  38 tasks      | elapsed:    0.0s\n",
      "[Parallel(n_jobs=6)]: Done 100 out of 100 | elapsed:    0.1s finished\n",
      "[Parallel(n_jobs=-1)]: Using backend LokyBackend with 6 concurrent workers.\n",
      "[Parallel(n_jobs=-1)]: Done  38 tasks      | elapsed:    2.1s\n",
      "[Parallel(n_jobs=-1)]: Done 100 out of 100 | elapsed:    5.4s finished\n",
      "[Parallel(n_jobs=6)]: Using backend ThreadingBackend with 6 concurrent workers.\n",
      "[Parallel(n_jobs=6)]: Done  38 tasks      | elapsed:    0.0s\n",
      "[Parallel(n_jobs=6)]: Done 100 out of 100 | elapsed:    0.0s finished\n",
      "[Parallel(n_jobs=-1)]: Using backend LokyBackend with 6 concurrent workers.\n",
      "[Parallel(n_jobs=-1)]: Done  38 tasks      | elapsed:    2.0s\n",
      "[Parallel(n_jobs=-1)]: Done 100 out of 100 | elapsed:    5.2s finished\n",
      "[Parallel(n_jobs=6)]: Using backend ThreadingBackend with 6 concurrent workers.\n",
      "[Parallel(n_jobs=6)]: Done  38 tasks      | elapsed:    0.0s\n",
      "[Parallel(n_jobs=6)]: Done 100 out of 100 | elapsed:    0.1s finished\n",
      "[Parallel(n_jobs=6)]: Using backend ThreadingBackend with 6 concurrent workers.\n",
      "[Parallel(n_jobs=6)]: Done  38 tasks      | elapsed:    0.0s\n",
      "[Parallel(n_jobs=6)]: Done 100 out of 100 | elapsed:    0.3s finished\n",
      "[Parallel(n_jobs=6)]: Using backend ThreadingBackend with 6 concurrent workers.\n",
      "[Parallel(n_jobs=6)]: Done  38 tasks      | elapsed:    0.1s\n",
      "[Parallel(n_jobs=6)]: Done 100 out of 100 | elapsed:    0.4s finished\n"
     ]
    },
    {
     "name": "stdout",
     "output_type": "stream",
     "text": [
      "The MAPE of the Stacking model: 8.77%.\n"
     ]
    }
   ],
   "source": [
    "stackingModel.fit(x_train_scaler, y_train)\n",
    "y_pred = stackingModel.predict(x_valid_scaler)\n",
    "\n",
    "print(f\"The MAPE of the Stacking model: {(np.mean(np.abs((y_pred-y_valid)/y_valid)) * 100):0.2f}%.\")"
   ]
  },
  {
   "cell_type": "markdown",
   "id": "a5150e67",
   "metadata": {},
   "source": [
    "#### Хороший результат, но и этот результат уступает случайному лесу."
   ]
  },
  {
   "cell_type": "markdown",
   "id": "566e5fbe",
   "metadata": {},
   "source": [
    "# Используем модель 3 в качестве предсказания"
   ]
  },
  {
   "cell_type": "code",
   "execution_count": 193,
   "id": "bdb0d5ec",
   "metadata": {},
   "outputs": [
    {
     "name": "stderr",
     "output_type": "stream",
     "text": [
      "[Parallel(n_jobs=-1)]: Using backend ThreadingBackend with 6 concurrent workers.\n",
      "[Parallel(n_jobs=-1)]: Done  38 tasks      | elapsed:    3.0s\n",
      "[Parallel(n_jobs=-1)]: Done 100 out of 100 | elapsed:    7.3s finished\n",
      "[Parallel(n_jobs=6)]: Using backend ThreadingBackend with 6 concurrent workers.\n",
      "[Parallel(n_jobs=6)]: Done  38 tasks      | elapsed:    0.0s\n",
      "[Parallel(n_jobs=6)]: Done 100 out of 100 | elapsed:    0.0s finished\n"
     ]
    }
   ],
   "source": [
    "myModel = RandomForestRegressor(random_state=RANDOM_SEED, n_jobs=-1, verbose=1)\n",
    "myModel.fit(x_train_scaler, y_train)\n",
    "\n",
    "y_pred = myModel.predict(x_test_scaler)"
   ]
  },
  {
   "cell_type": "code",
   "execution_count": 194,
   "id": "7bbeb792",
   "metadata": {},
   "outputs": [],
   "source": [
    "test_original['price'] = y_pred"
   ]
  },
  {
   "cell_type": "code",
   "execution_count": 195,
   "id": "d466682e",
   "metadata": {},
   "outputs": [],
   "source": [
    "#test_original\n",
    "sample_submission = sample.copy()\n",
    "sample_submission['price'] = y_pred"
   ]
  },
  {
   "cell_type": "code",
   "execution_count": 196,
   "id": "b38c2c0d",
   "metadata": {},
   "outputs": [
    {
     "data": {
      "text/html": [
       "<div>\n",
       "<style scoped>\n",
       "    .dataframe tbody tr th:only-of-type {\n",
       "        vertical-align: middle;\n",
       "    }\n",
       "\n",
       "    .dataframe tbody tr th {\n",
       "        vertical-align: top;\n",
       "    }\n",
       "\n",
       "    .dataframe thead th {\n",
       "        text-align: right;\n",
       "    }\n",
       "</style>\n",
       "<table border=\"1\" class=\"dataframe\">\n",
       "  <thead>\n",
       "    <tr style=\"text-align: right;\">\n",
       "      <th></th>\n",
       "      <th>sell_id</th>\n",
       "      <th>price</th>\n",
       "    </tr>\n",
       "  </thead>\n",
       "  <tbody>\n",
       "    <tr>\n",
       "      <th>0</th>\n",
       "      <td>1100575026</td>\n",
       "      <td>6.467929e+05</td>\n",
       "    </tr>\n",
       "    <tr>\n",
       "      <th>1</th>\n",
       "      <td>1100549428</td>\n",
       "      <td>9.262748e+05</td>\n",
       "    </tr>\n",
       "    <tr>\n",
       "      <th>2</th>\n",
       "      <td>1100658222</td>\n",
       "      <td>9.718269e+05</td>\n",
       "    </tr>\n",
       "    <tr>\n",
       "      <th>3</th>\n",
       "      <td>1100937408</td>\n",
       "      <td>7.285746e+05</td>\n",
       "    </tr>\n",
       "    <tr>\n",
       "      <th>4</th>\n",
       "      <td>1101037972</td>\n",
       "      <td>1.944574e+05</td>\n",
       "    </tr>\n",
       "    <tr>\n",
       "      <th>5</th>\n",
       "      <td>1100912634</td>\n",
       "      <td>1.975276e+05</td>\n",
       "    </tr>\n",
       "    <tr>\n",
       "      <th>6</th>\n",
       "      <td>1101228730</td>\n",
       "      <td>1.796341e+05</td>\n",
       "    </tr>\n",
       "    <tr>\n",
       "      <th>7</th>\n",
       "      <td>1100165896</td>\n",
       "      <td>9.790036e+04</td>\n",
       "    </tr>\n",
       "    <tr>\n",
       "      <th>8</th>\n",
       "      <td>1100768262</td>\n",
       "      <td>1.720807e+06</td>\n",
       "    </tr>\n",
       "    <tr>\n",
       "      <th>9</th>\n",
       "      <td>1101218501</td>\n",
       "      <td>1.171997e+06</td>\n",
       "    </tr>\n",
       "  </tbody>\n",
       "</table>\n",
       "</div>"
      ],
      "text/plain": [
       "      sell_id         price\n",
       "0  1100575026  6.467929e+05\n",
       "1  1100549428  9.262748e+05\n",
       "2  1100658222  9.718269e+05\n",
       "3  1100937408  7.285746e+05\n",
       "4  1101037972  1.944574e+05\n",
       "5  1100912634  1.975276e+05\n",
       "6  1101228730  1.796341e+05\n",
       "7  1100165896  9.790036e+04\n",
       "8  1100768262  1.720807e+06\n",
       "9  1101218501  1.171997e+06"
      ]
     },
     "execution_count": 196,
     "metadata": {},
     "output_type": "execute_result"
    }
   ],
   "source": [
    "sample_submission.to_csv(f'sample_submission.csv', index=False)\n",
    "sample_submission.head(10)"
   ]
  }
 ],
 "metadata": {
  "kernelspec": {
   "display_name": "Python 3",
   "language": "python",
   "name": "python3"
  },
  "language_info": {
   "codemirror_mode": {
    "name": "ipython",
    "version": 3
   },
   "file_extension": ".py",
   "mimetype": "text/x-python",
   "name": "python",
   "nbconvert_exporter": "python",
   "pygments_lexer": "ipython3",
   "version": "3.8.8"
  }
 },
 "nbformat": 4,
 "nbformat_minor": 5
}
